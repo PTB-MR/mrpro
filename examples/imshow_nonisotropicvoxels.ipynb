{
 "cells": [
  {
   "cell_type": "markdown",
   "id": "28bbdafa",
   "metadata": {},
   "source": [
    "# Plotting example of data with non-isotropic voxel size\n",
    "\n",
    "Copyright 2023 Physikalisch-Technische Bundesanstalt\n",
    "\n",
    "Licensed under the Apache License, Version 2.0 (the \"License\");\n",
    "  you may not use this file except in compliance with the License.\n",
    "  You may obtain a copy of the License at\n",
    "      http://www.apache.org/licenses/LICENSE-2.0\n",
    "  Unless required by applicable law or agreed to in writing, software\n",
    "  distributed under the License is distributed on an \"AS IS\" BASIS,\n",
    "  WITHOUT WARRANTIES OR CONDITIONS OF ANY KIND, either express or implied.\n",
    "  See the License for the specific language governing permissions and\n",
    "  limitations under the License."
   ]
  },
  {
   "cell_type": "markdown",
   "id": "84c41641",
   "metadata": {},
   "source": [
    "If you want to run this notebook in binder you need to still install the MRpro package.\n",
    "This only needs to be done once in a binder session. Open a terminal (File -> New -> Terminal) and run:\n",
    "```\n",
    "pip install -e \".[notebook]\"\n",
    "```\n",
    "This will install the MRpro package. Any other required python packages should already be present in this\n",
    "docker image."
   ]
  },
  {
   "cell_type": "code",
   "execution_count": null,
   "id": "846303de",
   "metadata": {},
   "outputs": [],
   "source": [
    "# Imports\n",
    "import numpy as np\n",
    "import matplotlib.pyplot as plt"
   ]
  },
  {
   "cell_type": "markdown",
   "id": "7c140824",
   "metadata": {},
   "source": [
    "## Plotting of image data\n",
    "Plotting with matplotlib imshow needs special attention when plotting non-isotropic voxel data:\n",
    "- The extent is set such that coordinates are located in the center of the voxel\n",
    "- The coordinates can be either pixel coordinates or spatial coordinates"
   ]
  },
  {
   "cell_type": "code",
   "execution_count": null,
   "id": "81bb24b2",
   "metadata": {},
   "outputs": [],
   "source": [
    "fig = plt.figure(constrained_layout=True)\n",
    "fig.suptitle('Plotting of image data')\n",
    "subfigs = fig.subfigures(nrows=2, ncols=1)\n",
    "\n",
    "encoding_matrices = ((4, 4), (5, 5))\n",
    "subfig_titles = ('Even', 'Odd')\n",
    "res_x = 1.5\n",
    "res_y = 3\n",
    "\n",
    "\n",
    "for idx, encoding_matrix in enumerate(encoding_matrices):\n",
    "    subfig = subfigs[idx]\n",
    "    subfig.suptitle(f'%s' % subfig_titles[idx], ha='right', va='center', x=-0.05, y=0.5, rotation=90)\n",
    "\n",
    "    axs = subfig.subplots(nrows=1, ncols=2)\n",
    "\n",
    "    fov = tuple(l * r for l, r in zip(encoding_matrix, (res_y, res_x)))\n",
    "\n",
    "    # the position of np.ceil and np.floor brackets are rather important.\n",
    "    axs[0].imshow(np.random.rand(encoding_matrix[0], encoding_matrix[1]), interpolation=None,  extent=(-np.floor(encoding_matrix[1]/2)-0.5, np.ceil(encoding_matrix[1]/2)-0.5, -np.floor(encoding_matrix[0]/2)-0.5, np.ceil(encoding_matrix[0]/2)-0.5))\n",
    "    axs[0].set_aspect(res_x / res_y)\n",
    "    axs[0].set_title('Pixel coordinates %dx%d' % (encoding_matrix[0], encoding_matrix[1]))\n",
    "    axs[0].set_ylabel('y coord [px]')\n",
    "    axs[0].set_xlabel('x coord [px]')\n",
    "\n",
    "    axs[1].imshow(np.random.rand(encoding_matrix[0], encoding_matrix[1]), interpolation=None, extent=(-fov[0]/2-res_y/2, fov[0]/2+res_y/2, -fov[1]/2-res_x/2, fov[1]/2+res_x/2))\n",
    "\n",
    "    # axs[1].imshow(np.random.rand(encoding_matrix[0], encoding_matrix[1]), interpolation=None, extent=((-np.floor(encoding_matrix[1]/2)-0.5)*res_y, (np.ceil(encoding_matrix[1]/2)-0.5)*res_y, (-np.floor(encoding_matrix[0]/2)-0.5)*res_x, (np.ceil(encoding_matrix[0]/2)-0.5)*res_x))\n",
    "\n",
    "    axs[1].set_xticks((-fov[0]/2, 0, fov[0]/2))\n",
    "    axs[1].set_yticks((-fov[1]/2, 0, fov[1]/2))\n",
    "    axs[1].set_title('FOV coordinates %.1fx%.1f' % (fov[0], fov[1]))\n",
    "    axs[0].set_ylabel('FOVy coord [mm]')\n",
    "    axs[0].set_xlabel('FOVx coord [mm]')"
   ]
  },
  {
   "cell_type": "code",
   "execution_count": null,
   "id": "90984805",
   "metadata": {},
   "outputs": [],
   "source": []
  }
 ],
 "metadata": {
  "jupytext": {
   "cell_metadata_filter": "-all"
  },
  "kernelspec": {
   "display_name": "Python 3 (ipykernel)",
   "language": "python",
   "name": "python3"
  }
 },
 "nbformat": 4,
 "nbformat_minor": 5
}
