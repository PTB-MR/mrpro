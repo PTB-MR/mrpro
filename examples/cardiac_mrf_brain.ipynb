{
 "cells": [
  {
   "cell_type": "markdown",
   "id": "d3d653c4",
   "metadata": {},
   "source": [
    "# Cardiac Magnetic Resonance Fingerprinting"
   ]
  },
  {
   "cell_type": "code",
   "execution_count": null,
   "id": "be3c31b5",
   "metadata": {
    "lines_to_next_cell": 1
   },
   "outputs": [],
   "source": [
    "# Imports\n",
    "from pathlib import Path\n",
    "import pydicom\n",
    "import numpy as np\n",
    "\n",
    "import matplotlib.pyplot as plt\n",
    "import torch\n",
    "import scipy as sp\n",
    "from einops import rearrange\n",
    "from mrpro.operators import FourierOp, SensitivityOp\n",
    "from mrpro.utils import split_idx\n",
    "from mrpro.data import KData, DcfData, IData, CsmData, KTrajectory\n",
    "from mrpro.data.traj_calculators import KTrajectoryIsmrmrd, KTrajectoryPulseq, KTrajectoryRadial2D\n",
    "from mrpro.algorithms.reconstruction import DirectReconstruction, IterativeSENSEReconstruction\n",
    "from mrpro.operators.models import EpgMrfFispWithPreparation\n",
    "\n",
    "\n",
    "recon = 'iterative' # direct, iterative\n",
    "used_trajectory = 'spiral' # radial, spiral\n",
    "\n",
    "fname_t1_ref = Path('/echo/_allgemein/projects/pulseq/measurements/2024-06-24_t1mes_cMRF_pulseq/meas_MID00033_FID05475_t1map_T1MES/dicom/170734_t1map_T1MES_MOCO_T1_0005/SCHUENKE_PHANTOM-0005-0001.dcm')\n",
    "fname_t2_ref = Path('/Users/kolbit01/Documents/PTB/Data/mrpro/brain_cmrf/t2map_brain_256_MOCO_T2_10_MR/1.dcm')\n",
    "\n",
    "\n",
    "if used_trajectory == 'spiral':\n",
    "    pname = Path('/Users/kolbit01/Documents/PTB/Data/mrpro/brain_cmrf/meas_MID00027_FID08310_20240911_spiral_cMRF_705rep_trig_delay800ms/')\n",
    "    scan_name = Path('meas_MID00027_FID08310_20240911_spiral_cMRF_705rep_trig_delay800ms_with_traj.h5')\n",
    "\n",
    "    n_lines_per_img = 5\n",
    "    n_lines_overlap= 4\n",
    "    n_cg_it = 90\n",
    "\n",
    "elif used_trajectory == 'radial':\n",
    "    pname = Path('//Users/kolbit01/Documents/PTB/Data/mrpro/brain_cmrf/meas_MID00025_FID08308_20240911_radial_cMRF_705rep_trig_delay800ms/')\n",
    "    scan_name = Path('meas_MID00025_FID08308_20240911_radial_cMRF_705rep_trig_delay800ms_with_traj.h5')\n",
    "\n",
    "    n_lines_per_img = 20\n",
    "    n_lines_overlap= 10\n",
    "    n_cg_it = 30\n",
    "\n",
    "else:\n",
    "    raise ValueError(f'method {used_trajectory} not recognised')\n",
    "\n",
    "rr_duration = 1200\n",
    "fname_angle = Path('/Users/kolbit01/Documents/PTB/Data/mrpro/rabbit/cMRF_fa_705rep.txt')\n",
    "\n",
    "with open(fname_angle, \"r\") as file:\n",
    "    fa = torch.as_tensor([float(line) for line in file.readlines()])/180 * torch.pi"
   ]
  },
  {
   "cell_type": "code",
   "execution_count": null,
   "id": "cd9361b1",
   "metadata": {},
   "outputs": [],
   "source": [
    "# Function to calculate mask\n",
    "def calc_2d_mask(idat, mask_thresh=0.01):\n",
    "    # Calculate mask\n",
    "    idat_abs = torch.abs(torch.squeeze(idat))\n",
    "    idat_norm = idat_abs / idat_abs.max()\n",
    "    mask = torch.zeros(idat_norm.shape)\n",
    "    mask[idat_norm > mask_thresh] = 1\n",
    "\n",
    "    mask = torch.as_tensor(sp.ndimage.binary_opening(mask.to(dtype=torch.int64), torch.ones((3, 3), dtype=torch.int64)))\n",
    "    mask = torch.as_tensor(sp.ndimage.binary_closing(mask.to(dtype=torch.int64), torch.ones((9, 9), dtype=torch.int64)))\n",
    "    mask = torch.as_tensor(sp.ndimage.binary_fill_holes(mask.to(dtype=torch.int64)))\n",
    "\n",
    "    return(mask)"
   ]
  },
  {
   "cell_type": "code",
   "execution_count": null,
   "id": "de497d05",
   "metadata": {},
   "outputs": [],
   "source": [
    "# Image reconstruction of average image\n",
    "kdata = KData.from_file(pname / scan_name, KTrajectoryIsmrmrd())\n",
    "kdata.header.recon_matrix.x = 256\n",
    "kdata.header.recon_matrix.y = 256\n",
    "\n",
    "avg_recon = DirectReconstruction.from_kdata(kdata)\n",
    "avg_im = avg_recon(kdata)\n",
    "mask = calc_2d_mask(avg_im.rss(), mask_thresh=0.1)\n",
    "\n",
    "fig, ax = plt.subplots(1,2)\n",
    "ax[0].imshow(torch.squeeze(avg_im.rss()), cmap='grey')\n",
    "ax[1].imshow(mask, cmap='grey')"
   ]
  },
  {
   "cell_type": "code",
   "execution_count": null,
   "id": "e9ddb702",
   "metadata": {},
   "outputs": [],
   "source": [
    "# Split data into dynamics and reconstruct\n",
    "dyn_idx = split_idx(torch.arange(0,47), n_lines_per_img, n_lines_overlap)\n",
    "dyn_idx = torch.cat([dyn_idx + ind*47 for ind in range(15)], dim=0)\n",
    "\n",
    "kdata_dyn = kdata.split_k1_into_other(dyn_idx, other_label='repetition')\n",
    "\n",
    "if recon == 'direct':\n",
    "    dyn_recon = DirectReconstruction.from_kdata(kdata_dyn, coil_combine=False)\n",
    "elif recon == 'iterative':\n",
    "    dyn_recon = IterativeSENSEReconstruction(FourierOp.from_kdata(kdata_dyn), n_iterations=n_cg_it)\n",
    "else:\n",
    "    raise ValueError(f'recon {recon} not recognised.')\n",
    "dyn_recon.csm = avg_recon.csm\n",
    "\n",
    "dcf_data_dyn = rearrange(avg_recon.dcf.data, 'k2 k1 other k0->other k2 k1 k0')\n",
    "dcf_data_dyn = rearrange(dcf_data_dyn[dyn_idx.flatten(),...], '(other k1) 1 k2 k0->other k2 k1 k0', k1=dyn_idx.shape[-1])\n",
    "dyn_recon.dcf = DcfData(dcf_data_dyn)\n",
    "\n",
    "img = dyn_recon(kdata_dyn).rss()[:,0,:,:]\n",
    "\n",
    "fig, ax = plt.subplots(1,5, figsize=(12,4))\n",
    "for ind in range(4):\n",
    "    ax[ind].imshow(img[ind*8,:,:].abs(), cmap='grey')\n",
    "    ax[ind].set_title(f'Image # {ind*6}')\n",
    "ax[-1].imshow(torch.abs(torch.mean(img[:,:,:],dim=0)))\n",
    "ax[-1].set_title('Average over all images')"
   ]
  },
  {
   "cell_type": "code",
   "execution_count": null,
   "id": "2909f1d8",
   "metadata": {},
   "outputs": [],
   "source": [
    "# Dictionary settings\n",
    "t1 = torch.linspace(100, 2000, 120)[:,None]\n",
    "t2 = torch.linspace(10, 200, 10)[None,:]\n",
    "t1, t2 = torch.broadcast_tensors(t1, t2)\n",
    "t1 = t1.flatten()\n",
    "t2 = t2.flatten()\n",
    "m0 = torch.ones_like(t1)"
   ]
  },
  {
   "cell_type": "code",
   "execution_count": null,
   "id": "e80a1337",
   "metadata": {},
   "outputs": [],
   "source": [
    "# Dictionary calculationg\n",
    "flip_angles = fa\n",
    "rf_phases = 0\n",
    "te = kdata.header.te * 1000\n",
    "tr = kdata.header.tr * 1000\n",
    "inv_prep_ti = [21,None,None,None,None]*3 # 20 ms delay after inversion pulse in block 0\n",
    "t2_prep_te = [None,None,30,50,100]*3 # T2-preparation pulse with TE = 30, 50, 100\n",
    "n_rf_pulses_per_block = 47 # 47 RF pulses in each block\n",
    "delay_after_block = [0, 30, 50, 100, 21]*3\n",
    "delay_after_block = [rr_duration-delay-n_rf_pulses_per_block*tr for delay in delay_after_block]\n",
    "epg_mrf_fisp = EpgMrfFispWithPreparation(flip_angles, rf_phases, te, tr, inv_prep_ti, t2_prep_te, n_rf_pulses_per_block, delay_after_block)\n",
    "(signal_dictionary,) = epg_mrf_fisp.forward(m0, t1, t2)\n",
    "\n",
    "\n",
    "signal_dictionary = rearrange(signal_dictionary[dyn_idx.flatten(),...], '(other k1) t->other t k1', k1=dyn_idx.shape[-1])\n",
    "signal_dictionary = torch.mean(signal_dictionary, dim=-1)\n",
    "signal_dictionary = signal_dictionary.abs()"
   ]
  },
  {
   "cell_type": "code",
   "execution_count": null,
   "id": "e5fb09d4",
   "metadata": {},
   "outputs": [],
   "source": [
    "# Normalise dictionary entries\n",
    "vector_norm = torch.linalg.vector_norm(signal_dictionary, dim=0)\n",
    "signal_dictionary /= vector_norm"
   ]
  },
  {
   "cell_type": "code",
   "execution_count": null,
   "id": "098894a2",
   "metadata": {
    "lines_to_next_cell": 2
   },
   "outputs": [],
   "source": [
    "# Dictionary matching\n",
    "n_y, n_x = img.shape[-2:]\n",
    "dot_product = torch.mm(rearrange(img.abs(), 'other y x->(y x) other'), signal_dictionary)\n",
    "idx_best_match = torch.argmax(torch.abs(dot_product), dim=1)\n",
    "t1_match = rearrange(t1[idx_best_match], '(y x)->y x', y=n_y, x=n_x)\n",
    "t2_match = rearrange(t2[idx_best_match], '(y x)->y x', y=n_y, x=n_x)"
   ]
  },
  {
   "cell_type": "code",
   "execution_count": null,
   "id": "cb8b19f9",
   "metadata": {},
   "outputs": [],
   "source": [
    "fig, ax = plt.subplots(1,3, figsize=(14,4))\n",
    "ax[0].imshow(torch.squeeze(avg_im.rss()), cmap='grey')\n",
    "ax[0].set_title('Average image')\n",
    "\n",
    "im = ax[1].imshow(t1_match * mask, vmin=0, vmax=1800)\n",
    "ax[1].set_title('MRF T1 (ms)')\n",
    "fig.colorbar(im, extend='both', shrink=0.9, ax=ax[1])\n",
    "\n",
    "im = ax[2].imshow(t2_match * mask, vmin=0, vmax=200)\n",
    "ax[2].set_title('MRF T2 (ms)')\n",
    "fig.colorbar(im, extend='both', shrink=0.9, ax=ax[2])\n",
    "plt.tight_layout()\n",
    "\n",
    "\n"
   ]
  },
  {
   "cell_type": "code",
   "execution_count": null,
   "id": "02775bc6",
   "metadata": {},
   "outputs": [],
   "source": [
    "# Read in reference scans\n",
    "#dcm = pydicom.dcmread(fname_t1_ref)\n",
    "#t1_ref = np.asarray(dcm.pixel_array.astype(np.float32))[:,::-1]\n",
    "\n",
    "dcm = pydicom.dcmread(fname_t2_ref)\n",
    "t2_ref = np.asarray(dcm.pixel_array.astype(np.float32))[:,::-1]/10 # t2 maps are always scaled"
   ]
  },
  {
   "cell_type": "code",
   "execution_count": null,
   "id": "3c4c900f",
   "metadata": {},
   "outputs": [],
   "source": [
    "fig, ax = plt.subplots(2,2, figsize=(6,4))\n",
    "#im = ax[0,0].imshow(t1_ref, vmin=0, vmax=2000)\n",
    "#ax[0,0].set_title('MOLLI (ms)')\n",
    "#fig.colorbar(im, extend='both', shrink=0.9, ax=ax[0,0])\n",
    "\n",
    "im = ax[1,0].imshow(t2_ref, vmin=0, vmax=200)\n",
    "ax[1,0].set_title('T2prep (ms)')\n",
    "fig.colorbar(im, extend='both', shrink=0.9, ax=ax[1,0])\n",
    "\n",
    "im = ax[0,1].imshow(t1_match, vmin=0, vmax=2000)\n",
    "ax[0,1].set_title('MRF T1 (ms)')\n",
    "fig.colorbar(im, extend='both', shrink=0.9, ax=ax[0,1])\n",
    "\n",
    "im = ax[1,1].imshow(t2_match, vmin=0, vmax=200)\n",
    "ax[1,1].set_title('MRF T2 (ms)')\n",
    "fig.colorbar(im, extend='both', shrink=0.9, ax=ax[1,1])\n",
    "plt.tight_layout()"
   ]
  },
  {
   "cell_type": "code",
   "execution_count": null,
   "id": "5aff060c",
   "metadata": {},
   "outputs": [],
   "source": []
  }
 ],
 "metadata": {
  "jupytext": {
   "cell_metadata_filter": "-all"
  },
  "kernelspec": {
   "display_name": "Python 3 (ipykernel)",
   "language": "python",
   "name": "python3"
  }
 },
 "nbformat": 4,
 "nbformat_minor": 5
}
