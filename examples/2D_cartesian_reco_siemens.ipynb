{
 "cells": [
  {
   "cell_type": "markdown",
   "id": "bd286a9c",
   "metadata": {},
   "source": [
    "# Reconstruction of 2D cartesian data from siemens sequence\n",
    "\n",
    "Copyright 2023 Physikalisch-Technische Bundesanstalt\n",
    "\n",
    "Licensed under the Apache License, Version 2.0 (the \"License\");\n",
    "  you may not use this file except in compliance with the License.\n",
    "  You may obtain a copy of the License at\n",
    "      http://www.apache.org/licenses/LICENSE-2.0\n",
    "  Unless required by applicable law or agreed to in writing, software\n",
    "  distributed under the License is distributed on an \"AS IS\" BASIS,\n",
    "  WITHOUT WARRANTIES OR CONDITIONS OF ANY KIND, either express or implied.\n",
    "  See the License for the specific language governing permissions and\n",
    "  limitations under the License."
   ]
  },
  {
   "cell_type": "markdown",
   "id": "e45c828f",
   "metadata": {},
   "source": [
    "If you want to run this notebook in binder you need to still install the MRpro package.\n",
    "This only needs to be done once in a binder session. Open a terminal (File -> New -> Terminal) and run:\n",
    "```\n",
    "pip install -e \".[notebook]\"\n",
    "```\n",
    "This will install the MRpro package. Any other required python packages should already be present in this\n",
    "docker image."
   ]
  },
  {
   "cell_type": "code",
   "execution_count": null,
   "id": "c1081e54",
   "metadata": {},
   "outputs": [],
   "source": [
    "# Imports\n",
    "import shutil\n",
    "from pathlib import Path\n",
    "\n",
    "import matplotlib.pyplot as plt\n",
    "import torch\n",
    "from mrpro.data import CsmData\n",
    "from mrpro.data import IData\n",
    "from mrpro.data import KData\n",
    "from mrpro.data.traj_calculators import KTrajectoryCartesian\n",
    "from mrpro.operators import FourierOp\n",
    "from mrpro.operators import SensitivityOp"
   ]
  },
  {
   "cell_type": "code",
   "execution_count": null,
   "id": "e9567839",
   "metadata": {},
   "outputs": [],
   "source": [
    "data_folder = Path(R'Z:\\_allgemein\\projects\\8_13\\MRPro\\2024_03_19\\siemens_data\\2D_cartesian')\n",
    "fnames = list(data_folder.glob('*.h5'))"
   ]
  },
  {
   "cell_type": "markdown",
   "id": "bb208cc3",
   "metadata": {},
   "source": [
    "## Image reconstruction\n",
    "Image reconstruction involves the following steps:\n",
    "- Reading in the raw data and the trajectory from the ismrmrd raw data file\n",
    "- Calculating the density compensation function (dcf)\n",
    "- Reconstructing one image averaging over the entire relaxation period"
   ]
  },
  {
   "cell_type": "code",
   "execution_count": null,
   "id": "9a4b3298",
   "metadata": {
    "lines_to_next_cell": 2
   },
   "outputs": [],
   "source": [
    "# Read raw data and trajectory\n",
    "image_list = []\n",
    "title_list = []\n",
    "\n",
    "for fname in fnames:\n",
    "    kdata = KData.from_file(data_folder / fname, KTrajectoryCartesian())\n",
    "\n",
    "    # Reconstruct average image for coil map estimation\n",
    "    fourier_op = FourierOp(\n",
    "        recon_matrix=kdata.header.recon_matrix, encoding_matrix=kdata.header.encoding_matrix, traj=kdata.traj\n",
    "    )\n",
    "    (img,) = fourier_op.adjoint(kdata.data)\n",
    "\n",
    "    # Calculate coilmaps\n",
    "    idata = IData.from_tensor_and_kheader(img, kdata.header)\n",
    "    csm = CsmData.from_idata_walsh(idata)\n",
    "    csm_op = SensitivityOp(csm)\n",
    "\n",
    "    # Coil combination\n",
    "    (img,) = csm_op.adjoint(img)\n",
    "\n",
    "    title_list.append(fname.name.replace('2D_cart_', ''))\n",
    "    image_list.append(torch.squeeze(img))"
   ]
  },
  {
   "cell_type": "code",
   "execution_count": null,
   "id": "9105927d",
   "metadata": {},
   "outputs": [],
   "source": [
    "# Visualize results\n",
    "# Create figure with suitable number of subplots\n",
    "n_images = len(image_list)\n",
    "n_cols = 2\n",
    "n_rows = (n_images) // n_cols\n",
    "plt.subplots(n_rows, n_cols)\n",
    "for i, img in enumerate(image_list):\n",
    "    plt.subplot(n_rows, n_cols, i + 1)\n",
    "    plt.title(title_list[i])\n",
    "    if img.dim() == 3:\n",
    "        img = img[0]\n",
    "    plt.imshow(torch.abs(img))\n",
    "    plt.axis('off')"
   ]
  },
  {
   "cell_type": "code",
   "execution_count": null,
   "id": "b07e5a45",
   "metadata": {},
   "outputs": [],
   "source": [
    "# Clean-up by removing temporary directory\n",
    "shutil.rmtree(data_folder)"
   ]
  }
 ],
 "metadata": {
  "jupytext": {
   "cell_metadata_filter": "-all"
  },
  "kernelspec": {
   "display_name": "Python 3 (ipykernel)",
   "language": "python",
   "name": "python3"
  }
 },
 "nbformat": 4,
 "nbformat_minor": 5
}
