{
 "cells": [
  {
   "cell_type": "code",
   "execution_count": null,
   "id": "873ae920",
   "metadata": {
    "lines_to_next_cell": 2
   },
   "outputs": [],
   "source": [
    "\"\"\"\"Script for B1+ mapping from MRD file.\"\"\"\n",
    "# Copyright 2023 Physikalisch-Technische Bundesanstalt\n",
    "#\n",
    "# Licensed under the Apache License, Version 2.0 (the \"License\");\n",
    "#   you may not use this file except in compliance with the License.\n",
    "#   You may obtain a copy of the License at\n",
    "#       http://www.apache.org/licenses/LICENSE-2.0\n",
    "#   Unless required by applicable law or agreed to in writing, software\n",
    "#   distributed under the License is distributed on an \"AS IS\" BASIS,\n",
    "#   WITHOUT WARRANTIES OR CONDITIONS OF ANY KIND, either express or implied.\n",
    "#   See the License for the specific language governing permissions and\n",
    "#   limitations under the License.\n",
    "#\n",
    "#   Christoph Aigner, 2023.03.22\n",
    "#\n",
    "# Cartesian example with 2D slice works\n",
    "# example data can be downloaded from:\n",
    "# https://figshare.com/articles/dataset/High-Resolution_3D_Radial_Phase_Encoded_GRE_of_8_Transmit_Channels_with_a_Siemens_7T_pTx_System_Phantom_VB17_RAW_Data_/24316519"
   ]
  },
  {
   "cell_type": "code",
   "execution_count": null,
   "id": "e0623e11",
   "metadata": {
    "lines_to_next_cell": 2,
    "title": "import functionality"
   },
   "outputs": [],
   "source": [
    "import matplotlib.pyplot as plt\n",
    "import numpy as np\n",
    "\n",
    "from mrpro.data import IData\n",
    "from mrpro.data import KData\n",
    "from mrpro.operators import FourierOp\n",
    "from mrpro.data.traj_calculators._KTrajectoryCartesian import KTrajectoryCartesian\n",
    "\n",
    "from B1reco import B1reco"
   ]
  },
  {
   "cell_type": "code",
   "execution_count": null,
   "id": "6a2cfb17",
   "metadata": {
    "title": "Cartesian B1+ mapping - 1 2D Slice"
   },
   "outputs": [],
   "source": [
    "# Load the channelwise GRE data for relative B1+ mapping\n",
    "h5_filename = R'meas_MID296_ssm_CVB1R_1sl_sag_trig400_FID39837_ismrmrd.h5'\n",
    "data = KData.from_file(\n",
    "    ktrajectory=KTrajectoryCartesian(),\n",
    "    filename=h5_filename,\n",
    ")\n",
    "\n",
    "# perform FT and shift the k-space center\n",
    "op = FourierOp(recon_matrix=data.header.recon_matrix,  encoding_matrix=data.header.encoding_matrix, traj=data.traj)\n",
    "\n",
    "# reconstruct the density compensated data\n",
    "images, = op.H(data.data)\n",
    "\n",
    "# create IData object from image tensor and kheader\n",
    "idata = IData.from_tensor_and_kheader(images, data.header)\n",
    "\n",
    "b1m_mag, b1m_pha, b1p_mag, b1p_pha, noise_mean = B1reco(idata.data, relphasechannel=0)\n",
    "\n",
    "# plot results\n",
    "fig, axs = plt.subplots(2, 4, figsize=(16, 8))\n",
    "for i, axs in enumerate(axs.flatten()):\n",
    "    axs.imshow(b1p_mag[0, i, 0, :, :])\n",
    "\n",
    "fig, axs = plt.subplots(2, 4, figsize=(16, 8))\n",
    "for i, axs in enumerate(axs.flatten()):\n",
    "    axs.imshow(np.angle(b1p_pha[0, i, 0, :, :]))"
   ]
  },
  {
   "cell_type": "code",
   "execution_count": null,
   "id": "786463fa",
   "metadata": {},
   "outputs": [],
   "source": []
  }
 ],
 "metadata": {
  "jupytext": {
   "cell_metadata_filter": "title,-all"
  },
  "kernelspec": {
   "display_name": "Python 3 (ipykernel)",
   "language": "python",
   "name": "python3"
  }
 },
 "nbformat": 4,
 "nbformat_minor": 5
}
