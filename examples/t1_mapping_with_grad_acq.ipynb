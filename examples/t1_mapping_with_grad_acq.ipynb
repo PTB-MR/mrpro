{
 "cells": [
  {
   "cell_type": "markdown",
   "id": "83bfb574",
   "metadata": {},
   "source": [
    "# T1 mapping from a continuous golden radial acquisition"
   ]
  },
  {
   "cell_type": "code",
   "execution_count": null,
   "id": "4a2f53a0",
   "metadata": {},
   "outputs": [],
   "source": [
    "# Imports\n",
    "import shutil\n",
    "import tempfile\n",
    "from pathlib import Path\n",
    "\n",
    "import matplotlib.pyplot as plt\n",
    "import torch\n",
    "import zenodo_get\n",
    "from mrpro.data import CsmData, DcfData, IData, KData\n",
    "from mrpro.data.traj_calculators import KTrajectoryIsmrmrd\n",
    "from mrpro.operators import FourierOp, SensitivityOp"
   ]
  },
  {
   "cell_type": "code",
   "execution_count": null,
   "id": "94484d00",
   "metadata": {},
   "outputs": [],
   "source": [
    "# Download raw data in ISMRMRD format from zenodo into a temporary directory\n",
    "data_folder = Path(tempfile.mkdtemp())\n",
    "dataset = '10671597'\n",
    "zenodo_get.zenodo_get([dataset, '-r', 5, '-o', data_folder])  # r: retries"
   ]
  },
  {
   "cell_type": "markdown",
   "id": "dbc75fbb",
   "metadata": {},
   "source": [
    "## Image reconstruction\n",
    "Image reconstruction involves the following steps:\n",
    "- Reading in the raw data and the trajectory from the ismrmrd raw data file\n",
    "- Calculating the density compensation function (dcf)\n",
    "- Reconstructing one image averaging over the entire relaxation period"
   ]
  },
  {
   "cell_type": "code",
   "execution_count": null,
   "id": "4b1514c5",
   "metadata": {},
   "outputs": [],
   "source": [
    "# Read raw data and trajectory\n",
    "kdata = KData.from_file(data_folder / '2D_GRad_map_t1.h5', KTrajectoryIsmrmrd())\n",
    "\n",
    "# Calculate dcf\n",
    "dcf = DcfData.from_traj_voronoi(kdata.traj)\n",
    "\n",
    "# Reconstruct average image for coil map estimation\n",
    "fourier_op = FourierOp(\n",
    "    recon_matrix=kdata.header.recon_matrix, encoding_matrix=kdata.header.encoding_matrix, traj=kdata.traj\n",
    ")\n",
    "(img,) = fourier_op.adjoint(kdata.data * dcf.data[:, None, ...])"
   ]
  },
  {
   "cell_type": "code",
   "execution_count": null,
   "id": "be81720e",
   "metadata": {},
   "outputs": [],
   "source": [
    "# Calculate coilmaps\n",
    "idata = IData.from_tensor_and_kheader(img, kdata.header)\n",
    "csm = CsmData.from_idata_walsh(idata)\n",
    "csm_op = SensitivityOp(csm)"
   ]
  },
  {
   "cell_type": "code",
   "execution_count": null,
   "id": "16fdbcbb",
   "metadata": {},
   "outputs": [],
   "source": [
    "# Coil combination\n",
    "(img,) = csm_op.adjoint(img)"
   ]
  },
  {
   "cell_type": "code",
   "execution_count": null,
   "id": "417eff6c",
   "metadata": {},
   "outputs": [],
   "source": [
    "# Visualize results\n",
    "plt.figure()\n",
    "plt.imshow(torch.abs(img[0, 0, 0, :, :]))"
   ]
  },
  {
   "cell_type": "code",
   "execution_count": null,
   "id": "82f87630",
   "metadata": {},
   "outputs": [],
   "source": [
    "# Clean-up by removing temporary directory\n",
    "shutil.rmtree(data_folder)"
   ]
  }
 ],
 "metadata": {
  "jupytext": {
   "cell_metadata_filter": "-all"
  },
  "kernelspec": {
   "display_name": "Python 3 (ipykernel)",
   "language": "python",
   "name": "python3"
  }
 },
 "nbformat": 4,
 "nbformat_minor": 5
}
