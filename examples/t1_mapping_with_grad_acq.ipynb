{
 "cells": [
  {
   "cell_type": "markdown",
   "id": "83bfb574",
   "metadata": {},
   "source": [
    "# T1 mapping from a continuous golden radial acquisition\n",
    "\n",
    "Copyright 2023 Physikalisch-Technische Bundesanstalt\n",
    "\n",
    "Licensed under the Apache License, Version 2.0 (the \"License\");\n",
    "  you may not use this file except in compliance with the License.\n",
    "  You may obtain a copy of the License at\n",
    "      http://www.apache.org/licenses/LICENSE-2.0\n",
    "  Unless required by applicable law or agreed to in writing, software\n",
    "  distributed under the License is distributed on an \"AS IS\" BASIS,\n",
    "  WITHOUT WARRANTIES OR CONDITIONS OF ANY KIND, either express or implied.\n",
    "  See the License for the specific language governing permissions and\n",
    "  limitations under the License."
   ]
  },
  {
   "cell_type": "markdown",
   "id": "e440397a",
   "metadata": {},
   "source": [
    "If you want to run this notebook in binder you need to still install the MRpro package.\n",
    "This only needs to be done once in a binder session. Open a terminal (File -> New -> Terminal) and run:\n",
    "```\n",
    "pip install -e \".[notebook]\"\n",
    "```\n",
    "This will install the MRpro package. Any other required python packages should already be present in this\n",
    "docker image."
   ]
  },
  {
   "cell_type": "code",
   "execution_count": null,
   "id": "4a2f53a0",
   "metadata": {},
   "outputs": [],
   "source": [
    "# Imports\n",
    "import shutil\n",
    "import subprocess\n",
    "import tempfile\n",
    "from pathlib import Path\n",
    "\n",
    "import matplotlib.pyplot as plt\n",
    "import torch\n",
    "\n",
    "from mrpro.data import CsmData\n",
    "from mrpro.data import DcfData\n",
    "from mrpro.data import IData\n",
    "from mrpro.data import KData\n",
    "from mrpro.data.traj_calculators import KTrajectoryIsmrmrd\n",
    "from mrpro.operators import FourierOp\n",
    "from mrpro.operators import SensitivityOp"
   ]
  },
  {
   "cell_type": "code",
   "execution_count": null,
   "id": "94484d00",
   "metadata": {},
   "outputs": [],
   "source": [
    "# Download raw data in ISMRMRD format from zenodo into a temporary directory\n",
    "data_folder = Path(tempfile.mkdtemp())\n",
    "zenodo_cmd = f'zenodo_get 10.5281/zenodo.7903232 -o {str(data_folder)}'\n",
    "out = subprocess.call(zenodo_cmd, shell=True)"
   ]
  },
  {
   "cell_type": "markdown",
   "id": "dbc75fbb",
   "metadata": {},
   "source": [
    "## Image reconstruction\n",
    "Image reconstruction involves the following steps:\n",
    "- Reading in the raw data and the trajectory from the ismrmrd raw data file\n",
    "- Calculating the density compensation function (dcf)\n",
    "- Reconstructing one image averaging over the entire relaxation period\n",
    "- blaa"
   ]
  },
  {
   "cell_type": "code",
   "execution_count": null,
   "id": "4b1514c5",
   "metadata": {},
   "outputs": [],
   "source": [
    "# Read raw data and trajectory\n",
    "kdata = KData.from_file(data_folder / '2D_Dyn_GRad.h5', KTrajectoryIsmrmrd())\n",
    "\n",
    "# Calculate dcf\n",
    "kdcf = DcfData.from_traj_voronoi(kdata.traj)\n",
    "\n",
    "# Reconstruct average image for coil map estimation\n",
    "FOp = FourierOp(\n",
    "    recon_shape=kdata.header.recon_matrix,\n",
    "    encoding_shape=kdata.header.encoding_matrix,\n",
    "    traj=kdata.traj,\n",
    ")\n",
    "(im,) = FOp.adjoint(kdata.data * kdcf.data[:, None, ...])"
   ]
  },
  {
   "cell_type": "code",
   "execution_count": null,
   "id": "be81720e",
   "metadata": {},
   "outputs": [],
   "source": [
    "# Calculate coilmaps\n",
    "idat = IData.from_tensor_and_kheader(im, kdata.header)\n",
    "csm = CsmData.from_idata_walsh(idat)\n",
    "csm_op = SensitivityOp(csm)"
   ]
  },
  {
   "cell_type": "code",
   "execution_count": null,
   "id": "16fdbcbb",
   "metadata": {},
   "outputs": [],
   "source": [
    "# Coil combination\n",
    "(im,) = csm_op.adjoint(im)"
   ]
  },
  {
   "cell_type": "code",
   "execution_count": null,
   "id": "417eff6c",
   "metadata": {},
   "outputs": [],
   "source": [
    "# Visualize results\n",
    "plt.figure()\n",
    "plt.imshow(torch.abs(im[0, 0, 0, :, :]))"
   ]
  },
  {
   "cell_type": "code",
   "execution_count": null,
   "id": "82f87630",
   "metadata": {},
   "outputs": [],
   "source": [
    "# Clean-up by removing temporary directory\n",
    "shutil.rmtree(data_folder)"
   ]
  }
 ],
 "metadata": {
  "jupytext": {
   "cell_metadata_filter": "-all"
  },
  "kernelspec": {
   "display_name": "Python 3 (ipykernel)",
   "language": "python",
   "name": "python3"
  }
 },
 "nbformat": 4,
 "nbformat_minor": 5
}
