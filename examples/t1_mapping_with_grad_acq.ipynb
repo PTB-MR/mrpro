{
 "cells": [
  {
   "cell_type": "markdown",
   "id": "83bfb574",
   "metadata": {},
   "source": [
    "# $T_1$ mapping from a continuous Golden radial acquisition"
   ]
  },
  {
   "cell_type": "code",
   "execution_count": null,
   "id": "4a2f53a0",
   "metadata": {},
   "outputs": [],
   "source": [
    "# Imports\n",
    "import shutil\n",
    "import tempfile\n",
    "from pathlib import Path\n",
    "\n",
    "import matplotlib.pyplot as plt\n",
    "import torch\n",
    "import zenodo_get\n",
    "from mpl_toolkits.axes_grid1 import make_axes_locatable  # type: ignore [import-untyped]\n",
    "from mrpro.algorithms.optimizers import adam\n",
    "from mrpro.algorithms.reconstruction import DirectReconstruction\n",
    "from mrpro.data import KData\n",
    "from mrpro.data.traj_calculators import KTrajectoryIsmrmrd\n",
    "from mrpro.operators import ConstraintsOp, MagnitudeOp\n",
    "from mrpro.operators.functionals import MSE\n",
    "from mrpro.operators.models import TransientSteadyStateWithPreparation\n",
    "from mrpro.utils import split_idx"
   ]
  },
  {
   "cell_type": "markdown",
   "id": "29eabc2a",
   "metadata": {
    "lines_to_next_cell": 2
   },
   "source": [
    "### Overview\n",
    "In this acquisition, a single inversion pulse is played out, followed by a continuous data acquisition with a\n",
    "a constant flip angle $\\alpha$. Data acquisition is carried out with a 2D Golden angle radial trajectory. The acquired\n",
    "data can be divided into different dynamic time frames, each corresponding to a different inversion time. A signal\n",
    "model can then be fitted to this data to obtain a $T_1$ map.\n",
    "\n",
    "More information can be found in:\n",
    "Kerkering KM, Schulz-Menger J, Schaeffter T, Kolbitsch C (2023). Motion-corrected model-based reconstruction for 2D\n",
    "myocardial $T_1$ mapping. *Magnetic Resonance in Medicine*, 90(3):1086-1100, [10.1002/mrm.29699](https://doi.org/10.1002/mrm.29699)"
   ]
  },
  {
   "cell_type": "markdown",
   "id": "2f2c110e",
   "metadata": {},
   "source": [
    "The number of time frames and hence the number of radial lines per time frame, can in principle be chosen arbitrarily.\n",
    "However, a tradeoff between image quality (more radial lines per dynamic) and\n",
    "temporal resolution to accurately capture the signal behavior (fewer radial lines) needs to be found."
   ]
  },
  {
   "cell_type": "markdown",
   "id": "1ed1fc05",
   "metadata": {},
   "source": [
    "During data acquisition, the magnetization $M_z(t)$ can be described by the signal model:\n",
    "\n",
    "$$\n",
    "  M_z(t) = M_0^* + (M_0^{init} - M_0^*)e^{(-t / T_1^*)} \\quad (1)\n",
    "$$"
   ]
  },
  {
   "cell_type": "markdown",
   "id": "8b1e3c2f",
   "metadata": {},
   "source": [
    "where the effective longitudinal relaxation time is given by:\n",
    "\n",
    "$$\n",
    "  T_1^* = \\frac{1}{\\frac{1}{T_1} - \\frac{1}{T_R} \\ln(\\cos(\\alpha))}\n",
    "$$"
   ]
  },
  {
   "cell_type": "markdown",
   "id": "1c6c6616",
   "metadata": {},
   "source": [
    "and the steady-state magnetization is\n",
    "\n",
    "$$\n",
    "  M_0^* = M_0 \\frac{T_1^*}{T_1} .\n",
    "$$"
   ]
  },
  {
   "cell_type": "markdown",
   "id": "52b8c555",
   "metadata": {},
   "source": [
    "The initial magnetization $M_0^{init}$ after an inversion pulse is $-M_0$. Nevertheless, commonly after an inversion\n",
    "pulse, a strong spoiler gradient is played out to remove any residual transversal magnetization due to\n",
    "imperfections of the inversion pulse. During the spoiler gradient, the magnetization recovers with $T_1$. Commonly,\n",
    "the duration of this spoiler gradient $\\Delta t$ is between 10 to 20 ms. This leads to the initial magnetization\n",
    "\n",
    "$$\n",
    " M_0^{init} = M_0(1 - 2e^{(-\\Delta t / T_1)}) .\n",
    "$$"
   ]
  },
  {
   "cell_type": "markdown",
   "id": "7f7c1229",
   "metadata": {},
   "source": [
    "In this example, we are going to:\n",
    "- Reconstruct a single high quality image using all acquired radial lines.\n",
    "- Split the data into multiple dynamics and reconstruct these dynamic images\n",
    "- Define a signal model and a loss function to obtain the $T_1$ maps"
   ]
  },
  {
   "cell_type": "code",
   "execution_count": null,
   "id": "94484d00",
   "metadata": {
    "lines_to_next_cell": 2
   },
   "outputs": [],
   "source": [
    "# Download raw data in ISMRMRD format from zenodo into a temporary directory\n",
    "data_folder = Path(tempfile.mkdtemp())\n",
    "dataset = '13207352'\n",
    "zenodo_get.zenodo_get([dataset, '-r', 5, '-o', data_folder])  # r: retries"
   ]
  },
  {
   "cell_type": "markdown",
   "id": "dbc75fbb",
   "metadata": {},
   "source": [
    "## Reconstruct average image\n",
    "Reconstruct one image as the average over all radial lines"
   ]
  },
  {
   "cell_type": "code",
   "execution_count": null,
   "id": "4b1514c5",
   "metadata": {},
   "outputs": [],
   "source": [
    "# Read raw data and trajectory\n",
    "kdata = KData.from_file(data_folder / '2D_GRad_map_t1.h5', KTrajectoryIsmrmrd())\n",
    "\n",
    "# Perform the reconstruction\n",
    "reconstruction = DirectReconstruction(kdata)\n",
    "img_average = reconstruction(kdata)"
   ]
  },
  {
   "cell_type": "code",
   "execution_count": null,
   "id": "be81720e",
   "metadata": {},
   "outputs": [],
   "source": [
    "# Visualize average image\n",
    "plt.figure()\n",
    "plt.imshow(img_average.rss()[0, 0, :, :], cmap='gray')\n",
    "plt.title('Average image')"
   ]
  },
  {
   "cell_type": "markdown",
   "id": "a0930f07",
   "metadata": {},
   "source": [
    "## Split the data into dynamics and reconstruct dynamic images\n",
    "We split the k-space data into different dynamics with 30 radial lines, each and no data overlap between the different\n",
    "dynamics. Then we again perform a simple direct reconstruction, where we use the same coil sensitivity map (which we\n",
    "estimated above) for each dynamic."
   ]
  },
  {
   "cell_type": "code",
   "execution_count": null,
   "id": "16fdbcbb",
   "metadata": {},
   "outputs": [],
   "source": [
    "idx_dynamic = split_idx(torch.argsort(kdata.header.acq_info.acquisition_time_stamp[0, 0, :, 0]), 30, 0)\n",
    "kdata_dynamic = kdata.split_k1_into_other(idx_dynamic, other_label='repetition')"
   ]
  },
  {
   "cell_type": "code",
   "execution_count": null,
   "id": "417eff6c",
   "metadata": {
    "lines_to_next_cell": 2
   },
   "outputs": [],
   "source": [
    "# Perform the reconstruction\n",
    "# Here we use the same coil sensitivity map for all dynamics\n",
    "reconstruction_dynamic = DirectReconstruction(kdata_dynamic, csm=reconstruction.csm)\n",
    "img_dynamic = reconstruction_dynamic(kdata_dynamic)\n",
    "# Get absolute value of complex image and normalize the images\n",
    "img_rss_dynamic = img_dynamic.rss()\n",
    "img_rss_dynamic /= img_rss_dynamic.max()"
   ]
  },
  {
   "cell_type": "code",
   "execution_count": null,
   "id": "82f87630",
   "metadata": {},
   "outputs": [],
   "source": [
    "# Visualize the first six dynamic images\n",
    "fig, ax = plt.subplots(2, 3, squeeze=False)\n",
    "for idx, cax in enumerate(ax.flatten()):\n",
    "    cax.imshow(img_rss_dynamic[idx, 0, :, :], cmap='gray', vmin=0, vmax=0.8)\n",
    "    cax.set_title(f'Dynamic {idx}')"
   ]
  },
  {
   "cell_type": "markdown",
   "id": "87260553",
   "metadata": {},
   "source": [
    "## Estimate $T_1$ map"
   ]
  },
  {
   "cell_type": "markdown",
   "id": "7153f06b",
   "metadata": {},
   "source": [
    "### Signal model\n",
    "We use a three parameter signal model $q(M_0, T_1, \\alpha)$.\n",
    "\n",
    "As known input, the model needs information about the time $t$ (`sampling_time`) in Eq. (1) since the inversion pulse.\n",
    "This can be calculated from the `acquisition_time_stamp`. If we average the `acquisition_time_stamp`-values for each\n",
    "dynamic image and subtract the first `acquisition_time_stamp`, we get the mean time since the inversion pulse for each\n",
    "dynamic. Note: The time taken by the spoiler gradient is taken into consideration in the\n",
    "`TransientSteadyStateWithPreparation`-model and does not have to be added here. Another important thing to note is\n",
    "that the `acquisition_time_stamp` is not given in time units but in vendor-specific time stamp units. For the Siemens\n",
    "data used here, one time stamp corresponds to 2.5 ms."
   ]
  },
  {
   "cell_type": "code",
   "execution_count": null,
   "id": "2235a00a",
   "metadata": {},
   "outputs": [],
   "source": [
    "sampling_time = torch.mean(kdata_dynamic.header.acq_info.acquisition_time_stamp[:, 0, :, 0].to(torch.float32), dim=-1)\n",
    "# Subtract time stamp of first radial line\n",
    "sampling_time -= kdata_dynamic.header.acq_info.acquisition_time_stamp[0, 0, 0, 0]\n",
    "# Convert to seconds\n",
    "sampling_time *= 2.5 / 1000"
   ]
  },
  {
   "cell_type": "markdown",
   "id": "1d9711d3",
   "metadata": {},
   "source": [
    "We also need the repetition time between two RF-pulses. There is a parameter `tr` in the header, but this describes\n",
    "the time \"between the beginning of a pulse sequence and the beginning of the succeeding (essentially identical) pulse\n",
    "sequence\" (see [DICOM Standard Browser](https://dicom.innolitics.com/ciods/mr-image/mr-image/00180080)). We have one\n",
    "inversion pulse at the beginning, which is never repeated and hence `tr` is the duration of the entire scan.\n",
    "Therefore, we have to use the parameter `echo_spacing`, which describes the time between two gradient echoes."
   ]
  },
  {
   "cell_type": "code",
   "execution_count": null,
   "id": "d006738e",
   "metadata": {},
   "outputs": [],
   "source": [
    "if kdata_dynamic.header.echo_spacing is None:\n",
    "    raise ValueError('Echo spacing needs to be defined.')\n",
    "else:\n",
    "    repetition_time = kdata_dynamic.header.echo_spacing[0]"
   ]
  },
  {
   "cell_type": "markdown",
   "id": "42a19af3",
   "metadata": {},
   "source": [
    "Finally, we have to specify the duration of the spoiler gradient. Unfortunately, we cannot get this information from\n",
    "the acquired data, but we have to know the value and set it by hand to 20 ms. Now we can define the signal model."
   ]
  },
  {
   "cell_type": "code",
   "execution_count": null,
   "id": "6bf4023a",
   "metadata": {},
   "outputs": [],
   "source": [
    "model_op = TransientSteadyStateWithPreparation(\n",
    "    sampling_time, repetition_time, m0_scaling_preparation=-1, delay_after_preparation=0.02\n",
    ")"
   ]
  },
  {
   "cell_type": "markdown",
   "id": "42026962",
   "metadata": {},
   "source": [
    "The reconstructed image data is complex-valued. We could fit a complex $M_0$ to the data, but in this case it is more\n",
    "robust to fit $|q(M_0, T_1, \\alpha)|$ to the magnitude of the image data. We therefore combine our model with a\n",
    "`MagnitudeOp`."
   ]
  },
  {
   "cell_type": "code",
   "execution_count": null,
   "id": "0ec8ecd1",
   "metadata": {},
   "outputs": [],
   "source": [
    "magnitude_model_op = MagnitudeOp() @ model_op"
   ]
  },
  {
   "cell_type": "markdown",
   "id": "ba8433ab",
   "metadata": {},
   "source": [
    "### Constraints\n",
    "$T_1$ and $\\alpha$ need to be positive. Based on the knowledge of the phantom, we can constrain $T_1$ between 50 ms\n",
    "and 3 s. Further, we can constrain $\\alpha$. Although the effective flip angle can vary, it can only vary by a\n",
    "certain percentage relative to the nominal flip angle. Here, we chose a maximum deviation from the nominal flip angle\n",
    "of 50%."
   ]
  },
  {
   "cell_type": "code",
   "execution_count": null,
   "id": "57bafca9",
   "metadata": {},
   "outputs": [],
   "source": [
    "if kdata_dynamic.header.fa is None:\n",
    "    raise ValueError('Nominal flip angle needs to be defined.')\n",
    "else:\n",
    "    nominal_flip_angle = float(kdata_dynamic.header.fa[0])\n",
    "\n",
    "constraints_op = ConstraintsOp(bounds=((None, None), (0.05, 3.0), (nominal_flip_angle * 0.5, nominal_flip_angle * 1.5)))"
   ]
  },
  {
   "cell_type": "markdown",
   "id": "df2a7d2f",
   "metadata": {
    "lines_to_next_cell": 0
   },
   "source": [
    "### Loss function\n",
    "As a loss function for the optimizer, we calculate the mean squared error between the image data $x$ and our signal\n",
    "model $q$."
   ]
  },
  {
   "cell_type": "code",
   "execution_count": null,
   "id": "3bf4779b",
   "metadata": {},
   "outputs": [],
   "source": [
    "mse_loss = MSE(img_rss_dynamic)"
   ]
  },
  {
   "cell_type": "markdown",
   "id": "534f05d2",
   "metadata": {
    "lines_to_next_cell": 0
   },
   "source": [
    "Now we can simply combine the loss function, the signal model and the constraints to solve\n",
    "\n",
    "$$\n",
    " \\min_{M_0, T_1, \\alpha} || |q(M_0, T_1, \\alpha)| - x||_2^2\n",
    "$$"
   ]
  },
  {
   "cell_type": "code",
   "execution_count": null,
   "id": "579b0f42",
   "metadata": {},
   "outputs": [],
   "source": [
    "functional = mse_loss @ magnitude_model_op @ constraints_op"
   ]
  },
  {
   "cell_type": "markdown",
   "id": "71c02cca",
   "metadata": {},
   "source": [
    "### Carry out fit"
   ]
  },
  {
   "cell_type": "code",
   "execution_count": null,
   "id": "b16dda3f",
   "metadata": {
    "lines_to_next_cell": 2
   },
   "outputs": [],
   "source": [
    "# The shortest echo time is a good approximation for the equilibrium magnetization\n",
    "m0_start = img_rss_dynamic[0, ...]\n",
    "# 1 s a good starting value for T1\n",
    "t1_start = torch.ones(m0_start.shape, dtype=torch.float32)\n",
    "# and the nominal flip angle a good starting value for the actual flip angle\n",
    "flip_angle_start = torch.ones(m0_start.shape, dtype=torch.float32) * kdata_dynamic.header.fa"
   ]
  },
  {
   "cell_type": "code",
   "execution_count": null,
   "id": "ebbc4ac7",
   "metadata": {},
   "outputs": [],
   "source": [
    "# Hyperparameters for optimizer\n",
    "max_iter = 500\n",
    "lr = 1e-2\n",
    "\n",
    "# Run optimization\n",
    "params_result = adam(functional, [m0_start, t1_start, flip_angle_start], max_iter=max_iter, lr=lr)\n",
    "params_result = constraints_op(*params_result)\n",
    "m0, t1, flip_angle = (p.detach() for p in params_result)"
   ]
  },
  {
   "cell_type": "code",
   "execution_count": null,
   "id": "3143204f",
   "metadata": {},
   "outputs": [],
   "source": [
    "# Visualize parametric maps\n",
    "fig, axes = plt.subplots(1, 3, figsize=(10, 2), squeeze=False)\n",
    "colorbar_ax = [make_axes_locatable(ax).append_axes('right', size='5%', pad=0.05) for ax in axes[0, :]]\n",
    "im = axes[0, 0].imshow(m0[0, ...].abs(), cmap='gray')\n",
    "axes[0, 0].set_title('$M_0$')\n",
    "fig.colorbar(im, cax=colorbar_ax[0])\n",
    "im = axes[0, 1].imshow(t1[0, ...], vmin=0, vmax=2)\n",
    "axes[0, 1].set_title('$T_1$ (s)')\n",
    "fig.colorbar(im, cax=colorbar_ax[1])\n",
    "im = axes[0, 2].imshow(flip_angle[0, ...] / torch.pi * 180, vmin=0, vmax=8)\n",
    "axes[0, 2].set_title('Flip angle (°)')\n",
    "fig.colorbar(im, cax=colorbar_ax[2])"
   ]
  },
  {
   "cell_type": "markdown",
   "id": "8b8b4c32",
   "metadata": {
    "lines_to_next_cell": 2
   },
   "source": [
    "### Next steps\n",
    "The quality of the final $T_1$ maps depends on the quality of the individual dynamic images. Using more advanced image\n",
    "reconstruction methods, we can improve the image quality and hence the quality of the maps.\n",
    "\n",
    "Try to exchange `DirectReconstruction` above with `IterativeSENSEReconstruction` and compare the quality of the\n",
    "$T_1$ maps for different number of iterations (`n_iterations`)."
   ]
  },
  {
   "cell_type": "code",
   "execution_count": null,
   "id": "1e83ba68",
   "metadata": {},
   "outputs": [],
   "source": [
    "# Clean-up by removing temporary directory\n",
    "shutil.rmtree(data_folder)"
   ]
  }
 ],
 "metadata": {
  "jupytext": {
   "cell_metadata_filter": "-all"
  },
  "kernelspec": {
   "display_name": "Python 3 (ipykernel)",
   "language": "python",
   "name": "python3"
  }
 },
 "nbformat": 4,
 "nbformat_minor": 5
}
