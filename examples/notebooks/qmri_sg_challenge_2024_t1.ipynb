{
 "cells": [
  {
   "cell_type": "markdown",
   "id": "0",
   "metadata": {
    "lines_to_next_cell": 0
   },
   "source": [
    "[![Open In Colab](https://colab.research.google.com/assets/colab-badge.svg)](https://colab.research.google.com/github/PTB-MR/mrpro/blob/main/examples/notebooks/qmri_sg_challenge_2024_t1.ipynb)"
   ]
  },
  {
   "cell_type": "code",
   "execution_count": null,
   "id": "1",
   "metadata": {
    "tags": [
     "remove-cell"
    ]
   },
   "outputs": [],
   "source": [
    "import importlib\n",
    "\n",
    "if not importlib.util.find_spec('mrpro'):\n",
    "    %pip install mrpro[notebook]"
   ]
  },
  {
   "cell_type": "markdown",
   "id": "2",
   "metadata": {},
   "source": [
    "# QMRI Challenge ISMRM 2024 - $T_1$ mapping\n",
    "In the 2024 ISMRM QMRI Challenge, the goal is to estimate $T_1$ maps from a set of inversion recovery images.\n",
    "The dataset consists of images obtained at 10 different inversion times using a turbo spin echo sequence. Each\n",
    "inversion time is saved in a separate DICOM file. In order to obtain a $T_1$ map, we are going to:\n",
    "- download the data from Zenodo\n",
    "- read in the DICOM files (one for each inversion time) and combine them in an IData object\n",
    "- define a signal model and data loss (mean-squared error) function\n",
    "- find good starting values for each pixel\n",
    "- carry out a fit using ADAM from PyTorch"
   ]
  },
  {
   "cell_type": "markdown",
   "id": "3",
   "metadata": {},
   "source": [
    "### Get data from Zenodo"
   ]
  },
  {
   "cell_type": "code",
   "execution_count": null,
   "id": "4",
   "metadata": {},
   "outputs": [],
   "source": [
    "import tempfile\n",
    "import zipfile\n",
    "from pathlib import Path\n",
    "\n",
    "import zenodo_get\n",
    "\n",
    "dataset = '10868350'\n",
    "\n",
    "tmp = tempfile.TemporaryDirectory()  # RAII, automatically cleaned up\n",
    "data_folder = Path(tmp.name)\n",
    "zenodo_get.zenodo_get([dataset, '-r', 5, '-o', data_folder])  # r: retries\n",
    "with zipfile.ZipFile(data_folder / Path('T1 IR.zip'), 'r') as zip_ref:\n",
    "    zip_ref.extractall(data_folder)"
   ]
  },
  {
   "cell_type": "markdown",
   "id": "5",
   "metadata": {
    "lines_to_next_cell": 0
   },
   "source": [
    "### Create image data (IData) object with different inversion times\n",
    "We read in the DICOM files and combine them in an `~mrpro.data.IData` object.\n",
    "The inversion times are stored in the DICOM files are available in the header of the `~mrpro.data.IData` object."
   ]
  },
  {
   "cell_type": "code",
   "execution_count": null,
   "id": "6",
   "metadata": {},
   "outputs": [],
   "source": [
    "import mrpro\n",
    "\n",
    "ti_dicom_files = data_folder.glob('**/*.dcm')\n",
    "idata_multi_ti = mrpro.data.IData.from_dicom_files(ti_dicom_files)\n",
    "\n",
    "if idata_multi_ti.header.ti is None:\n",
    "    raise ValueError('Inversion times need to be defined in the DICOM files.')"
   ]
  },
  {
   "cell_type": "code",
   "execution_count": null,
   "id": "7",
   "metadata": {
    "mystnb": {
     "code_prompt_show": "Show plotting details"
    },
    "tags": [
     "hide-cell"
    ]
   },
   "outputs": [],
   "source": [
    "import matplotlib.pyplot as plt\n",
    "import torch\n",
    "\n",
    "\n",
    "def show_images(*images: torch.Tensor, titles: list[str] | None = None) -> None:\n",
    "    \"\"\"Plot images.\"\"\"\n",
    "    n_images = len(images)\n",
    "    _, axes = plt.subplots(1, n_images, squeeze=False, figsize=(n_images * 3, 3))\n",
    "    for i in range(n_images):\n",
    "        axes[0][i].imshow(images[i], cmap='gray')\n",
    "        axes[0][i].axis('off')\n",
    "        if titles:\n",
    "            axes[0][i].set_title(titles[i])\n",
    "    plt.show()"
   ]
  },
  {
   "cell_type": "code",
   "execution_count": null,
   "id": "8",
   "metadata": {},
   "outputs": [],
   "source": [
    "# Let's have a look at some of the images\n",
    "show_images(\n",
    "    *idata_multi_ti.data[:, 0, 0].abs(),\n",
    "    titles=[f'TI = {ti:.3f}s' for ti in idata_multi_ti.header.ti.squeeze()],\n",
    ")"
   ]
  },
  {
   "cell_type": "markdown",
   "id": "9",
   "metadata": {},
   "source": [
    "### Signal model and loss function\n",
    "We use the model $q$\n",
    "\n",
    "$q(TI) = M_0 (1 - e^{-TI/T_1})$\n",
    "\n",
    "with the equilibrium magnetization $M_0$, the inversion time $TI$, and $T_1$. We have to keep in mind that the DICOM\n",
    "images only contain the magnitude of the signal. Therefore, we need $|q(TI)|$:"
   ]
  },
  {
   "cell_type": "code",
   "execution_count": null,
   "id": "10",
   "metadata": {},
   "outputs": [],
   "source": [
    "model = mrpro.operators.MagnitudeOp() @ mrpro.operators.models.InversionRecovery(ti=idata_multi_ti.header.ti)"
   ]
  },
  {
   "cell_type": "markdown",
   "id": "11",
   "metadata": {},
   "source": [
    "As a loss function for the optimizer, we calculate the mean-squared error between the image data $x$ and our signal\n",
    "model $q$."
   ]
  },
  {
   "cell_type": "code",
   "execution_count": null,
   "id": "12",
   "metadata": {},
   "outputs": [],
   "source": [
    "mse = mrpro.operators.functionals.MSE(idata_multi_ti.data.abs())"
   ]
  },
  {
   "cell_type": "markdown",
   "id": "13",
   "metadata": {},
   "source": [
    "Now we can simply combine the two into a functional to solve\n",
    "\n",
    "$ \\min_{M_0, T_1} || |q(M_0, T_1, TI)| - x||_2^2$"
   ]
  },
  {
   "cell_type": "code",
   "execution_count": null,
   "id": "14",
   "metadata": {},
   "outputs": [],
   "source": [
    "functional = mse @ model"
   ]
  },
  {
   "cell_type": "markdown",
   "id": "15",
   "metadata": {},
   "source": [
    "### Starting values for the fit\n",
    "We are trying to minimize a non-linear function $q$. There is no guarantee that we reach the global minimum, but we\n",
    "can end up in a local minimum.\n",
    "\n",
    "To increase our chances of reaching the global minimum, we can ensure that our starting\n",
    "values are already close to the global minimum. We need a good starting point for each pixel.\n",
    "\n",
    "One option to get a good starting point is to calculate the signal curves for a range of $T_1$ values and then check\n",
    "for each pixel which of these signal curves fits best. This is similar to what is done for MR Fingerprinting. So we\n",
    "are going to:\n",
    "- define a list of realistic $T_1$ values (we call this a dictionary of $T_1$ values)\n",
    "- calculate the signal curves corresponding to each of these $T_1$ values\n",
    "- compare the signal curves to the signals of each voxel (we use the maximum of the dot-product as a metric of how\n",
    "well the signals fit to each other)"
   ]
  },
  {
   "cell_type": "code",
   "execution_count": null,
   "id": "16",
   "metadata": {},
   "outputs": [],
   "source": [
    "# Define 100 T1 values between 0.1 and 3.0 s\n",
    "t1_dictionary = torch.linspace(0.1, 3.0, 100)\n",
    "\n",
    "# Calculate the signal corresponding to each of these T1 values. We set M0 to 1, but this is arbitrary because M0 is\n",
    "# just a scaling factor and we are going to normalize the signal curves.\n",
    "(signal_dictionary,) = model(torch.ones(1), t1_dictionary)\n",
    "signal_dictionary = signal_dictionary.to(dtype=torch.complex64)\n",
    "signal_dictionary /= torch.linalg.vector_norm(signal_dictionary, dim=0)\n",
    "\n",
    "# Calculate the dot-product and select for each voxel the T1 values that correspond to the maximum of the dot-product\n",
    "import einops\n",
    "\n",
    "dot_product = einops.einsum(\n",
    "    idata_multi_ti.data,\n",
    "    signal_dictionary,\n",
    "    'ti ..., ti t1 -> t1 ...',\n",
    ")\n",
    "idx_best_match = dot_product.abs().argmax(dim=0)\n",
    "t1_start = t1_dictionary[idx_best_match]"
   ]
  },
  {
   "cell_type": "markdown",
   "id": "17",
   "metadata": {},
   "source": [
    "The maximum absolute value observed is a good approximation for $M_0$"
   ]
  },
  {
   "cell_type": "code",
   "execution_count": null,
   "id": "18",
   "metadata": {},
   "outputs": [],
   "source": [
    "m0_start = idata_multi_ti.data.abs().amax(dim=0)"
   ]
  },
  {
   "cell_type": "markdown",
   "id": "19",
   "metadata": {},
   "source": [
    "#### Visualize the starting values\n",
    "Let's have a look at the starting values for $M_0$ and $T_1$:"
   ]
  },
  {
   "cell_type": "code",
   "execution_count": null,
   "id": "20",
   "metadata": {},
   "outputs": [],
   "source": [
    "fig, axes = plt.subplots(1, 2, figsize=(6, 2), squeeze=False)\n",
    "\n",
    "im = axes[0, 0].imshow(m0_start[0, 0])\n",
    "axes[0, 0].set_title('$M_0$ start values')\n",
    "axes[0, 0].set_axis_off()\n",
    "fig.colorbar(im, ax=axes[0, 0], label='a.u.')\n",
    "\n",
    "im = axes[0, 1].imshow(t1_start[0, 0], vmin=0, vmax=2.5, cmap='magma')\n",
    "axes[0, 1].set_title('$T_1$ start values')\n",
    "axes[0, 1].set_axis_off()\n",
    "fig.colorbar(im, ax=axes[0, 1], label='s')\n",
    "\n",
    "plt.show()"
   ]
  },
  {
   "cell_type": "markdown",
   "id": "21",
   "metadata": {},
   "source": [
    "### Carry out fit\n",
    "We are now ready to carry out the fit. We are going to use the `~mrpro.algorithms.optimizers.adam` optimizer.\n",
    "If there is a GPU available, we can use it ny moving both the data and the model to the GPU."
   ]
  },
  {
   "cell_type": "code",
   "execution_count": null,
   "id": "22",
   "metadata": {},
   "outputs": [],
   "source": [
    "# Move initial values and model to GPU if available\n",
    "if torch.cuda.is_available():\n",
    "    print('Using GPU')\n",
    "    functional.cuda()\n",
    "    m0_start = m0_start.cuda()\n",
    "    t1_start = t1_start.cuda()\n",
    "\n",
    "# Hyperparameters for optimizer\n",
    "max_iter = 2000\n",
    "lr = 1e-1\n",
    "\n",
    "# Run optimization\n",
    "result = mrpro.algorithms.optimizers.adam(functional, [m0_start, t1_start], max_iter=max_iter, lr=lr)\n",
    "m0, t1 = (p.detach().cpu() for p in result)"
   ]
  },
  {
   "cell_type": "markdown",
   "id": "23",
   "metadata": {},
   "source": [
    "### Visualize the final results\n",
    "\n",
    "To get an impression of how well the fit has worked, we are going to calculate the relative error between\n",
    "\n",
    "$E_{relative} = \\sum_{TI}\\frac{|(q(M_0, T_1, TI) - x)|}{|x|}$\n",
    "\n",
    "on a voxel-by-voxel basis\n",
    "We also mask out the background by thresholding on $M_0$."
   ]
  },
  {
   "cell_type": "code",
   "execution_count": null,
   "id": "24",
   "metadata": {},
   "outputs": [],
   "source": [
    "error = model(m0, t1)[0] - idata_multi_ti.data\n",
    "relative_absolute_error = error.abs().sum(dim=0) / (idata_multi_ti.data.abs().sum(dim=0) + 1e-9)\n",
    "\n",
    "mask = torch.isnan(t1) | (m0 < 500)\n",
    "m0[mask] = 0\n",
    "t1[mask] = 0\n",
    "relative_absolute_error[mask] = 0\n",
    "\n",
    "fig, axes = plt.subplots(1, 3, figsize=(10, 2), squeeze=False)\n",
    "im = axes[0, 0].imshow(m0[0, 0])\n",
    "axes[0, 0].set_title('$M_0$')\n",
    "axes[0, 0].set_axis_off()\n",
    "fig.colorbar(im, ax=axes[0, 0], label='a.u.')\n",
    "\n",
    "im = axes[0, 1].imshow(t1[0, 0], vmin=0, vmax=2.5, cmap='magma')\n",
    "axes[0, 1].set_title('$T_1$')\n",
    "axes[0, 1].set_axis_off()\n",
    "fig.colorbar(im, ax=axes[0, 1], label='s')\n",
    "\n",
    "im = axes[0, 2].imshow(relative_absolute_error[0, 0], vmin=0, vmax=0.1)\n",
    "axes[0, 2].set_title('Relative error')\n",
    "axes[0, 2].set_axis_off()\n",
    "fig.colorbar(im, ax=axes[0, 2])\n",
    "\n",
    "plt.show()"
   ]
  },
  {
   "cell_type": "markdown",
   "id": "25",
   "metadata": {},
   "source": [
    "### Next steps\n",
    "\n",
    "The 2024 ISMRM QMRI Challenge also included the estimation of $T_2^*$ maps from multi-echo data. You can find the\n",
    "the data here: https://zenodo.org/record/10868361. You can download it using the same method as above and then\n",
    "unpacking the 'T2star.zip' file.\n",
    "\n",
    "As a signal model $q$ you can use `~mrpro.operators.models.MonoExponentialDecay` describing the signal decay as\n",
    "\n",
    "$q(TE) = M_0 e^{-TE/T_2^*}$\n",
    "\n",
    "with the equilibrium magnetization $M_0$, the echo time $TE$, and $T_2^*$\n",
    "\n",
    "Give it a try and see if you can obtain good $T_2^*$ maps!\n",
    "```{note}\n",
    "The echo times $TE$ can be found in `IData.header.te`. A good starting value for $M_0$ is the signal at the shortest\n",
    "echo time. A good starting value for $T_2^*$ is 20 ms.\n",
    "```"
   ]
  }
 ],
 "metadata": {
  "accelerator": "GPU",
  "colab": {
   "gpuType": "T4",
   "provenance": []
  },
  "jupytext": {
   "cell_metadata_filter": "mystnb,tags,-all"
  },
  "kernelspec": {
   "display_name": "Python 3 (ipykernel)",
   "language": "python",
   "name": "python3"
  }
 },
 "nbformat": 4,
 "nbformat_minor": 5
}
