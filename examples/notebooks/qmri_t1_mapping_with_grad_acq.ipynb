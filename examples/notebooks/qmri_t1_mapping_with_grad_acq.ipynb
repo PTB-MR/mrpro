{
 "cells": [
  {
   "cell_type": "markdown",
   "id": "0",
   "metadata": {
    "lines_to_next_cell": 0
   },
   "source": [
    "[![Open In Colab](https://colab.research.google.com/assets/colab-badge.svg)](https://colab.research.google.com/github/PTB-MR/mrpro/blob/main/examples/notebooks/qmri_t1_mapping_with_grad_acq.ipynb)"
   ]
  },
  {
   "cell_type": "code",
   "execution_count": null,
   "id": "1",
   "metadata": {
    "tags": [
     "remove-cell"
    ]
   },
   "outputs": [],
   "source": [
    "import importlib\n",
    "\n",
    "if not importlib.util.find_spec('mrpro'):\n",
    "    %pip install mrpro[notebooks]"
   ]
  },
  {
   "cell_type": "markdown",
   "id": "2",
   "metadata": {
    "lines_to_next_cell": 2
   },
   "source": [
    "# $T_1$ mapping from a continuous golden radial acquisition"
   ]
  },
  {
   "cell_type": "markdown",
   "id": "3",
   "metadata": {
    "lines_to_next_cell": 2
   },
   "source": [
    "### Overview\n",
    "In this acquisition, a single inversion pulse is played out, followed by a continuous data acquisition with a\n",
    "a constant flip angle $\\alpha$. Data acquisition is carried out with a 2D Golden angle radial trajectory. The acquired\n",
    "data can be divided into different dynamic time frames, each corresponding to a different inversion time. A signal\n",
    "model can then be fitted to this data to obtain a $T_1$ map.\n",
    "\n",
    "More information can be found in:\\\n",
    "Kerkering KM, Schulz-Menger J, Schaeffter T, Kolbitsch C (2023). Motion-corrected model-based reconstruction for 2D\n",
    "myocardial $T_1$ mapping. *Magnetic Resonance in Medicine*, 90(3):1086-1100, [10.1002/mrm.29699](https://doi.org/10.1002/mrm.29699)"
   ]
  },
  {
   "cell_type": "markdown",
   "id": "4",
   "metadata": {},
   "source": [
    "The number of time frames and hence the number of radial lines per time frame, can in principle be chosen arbitrarily.\n",
    "However, a tradeoff between image quality (more radial lines per dynamic) and\n",
    "temporal resolution to accurately capture the signal behavior (fewer radial lines) needs to be found."
   ]
  },
  {
   "cell_type": "markdown",
   "id": "5",
   "metadata": {},
   "source": [
    "During data acquisition, the magnetization $M_z(t)$ can be described by the signal model:\n",
    "\n",
    "$$\n",
    "  M_z(t) = M_0^* + (M_0^{init} - M_0^*)e^{(-t / T_1^*)} \\quad (1)\n",
    "$$"
   ]
  },
  {
   "cell_type": "markdown",
   "id": "6",
   "metadata": {},
   "source": [
    "where the effective longitudinal relaxation time is given by:\n",
    "\n",
    "$$\n",
    "  T_1^* = \\frac{1}{\\frac{1}{T_1} - \\frac{1}{T_R} \\ln(\\cos(\\alpha))}\n",
    "$$"
   ]
  },
  {
   "cell_type": "markdown",
   "id": "7",
   "metadata": {},
   "source": [
    "and the steady-state magnetization is\n",
    "\n",
    "$$\n",
    "  M_0^* = M_0 \\frac{T_1^*}{T_1} .\n",
    "$$"
   ]
  },
  {
   "cell_type": "markdown",
   "id": "8",
   "metadata": {},
   "source": [
    "The initial magnetization $M_0^{init}$ after an inversion pulse is $-M_0$. Nevertheless, commonly after an inversion\n",
    "pulse, a strong spoiler gradient is played out to remove any residual transversal magnetization due to\n",
    "imperfections of the inversion pulse. During the spoiler gradient, the magnetization recovers with $T_1$. Commonly,\n",
    "the duration of this spoiler gradient $\\Delta t$ is between 10 to 20 ms. This leads to the initial magnetization\n",
    "\n",
    "$$\n",
    " M_0^{init} = M_0(1 - 2e^{(-\\Delta t / T_1)}) .\n",
    "$$"
   ]
  },
  {
   "cell_type": "markdown",
   "id": "9",
   "metadata": {
    "lines_to_next_cell": 0
   },
   "source": [
    "In this example, we are going to:\n",
    "- Reconstruct a single high quality image using all acquired radial lines.\n",
    "- Split the data into multiple dynamics and reconstruct these dynamic images\n",
    "- Define a signal model and a loss function to obtain the $T_1$ maps\n"
   ]
  },
  {
   "cell_type": "code",
   "execution_count": null,
   "id": "10",
   "metadata": {
    "lines_to_next_cell": 0,
    "mystnb": {
     "code_prompt_show": "Show download details"
    },
    "tags": [
     "hide-cell"
    ]
   },
   "outputs": [],
   "source": [
    "# Download raw data in ISMRMRD format from zenodo into a temporary directory\n",
    "import tempfile\n",
    "from pathlib import Path\n",
    "\n",
    "import zenodo_get\n",
    "\n",
    "dataset = '13207352'\n",
    "\n",
    "tmp = tempfile.TemporaryDirectory()  # RAII, automatically cleaned up\n",
    "data_folder = Path(tmp.name)\n",
    "zenodo_get.zenodo_get([dataset, '-r', 5, '-o', data_folder])  # r: retries"
   ]
  },
  {
   "cell_type": "markdown",
   "id": "11",
   "metadata": {
    "lines_to_next_cell": 0
   },
   "source": [
    "We will use the following libraries:"
   ]
  },
  {
   "cell_type": "code",
   "execution_count": null,
   "id": "12",
   "metadata": {},
   "outputs": [],
   "source": [
    "import matplotlib.pyplot as plt\n",
    "import mrpro\n",
    "import torch"
   ]
  },
  {
   "cell_type": "markdown",
   "id": "13",
   "metadata": {},
   "source": [
    "## Reconstruct average image\n",
    "Reconstruct one image as the average over all radial lines"
   ]
  },
  {
   "cell_type": "code",
   "execution_count": null,
   "id": "14",
   "metadata": {},
   "outputs": [],
   "source": [
    "# Read raw data and trajectory\n",
    "kdata = mrpro.data.KData.from_file(data_folder / '2D_GRad_map_t1.h5', mrpro.data.traj_calculators.KTrajectoryIsmrmrd())\n",
    "\n",
    "# Perform the reconstruction\n",
    "reconstruction = mrpro.algorithms.reconstruction.DirectReconstruction(kdata)\n",
    "img_average = reconstruction(kdata)\n",
    "\n",
    "# Visualize average image\n",
    "plt.imshow(img_average.rss()[0, 0], cmap='gray')\n",
    "plt.title('Average image')\n",
    "plt.show()"
   ]
  },
  {
   "cell_type": "markdown",
   "id": "15",
   "metadata": {},
   "source": [
    "## Split the data into dynamics and reconstruct dynamic images\n",
    "We split the k-space data into different dynamics with 30 radial lines, each and no data overlap between the different\n",
    "dynamics. Then we again perform a simple direct reconstruction, where we use the same coil sensitivity map (which we\n",
    "estimated above) for each dynamic."
   ]
  },
  {
   "cell_type": "code",
   "execution_count": null,
   "id": "16",
   "metadata": {},
   "outputs": [],
   "source": [
    "\n",
    "idx_dynamic = mrpro.utils.split_idx(kdata.header.acq_info.acquisition_time_stamp.squeeze().argsort(), 30, 0)\n",
    "kdata_dynamic = kdata.split_k1_into_other(idx_dynamic, other_label='repetition')"
   ]
  },
  {
   "cell_type": "code",
   "execution_count": null,
   "id": "17",
   "metadata": {
    "lines_to_next_cell": 2
   },
   "outputs": [],
   "source": [
    "# Perform the reconstruction\n",
    "# Here we use the same coil sensitivity map for all dynamics\n",
    "reconstruction_dynamic = mrpro.algorithms.reconstruction.DirectReconstruction(kdata_dynamic, csm=reconstruction.csm)\n",
    "img_dynamic = reconstruction_dynamic(kdata_dynamic)\n",
    "# Get absolute value of complex image and normalize the images\n",
    "img_rss_dynamic = img_dynamic.rss()\n",
    "img_rss_dynamic /= img_rss_dynamic.max()"
   ]
  },
  {
   "cell_type": "code",
   "execution_count": null,
   "id": "18",
   "metadata": {
    "lines_to_next_cell": 0
   },
   "outputs": [],
   "source": [
    "# Visualize the first six dynamic images\n",
    "fig, ax = plt.subplots(2, 3, squeeze=False)\n",
    "for idx, cax in enumerate(ax.flatten()):\n",
    "    cax.imshow(img_rss_dynamic[idx, 0, :, :], cmap='gray', vmin=0, vmax=0.8)\n",
    "    cax.set_title(f'Dynamic {idx}')\n",
    "plt.show()"
   ]
  },
  {
   "cell_type": "markdown",
   "id": "19",
   "metadata": {},
   "source": [
    "## Estimate $T_1$ map"
   ]
  },
  {
   "cell_type": "markdown",
   "id": "20",
   "metadata": {},
   "source": [
    "### Signal model\n",
    "We use a three parameter signal model $q(M_0, T_1, \\alpha)$.\n",
    "\n",
    "The model needs information about the time $t$, `sampling_time`, in Eq. (1) since the inversion pulse.\n",
    "This can be calculated from the `acquisition_time_stamp`. If we average the `acquisition_time_stamp`-values for each\n",
    "dynamic image and subtract the first `acquisition_time_stamp`, we get the mean time since the inversion pulse for each\n",
    "dynamic. Note: The time taken by the spoiler gradient is taken into consideration in the\n",
    "`~mrpro.operators.models.TransientSteadyStateWithPreparation`-model and does not have to be added here.\n",
    "```{note}\n",
    "The acquisition_time_stamp is not given in time units but in vendor-specific time stamp units. For the Siemens\n",
    "data used here, one time stamp corresponds to 2.5 ms.\n",
    "```"
   ]
  },
  {
   "cell_type": "code",
   "execution_count": null,
   "id": "21",
   "metadata": {},
   "outputs": [],
   "source": [
    "# Calculate the time since the inversion pulse, taking the average over all radial lines in each dynamic.\n",
    "sampling_time = kdata_dynamic.header.acq_info.acquisition_time_stamp.squeeze()\n",
    "sampling_time = (sampling_time - sampling_time[0, 0]).mean(-1)"
   ]
  },
  {
   "cell_type": "markdown",
   "id": "22",
   "metadata": {},
   "source": [
    "We also need the repetition time between two RF-pulses. There is a parameter `tr` in the header, but this describes\n",
    "the time \"between the beginning of a pulse sequence and the beginning of the succeeding (essentially identical) pulse\n",
    "sequence\" (see [DICOM Standard Browser](https://dicom.innolitics.com/ciods/mr-image/mr-image/00180080)). We have one\n",
    "inversion pulse at the beginning, which is never repeated and hence ``tr`` is the duration of the entire scan.\n",
    "Therefore, we have to use the parameter `~mrpro.data.KHeader.echo_spacing`, which describes the time between\n",
    "two gradient echoes."
   ]
  },
  {
   "cell_type": "code",
   "execution_count": null,
   "id": "23",
   "metadata": {},
   "outputs": [],
   "source": [
    "if kdata_dynamic.header.echo_spacing is None:\n",
    "    raise ValueError('Echo spacing needs to be defined.')\n",
    "else:\n",
    "    repetition_time = kdata_dynamic.header.echo_spacing[0]"
   ]
  },
  {
   "cell_type": "markdown",
   "id": "24",
   "metadata": {},
   "source": [
    "Finally, we have to specify the duration of the spoiler gradient. Unfortunately, we cannot get this information from\n",
    "the acquired data, but we have to know the value and set it by hand to 20 ms. Now we can define the signal model."
   ]
  },
  {
   "cell_type": "code",
   "execution_count": null,
   "id": "25",
   "metadata": {},
   "outputs": [],
   "source": [
    "model_op = mrpro.operators.models.TransientSteadyStateWithPreparation(\n",
    "    sampling_time, repetition_time, m0_scaling_preparation=-1, delay_after_preparation=0.02\n",
    ")"
   ]
  },
  {
   "cell_type": "markdown",
   "id": "26",
   "metadata": {},
   "source": [
    "The reconstructed image data is complex-valued. We could fit a complex $M_0$ to the data, but in this case it is more\n",
    "robust to fit $|q(M_0, T_1, \\alpha)|$ to the magnitude of the image data. We therefore combine our model with a\n",
    "`~mrpro.operators.MagnitudeOp`."
   ]
  },
  {
   "cell_type": "code",
   "execution_count": null,
   "id": "27",
   "metadata": {},
   "outputs": [],
   "source": [
    "magnitude_model_op = mrpro.operators.MagnitudeOp() @ model_op"
   ]
  },
  {
   "cell_type": "markdown",
   "id": "28",
   "metadata": {
    "lines_to_next_cell": 0
   },
   "source": [
    "### Constraints\n",
    "$T_1$ and $\\alpha$ need to be positive. Based on the knowledge of the phantom, we can constrain $T_1$ between 50 ms\n",
    "and 3 s. Further, we can constrain $\\alpha$. Although the effective flip angle can vary, it can only vary by a\n",
    "certain percentage relative to the nominal flip angle. Here, we chose a maximum deviation from the nominal flip angle\n",
    "of 50%.\n",
    "We use a `~mrpro.operators.ConstraintsOp` to define these constraints. It maps unconstrained parameters to constrained\n",
    "parameters, such that the optimizer can work with unconstrained parameters"
   ]
  },
  {
   "cell_type": "code",
   "execution_count": null,
   "id": "29",
   "metadata": {},
   "outputs": [],
   "source": [
    "if kdata_dynamic.header.fa is None:\n",
    "    raise ValueError('Nominal flip angle needs to be defined.')\n",
    "\n",
    "nominal_flip_angle = float(kdata_dynamic.header.fa[0])\n",
    "\n",
    "constraints_op = mrpro.operators.ConstraintsOp(\n",
    "    bounds=(\n",
    "        (None, None),  # M0 is not constrained\n",
    "        (0.05, 3.0),  # T1 is constrained between 50 ms and 3 s\n",
    "        (nominal_flip_angle * 0.5, nominal_flip_angle * 1.5),  # alpha is constrained\n",
    "    )\n",
    ")"
   ]
  },
  {
   "cell_type": "markdown",
   "id": "30",
   "metadata": {
    "lines_to_next_cell": 0
   },
   "source": [
    "### Loss function\n",
    "As a loss function for the optimizer, we calculate the mean squared error between the image data $x$ and our signal\n",
    "model $q$."
   ]
  },
  {
   "cell_type": "code",
   "execution_count": null,
   "id": "31",
   "metadata": {},
   "outputs": [],
   "source": [
    "mse_loss = mrpro.operators.functionals.MSE(img_rss_dynamic)"
   ]
  },
  {
   "cell_type": "markdown",
   "id": "32",
   "metadata": {
    "lines_to_next_cell": 0
   },
   "source": [
    "Now we can simply combine the loss function, the signal model and the constraints to solve\n",
    "\n",
    "$$\n",
    " \\min_{M_0, T_1, \\alpha} || |q(M_0, T_1, \\alpha)| - x||_2^2\n",
    "$$"
   ]
  },
  {
   "cell_type": "code",
   "execution_count": null,
   "id": "33",
   "metadata": {},
   "outputs": [],
   "source": [
    "functional = mse_loss @ magnitude_model_op @ constraints_op"
   ]
  },
  {
   "cell_type": "markdown",
   "id": "34",
   "metadata": {
    "lines_to_next_cell": 0
   },
   "source": [
    "### Carry out fit\n",
    "We use an LBFGS optimizer to minimize the loss function. We start with the following initial values:\n",
    "- The intensity at shortest echo time as a good approximation for the equilibrium magnetization $M_0$,\n",
    "- 1 s for $T_1$, and\n",
    "- nominal flip angle for the actual flip angle."
   ]
  },
  {
   "cell_type": "code",
   "execution_count": null,
   "id": "35",
   "metadata": {
    "lines_to_next_cell": 0
   },
   "outputs": [],
   "source": [
    "m0_start = img_rss_dynamic[0]\n",
    "t1_start = torch.ones_like(m0_start)\n",
    "flip_angle_start = torch.ones_like(m0_start) * torch.as_tensor(kdata_dynamic.header.fa)"
   ]
  },
  {
   "cell_type": "markdown",
   "id": "36",
   "metadata": {
    "lines_to_next_cell": 0
   },
   "source": [
    "If we use a `~mrpro.operators.ConstraintsOp`, the start values must be transformed to the\n",
    "unconstrained space before the optimization and back to the original space after the optimization."
   ]
  },
  {
   "cell_type": "code",
   "execution_count": null,
   "id": "37",
   "metadata": {
    "lines_to_next_cell": 0
   },
   "outputs": [],
   "source": [
    "initial_parameters = constraints_op.inverse(m0_start, t1_start, flip_angle_start)"
   ]
  },
  {
   "cell_type": "markdown",
   "id": "38",
   "metadata": {
    "lines_to_next_cell": 0
   },
   "source": [
    "Now we can run the optimizer in the unconstrained space."
   ]
  },
  {
   "cell_type": "code",
   "execution_count": null,
   "id": "39",
   "metadata": {
    "lines_to_next_cell": 0
   },
   "outputs": [],
   "source": [
    "result = mrpro.algorithms.optimizers.lbfgs(functional, initial_parameters=initial_parameters)"
   ]
  },
  {
   "cell_type": "markdown",
   "id": "40",
   "metadata": {
    "lines_to_next_cell": 0
   },
   "source": [
    "Transforming the parameters back to the original space, we get the final $M_0$, $T_1$, and flip angle:"
   ]
  },
  {
   "cell_type": "code",
   "execution_count": null,
   "id": "41",
   "metadata": {
    "lines_to_next_cell": 0
   },
   "outputs": [],
   "source": [
    "m0, t1, flip_angle = (p.detach().cpu().squeeze() for p in constraints_op(*result))"
   ]
  },
  {
   "cell_type": "markdown",
   "id": "42",
   "metadata": {
    "lines_to_next_cell": 0
   },
   "source": [
    "## Visualize results\n",
    "Finally, we can take a look at the estimated $M_0$, $T_1$, and flip angle maps:"
   ]
  },
  {
   "cell_type": "code",
   "execution_count": null,
   "id": "43",
   "metadata": {
    "lines_to_next_cell": 0
   },
   "outputs": [],
   "source": [
    "# Visualize parametric maps\n",
    "fig, axes = plt.subplots(1, 3, figsize=(10, 2), squeeze=False)\n",
    "\n",
    "im = axes[0, 0].imshow(m0.abs(), cmap='gray')\n",
    "axes[0, 0].set_title('$|M_0|$')\n",
    "axes[0, 0].set_axis_off()\n",
    "fig.colorbar(im, ax=axes[0, 0])\n",
    "\n",
    "im = axes[0, 1].imshow(t1, vmin=0, vmax=2, cmap='magma')\n",
    "axes[0, 1].set_title('$T_1$ (s)')\n",
    "axes[0, 1].set_axis_off()\n",
    "fig.colorbar(im, ax=axes[0, 1])\n",
    "\n",
    "im = axes[0, 2].imshow(torch.rad2deg(flip_angle), vmin=0, vmax=8)\n",
    "axes[0, 2].set_title('Flip angle (°)')\n",
    "axes[0, 2].set_axis_off()\n",
    "fig.colorbar(im, ax=axes[0, 2])\n",
    "\n",
    "plt.show()"
   ]
  },
  {
   "cell_type": "markdown",
   "id": "44",
   "metadata": {},
   "source": [
    "Great! We have successfully estimated the $T_1$ map from the dynamic images!\n",
    "\n",
    "### Next steps\n",
    "The quality of the final $T_1$ maps depends on the quality of the individual dynamic images. Using more advanced image\n",
    "reconstruction methods, we can improve the image quality and hence the quality of the maps.\n",
    "Try to exchange `~mrpro.algorithms.reconstruction.DirectReconstruction` above with\n",
    "`~mrpro.algorithms.reconstruction.IterativeSENSEReconstruction`\n",
    "or try a different optimizer such as `~mrpro.algorithms.optimizers.adam`."
   ]
  }
 ],
 "metadata": {
  "accelerator": "GPU",
  "colab": {
   "gpuType": "T4",
   "provenance": []
  },
  "jupytext": {
   "cell_metadata_filter": "mystnb,tags,-all"
  },
  "kernelspec": {
   "display_name": "Python 3 (ipykernel)",
   "language": "python",
   "name": "python3"
  }
 },
 "nbformat": 4,
 "nbformat_minor": 5
}
