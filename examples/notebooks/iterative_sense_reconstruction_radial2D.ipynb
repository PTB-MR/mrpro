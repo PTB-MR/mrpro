{
 "cells": [
  {
   "cell_type": "markdown",
   "id": "0",
   "metadata": {
    "lines_to_next_cell": 0
   },
   "source": [
    "[![Open In Colab](https://colab.research.google.com/assets/colab-badge.svg)](https://colab.research.google.com/github/PTB-MR/mrpro/blob/main/examples/notebooks/iterative_sense_reconstruction_radial2D.ipynb)"
   ]
  },
  {
   "cell_type": "code",
   "execution_count": null,
   "id": "1",
   "metadata": {
    "tags": [
     "remove-cell"
    ]
   },
   "outputs": [],
   "source": [
    "import importlib\n",
    "\n",
    "if not importlib.util.find_spec('mrpro'):\n",
    "    %pip install mrpro[notebook]"
   ]
  },
  {
   "cell_type": "markdown",
   "id": "2",
   "metadata": {
    "lines_to_next_cell": 2
   },
   "source": [
    "# Iterative SENSE Reconstruction of 2D golden angle radial data\n",
    "Here we use the IterativeSENSEReconstruction class to reconstruct images from ISMRMRD 2D radial data"
   ]
  },
  {
   "cell_type": "code",
   "execution_count": null,
   "id": "3",
   "metadata": {
    "tags": [
     "hide-cell"
    ]
   },
   "outputs": [],
   "source": [
    "# Download raw data from Zenodo\n",
    "import tempfile\n",
    "from pathlib import Path\n",
    "\n",
    "import zenodo_get\n",
    "\n",
    "dataset = '14617082'\n",
    "\n",
    "tmp = tempfile.TemporaryDirectory()  # RAII, automatically cleaned up\n",
    "data_folder = Path(tmp.name)\n",
    "zenodo_get.zenodo_get([dataset, '-r', 5, '-o', data_folder])  # r: retries"
   ]
  },
  {
   "cell_type": "markdown",
   "id": "4",
   "metadata": {
    "lines_to_next_cell": 0
   },
   "source": [
    "### Image reconstruction\n",
    "We use the IterativeSENSEReconstruction class to reconstruct images from 2D radial data.\n",
    "IterativeSENSEReconstruction solves the following reconstruction problem:\n",
    "\n",
    "Let's assume we have obtained the k-space data $y$ from an image $x$ with an acquisition model (Fourier transforms,\n",
    "coil sensitivity maps...) $A$ then we can formulate the forward problem as:\n",
    "\n",
    "$ y = Ax + n $\n",
    "\n",
    "where $n$ describes complex Gaussian noise. The image $x$ can be obtained by minimizing the functional $F$\n",
    "\n",
    "$ F(x) = ||W^{\\frac{1}{2}}(Ax - y)||_2^2 $\n",
    "\n",
    "where $W^\\frac{1}{2}$ is the square root of the density compensation function (which corresponds to a diagonal\n",
    "operator).\n",
    "\n",
    "Setting the derivative of the functional $F$ to zero and rearranging yields\n",
    "\n",
    "$ A^H W A x = A^H W y$\n",
    "\n",
    "which is a linear system $Hx = b$ that needs to be solved for $x$."
   ]
  },
  {
   "cell_type": "code",
   "execution_count": null,
   "id": "5",
   "metadata": {},
   "outputs": [],
   "source": [
    "import mrpro"
   ]
  },
  {
   "cell_type": "markdown",
   "id": "6",
   "metadata": {
    "lines_to_next_cell": 0
   },
   "source": [
    "##### Read-in the raw data\n",
    "We read the raw k-space data and the trajectory from the ISMRMRD file."
   ]
  },
  {
   "cell_type": "code",
   "execution_count": null,
   "id": "7",
   "metadata": {},
   "outputs": [],
   "source": [
    "trajectory_calculator = mrpro.data.traj_calculators.KTrajectoryIsmrmrd()\n",
    "kdata = mrpro.data.KData.from_file(data_folder / 'radial2D_402spokes_golden_angle_with_traj.h5', trajectory_calculator)"
   ]
  },
  {
   "cell_type": "markdown",
   "id": "8",
   "metadata": {},
   "source": [
    "##### Direct reconstruction for comparison\n",
    "For comparison, we first can carry out a direct reconstruction using the\n",
    "`~mrpro.algorithms.reconstruction.DirectReconstruction` class.\n",
    "See also <project:direct_reconstruction.py>."
   ]
  },
  {
   "cell_type": "code",
   "execution_count": null,
   "id": "9",
   "metadata": {},
   "outputs": [],
   "source": [
    "direct_reconstruction = mrpro.algorithms.reconstruction.DirectReconstruction(kdata)\n",
    "img_direct = direct_reconstruction(kdata)"
   ]
  },
  {
   "cell_type": "markdown",
   "id": "10",
   "metadata": {
    "lines_to_next_cell": 0
   },
   "source": [
    "##### Iterative SENSE reconstruction\n",
    "Now let's use the `~mrpro.algorithms.reconstruction.IterativeSENSEReconstruction` class to reconstruct the image\n",
    "using the iterative SENSE algorithm. We can reuse the coil maps from the direct reconstruction.\n",
    "We use early stopping after 4 iterations."
   ]
  },
  {
   "cell_type": "code",
   "execution_count": null,
   "id": "11",
   "metadata": {},
   "outputs": [],
   "source": [
    "# Set-up the iterative SENSE reconstruction\n",
    "iterative_sense_reconstruction = mrpro.algorithms.reconstruction.IterativeSENSEReconstruction(\n",
    "    kdata, csm=direct_reconstruction.csm, n_iterations=4\n",
    ")\n",
    "# Run the reconstruction\n",
    "img = iterative_sense_reconstruction(kdata)"
   ]
  },
  {
   "cell_type": "markdown",
   "id": "12",
   "metadata": {
    "lines_to_next_cell": 0
   },
   "source": [
    "### Behind the scenes\n",
    "We now peek behind the scenes to see how the iterative SENSE reconstruction is implemented."
   ]
  },
  {
   "cell_type": "markdown",
   "id": "13",
   "metadata": {
    "lines_to_next_cell": 0
   },
   "source": [
    "##### Set-up density compensation operator $W$\n",
    "We create need a density compensation operator $W$ to weight the loss.\n",
    "\n",
    "```{note}\n",
    "Using a weighted loss in iterative SENSE is not necessary, and there has been some discussion about\n",
    "the benefits and drawbacks. Currently, the iterative SENSE reconstruction in mrpro uses a weighted loss.\n",
    "This will be changed in the future.\n",
    "```"
   ]
  },
  {
   "cell_type": "code",
   "execution_count": null,
   "id": "14",
   "metadata": {
    "lines_to_next_cell": 2
   },
   "outputs": [],
   "source": [
    "# The density compensation operator is calculated from the trajectory\n",
    "dcf_operator = mrpro.data.DcfData.from_traj_voronoi(kdata.traj).as_operator()"
   ]
  },
  {
   "cell_type": "markdown",
   "id": "15",
   "metadata": {
    "lines_to_next_cell": 0
   },
   "source": [
    "##### Set-up the acquisition model $A$\n",
    "We need `~mrpro.operators.FourierOp` and `~mrpro.data.CsmData` operators to set up the acquisition model $A$.\n",
    "This makes use of operator composition using the ``@`` operator."
   ]
  },
  {
   "cell_type": "code",
   "execution_count": null,
   "id": "16",
   "metadata": {},
   "outputs": [],
   "source": [
    "# Define Fourier operator using the trajectory and header information in kdata\n",
    "fourier_operator = mrpro.operators.FourierOp.from_kdata(kdata)\n",
    "\n",
    "# Define coil sensitivity maps operator\n",
    "img_coilwise = mrpro.data.IData.from_tensor_and_kheader(*fourier_operator.H(*dcf_operator(kdata.data)), kdata.header)\n",
    "csm_operator = mrpro.data.CsmData.from_idata_walsh(img_coilwise).as_operator()\n",
    "\n",
    "# Create the acquisition operator A\n",
    "acquisition_operator = fourier_operator @ csm_operator"
   ]
  },
  {
   "cell_type": "markdown",
   "id": "17",
   "metadata": {},
   "source": [
    "##### Calculate the right-hand-side of the linear system\n",
    "Next, we need to calculate $b = A^H W y$."
   ]
  },
  {
   "cell_type": "code",
   "execution_count": null,
   "id": "18",
   "metadata": {},
   "outputs": [],
   "source": [
    "(right_hand_side,) = (acquisition_operator.H @ dcf_operator)(kdata.data)"
   ]
  },
  {
   "cell_type": "markdown",
   "id": "19",
   "metadata": {},
   "source": [
    "##### Set-up the linear self-adjoint operator $H$\n",
    "We setup $H = A^H W A$, using the ``dcf_operator`` and ``acquisition_operator``."
   ]
  },
  {
   "cell_type": "code",
   "execution_count": null,
   "id": "20",
   "metadata": {},
   "outputs": [],
   "source": [
    "operator = acquisition_operator.H @ dcf_operator @ acquisition_operator"
   ]
  },
  {
   "cell_type": "markdown",
   "id": "21",
   "metadata": {},
   "source": [
    "##### Run conjugate gradient\n",
    "Finally, we solve the linear system $Hx = b$ using the conjugate gradient method.\n",
    "Again, we use early stopping after 4 iterations. Instead, we could also use a tolerance\n",
    "to stop the iterations when the residual is below a certain threshold."
   ]
  },
  {
   "cell_type": "code",
   "execution_count": null,
   "id": "22",
   "metadata": {},
   "outputs": [],
   "source": [
    "img_manual = mrpro.algorithms.optimizers.cg(\n",
    "    operator, right_hand_side, initial_value=right_hand_side, max_iterations=4, tolerance=0.0\n",
    ")"
   ]
  },
  {
   "cell_type": "markdown",
   "id": "23",
   "metadata": {
    "lines_to_next_cell": 0
   },
   "source": [
    "##### Display the results\n",
    "We can now compare the results of the iterative SENSE reconstruction with the direct reconstruction.\n",
    "Both versions, the one using the `~mrpro.algorithms.reconstruction.IterativeSENSEReconstruction` class\n",
    "and the manual implementation should result in identical images."
   ]
  },
  {
   "cell_type": "code",
   "execution_count": null,
   "id": "24",
   "metadata": {
    "tags": [
     "hide-cell"
    ]
   },
   "outputs": [],
   "source": [
    "import matplotlib.pyplot as plt\n",
    "import torch\n",
    "\n",
    "\n",
    "def show_images(*images: torch.Tensor, titles: list[str] | None = None) -> None:\n",
    "    \"\"\"Plot images.\"\"\"\n",
    "    n_images = len(images)\n",
    "    _, axes = plt.subplots(1, n_images, squeeze=False, figsize=(n_images * 3, 3))\n",
    "    for i in range(n_images):\n",
    "        axes[0][i].imshow(images[i], cmap='gray')\n",
    "        axes[0][i].axis('off')\n",
    "        if titles:\n",
    "            axes[0][i].set_title(titles[i])\n",
    "    plt.show()"
   ]
  },
  {
   "cell_type": "code",
   "execution_count": null,
   "id": "25",
   "metadata": {
    "lines_to_next_cell": 0
   },
   "outputs": [],
   "source": [
    "# Display the reconstructed image\n",
    "show_images(\n",
    "    img_direct.rss()[0, 0],\n",
    "    img.rss()[0, 0],\n",
    "    img_manual.abs()[0, 0, 0],\n",
    "    titles=['Direct', 'Iterative SENSE', 'Manual Iterative SENSE'],\n",
    ")"
   ]
  },
  {
   "cell_type": "markdown",
   "id": "26",
   "metadata": {
    "lines_to_next_cell": 0
   },
   "source": [
    "### Check for equal results\n",
    " inally, we check if two images are really identical."
   ]
  },
  {
   "cell_type": "code",
   "execution_count": null,
   "id": "27",
   "metadata": {
    "lines_to_next_cell": 0
   },
   "outputs": [],
   "source": [
    "# If the assert statement did not raise an exception, the results are equal.\n",
    "assert torch.allclose(img.data, img_manual)"
   ]
  },
  {
   "cell_type": "markdown",
   "id": "28",
   "metadata": {},
   "source": [
    "### Next steps\n",
    "We can also reconstruct undeersampled data or use a regularization term in the optimization problem.\n",
    "For the latter, see the example in <project:iterative_sense_reconstruction_with_regularization.ipynb>."
   ]
  }
 ],
 "metadata": {
  "accelerator": "GPU",
  "colab": {
   "gpuType": "T4",
   "provenance": []
  },
  "jupytext": {
   "cell_metadata_filter": "tags,-all"
  },
  "kernelspec": {
   "display_name": "Python 3 (ipykernel)",
   "language": "python",
   "name": "python3"
  }
 },
 "nbformat": 4,
 "nbformat_minor": 5
}
