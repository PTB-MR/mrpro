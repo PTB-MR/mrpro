{
 "cells": [
  {
   "cell_type": "markdown",
   "id": "0",
   "metadata": {
    "lines_to_next_cell": 0
   },
   "source": [
    "[![Open In Colab](https://colab.research.google.com/assets/colab-badge.svg)](https://colab.research.google.com/github/PTB-MR/mrpro/blob/main/examples/notebooks/iterative_sense_reconstruction_radial2D.ipynb)"
   ]
  },
  {
   "cell_type": "code",
   "execution_count": null,
   "id": "1",
   "metadata": {
    "tags": [
     "remove-cell"
    ]
   },
   "outputs": [],
   "source": [
    "import importlib\n",
    "\n",
    "if not importlib.util.find_spec('mrpro'):\n",
    "    %pip install mrpro[notebook]"
   ]
  },
  {
   "cell_type": "markdown",
   "id": "2",
   "metadata": {
    "lines_to_next_cell": 2
   },
   "source": [
    "# Iterative SENSE Reconstruction of 2D golden angle radial data\n",
    "Here we use an iterative reconstruction method reconstruct images from ISMRMRD 2D radial data."
   ]
  },
  {
   "cell_type": "markdown",
   "id": "3",
   "metadata": {
    "lines_to_next_cell": 2
   },
   "source": [
    "We use the `~mrpro.algorithms.reconstruction.IterativeSENSEReconstruction` class to reconstruct images by solving\n",
    "the following reconstruction problem:\n",
    "\n",
    "Let's assume we have obtained the k-space data $y$ from an image $x$ with an acquisition model (Fourier transforms,\n",
    "coil sensitivity maps...) $A$ then we can formulate the forward problem as:\n",
    "\n",
    "$ y = Ax + n $\n",
    "\n",
    "where $n$ describes complex Gaussian noise. The image $x$ can be obtained by minimizing the functional $F$\n",
    "\n",
    "$ F(x) = ||W^{\\frac{1}{2}}(Ax - y)||_2^2 $\n",
    "\n",
    "where $W^\\frac{1}{2}$ is the square root of the density compensation function (which corresponds to a diagonal\n",
    "operator) used to weight the loss.\n",
    "\n",
    "Setting the derivative of the functional $F$ to zero and rearranging yields\n",
    "\n",
    "$ A^H W A x = A^H W y$\n",
    "\n",
    "which is a linear system $Hx = b$ that needs to be solved for $x$. This is done using the conjugate gradient method."
   ]
  },
  {
   "cell_type": "markdown",
   "id": "4",
   "metadata": {
    "lines_to_next_cell": 2
   },
   "source": [
    "# Using `~mrpro.algorithms.reconstruction.IterativeSENSEReconstruction`\n",
    "First, we demonstrate the use of `~mrpro.algorithms.reconstruction.IterativeSENSEReconstruction`, before we\n",
    "peek behind the scenes and implement the reconstruction manually.\n",
    "\n",
    "## Read-in the raw data\n",
    "We read the raw k-space data and the trajectory from the ISMRMRD file\n",
    "(see <project:comparison_trajectory_calculators.ipynb> for more information on the trajectory calculation).\n",
    "Our example data contains three datasets:\n",
    "- `radial2D_402spokes_golden_angle_with_traj.h5` with 402 spokes\n",
    "- `radial2D_96spokes_golden_angle_with_traj.h5` with 96 spokes\n",
    "- `radial2D_24spokes_golden_angle_with_traj.h5` with 24 spokes\n",
    "\n",
    "We use the 402 spokes dataset for the reconstruction."
   ]
  },
  {
   "cell_type": "code",
   "execution_count": null,
   "id": "5",
   "metadata": {
    "tags": [
     "hide-cell"
    ]
   },
   "outputs": [],
   "source": [
    "# Download raw data from Zenodo\n",
    "import tempfile\n",
    "from pathlib import Path\n",
    "\n",
    "import zenodo_get\n",
    "\n",
    "dataset = '14617082'\n",
    "\n",
    "tmp = tempfile.TemporaryDirectory()  # RAII, automatically cleaned up\n",
    "data_folder = Path(tmp.name)\n",
    "zenodo_get.zenodo_get([dataset, '-r', 5, '-o', data_folder])  # r: retries"
   ]
  },
  {
   "cell_type": "code",
   "execution_count": null,
   "id": "6",
   "metadata": {},
   "outputs": [],
   "source": [
    "import mrpro\n",
    "\n",
    "trajectory_calculator = mrpro.data.traj_calculators.KTrajectoryIsmrmrd()\n",
    "kdata = mrpro.data.KData.from_file(data_folder / 'radial2D_402spokes_golden_angle_with_traj.h5', trajectory_calculator)"
   ]
  },
  {
   "cell_type": "markdown",
   "id": "7",
   "metadata": {},
   "source": [
    "## Direct reconstruction for comparison\n",
    "For comparison, we first can carry out a direct reconstruction using the\n",
    "`~mrpro.algorithms.reconstruction.DirectReconstruction` class.\n",
    "See also <project:direct_reconstruction.ipynb>."
   ]
  },
  {
   "cell_type": "code",
   "execution_count": null,
   "id": "8",
   "metadata": {},
   "outputs": [],
   "source": [
    "direct_reconstruction = mrpro.algorithms.reconstruction.DirectReconstruction(kdata)\n",
    "img_direct = direct_reconstruction(kdata)"
   ]
  },
  {
   "cell_type": "markdown",
   "id": "9",
   "metadata": {
    "lines_to_next_cell": 0
   },
   "source": [
    "## Setting up the iterative SENSE reconstruction\n",
    "Now let's use the `~mrpro.algorithms.reconstruction.IterativeSENSEReconstruction` class to reconstruct the image\n",
    "using the iterative SENSE algorithm.\n",
    "\n",
    "We first set up the reconstruction. Here, we reuse the the Fourier operator, the DCFs and the coil sensitivity maps\n",
    "from ``direct_reconstruction``. We use *early stopping* after 4 iterations by setting `n_iterations`.\n",
    "\n",
    "```{note}\n",
    "When settings up the reconstruction can also just provide the `~mrpro.data.KData` and let\n",
    " `~mrpro.algorithms.reconstruction.IterativeSENSEReconstruction` figure\n",
    "out the Fourier operator, estimate the coil sensitivity maps, and choose a density weighting.\\\n",
    "We can also provide `~mrpro.data.KData` and some information, such as the sensitivity maps.\n",
    "In that case, the reconstruction will fill in the missing information based on the `~mrpro.data.KData` object.\n",
    "```"
   ]
  },
  {
   "cell_type": "code",
   "execution_count": null,
   "id": "10",
   "metadata": {
    "lines_to_next_cell": 0
   },
   "outputs": [],
   "source": [
    "iterative_sense_reconstruction = mrpro.algorithms.reconstruction.IterativeSENSEReconstruction(\n",
    "    fourier_op=direct_reconstruction.fourier_op,\n",
    "    csm=direct_reconstruction.csm,\n",
    "    dcf=direct_reconstruction.dcf,\n",
    "    n_iterations=4,\n",
    ")"
   ]
  },
  {
   "cell_type": "markdown",
   "id": "11",
   "metadata": {
    "lines_to_next_cell": 0
   },
   "source": [
    "## Run the reconstruction\n",
    "We now run the reconstruction using ``iterative_sense_reconstruction`` object. We just need to pass the k-space data\n",
    "and obtain the reconstructed image as `~mrpro.data.IData` object."
   ]
  },
  {
   "cell_type": "code",
   "execution_count": null,
   "id": "12",
   "metadata": {},
   "outputs": [],
   "source": [
    "img = iterative_sense_reconstruction(kdata)"
   ]
  },
  {
   "cell_type": "markdown",
   "id": "13",
   "metadata": {
    "lines_to_next_cell": 0
   },
   "source": []
  },
  {
   "cell_type": "markdown",
   "id": "14",
   "metadata": {
    "lines_to_next_cell": 0
   },
   "source": [
    "# Behind the scenes\n",
    "We now peek behind the scenes to see how the iterative SENSE reconstruction is implemented. We perform all steps\n",
    "`~mrpro.algorithms.reconstruction.IterativeSENSEReconstruction` does when initialized with only an `~mrpro.data.KData`\n",
    "object, i.e., we need to set up a Fourier operator, estimate coil sensitivity maps, and the density weighting.\n",
    "without reusing any thing from `direct_reconstruction`."
   ]
  },
  {
   "cell_type": "markdown",
   "id": "15",
   "metadata": {
    "lines_to_next_cell": 0
   },
   "source": [
    "## Set up density compensation operator $W$\n",
    "We create a density compensation operator $W$ for weighting the loss. We use\n",
    "Voronoi tessellation of the trajectory to calculate the `~mrpro.data.DcfData`.\n",
    "\n",
    "```{note}\n",
    "Using a weighted loss in iterative SENSE is not necessary, and there has been some discussion about\n",
    "the benefits and drawbacks. Currently, the iterative SENSE reconstruction in mrpro uses a weighted loss.\n",
    "This might chang in the future.\n",
    "```"
   ]
  },
  {
   "cell_type": "code",
   "execution_count": null,
   "id": "16",
   "metadata": {
    "lines_to_next_cell": 2
   },
   "outputs": [],
   "source": [
    "dcf_operator = mrpro.data.DcfData.from_traj_voronoi(kdata.traj).as_operator()"
   ]
  },
  {
   "cell_type": "markdown",
   "id": "17",
   "metadata": {
    "lines_to_next_cell": 0
   },
   "source": [
    "## Set up the acquisition model $A$\n",
    "We need `~mrpro.operators.FourierOp` and `~mrpro.operators.SensitivityOp` operators to set up the acquisition model\n",
    "$A$. The Fourier operator is created from the trajectory and header information in `kdata`:"
   ]
  },
  {
   "cell_type": "code",
   "execution_count": null,
   "id": "18",
   "metadata": {
    "lines_to_next_cell": 0
   },
   "outputs": [],
   "source": [
    "fourier_operator = mrpro.operators.FourierOp(\n",
    "    traj=kdata.traj,\n",
    "    recon_matrix=kdata.header.recon_matrix,\n",
    "    encoding_matrix=kdata.header.encoding_matrix,\n",
    ")"
   ]
  },
  {
   "cell_type": "markdown",
   "id": "19",
   "metadata": {
    "lines_to_next_cell": 0
   },
   "source": [
    "To estimate the coil sensitivity maps, we first calculate the coil-wise images from the k-space data and then\n",
    "estimate the coil sensitivity maps using the Walsh method:"
   ]
  },
  {
   "cell_type": "code",
   "execution_count": null,
   "id": "20",
   "metadata": {},
   "outputs": [],
   "source": [
    "img_coilwise = mrpro.data.IData.from_tensor_and_kheader(*fourier_operator.H(*dcf_operator(kdata.data)), kdata.header)\n",
    "csm_data = mrpro.data.CsmData.from_idata_walsh(img_coilwise)\n",
    "csm_operator = csm_data.as_operator()"
   ]
  },
  {
   "cell_type": "markdown",
   "id": "21",
   "metadata": {
    "lines_to_next_cell": 0
   },
   "source": [
    "Now we can set up the acquisition operator $A$ by composing the Fourier operator and the coil sensitivity maps\n",
    "operator using ``@``."
   ]
  },
  {
   "cell_type": "code",
   "execution_count": null,
   "id": "22",
   "metadata": {},
   "outputs": [],
   "source": [
    "acquisition_operator = fourier_operator @ csm_operator"
   ]
  },
  {
   "cell_type": "markdown",
   "id": "23",
   "metadata": {},
   "source": [
    "## Calculate the right-hand-side of the linear system\n",
    "Next, we need to calculate $b = A^H W y$."
   ]
  },
  {
   "cell_type": "code",
   "execution_count": null,
   "id": "24",
   "metadata": {},
   "outputs": [],
   "source": [
    "(right_hand_side,) = (acquisition_operator.H @ dcf_operator)(kdata.data)"
   ]
  },
  {
   "cell_type": "markdown",
   "id": "25",
   "metadata": {},
   "source": [
    "## Set-up the linear self-adjoint operator $H$\n",
    "We setup $H = A^H W A$, using the ``dcf_operator`` and ``acquisition_operator``."
   ]
  },
  {
   "cell_type": "code",
   "execution_count": null,
   "id": "26",
   "metadata": {},
   "outputs": [],
   "source": [
    "operator = acquisition_operator.H @ dcf_operator @ acquisition_operator"
   ]
  },
  {
   "cell_type": "markdown",
   "id": "27",
   "metadata": {},
   "source": [
    "## Run conjugate gradient\n",
    "Finally, we solve the linear system $Hx = b$ using the conjugate gradient method.\n",
    "Again, we use early stopping after 4 iterations. Instead, we could also use a tolerance\n",
    "to stop the iterations when the residual is below a certain threshold."
   ]
  },
  {
   "cell_type": "code",
   "execution_count": null,
   "id": "28",
   "metadata": {},
   "outputs": [],
   "source": [
    "img_manual = mrpro.algorithms.optimizers.cg(\n",
    "    operator, right_hand_side, initial_value=right_hand_side, max_iterations=4, tolerance=0.0\n",
    ")"
   ]
  },
  {
   "cell_type": "markdown",
   "id": "29",
   "metadata": {
    "lines_to_next_cell": 0
   },
   "source": [
    "# Display the results\n",
    "We can now compare the results of the iterative SENSE reconstruction with the direct reconstruction.\n",
    "Both versions, the one using the `~mrpro.algorithms.reconstruction.IterativeSENSEReconstruction` class\n",
    "and the manual implementation should result in identical images."
   ]
  },
  {
   "cell_type": "code",
   "execution_count": null,
   "id": "30",
   "metadata": {
    "tags": [
     "hide-cell"
    ]
   },
   "outputs": [],
   "source": [
    "import matplotlib.pyplot as plt\n",
    "import torch\n",
    "\n",
    "\n",
    "def show_images(*images: torch.Tensor, titles: list[str] | None = None) -> None:\n",
    "    \"\"\"Plot images.\"\"\"\n",
    "    n_images = len(images)\n",
    "    _, axes = plt.subplots(1, n_images, squeeze=False, figsize=(n_images * 3, 3))\n",
    "    for i in range(n_images):\n",
    "        axes[0][i].imshow(images[i], cmap='gray')\n",
    "        axes[0][i].axis('off')\n",
    "        if titles:\n",
    "            axes[0][i].set_title(titles[i])\n",
    "    plt.show()"
   ]
  },
  {
   "cell_type": "code",
   "execution_count": null,
   "id": "31",
   "metadata": {
    "lines_to_next_cell": 0
   },
   "outputs": [],
   "source": [
    "# Display the reconstructed image\n",
    "show_images(\n",
    "    img_direct.rss()[0, 0],\n",
    "    img.rss()[0, 0],\n",
    "    img_manual.abs()[0, 0, 0],\n",
    "    titles=['Direct', 'Iterative SENSE', 'Manual Iterative SENSE'],\n",
    ")"
   ]
  },
  {
   "cell_type": "markdown",
   "id": "32",
   "metadata": {
    "lines_to_next_cell": 0
   },
   "source": [
    "### Check for equal results\n",
    " Finally, we check if two images are really identical."
   ]
  },
  {
   "cell_type": "code",
   "execution_count": null,
   "id": "33",
   "metadata": {
    "lines_to_next_cell": 0
   },
   "outputs": [],
   "source": [
    "# If the assert statement did not raise an exception, the results are equal.\n",
    "assert torch.allclose(img.data, img_manual)"
   ]
  },
  {
   "cell_type": "markdown",
   "id": "34",
   "metadata": {},
   "source": [
    "### Next steps\n",
    "We can also reconstruct undeersampled data: You can replace the filename above to use a dataset with fewer spokes to\n",
    "try it out.\\\n",
    "If you want to see how to include a regularization term in the optimization problem,\n",
    "see the example in <project:iterative_sense_reconstruction_with_regularization.ipynb>."
   ]
  },
  {
   "cell_type": "code",
   "execution_count": null,
   "id": "35",
   "metadata": {},
   "outputs": [],
   "source": []
  }
 ],
 "metadata": {
  "accelerator": "GPU",
  "colab": {
   "gpuType": "T4",
   "provenance": []
  },
  "jupytext": {
   "cell_metadata_filter": "tags,-all"
  },
  "kernelspec": {
   "display_name": "Python 3 (ipykernel)",
   "language": "python",
   "name": "python3"
  }
 },
 "nbformat": 4,
 "nbformat_minor": 5
}
