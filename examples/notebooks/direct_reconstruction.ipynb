{
 "cells": [
  {
   "cell_type": "markdown",
   "id": "0",
   "metadata": {
    "lines_to_next_cell": 0
   },
   "source": [
    "[![Open In Colab](https://colab.research.google.com/assets/colab-badge.svg)](https://colab.research.google.com/github/PTB-MR/mrpro/blob/main/examples/notebooks/direct_reconstruction.ipynb)"
   ]
  },
  {
   "cell_type": "code",
   "execution_count": null,
   "id": "1",
   "metadata": {
    "tags": [
     "remove-cell"
    ]
   },
   "outputs": [],
   "source": [
    "import importlib\n",
    "\n",
    "if not importlib.util.find_spec('mrpro'):\n",
    "    %pip install mrpro[notebooks]"
   ]
  },
  {
   "cell_type": "markdown",
   "id": "2",
   "metadata": {},
   "source": [
    "# Direct reconstruction of 2D golden angle radial data\n",
    "Here we use the `~mrpro.algorithms.reconstruction.DirectReconstruction` class to perform a basic reconstruction of\n",
    "2D radial data.\n",
    "A *direct* reconstruction uses the density compensated adjoint of the acquisition operator to obtain the images."
   ]
  },
  {
   "cell_type": "markdown",
   "id": "3",
   "metadata": {},
   "source": [
    "## Using `~mrpro.algorithms.reconstruction.DirectReconstruction`\n",
    "We use the `~mrpro.algorithms.reconstruction.DirectReconstruction` class to reconstruct images from 2D radial data.\n",
    "`~mrpro.algorithms.reconstruction.DirectReconstruction` estimates sensitivity maps, density compensation factors, etc.\n",
    "and performs an adjoint Fourier transform.\n",
    "This the simplest reconstruction method in our high-level interface to the reconstruction pipeline."
   ]
  },
  {
   "cell_type": "markdown",
   "id": "4",
   "metadata": {},
   "source": [
    "### Load the data\n",
    "We load in the Data from the ISMRMRD file. We want use the trajectory that is stored also stored the ISMRMRD file.\n",
    "This can be done by passing a `~mrpro.data.traj_calculators.KTrajectoryIsmrmrd` object to\n",
    "`~mrpro.data.KData.from_file` when loading creating the `~mrpro.data.KData`."
   ]
  },
  {
   "cell_type": "code",
   "execution_count": null,
   "id": "5",
   "metadata": {
    "mystnb": {
     "code_prompt_show": "Show download details"
    },
    "tags": [
     "hide-cell"
    ]
   },
   "outputs": [],
   "source": [
    "# Download raw data from Zenodo\n",
    "import tempfile\n",
    "from pathlib import Path\n",
    "\n",
    "import zenodo_get\n",
    "\n",
    "tmp = tempfile.TemporaryDirectory()  # RAII, automatically cleaned up\n",
    "data_folder = Path(tmp.name)\n",
    "zenodo_get.download(record='14617082', retry_attempts=5, output_dir=data_folder)"
   ]
  },
  {
   "cell_type": "code",
   "execution_count": null,
   "id": "6",
   "metadata": {},
   "outputs": [],
   "source": [
    "import mrpro\n",
    "import torch\n",
    "\n",
    "trajectory_calculator = mrpro.data.traj_calculators.KTrajectoryIsmrmrd()\n",
    "kdata = mrpro.data.KData.from_file(data_folder / 'radial2D_402spokes_golden_angle_with_traj.h5', trajectory_calculator)"
   ]
  },
  {
   "cell_type": "markdown",
   "id": "7",
   "metadata": {},
   "source": [
    "## Setup the DirectReconstruction instance\n",
    "We create a `~mrpro.algorithms.reconstruction.DirectReconstruction` and supply ``kdata``.\n",
    "`~mrpro.algorithms.reconstruction.DirectReconstruction` uses the information in ``kdata`` to\n",
    " setup a Fourier transfrm, density compensation factors, and estimate coil sensitivity maps.\n",
    "(See the *Behind the scenes* section for more details.)\n",
    "\n",
    "```{note}\n",
    "You can also directly set the Fourier operator, coil sensitivity maps, density compensation factors, etc.\n",
    "of the reconstruction instance.\n",
    "```"
   ]
  },
  {
   "cell_type": "code",
   "execution_count": null,
   "id": "8",
   "metadata": {},
   "outputs": [],
   "source": [
    "reconstruction = mrpro.algorithms.reconstruction.DirectReconstruction(kdata)"
   ]
  },
  {
   "cell_type": "markdown",
   "id": "9",
   "metadata": {},
   "source": [
    "## Perform the reconstruction\n",
    "The reconstruction is performed by calling the passing the k-space data.\n",
    "```{note}\n",
    "Often, the data used to obtain the meta data for constructing the reconstruction instance\n",
    "is the same as the data passed to the reconstruction.\n",
    "But you can also different to create the coil sensitivity maps, dcf, etc.\n",
    "than the data that is passed to the reconstruction.\n",
    "```"
   ]
  },
  {
   "cell_type": "code",
   "execution_count": null,
   "id": "10",
   "metadata": {},
   "outputs": [],
   "source": [
    "img = reconstruction(kdata)"
   ]
  },
  {
   "cell_type": "markdown",
   "id": "11",
   "metadata": {},
   "source": [
    "### Display the reconstructed image\n",
    "We now got in `~mrpro.data.IData` object containing a header and the image tensor.\n",
    "We display the reconstructed image using matplotlib."
   ]
  },
  {
   "cell_type": "code",
   "execution_count": null,
   "id": "12",
   "metadata": {},
   "outputs": [],
   "source": [
    "import matplotlib.pyplot as plt\n",
    "\n",
    "# If there are multiple slices, ..., only the first one is selected\n",
    "first_img = img.rss()[0, 0]  #  images, z, y, x\n",
    "plt.imshow(first_img, cmap='gray')\n",
    "plt.axis('off')\n",
    "plt.show()"
   ]
  },
  {
   "cell_type": "markdown",
   "id": "13",
   "metadata": {},
   "source": [
    "## Behind the scenes\n",
    "We now peek behind the scenes to see what happens in the `~mrpro.algorithms.reconstruction.DirectReconstruction`\n",
    "class, and perform all steps manually:\n",
    "- Calculate density compensation factors\n",
    "- Setup Fourier operator\n",
    "- Obtain coil-wise images\n",
    "- Calculate coil sensitivity maps\n",
    "- Perform direct reconstruction\n",
    "\n",
    "### Calculate density compensation using the trajectory\n",
    "We use a Voronoi tessellation of the trajectory to calculate the `~mrpro.data.DcfData` and obtain\n",
    "a `~mrpro.operators.DensityCompensationOp` operator."
   ]
  },
  {
   "cell_type": "code",
   "execution_count": null,
   "id": "14",
   "metadata": {},
   "outputs": [],
   "source": [
    "dcf_operator = mrpro.data.DcfData.from_traj_voronoi(kdata.traj).as_operator()"
   ]
  },
  {
   "cell_type": "markdown",
   "id": "15",
   "metadata": {},
   "source": [
    "### Setup Fourier Operator\n",
    "Next, we create the Fourier operator. We can just pass the ``kdata`` object to the constructor of the\n",
    "`~mrpro.operators.FourierOp`, and the trajectory and header information is used to create the operator. We want the\n",
    "to use the adjoint density compensated Fourier operator, so we perform a composition with ``dcf_operator``\n",
    "and use the `~mrpro.operators.FourierOp.H` property of the operator to obtain its adjoint."
   ]
  },
  {
   "cell_type": "code",
   "execution_count": null,
   "id": "16",
   "metadata": {},
   "outputs": [],
   "source": [
    "fourier_operator = dcf_operator @ mrpro.operators.FourierOp.from_kdata(kdata)\n",
    "adjoint_operator = fourier_operator.H"
   ]
  },
  {
   "cell_type": "markdown",
   "id": "17",
   "metadata": {},
   "source": [
    "### Calculate coil sensitivity maps\n",
    "Coil sensitivity maps are calculated using the walsh method (See `~mrpro.data.CsmData` for other available methods).\n",
    "We first need to calculate the coil-wise images, which are then used to calculate the coil sensitivity maps."
   ]
  },
  {
   "cell_type": "code",
   "execution_count": null,
   "id": "18",
   "metadata": {},
   "outputs": [],
   "source": [
    "img_coilwise = mrpro.data.IData.from_tensor_and_kheader(*adjoint_operator(kdata.data), kdata.header)\n",
    "csm_operator = mrpro.data.CsmData.from_idata_walsh(img_coilwise).as_operator()"
   ]
  },
  {
   "cell_type": "markdown",
   "id": "19",
   "metadata": {},
   "source": [
    "### Perform Direct Reconstruction\n",
    "Finally, the direct reconstruction is performed and an `~mrpro.data.IData` object with the reconstructed\n",
    "image is returned. We update the ``adjoint_operator`` to also include the coil sensitivity maps, thus\n",
    "performing the coil combination."
   ]
  },
  {
   "cell_type": "code",
   "execution_count": null,
   "id": "20",
   "metadata": {},
   "outputs": [],
   "source": [
    "adjoint_operator = (fourier_operator @ csm_operator).H\n",
    "img_manual = mrpro.data.IData.from_tensor_and_kheader(*adjoint_operator(kdata.data), kdata.header)"
   ]
  },
  {
   "cell_type": "markdown",
   "id": "21",
   "metadata": {},
   "source": [
    "## Further behind the scenes\n",
    "There is also a even more manual way to perform the direct reconstruction. We can set up the Fourier operator by\n",
    "passing the trajectory and matrix sizes."
   ]
  },
  {
   "cell_type": "code",
   "execution_count": null,
   "id": "22",
   "metadata": {
    "lines_to_next_cell": 0
   },
   "outputs": [],
   "source": [
    "fourier_operator = mrpro.operators.FourierOp(\n",
    "    recon_matrix=kdata.header.recon_matrix,\n",
    "    encoding_matrix=kdata.header.encoding_matrix,\n",
    "    traj=kdata.traj,\n",
    ")"
   ]
  },
  {
   "cell_type": "markdown",
   "id": "23",
   "metadata": {},
   "source": [
    "We can call one of the algorithms in `mrpro.algorithms.dcf` to calculate the density compensation factors."
   ]
  },
  {
   "cell_type": "code",
   "execution_count": null,
   "id": "24",
   "metadata": {},
   "outputs": [],
   "source": [
    "kykx = torch.stack((kdata.traj.ky[0, 0], kdata.traj.kx[0, 0]))\n",
    "dcf_tensor = mrpro.algorithms.dcf.dcf_2d3d_voronoi(kykx)"
   ]
  },
  {
   "cell_type": "markdown",
   "id": "25",
   "metadata": {},
   "source": [
    "We use these DCFs to weight the k-space data before performing the adjoint Fourier transform. We can also call\n",
    "`~mrpro.operators.FourierOp.adjoint` on the Fourier operator instead of obtaining an adjoint operator."
   ]
  },
  {
   "cell_type": "code",
   "execution_count": null,
   "id": "26",
   "metadata": {},
   "outputs": [],
   "source": [
    "(img_tensor_coilwise,) = fourier_operator.adjoint(dcf_tensor * kdata.data)"
   ]
  },
  {
   "cell_type": "markdown",
   "id": "27",
   "metadata": {},
   "source": [
    "Next, we calculate the coil sensitivity maps by using one of the algorithms in `mrpro.algorithms.csm` and set\n",
    "up a `~mrpro.operators.SensitivityOp` operator."
   ]
  },
  {
   "cell_type": "code",
   "execution_count": null,
   "id": "28",
   "metadata": {},
   "outputs": [],
   "source": [
    "csm_data = mrpro.algorithms.csm.walsh(img_tensor_coilwise[0], smoothing_width=5)\n",
    "csm_operator = mrpro.operators.SensitivityOp(csm_data)"
   ]
  },
  {
   "cell_type": "markdown",
   "id": "29",
   "metadata": {},
   "source": [
    "Finally, we perform the coil combination of the coil-wise images and obtain final images."
   ]
  },
  {
   "cell_type": "code",
   "execution_count": null,
   "id": "30",
   "metadata": {},
   "outputs": [],
   "source": [
    "(img_tensor_coilcombined,) = csm_operator.adjoint(img_tensor_coilwise)\n",
    "img_more_manual = mrpro.data.IData.from_tensor_and_kheader(img_tensor_coilcombined, kdata.header)"
   ]
  },
  {
   "cell_type": "markdown",
   "id": "31",
   "metadata": {},
   "source": [
    "### Check for equal results\n",
    "The 3 versions result should in the same image data."
   ]
  },
  {
   "cell_type": "code",
   "execution_count": null,
   "id": "32",
   "metadata": {
    "lines_to_next_cell": 2
   },
   "outputs": [],
   "source": [
    "# If the assert statement did not raise an exception, the results are equal.\n",
    "torch.testing.assert_close(img.data, img_manual.data)\n",
    "torch.testing.assert_close(img.data, img_more_manual.data, atol=1e-4, rtol=1e-4)"
   ]
  },
  {
   "cell_type": "markdown",
   "id": "33",
   "metadata": {
    "lines_to_next_cell": 0
   },
   "source": [
    "Faster DCF"
   ]
  },
  {
   "cell_type": "code",
   "execution_count": null,
   "id": "34",
   "metadata": {},
   "outputs": [],
   "source": [
    "from mrpro.data import KTrajectory\n",
    "from mrpro.operators import FourierOp\n",
    "\n",
    "\n",
    "def estimate_dcf(trajectory: KTrajectory, fourier_op: FourierOp, max_iter: int = 0) -> torch.Tensor:\n",
    "    \"\"\"Estimate the density compensation factors for a given trajectory.\n",
    "\n",
    "    Uses the Jackson or Pipe method to estimate the density of an arbitrary set of points.\n",
    "    If max_iter is set to 0, the Jackson method is used. Otherwise, the Pipe method is used.\n",
    "\n",
    "    Parameters\n",
    "    ----------\n",
    "    trajectory\n",
    "        Shap  `(*other, 2 or 3, k2, k1, k0)`\n",
    "    fourier_op\n",
    "        The Fourier operator\n",
    "    max_iter\n",
    "        The number of iterations to use for the Pipe method. If set to 0, the Jackson method is used.\n",
    "\n",
    "    Returns\n",
    "    -------\n",
    "    density estimate\n",
    "\n",
    "    References\n",
    "    ----------\n",
    "      .. [1] Jackson, J.I., Meyer, C.H., Nishimura, D.G. and Macovski, A. (1991),\n",
    "        Selection of a convolution function for Fourier inversion using gridding\n",
    "        (computerized tomography application). IEEE Transactions on Medical\n",
    "        Imaging, 10(3): 473-478. https://doi.org/10.1109/42.97598\n",
    "      .. [2] Pipe, J.G. and Menon, P. (1999), Sampling density compensation in\n",
    "        MRI: Rationale and an iterative numerical solution. Magn. Reson. Med.,\n",
    "        41: 179-186. https://doi.org/10.1002/(SICI)1522-2594(199901)41:1<179::AID-MRM25>3.0.CO;2-V\n",
    "    \"\"\"\n",
    "    ones = torch.ones(trajectory.broadcasted_shape, dtype=torch.complex64).unsqueeze(-4)\n",
    "    if fourier_op._non_uniform_fast_fourier_op is None:\n",
    "        # cartesian\n",
    "        return ones\n",
    "    op = fourier_op._non_uniform_fast_fourier_op @ fourier_op._non_uniform_fast_fourier_op.H\n",
    "    weight = op(ones)[0].reciprocal().nan_to_num()\n",
    "    for _ in range(max_iter):\n",
    "        weight *= op(weight)[0].reciprocal().nan_to_num()\n",
    "    return weight.abs().squeeze(-4)"
   ]
  },
  {
   "cell_type": "code",
   "execution_count": null,
   "id": "35",
   "metadata": {
    "lines_to_next_cell": 0
   },
   "outputs": [],
   "source": [
    "fourier_operator = mrpro.operators.FourierOp.from_kdata(kdata)\n",
    "dcf_operator2 = mrpro.data.DcfData(estimate_dcf(kdata.traj, fourier_operator)).as_operator()\n",
    "adjoint1 = (dcf_operator @ fourier_operator @ csm_operator).H\n",
    "adjoint2 = (dcf_operator2 @ fourier_operator @ csm_operator).H\n",
    "(img1,) = adjoint1(kdata.data)\n",
    "(img2,) = adjoint2(kdata.data)\n",
    "\n",
    "plt.matshow(img1.abs()[0, 0, 0], cmap='gray')\n",
    "plt.title('DCFs from Voronoi')\n",
    "plt.colorbar()\n",
    "plt.matshow(img2.abs()[0, 0, 0], cmap='gray')\n",
    "plt.title('DCFs from estimate_dcf')\n",
    "plt.colorbar()"
   ]
  },
  {
   "cell_type": "code",
   "execution_count": null,
   "id": "36",
   "metadata": {},
   "outputs": [],
   "source": []
  }
 ],
 "metadata": {
  "accelerator": "GPU",
  "colab": {
   "gpuType": "T4",
   "provenance": []
  },
  "jupytext": {
   "cell_metadata_filter": "mystnb,tags,-all"
  },
  "kernelspec": {
   "display_name": "Python 3 (ipykernel)",
   "language": "python",
   "name": "python3"
  }
 },
 "nbformat": 4,
 "nbformat_minor": 5
}
