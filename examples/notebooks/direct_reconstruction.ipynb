{
 "cells": [
  {
   "cell_type": "markdown",
   "id": "0",
   "metadata": {
    "lines_to_next_cell": 0
   },
   "source": [
    "[![Open In Colab](https://colab.research.google.com/assets/colab-badge.svg)](https://colab.research.google.com/github/PTB-MR/mrpro/blob/main/examples/notebooks/direct_reconstruction.ipynb)"
   ]
  },
  {
   "cell_type": "code",
   "execution_count": null,
   "id": "1",
   "metadata": {
    "tags": [
     "remove-cell"
    ]
   },
   "outputs": [],
   "source": [
    "import importlib\n",
    "\n",
    "if not importlib.util.find_spec('mrpro'):\n",
    "    %pip install mrpro"
   ]
  },
  {
   "cell_type": "markdown",
   "id": "2",
   "metadata": {
    "lines_to_next_cell": 0
   },
   "source": [
    "# Direct Reconstruction of 2D golden angle radial data\n",
    "Here we use the DirectReconstruction class to reconstruct images from ISMRMRD 2D radial data"
   ]
  },
  {
   "cell_type": "code",
   "execution_count": null,
   "id": "3",
   "metadata": {
    "tags": [
     "hide-cell"
    ]
   },
   "outputs": [],
   "source": [
    "# Download raw data from Zenodo\n",
    "import tempfile\n",
    "from pathlib import Path\n",
    "\n",
    "import mrpro.algorithms.dcf\n",
    "import zenodo_get\n",
    "\n",
    "dataset = '14617082'\n",
    "\n",
    "tmp = tempfile.TemporaryDirectory()  # RAII, automatically cleaned up\n",
    "data_folder = Path(tmp.name)\n",
    "zenodo_get.zenodo_get([dataset, '-r', 5, '-o', data_folder])  # r: retries"
   ]
  },
  {
   "cell_type": "markdown",
   "id": "4",
   "metadata": {},
   "source": [
    "## Image reconstruction\n",
    "We use the `mrpro.algorithms.reconstruction.DirectReconstruction` class to reconstruct images from 2D radial data.\n",
    "`~mrpro.algorithms.reconstruction.DirectReconstruction` estimates CSMs, DCFs,\n",
    "and performs an adjoint Fourier transform.\n",
    "This the simplest reconstruction method in our high-level interface to the reconstruction pipeline."
   ]
  },
  {
   "cell_type": "code",
   "execution_count": null,
   "id": "5",
   "metadata": {},
   "outputs": [],
   "source": [
    "import mrpro\n",
    "import torch"
   ]
  },
  {
   "cell_type": "markdown",
   "id": "6",
   "metadata": {},
   "source": [
    "### Load the data\n",
    "We load in the Data from the ISMRMRD file. We want use the trajectory that is stored also stored the ISMRMRD file.\n",
    "This can be done by passing a `~mrpro.data.traj_calculators.KTrajectoryIsmrmrd` object to\n",
    "`~mrpro.data.KData.from_file` when loading creating the `~mrpro.data.KData`."
   ]
  },
  {
   "cell_type": "code",
   "execution_count": null,
   "id": "7",
   "metadata": {},
   "outputs": [],
   "source": [
    "trajectory_calculator = mrpro.data.traj_calculators.KTrajectoryIsmrmrd()\n",
    "kdata = mrpro.data.KData.from_file(data_folder / 'radial2D_402spokes_golden_angle_with_traj.h5', trajectory_calculator)"
   ]
  },
  {
   "cell_type": "markdown",
   "id": "8",
   "metadata": {},
   "source": [
    "## Setup the DirectReconstruction instance\n",
    "We create a `~mrpro.algorithms.reconstruction.DirectReconstruction` and supply ``kdata``.\n",
    "`~mrpro.algorithms.reconstruction.DirectReconstruction` uses the information in `kdata` to\n",
    " setup a Fourier transfrm, density compensation factors, and estimate coil sensitivity maps.\n",
    "(See the *Behind the scenes* section for more details.)\n",
    "\n",
    "```{note}\n",
    "You can also directly set the Fourier operator, coil sensitivity maps, dcf, etc. of the reconstruction instance.\n",
    "```"
   ]
  },
  {
   "cell_type": "code",
   "execution_count": null,
   "id": "9",
   "metadata": {},
   "outputs": [],
   "source": [
    "reconstruction = mrpro.algorithms.reconstruction.DirectReconstruction(kdata)"
   ]
  },
  {
   "cell_type": "markdown",
   "id": "10",
   "metadata": {},
   "source": [
    "All reconstruction algorithms in mrpro are implemented as PyTorch modules and can be moved to the GPU.\n",
    "In general, both the data and the reconstruction module must be moved to the same device."
   ]
  },
  {
   "cell_type": "code",
   "execution_count": null,
   "id": "11",
   "metadata": {},
   "outputs": [],
   "source": [
    "if torch.cuda.is_available():\n",
    "    # Move the data to the GPU if available\n",
    "    reconstruction = reconstruction.cuda()\n",
    "    kdata = kdata.cuda()"
   ]
  },
  {
   "cell_type": "markdown",
   "id": "12",
   "metadata": {},
   "source": [
    "## Perform the reconstruction\n",
    "The reconstruction is performed by calling the passing the k-space data.\n",
    "```{note}\n",
    "Often, the data used to obtain the meta data for constructing the reconstruction instance\n",
    "is the same as the data passed to the reconstruction.\n",
    "But you can also different to create the coil sensitivity maps, dcf, etc.\n",
    "than the data that is passed to the reconstruction.\n",
    "```"
   ]
  },
  {
   "cell_type": "code",
   "execution_count": null,
   "id": "13",
   "metadata": {},
   "outputs": [],
   "source": [
    "img = reconstruction(kdata)"
   ]
  },
  {
   "cell_type": "markdown",
   "id": "14",
   "metadata": {},
   "source": [
    "### Display the reconstructed image\n",
    "We now got in `mrpro.data.IData` object containing a header and the image tensor.\n",
    "We display the reconstructed image using matplotlib."
   ]
  },
  {
   "cell_type": "code",
   "execution_count": null,
   "id": "15",
   "metadata": {},
   "outputs": [],
   "source": [
    "import matplotlib.pyplot as plt\n",
    "\n",
    "# If there are multiple slices, ..., only the first one is selected\n",
    "first_img = img.rss().cpu()[0, 0]  #  images, z, y, x\n",
    "plt.imshow(first_img, cmap='gray')\n",
    "plt.axis('off')\n",
    "plt.show()"
   ]
  },
  {
   "cell_type": "markdown",
   "id": "16",
   "metadata": {
    "lines_to_next_cell": 0
   },
   "source": [
    "## Behind the scenes\n",
    "These steps are done in a direct reconstruction:\n",
    "\n",
    "### Calculate dcf using the trajectory\n",
    "The density compensation factors are calculated using the voronoi method."
   ]
  },
  {
   "cell_type": "code",
   "execution_count": null,
   "id": "17",
   "metadata": {},
   "outputs": [],
   "source": [
    "dcf_operator = mrpro.data.DcfData.from_traj_voronoi(kdata.traj).as_operator()"
   ]
  },
  {
   "cell_type": "markdown",
   "id": "18",
   "metadata": {},
   "source": [
    "### Setup Fourier Operetor\n",
    "The Fourier operator is created using the trajectory and header information in kdata."
   ]
  },
  {
   "cell_type": "code",
   "execution_count": null,
   "id": "19",
   "metadata": {},
   "outputs": [],
   "source": [
    "fourier_operator = dcf_operator @ mrpro.operators.FourierOp.from_kdata(kdata)\n",
    "adjoint_operator = fourier_operator.H"
   ]
  },
  {
   "cell_type": "markdown",
   "id": "20",
   "metadata": {},
   "source": [
    "### Calculate coil sensitivity maps\n",
    "Coil sensitivity maps are calculated using the walsh method."
   ]
  },
  {
   "cell_type": "code",
   "execution_count": null,
   "id": "21",
   "metadata": {},
   "outputs": [],
   "source": [
    "img_coilwise = mrpro.data.IData.from_tensor_and_kheader(*adjoint_operator(kdata.data), kdata.header)\n",
    "csm_operator = mrpro.data.CsmData.from_idata_walsh(img_coilwise).as_operator()"
   ]
  },
  {
   "cell_type": "markdown",
   "id": "22",
   "metadata": {
    "lines_to_next_cell": 0
   },
   "source": [
    "### Perform Direct Reconstruction\n",
    "Finally, the direct reconstruction is performed and an `mrpro.data.IData` object with the reconstructed\n",
    "image is returned."
   ]
  },
  {
   "cell_type": "code",
   "execution_count": null,
   "id": "23",
   "metadata": {},
   "outputs": [],
   "source": [
    "adjoint_operator = (fourier_operator @ csm_operator).H\n",
    "\n",
    "img_manual = mrpro.data.IData.from_tensor_and_kheader(*adjoint_operator(kdata.data), kdata.header)"
   ]
  },
  {
   "cell_type": "markdown",
   "id": "24",
   "metadata": {},
   "source": [
    "## Further behind the scenes\n",
    "... these steps are equivalent to:"
   ]
  },
  {
   "cell_type": "code",
   "execution_count": null,
   "id": "25",
   "metadata": {
    "lines_to_next_cell": 0
   },
   "outputs": [],
   "source": [
    "# Define Fourier operator manually\n",
    "fourier_operator = mrpro.operators.FourierOp(\n",
    "    recon_matrix=kdata.header.recon_matrix,\n",
    "    encoding_matrix=kdata.header.encoding_matrix,\n",
    "    traj=kdata.traj,\n",
    ")\n",
    "\n",
    "# Calculate 2D dcf from the trajectory using the voronoi method\n",
    "kykx = torch.stack((kdata.traj.ky[0, 0], kdata.traj.kx[0, 0]))\n",
    "dcf_tensor = mrpro.algorithms.dcf.dcf_2d3d_voronoi(kykx)\n",
    "\n",
    "# Perform density compensated adjoint Fourier transform\n",
    "(img_tensor_coilwise,) = (fourier_operator.H * dcf_tensor)(kdata.data)\n",
    "\n",
    "# Calculate and apply coil maps\n",
    "csm_data = mrpro.algorithms.csm.walsh(img_tensor_coilwise[0], smoothing_width=5)\n",
    "csm_operator = mrpro.operators.SensitivityOp(csm_data)\n",
    "(img_tensor_coilcombined,) = csm_operator.adjoint(img_tensor_coilwise)\n",
    "img_more_manual = mrpro.data.IData.from_tensor_and_kheader(img_tensor_coilcombined, kdata.header)"
   ]
  },
  {
   "cell_type": "markdown",
   "id": "26",
   "metadata": {
    "lines_to_next_cell": 0
   },
   "source": [
    "### Check for equal results\n",
    "The 3 versions result should in the same image data."
   ]
  },
  {
   "cell_type": "code",
   "execution_count": null,
   "id": "27",
   "metadata": {},
   "outputs": [],
   "source": [
    "# If the assert statement did not raise an exception, the results are equal.\n",
    "assert torch.allclose(img.data, img_manual.data)\n",
    "assert torch.allclose(img.data, img_more_manual.data)"
   ]
  }
 ],
 "metadata": {
  "accelerator": "GPU",
  "colab": {
   "gpuType": "T4",
   "provenance": []
  },
  "jupytext": {
   "cell_metadata_filter": "tags,-all"
  },
  "kernelspec": {
   "display_name": "Python 3 (ipykernel)",
   "language": "python",
   "name": "python3"
  }
 },
 "nbformat": 4,
 "nbformat_minor": 5
}
