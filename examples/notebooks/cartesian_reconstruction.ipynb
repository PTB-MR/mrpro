{
 "cells": [
  {
   "cell_type": "markdown",
   "id": "0",
   "metadata": {
    "lines_to_next_cell": 0
   },
   "source": [
    "[![Open In Colab](https://colab.research.google.com/assets/colab-badge.svg)](https://colab.research.google.com/github/PTB-MR/mrpro/blob/main/examples/notebooks/cartesian_reconstruction.ipynb)"
   ]
  },
  {
   "cell_type": "code",
   "execution_count": null,
   "id": "1",
   "metadata": {
    "tags": [
     "remove-cell"
    ]
   },
   "outputs": [],
   "source": [
    "import importlib\n",
    "\n",
    "if not importlib.util.find_spec('mrpro'):\n",
    "    %pip install mrpro[notebook]"
   ]
  },
  {
   "cell_type": "markdown",
   "id": "2",
   "metadata": {},
   "source": [
    "# Basics of MRpro and Cartesian Reconstructions\n",
    "Here, we are going to have a look at a few basics of MRpro and reconstruct data acquired with a Cartesian sampling\n",
    "pattern."
   ]
  },
  {
   "cell_type": "markdown",
   "id": "3",
   "metadata": {},
   "source": [
    "## Overview\n",
    "\n",
    "In this notebook, we are going to explore the MRpro KData object and the included header parameters. We will then use\n",
    "a FFT-operator in order to reconstruct data acquired with a Cartesian sampling scheme. We will also reconstruct data\n",
    "acquired on a Cartesian grid but with partial echo and partial Fourier acceleration. Finally, we will reconstruct a\n",
    "Cartesian scan with regular undersampling using iterative SENSE."
   ]
  },
  {
   "cell_type": "markdown",
   "id": "4",
   "metadata": {},
   "source": [
    "## Import MRpro and download data"
   ]
  },
  {
   "cell_type": "code",
   "execution_count": null,
   "id": "5",
   "metadata": {},
   "outputs": [],
   "source": [
    "# Get the raw data from zenodo\n",
    "import tempfile\n",
    "from pathlib import Path\n",
    "\n",
    "import zenodo_get\n",
    "\n",
    "data_folder = Path(tempfile.mkdtemp())\n",
    "dataset = '14173489'\n",
    "zenodo_get.zenodo_get([dataset, '-r', 5, '-o', data_folder])  # r: retries"
   ]
  },
  {
   "cell_type": "code",
   "execution_count": null,
   "id": "6",
   "metadata": {},
   "outputs": [],
   "source": [
    "# List the downloaded files\n",
    "for f in data_folder.iterdir():\n",
    "    print(f.name)"
   ]
  },
  {
   "cell_type": "markdown",
   "id": "7",
   "metadata": {
    "lines_to_next_cell": 2
   },
   "source": [
    "We have three different scans obtained from the same object with the same FOV and resolution:\n",
    "\n",
    "- cart_t1.mrd is a fully sampled Cartesian acquisition\n",
    "\n",
    "- cart_t1_msense_integrated.mrd is accelerated using regular undersampling and self-calibrated SENSE\n",
    "\n",
    "- cart_t1_partial_echo_partial_fourier.mrd is accelerated using partial echo and partial Fourier"
   ]
  },
  {
   "cell_type": "markdown",
   "id": "8",
   "metadata": {},
   "source": [
    "## Read in raw data and explore header\n",
    "\n",
    "To read in an ISMRMRD raw data file (*.mrd), we can simply pass on the file name to a `KData` object.\n",
    "Additionally, we need to provide information about the trajectory. In MRpro, this is done using trajectory\n",
    "calculators. These are functions that calculate the trajectory based on the acquisition information and additional\n",
    "parameters provided to the calculators (e.g. the angular step for a radial acquisition).\n",
    "\n",
    "In this case, we have a Cartesian acquisition. This means that we only need to provide a Cartesian trajectory\n",
    "calculator (called `KTrajectoryCartesian` in MRpro) without any further parameters."
   ]
  },
  {
   "cell_type": "code",
   "execution_count": null,
   "id": "9",
   "metadata": {},
   "outputs": [],
   "source": [
    "from mrpro.data import KData\n",
    "from mrpro.data.traj_calculators import KTrajectoryCartesian\n",
    "\n",
    "kdata = KData.from_file(data_folder / 'cart_t1.mrd', KTrajectoryCartesian())"
   ]
  },
  {
   "cell_type": "markdown",
   "id": "10",
   "metadata": {},
   "source": [
    "Now we can explore this data object."
   ]
  },
  {
   "cell_type": "code",
   "execution_count": null,
   "id": "11",
   "metadata": {},
   "outputs": [],
   "source": [
    "# Start with simply calling print(kdata), whichs gives us a nice overview of the KData object.\n",
    "print(kdata)"
   ]
  },
  {
   "cell_type": "code",
   "execution_count": null,
   "id": "12",
   "metadata": {},
   "outputs": [],
   "source": [
    "# We can also have a look at more specific header information like the 1H Lamor frequency\n",
    "print(kdata.header.lamor_frequency_proton)"
   ]
  },
  {
   "cell_type": "markdown",
   "id": "13",
   "metadata": {},
   "source": [
    "## Reconstruction of fully sampled acquisition\n",
    "\n",
    "For the reconstruction of a fully sampled Cartesian acquisition, we can use a simple Fast Fourier Transform (FFT).\n",
    "\n",
    "Let's create an FFT-operator (called `FastFourierOp` in MRpro) and apply it to our `KData` object. Please note that\n",
    "all MRpro operators currently only work on PyTorch tensors and not on the MRpro objects directly. Therefore, we have\n",
    "to call the operator on kdata.data. One other important feature of MRpro operators is that they always return a\n",
    "tuple of PyTorch tensors, even if the output is only a single tensor. This is why we use the `(img,)` syntax below."
   ]
  },
  {
   "cell_type": "code",
   "execution_count": null,
   "id": "14",
   "metadata": {},
   "outputs": [],
   "source": [
    "from mrpro.operators import FastFourierOp\n",
    "\n",
    "fft_op = FastFourierOp(dim=(-2, -1))\n",
    "(img,) = fft_op.adjoint(kdata.data)"
   ]
  },
  {
   "cell_type": "markdown",
   "id": "15",
   "metadata": {},
   "source": [
    "Let's have a look at the shape of the obtained tensor."
   ]
  },
  {
   "cell_type": "code",
   "execution_count": null,
   "id": "16",
   "metadata": {},
   "outputs": [],
   "source": [
    "print(img.shape)"
   ]
  },
  {
   "cell_type": "markdown",
   "id": "17",
   "metadata": {},
   "source": [
    "We can see that the second dimension, which is the coil dimension, is 16. This means we still have a coil resolved\n",
    "dataset (i.e. one image for each coil element). We can use a simply root-sum-of-squares approach to combine them into\n",
    "one. Later, we will do something a bit more sophisticated. We can also see that the x-dimension is 512. This is\n",
    "because in MRI we commonly oversample the readout direction by a factor 2 leading to a FOV twice as large as we\n",
    "actually need. We can either remove this oversampling along the readout direction or we can simply tell the\n",
    "`FastFourierOp` to crop the image by providing the correct output matrix size (recon_matrix)."
   ]
  },
  {
   "cell_type": "code",
   "execution_count": null,
   "id": "18",
   "metadata": {},
   "outputs": [],
   "source": [
    "# Create FFT-operator with correct output matrix size\n",
    "fft_op = FastFourierOp(\n",
    "    dim=(-2, -1),\n",
    "    recon_matrix=kdata.header.recon_matrix,\n",
    "    encoding_matrix=kdata.header.encoding_matrix,\n",
    ")\n",
    "\n",
    "(img,) = fft_op.adjoint(kdata.data)\n",
    "print(img.shape)"
   ]
  },
  {
   "cell_type": "markdown",
   "id": "19",
   "metadata": {},
   "source": [
    "Now, we have an image which is 256 x 256 voxel as we would expect. Let's combine the data from the different receiver\n",
    "coils using root-sum-of-squares and then display the image. Note that we usually index from behind in MRpro\n",
    "(i.e. -1 for the last, -4 for the fourth last (coil) dimension) to allow for more than one 'other' dimension."
   ]
  },
  {
   "cell_type": "code",
   "execution_count": null,
   "id": "20",
   "metadata": {},
   "outputs": [],
   "source": [
    "import matplotlib.pyplot as plt\n",
    "import torch\n",
    "\n",
    "# Combine data from different coils\n",
    "img_fully_sampled = torch.sqrt(torch.sum(img**2, dim=-4)).abs().squeeze()\n",
    "\n",
    "# plot the image\n",
    "plt.imshow(img_fully_sampled)"
   ]
  },
  {
   "cell_type": "markdown",
   "id": "21",
   "metadata": {},
   "source": [
    "Great! That was very easy! Let's try to reconstruct the next dataset."
   ]
  },
  {
   "cell_type": "markdown",
   "id": "22",
   "metadata": {},
   "source": [
    "## Reconstruction of acquisition with partial echo and partial Fourier"
   ]
  },
  {
   "cell_type": "code",
   "execution_count": null,
   "id": "23",
   "metadata": {
    "lines_to_next_cell": 2
   },
   "outputs": [],
   "source": [
    "# Read in the data\n",
    "kdata_pe_pf = KData.from_file(data_folder / 'cart_t1_partial_echo_partial_fourier.mrd', KTrajectoryCartesian())\n",
    "\n",
    "# Create FFT-operator with correct output matrix size\n",
    "fft_op = FastFourierOp(\n",
    "    dim=(-2, -1),\n",
    "    recon_matrix=kdata.header.recon_matrix,\n",
    "    encoding_matrix=kdata.header.encoding_matrix,\n",
    ")\n",
    "\n",
    "# Reconstruct coil resolved image(s)\n",
    "(img_pe_pf,) = fft_op.adjoint(kdata_pe_pf.data)\n",
    "\n",
    "# Combine data from different coils using root-sum-of-squares\n",
    "img_pe_pf = torch.sqrt(torch.sum(img_pe_pf**2, dim=-4)).abs().squeeze()\n",
    "\n",
    "# Plot both images\n",
    "fig, ax = plt.subplots(1, 2, squeeze=False)\n",
    "ax[0, 0].imshow(img_fully_sampled)\n",
    "ax[0, 1].imshow(img_pe_pf)"
   ]
  },
  {
   "cell_type": "markdown",
   "id": "24",
   "metadata": {
    "lines_to_next_cell": 2
   },
   "source": [
    "Well, we got an image, but when we compare it to the previous result, it seems like the head has shrunk.\n",
    "Since that's extremely unlikely, there's probably a mistake in our reconstruction.\n",
    "\n",
    "Let's step back and check out the trajectories for both scans."
   ]
  },
  {
   "cell_type": "code",
   "execution_count": null,
   "id": "25",
   "metadata": {},
   "outputs": [],
   "source": [
    "print(kdata.traj)"
   ]
  },
  {
   "cell_type": "markdown",
   "id": "26",
   "metadata": {
    "lines_to_next_cell": 2
   },
   "source": [
    "We see that the trajectory has kz, ky, and kx components. Kx and ky only vary along one dimension.\n",
    "This is because MRpro saves the trajectory in the most efficient way.\n",
    "To get the full trajectory as a tensor, we can just call as_tensor()."
   ]
  },
  {
   "cell_type": "code",
   "execution_count": null,
   "id": "27",
   "metadata": {},
   "outputs": [],
   "source": [
    "# Plot the fully sampled trajectory (in blue)\n",
    "plt.plot(kdata.traj.as_tensor()[2, 0, 0, :, :].flatten(), kdata.traj.as_tensor()[1, 0, 0, :, :].flatten(), 'ob')\n",
    "\n",
    "# Plot the partial echo and partial Fourier trajectory (in red)\n",
    "plt.plot(\n",
    "    kdata_pe_pf.traj.as_tensor()[2, 0, 0, :, :].flatten(), kdata_pe_pf.traj.as_tensor()[1, 0, 0, :, :].flatten(), '+r'\n",
    ")"
   ]
  },
  {
   "cell_type": "markdown",
   "id": "28",
   "metadata": {},
   "source": [
    "We see that for the fully sampled acquisition, the k-space is covered symmetrically from -256 to 255 along the\n",
    "readout direction and from -128 to 127 along the phase encoding direction. For the acquisition with partial Fourier\n",
    "and partial echo acceleration, this is of course not the case and the k-space is asymmetrical.\n",
    "\n",
    "Our FFT-operator does not know about this and simply assumes that the acquisition is symmetric and any difference\n",
    "between encoding and recon matrix needs to be zero-padded symmetrically.\n",
    "\n",
    "To take the asymmetric acquisition into account and sort the data correctly into a matrix where we can apply the\n",
    "FFT-operator to, we have got the `CartesianSamplingOp` in MRpro. This operator calculates a sorting index based on the\n",
    "k-space trajectory and the dimensions of the encoding k-space.\n",
    "\n",
    "Let's try it out!"
   ]
  },
  {
   "cell_type": "code",
   "execution_count": null,
   "id": "29",
   "metadata": {},
   "outputs": [],
   "source": [
    "from mrpro.operators import CartesianSamplingOp\n",
    "\n",
    "cart_sampling_op = CartesianSamplingOp(encoding_matrix=kdata_pe_pf.header.encoding_matrix, traj=kdata_pe_pf.traj)"
   ]
  },
  {
   "cell_type": "markdown",
   "id": "30",
   "metadata": {},
   "source": [
    "Now, we first apply the CartesianSamplingOp and then call the FFT-operator."
   ]
  },
  {
   "cell_type": "code",
   "execution_count": null,
   "id": "31",
   "metadata": {},
   "outputs": [],
   "source": [
    "(img_pe_pf,) = fft_op.adjoint(cart_sampling_op.adjoint(kdata_pe_pf.data)[0])\n",
    "img_pe_pf = torch.sqrt(torch.sum(img_pe_pf**2, dim=-4)).abs().squeeze()\n",
    "\n",
    "fig, ax = plt.subplots(1, 2, squeeze=False)\n",
    "ax[0, 0].imshow(img_fully_sampled)\n",
    "ax[0, 1].imshow(img_pe_pf)"
   ]
  },
  {
   "cell_type": "markdown",
   "id": "32",
   "metadata": {
    "lines_to_next_cell": 0
   },
   "source": []
  },
  {
   "cell_type": "markdown",
   "id": "33",
   "metadata": {
    "lines_to_next_cell": 2
   },
   "source": [
    "Voila! We've got the same brains, and they're the same size!\n",
    "\n",
    "But wait a second—something still looks a bit off. In the bottom left corner, it seems like there's a \"hole\"\n",
    "in the brain. That definitely shouldn't be there.\n",
    "\n",
    "The issue is that we combined the data from the different coils using a root-sum-of-squares approach.\n",
    "While it's simple, it's not the ideal method. Typically, coil sensitivity maps are calculated to combine the data\n",
    "from different coils. In MRpro, you can do this by calculating coil sensitivity data and then creating a\n",
    "`SensitivityOp` to combine the data after image reconstruction."
   ]
  },
  {
   "cell_type": "markdown",
   "id": "34",
   "metadata": {},
   "source": [
    "We have different options for calculating coil sensitivity maps from the image data of the various coils.\n",
    "Here, we're going to use the Walsh method."
   ]
  },
  {
   "cell_type": "code",
   "execution_count": null,
   "id": "35",
   "metadata": {},
   "outputs": [],
   "source": [
    "from mrpro.algorithms.csm import walsh\n",
    "from mrpro.operators import SensitivityOp\n",
    "\n",
    "# Calculate coil sensitivity maps\n",
    "(img_pe_pf,) = fft_op.adjoint(cart_sampling_op.adjoint(kdata_pe_pf.data)[0])\n",
    "\n",
    "# This algorithms is designed to calculate coil sensitivity maps for each other dimension.\n",
    "csm_data = walsh(img_pe_pf[0, ...], smoothing_width=5)[None, ...]\n",
    "\n",
    "# Create SensitivityOp\n",
    "csm_op = SensitivityOp(csm_data)\n",
    "\n",
    "# Reconstruct coil-combined image\n",
    "(img_pe_pf,) = csm_op.adjoint(fft_op.adjoint(cart_sampling_op.adjoint(kdata_pe_pf.data)[0])[0])\n",
    "img_pe_pf = img_pe_pf.abs().squeeze()\n",
    "\n",
    "fig, ax = plt.subplots(1, 2, squeeze=False)\n",
    "ax[0, 0].imshow(img_fully_sampled)\n",
    "ax[0, 1].imshow(img_pe_pf.squeeze())"
   ]
  },
  {
   "cell_type": "markdown",
   "id": "36",
   "metadata": {},
   "source": [
    "Tada! The \"hole\" is gone, and the image looks much better.\n",
    "\n",
    "When we reconstructed the image, we called the adjoint method of several different operators one after the other. That\n",
    "was a bit cumbersome. To make our life easier, MRpro allows to combine the operators first and then call the adjoint\n",
    "of the composite operator. We have to keep in mind that we have to put them in the order of the forward method of the\n",
    "operators. By calling the adjoint, the order will be automatically reversed."
   ]
  },
  {
   "cell_type": "code",
   "execution_count": null,
   "id": "37",
   "metadata": {},
   "outputs": [],
   "source": [
    "# Create composite operator\n",
    "acq_op = cart_sampling_op @ fft_op @ csm_op\n",
    "(img_pe_pf,) = acq_op.adjoint(kdata_pe_pf.data)\n",
    "img_pe_pf = img_pe_pf.abs().squeeze()\n",
    "\n",
    "fig, ax = plt.subplots(1, 2, squeeze=False)\n",
    "ax[0, 0].imshow(img_fully_sampled)\n",
    "ax[0, 1].imshow(img_pe_pf)"
   ]
  },
  {
   "cell_type": "markdown",
   "id": "38",
   "metadata": {},
   "source": [
    "Although we now have got a nice looking image, it was still a bit cumbersome to create it. We had to define several\n",
    "different operators and chain them together. Wouldn't it be nice if this could be done automatically?\n",
    "\n",
    "That is why we also included some top-level reconstruction algorithms in MRpro. For this whole steps from above,\n",
    "we can simply call a `DirectReconstruction`. A `DirectReconstruction` object can be created from only the information\n",
    "in the `KData` object.\n",
    "\n",
    "In contrast to operators, top-level reconstruction algorithms operate on the data objects of MRpro, i.e. the input is\n",
    "a `KData` object and the output is an image data (called `IData` in MRpro) object. To get the tensor content of the\n",
    "`IData` object, we can call its `rss` method."
   ]
  },
  {
   "cell_type": "code",
   "execution_count": null,
   "id": "39",
   "metadata": {},
   "outputs": [],
   "source": [
    "from mrpro.algorithms.reconstruction import DirectReconstruction\n",
    "\n",
    "# Create DirectReconstruction object from KData object\n",
    "direct_recon_pe_pf = DirectReconstruction(kdata_pe_pf)\n",
    "\n",
    "# Reconstruct image by calling the DirectReconstruction object\n",
    "idat_pe_pf = direct_recon_pe_pf(kdata_pe_pf)\n",
    "\n",
    "fig, ax = plt.subplots(1, 2, squeeze=False)\n",
    "ax[0, 0].imshow(img_fully_sampled)\n",
    "ax[0, 1].imshow(idat_pe_pf.rss().squeeze())"
   ]
  },
  {
   "cell_type": "markdown",
   "id": "40",
   "metadata": {
    "lines_to_next_cell": 2
   },
   "source": [
    "This is much simpler — everything happens in the background, so we don't have to worry about it.\n",
    "Let's try it on the undersampled dataset now."
   ]
  },
  {
   "cell_type": "markdown",
   "id": "41",
   "metadata": {},
   "source": [
    "## Reconstruction of undersampled data"
   ]
  },
  {
   "cell_type": "code",
   "execution_count": null,
   "id": "42",
   "metadata": {},
   "outputs": [],
   "source": [
    "kdata_us = KData.from_file(data_folder / 'cart_t1_msense_integrated.mrd', KTrajectoryCartesian())\n",
    "direct_recon_us = DirectReconstruction(kdata_us)\n",
    "idat_us = direct_recon_us(kdata_us)\n",
    "\n",
    "fig, ax = plt.subplots(1, 2, squeeze=False)\n",
    "ax[0, 0].imshow(img_fully_sampled)\n",
    "ax[0, 1].imshow(idat_us.rss().squeeze())"
   ]
  },
  {
   "cell_type": "markdown",
   "id": "43",
   "metadata": {},
   "source": [
    "As expected, we can see undersampling artifacts in the image. In order to get rid of them, we can use an iterative\n",
    "SENSE algorithm. As you might have guessed, this is also included in MRpro.\n",
    "\n",
    "Similarly to the `DirectReconstruction`, we can create an `IterativeSENSEReconstruction` and apply it to the\n",
    "undersampled data.\n",
    "\n",
    "One important thing to keep in mind is that this only works if the coil maps that we use do not have any\n",
    "undersampling artifacts. Commonly, we would get them from a fully sampled self-calibration reference lines in the\n",
    "center of k-space or a separate coil sensitivity scan.\n",
    "\n",
    "As a first step, we are going to assume that we have got a nice fully sampled reference scan like our partial echo and\n",
    "partial Fourier acquisition. We can get the `CsmData`, which is needed for the `IterativeSENSEReconstruction`, from\n",
    "the previous reconstruction."
   ]
  },
  {
   "cell_type": "code",
   "execution_count": null,
   "id": "44",
   "metadata": {},
   "outputs": [],
   "source": [
    "from mrpro.algorithms.reconstruction import IterativeSENSEReconstruction\n",
    "\n",
    "it_sense_recon = IterativeSENSEReconstruction(kdata=kdata_us, csm=direct_recon_pe_pf.csm)\n",
    "idat_us = it_sense_recon(kdata_us)\n",
    "\n",
    "fig, ax = plt.subplots(1, 2, squeeze=False)\n",
    "ax[0, 0].imshow(img_fully_sampled)\n",
    "ax[0, 1].imshow(idat_us.rss().squeeze())"
   ]
  },
  {
   "cell_type": "markdown",
   "id": "45",
   "metadata": {},
   "source": [
    "That worked well, but in practice, we don't want to acquire a fully sampled version of our scan just to\n",
    "reconstruct it. A more efficient approach is to get a few self-calibration lines in the center of k-space\n",
    "to create a low-resolution, fully sampled image.\n",
    "\n",
    "In our scan, these lines are part of the dataset, but they aren't used for image reconstruction since\n",
    "they're only meant for calibration (i.e., coil sensitivity map calculation). Because they're not labeled\n",
    "for imaging, MRpro ignores them by default when reading the data. However, we can set a flag when calling\n",
    "`from_file` to read in just those lines for reconstructing the coil sensitivity maps."
   ]
  },
  {
   "cell_type": "code",
   "execution_count": null,
   "id": "46",
   "metadata": {},
   "outputs": [],
   "source": [
    "from mrpro.data.acq_filters import is_coil_calibration_acquisition\n",
    "\n",
    "kdata_calib_lines = KData.from_file(\n",
    "    data_folder / 'cart_t1_msense_integrated.mrd',\n",
    "    KTrajectoryCartesian(),\n",
    "    acquisition_filter_criterion=lambda acq: is_coil_calibration_acquisition(acq),\n",
    ")\n",
    "\n",
    "direct_recon_calib_lines = DirectReconstruction(kdata_calib_lines)\n",
    "im_calib_lines = direct_recon_calib_lines(kdata_calib_lines)\n",
    "\n",
    "plt.imshow(im_calib_lines.rss().squeeze())"
   ]
  },
  {
   "cell_type": "markdown",
   "id": "47",
   "metadata": {},
   "source": [
    "Although this only yields a low-resolution image, it is good enough to calculate coil sensitivity maps."
   ]
  },
  {
   "cell_type": "code",
   "execution_count": null,
   "id": "48",
   "metadata": {},
   "outputs": [],
   "source": [
    "# Visualize coil sensitivity maps of all 16 coils\n",
    "assert direct_recon_calib_lines.csm is not None  # needed for type checking\n",
    "fig, ax = plt.subplots(4, 4, squeeze=False)\n",
    "for idx, cax in enumerate(ax.flatten()):\n",
    "    cax.imshow(direct_recon_calib_lines.csm.data[0, idx, 0, ...].abs())"
   ]
  },
  {
   "cell_type": "markdown",
   "id": "49",
   "metadata": {},
   "source": [
    "Now, we can use these coil sensitivity maps to reconstruct our SENSE scan."
   ]
  },
  {
   "cell_type": "code",
   "execution_count": null,
   "id": "50",
   "metadata": {},
   "outputs": [],
   "source": [
    "it_sense_recon = IterativeSENSEReconstruction(kdata_us, csm=direct_recon_calib_lines.csm)\n",
    "idat_us = it_sense_recon(kdata_us)\n",
    "\n",
    "fig, ax = plt.subplots(1, 2, squeeze=False)\n",
    "ax[0, 0].imshow(img_fully_sampled)\n",
    "ax[0, 1].imshow(idat_us.rss().squeeze())"
   ]
  },
  {
   "cell_type": "markdown",
   "id": "51",
   "metadata": {
    "lines_to_next_cell": 0
   },
   "source": []
  },
  {
   "cell_type": "markdown",
   "id": "52",
   "metadata": {},
   "source": [
    "The final image is a little worse (nothing beats fully sampled high-resolution scans for coil map\n",
    "calculation), but we've managed to get rid of the undersampling artifacts inside the brain. If you want to\n",
    "further improve the coil sensitivity map quality, try:\n",
    "- using different methods to calculate them, e.g. `mrpro.algorithms.csm.inati`\n",
    "- playing around with the parameters of these methods\n",
    "- applying a smoothing filter on the images (or ideally directly in k-space) used to calculate the coil\n",
    "  sensitivity maps"
   ]
  }
 ],
 "metadata": {
  "accelerator": "GPU",
  "colab": {
   "gpuType": "T4",
   "provenance": []
  },
  "jupytext": {
   "cell_metadata_filter": "-all"
  },
  "kernelspec": {
   "display_name": "Python 3 (ipykernel)",
   "language": "python",
   "name": "python3"
  }
 },
 "nbformat": 4,
 "nbformat_minor": 5
}
