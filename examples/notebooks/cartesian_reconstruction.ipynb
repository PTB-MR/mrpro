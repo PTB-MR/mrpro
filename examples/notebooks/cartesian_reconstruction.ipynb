{
 "cells": [
  {
   "cell_type": "markdown",
   "id": "0",
   "metadata": {
    "lines_to_next_cell": 0
   },
   "source": [
    "[![Open In Colab](https://colab.research.google.com/assets/colab-badge.svg)](https://colab.research.google.com/github/PTB-MR/mrpro/blob/main/examples/notebooks/cartesian_reconstruction.ipynb)"
   ]
  },
  {
   "cell_type": "code",
   "execution_count": null,
   "id": "1",
   "metadata": {
    "tags": [
     "remove-cell"
    ]
   },
   "outputs": [],
   "source": [
    "import importlib\n",
    "\n",
    "if not importlib.util.find_spec('mrpro'):\n",
    "    %pip install mrpro"
   ]
  },
  {
   "cell_type": "markdown",
   "id": "2",
   "metadata": {
    "lines_to_next_cell": 0
   },
   "source": [
    "# Basics of MRpro and Cartesian Reconstructions\n",
    "Here, we are going to have a look at a few basics of MRpro and reconstruct data acquired with a Cartesian sampling\n",
    "pattern."
   ]
  },
  {
   "cell_type": "markdown",
   "id": "3",
   "metadata": {
    "lines_to_next_cell": 2
   },
   "source": [
    "## Overview\n",
    "In this notebook, we are going to explore the `mrpro.data.KData` object and the included header parameters.\n",
    "We will then use a FFT-operator in order to reconstruct data acquired with a Cartesian sampling scheme.\n",
    "We will also reconstruct data  acquired on a Cartesian grid but with partial echo and partial Fourier acceleration.\n",
    "Finally, we will reconstruct a Cartesian scan with regular undersampling."
   ]
  },
  {
   "cell_type": "code",
   "execution_count": null,
   "id": "4",
   "metadata": {
    "tags": [
     "hide-cell"
    ]
   },
   "outputs": [],
   "source": [
    "# Get the raw data from zenodo\n",
    "import tempfile\n",
    "from pathlib import Path\n",
    "\n",
    "import zenodo_get\n",
    "\n",
    "dataset = '14173489'\n",
    "\n",
    "tmp = tempfile.TemporaryDirectory()  # RAII, automatically cleaned up\n",
    "data_folder = Path(tmp.name)\n",
    "zenodo_get.zenodo_get([dataset, '-r', 5, '-o', data_folder])  # r: retries"
   ]
  },
  {
   "cell_type": "markdown",
   "id": "5",
   "metadata": {
    "lines_to_next_cell": 2
   },
   "source": [
    "We have three different scans obtained from the same object with the same FOV and resolution, saved as ISMRMRD\n",
    "raw data files (``*.mrd`` or ``*.h5``):\n",
    "\n",
    "- ``cart_t1.mrd`` is a fully sampled Cartesian acquisition\n",
    "\n",
    "- ``cart_t1_msense_integrated.mrd`` is accelerated using regular undersampling and self-calibrated SENSE\n",
    "\n",
    "- ``cart_t1_partial_echo_partial_fourier.mrd`` is accelerated using partial echo and partial Fourier"
   ]
  },
  {
   "cell_type": "markdown",
   "id": "6",
   "metadata": {},
   "source": [
    "## Read in raw data and explore header\n",
    "\n",
    "To read in an ISMRMRD file, we can simply pass on the file name to a `mrpro.data.KData` object.\n",
    "Additionally, we need to provide information about the trajectory. In MRpro, this is done using trajectory\n",
    "calculators. These are functions that calculate the trajectory based on the acquisition information and additional\n",
    "parameters provided to the calculators (e.g. the angular step for a radial acquisition).\n",
    "\n",
    "In this case, we have a Cartesian acquisition. This means that we only need to provide a Cartesian trajectory\n",
    "calculator `~mrpro.data.traj_calculators.KTrajectoryCartesian` without any further parameters."
   ]
  },
  {
   "cell_type": "code",
   "execution_count": null,
   "id": "7",
   "metadata": {},
   "outputs": [],
   "source": [
    "import mrpro\n",
    "\n",
    "kdata = mrpro.data.KData.from_file(\n",
    "    data_folder / 'cart_t1.mrd',\n",
    "    mrpro.data.traj_calculators.KTrajectoryCartesian(),\n",
    ")"
   ]
  },
  {
   "cell_type": "markdown",
   "id": "8",
   "metadata": {},
   "source": [
    "Now we can explore this data object.\n",
    "Simply printing ``kdata`` gives us a basic overview of the `~mrpro.data.KData` object."
   ]
  },
  {
   "cell_type": "code",
   "execution_count": null,
   "id": "9",
   "metadata": {
    "lines_to_next_cell": 2,
    "tags": [
     "show-output"
    ]
   },
   "outputs": [],
   "source": [
    "print(kdata)"
   ]
  },
  {
   "cell_type": "markdown",
   "id": "10",
   "metadata": {},
   "source": [
    "We can also have a look at more specific header information like the 1H Lamor frequency"
   ]
  },
  {
   "cell_type": "code",
   "execution_count": null,
   "id": "11",
   "metadata": {},
   "outputs": [],
   "source": [
    "print('Lamor Frequency:', kdata.header.lamor_frequency_proton)"
   ]
  },
  {
   "cell_type": "markdown",
   "id": "12",
   "metadata": {},
   "source": [
    "## Reconstruction of fully sampled acquisition\n",
    "\n",
    "For the reconstruction of a fully sampled Cartesian acquisition, we can either use a general\n",
    "`~mrpro.operators.FourierOp` or manually set up a Fast Fourier Transform (FFT).\n",
    "For demonstration purposes, we first show the manual approach.\n",
    "\n",
    "```{note}\n",
    " Most of the time, you will use the `~mrpro.operators.FourierOp` operator, which automatically takes care\n",
    "of choosing  whether to use a FFT or a non-uniform FFT (NUFFT) based on the trajectory.\n",
    "It optionally can be created from a `~mrpro.data.KData` object without any further information.\n",
    "```\n",
    "\n",
    "Let's create an FFT-operator `mrpro.operators.FastFourierOp` and apply it to our `~mrpro.data.KData` object.\n",
    "Please note that all MRpro operator work on PyTorch tensors and not on the MRpro objects directly. Therefore, we have\n",
    "to call the operator on kdata.data. One other important property of MRpro operators is that they always return a\n",
    "tuple of PyTorch tensors, even if the output is only a single tensor. This is why we use the ``(img,)`` syntax below."
   ]
  },
  {
   "cell_type": "code",
   "execution_count": null,
   "id": "13",
   "metadata": {},
   "outputs": [],
   "source": [
    "fft_op = mrpro.operators.FastFourierOp(dim=(-2, -1))\n",
    "(img,) = fft_op.adjoint(kdata.data)"
   ]
  },
  {
   "cell_type": "markdown",
   "id": "14",
   "metadata": {},
   "source": [
    "Let's have a look at the shape of the obtained tensor."
   ]
  },
  {
   "cell_type": "code",
   "execution_count": null,
   "id": "15",
   "metadata": {},
   "outputs": [],
   "source": [
    "print('Shape:', img.shape)"
   ]
  },
  {
   "cell_type": "markdown",
   "id": "16",
   "metadata": {},
   "source": [
    "We can see that the second dimension, which is the coil dimension, is 16. This means we still have a coil resolved\n",
    "dataset (i.e. one image for each coil element). We can use a simply root-sum-of-squares approach to combine them into\n",
    "one. Later, we will do something a bit more sophisticated. We can also see that the x-dimension is 512. This is\n",
    "because in MRI we commonly oversample the readout direction by a factor 2 leading to a FOV twice as large as we\n",
    "actually need. We can either remove this oversampling along the readout direction or we can simply tell the\n",
    "`~mrpro.operatoers.FastFourierOp` to crop the image by providing the correct output matrix size ``recon_matrix``."
   ]
  },
  {
   "cell_type": "code",
   "execution_count": null,
   "id": "17",
   "metadata": {},
   "outputs": [],
   "source": [
    "# Create FFT-operator with correct output matrix size\n",
    "fft_op = mrpro.operators.FastFourierOp(\n",
    "    dim=(-2, -1),\n",
    "    recon_matrix=kdata.header.recon_matrix,\n",
    "    encoding_matrix=kdata.header.encoding_matrix,\n",
    ")\n",
    "\n",
    "(img,) = fft_op.adjoint(kdata.data)\n",
    "print('Shape:', img.shape)"
   ]
  },
  {
   "cell_type": "markdown",
   "id": "18",
   "metadata": {},
   "source": [
    "Now, we have an image which is 256 x 256 voxel as we would expect. Let's combine the data from the different receiver\n",
    "coils using root-sum-of-squares and then display the image. Note that we usually index from behind in MRpro\n",
    "(i.e. -1 for the last, -4 for the fourth last (coil) dimension) to allow for more than one 'other' dimension."
   ]
  },
  {
   "cell_type": "code",
   "execution_count": null,
   "id": "19",
   "metadata": {
    "tags": [
     "hide-cell"
    ]
   },
   "outputs": [],
   "source": [
    "import matplotlib.pyplot as plt\n",
    "import torch\n",
    "\n",
    "\n",
    "def show_images(*images: torch.Tensor, titles: list[str] | None = None) -> None:\n",
    "    \"\"\"Plot images.\"\"\"\n",
    "    n_images = len(images)\n",
    "    _, axes = plt.subplots(1, n_images, squeeze=False, figsize=(n_images * 3, 3))\n",
    "    for i in range(n_images):\n",
    "        axes[0][i].imshow(images[i], cmap='gray')\n",
    "        axes[0][i].axis('off')\n",
    "        if titles:\n",
    "            axes[0][i].set_title(titles[i])\n",
    "    plt.show()"
   ]
  },
  {
   "cell_type": "code",
   "execution_count": null,
   "id": "20",
   "metadata": {
    "lines_to_next_cell": 0
   },
   "outputs": [],
   "source": [
    "# Combine data from different coils and show magntiude image\n",
    "magnitude_fully_sampled = img.abs().square().sum(dim=-4).sqrt().squeeze()\n",
    "show_images(magnitude_fully_sampled)"
   ]
  },
  {
   "cell_type": "markdown",
   "id": "21",
   "metadata": {},
   "source": [
    "Great! That was very easy! Let's try to reconstruct the next dataset."
   ]
  },
  {
   "cell_type": "markdown",
   "id": "22",
   "metadata": {},
   "source": [
    "## Reconstruction of acquisition with partial echo and partial Fourier"
   ]
  },
  {
   "cell_type": "code",
   "execution_count": null,
   "id": "23",
   "metadata": {
    "inputHidden": true,
    "lines_to_next_cell": 0,
    "outputHidden": true,
    "tags": [
     "remove-output"
    ]
   },
   "outputs": [],
   "source": [
    "# Read in the data\n",
    "kdata_pe_pf = mrpro.data.KData.from_file(\n",
    "    data_folder / 'cart_t1_partial_echo_partial_fourier.mrd',\n",
    "    mrpro.data.traj_calculators.KTrajectoryCartesian(),\n",
    ")\n",
    "\n",
    "# Create FFT-operator with correct output matrix size\n",
    "fft_op = mrpro.operators.FastFourierOp(\n",
    "    dim=(-2, -1),\n",
    "    recon_matrix=kdata.header.recon_matrix,\n",
    "    encoding_matrix=kdata.header.encoding_matrix,\n",
    ")\n",
    "\n",
    "# Reconstruct coil resolved image(s)\n",
    "(img_pe_pf,) = fft_op.adjoint(kdata_pe_pf.data)\n",
    "\n",
    "# Combine data from different coils using root-sum-of-squares\n",
    "magnitude_pe_pf = img_pe_pf.abs().square().sum(dim=-4).sqrt().squeeze()\n",
    "\n",
    "\n",
    "# Plot both images\n",
    "show_images(magnitude_fully_sampled, magnitude_pe_pf, titles=['fully sampled', 'PF & PE'])"
   ]
  },
  {
   "cell_type": "markdown",
   "id": "24",
   "metadata": {},
   "source": [
    "Well, we got an image, but when we compare it to the previous result, it seems like the head has shrunk.\n",
    "Since that's extremely unlikely, there's probably a mistake in our reconstruction.\n",
    "\n",
    "Let's step back and check out the trajectories for both scans."
   ]
  },
  {
   "cell_type": "code",
   "execution_count": null,
   "id": "25",
   "metadata": {},
   "outputs": [],
   "source": [
    "print(kdata.traj)"
   ]
  },
  {
   "cell_type": "markdown",
   "id": "26",
   "metadata": {},
   "source": [
    "We see that the trajectory has ``kz``, ``ky``, and ``kx`` components. ``kx`` and ``ky`` only vary along one dimension.\n",
    "```{note}\n",
    "This is because MRpro saves meta data such as trajectories in an efficient way, where dimensions in which the data\n",
    "does not change are often collapsed. The original shape can be obtained by\n",
    "[broadcasting](https://numpy.org/doc/stable/user/basics.broadcasting.html).\n",
    "```\n",
    "To get the full trajectory as a tensor, we can also just call `~mrpro.data.KTrajectory.as_tensor()`:"
   ]
  },
  {
   "cell_type": "code",
   "execution_count": null,
   "id": "27",
   "metadata": {
    "lines_to_next_cell": 0
   },
   "outputs": [],
   "source": [
    "# Plot the fully sampled trajectory (in blue)\n",
    "full_kz, full_ky, full_kx = kdata.traj.as_tensor()\n",
    "plt.plot(full_ky[0, 0].flatten(), full_kx[0, 0].flatten(), 'ob')\n",
    "\n",
    "# Plot the partial echo and partial Fourier trajectory (in red)\n",
    "full_kz, full_ky, full_kx = kdata_pe_pf.traj.as_tensor()\n",
    "plt.plot(full_ky[0, 0].flatten(), full_kx[0, 0].flatten(), '+r')\n",
    "\n",
    "plt.show()"
   ]
  },
  {
   "cell_type": "markdown",
   "id": "28",
   "metadata": {},
   "source": [
    "We see that for the fully sampled acquisition, the k-space is covered symmetrically from -256 to 255 along the\n",
    "readout direction and from -128 to 127 along the phase encoding direction. For the acquisition with partial Fourier\n",
    "and partial echo acceleration, this is of course not the case and the k-space is asymmetrical.\n",
    "\n",
    "Our FFT-operator does not know about this and simply assumes that the acquisition is symmetric and any difference\n",
    "between encoding and recon matrix needs to be zero-padded symmetrically.\n",
    "\n",
    "To take the asymmetric acquisition into account and sort the data correctly into a matrix where we can apply the\n",
    "FFT-operator to, we have got the `~mrpro.operators.CartesianSamplingOp` in MRpro. This operator performs\n",
    "sorting based on the k-space trajectory and the dimensions of the encoding k-space.\n",
    "\n",
    "Let's try it out!"
   ]
  },
  {
   "cell_type": "code",
   "execution_count": null,
   "id": "29",
   "metadata": {},
   "outputs": [],
   "source": [
    "cart_sampling_op = mrpro.operators.CartesianSamplingOp(\n",
    "    encoding_matrix=kdata_pe_pf.header.encoding_matrix, traj=kdata_pe_pf.traj\n",
    ")"
   ]
  },
  {
   "cell_type": "markdown",
   "id": "30",
   "metadata": {},
   "source": [
    "Now, we first apply the adjoint CartesianSamplingOp and then call the adjoint FFT-operator."
   ]
  },
  {
   "cell_type": "code",
   "execution_count": null,
   "id": "31",
   "metadata": {},
   "outputs": [],
   "source": [
    "(img_pe_pf,) = fft_op.adjoint(cart_sampling_op.adjoint(kdata_pe_pf.data)[0])\n",
    "magnitude_pe_pf = img_pe_pf.abs().square().sum(dim=-4).sqrt().squeeze()\n",
    "\n",
    "show_images(magnitude_fully_sampled, magnitude_pe_pf, titles=['fully sampled', 'PF & PE'])"
   ]
  },
  {
   "cell_type": "markdown",
   "id": "32",
   "metadata": {},
   "source": [
    "Voila! We've got the same brains, and they're the same size!"
   ]
  },
  {
   "cell_type": "markdown",
   "id": "33",
   "metadata": {},
   "source": [
    "## More about operators\n",
    "### The Fourier Operator\n",
    "In MRpro, we have a smart `~mrpro.operators.FourierOp` operator, that automatically does the resorting and can\n",
    "handle non-cartesian data as well. For cartesian data, it internally does exactly the two steps we just did manually.\n",
    "The operator can be also be created from an existing `~mrpro.data.KData` object\n",
    "This is the recommended way to transform k-space data."
   ]
  },
  {
   "cell_type": "code",
   "execution_count": null,
   "id": "34",
   "metadata": {},
   "outputs": [],
   "source": [
    "\n",
    "fourier_op = mrpro.operators.FourierOp.from_kdata(kdata_pe_pf)\n",
    "# no need for and explicit CartesianSamplingOp anymore!\n",
    "(img_pe_pf,) = fourier_op.adjoint(kdata_pe_pf.data)\n",
    "magnitude_pe_pf = img_pe_pf.abs().square().sum(dim=-4).sqrt().squeeze()\n",
    "show_images(magnitude_fully_sampled, magnitude_pe_pf, titles=['fully sampled', 'PF & PE'])"
   ]
  },
  {
   "cell_type": "markdown",
   "id": "35",
   "metadata": {
    "lines_to_next_cell": 2
   },
   "source": [
    "That was easy!\n",
    "But wait a second — something still looks a bit off. In the bottom left corner, it seems like there's a \"hole\"\n",
    "in the brain. That definitely shouldn't be there.\n",
    "\n",
    "The issue is that we combined the data from the different coils using a root-sum-of-squares approach.\n",
    "While it's simple, it's not the ideal method. Typically, coil sensitivity maps are calculated to combine the data\n",
    "from different coils. In MRpro, you can do this by calculating coil sensitivity data and then creating a\n",
    "`mrpro.operators.SensitivityOp` to combine the data after image reconstruction."
   ]
  },
  {
   "cell_type": "markdown",
   "id": "36",
   "metadata": {},
   "source": [
    "### Sensitivity Operator\n",
    "We have different options for calculating coil sensitivity maps from the image data of the various coils.\n",
    "Here, we're going to use the Walsh method."
   ]
  },
  {
   "cell_type": "code",
   "execution_count": null,
   "id": "37",
   "metadata": {
    "lines_to_next_cell": 2
   },
   "outputs": [],
   "source": [
    "# Calculate coil sensitivity maps\n",
    "(img_pe_pf,) = fft_op.adjoint(*cart_sampling_op.adjoint(kdata_pe_pf.data))\n",
    "\n",
    "# This algorithms is designed to calculate coil sensitivity maps for each other dimension.\n",
    "csm_data = mrpro.algorithms.csm.walsh(img_pe_pf[0, ...], smoothing_width=5)[None, ...]\n",
    "\n",
    "# Create SensitivityOp\n",
    "csm_op = mrpro.operators.SensitivityOp(csm_data)\n",
    "\n",
    "# Reconstruct coil-combined image\n",
    "(img_walsh_combined,) = csm_op.adjoint(*fourier_op.adjoint(kdata_pe_pf.data))\n",
    "magnitude_walsh_combined = img_walsh_combined.abs().squeeze()\n",
    "show_images(magnitude_pe_pf, magnitude_walsh_combined, titles=['RSS', 'Adaptive Combination'])"
   ]
  },
  {
   "cell_type": "markdown",
   "id": "38",
   "metadata": {},
   "source": [
    "Tada! The \"hole\" is gone, and the image looks much better 🎉.\n",
    "\n",
    "When we reconstructed the image, we called the adjoint method of several different operators one after the other. That\n",
    "was a bit cumbersome. To make our life easier, MRpro allows to combine the operators first, get the adjoint\n",
    "of the composite operator and then later call this adjoint composite operator."
   ]
  },
  {
   "cell_type": "code",
   "execution_count": null,
   "id": "39",
   "metadata": {},
   "outputs": [],
   "source": [
    "### Operator Composition\n",
    "# Create composite operator\n",
    "adjoint_operator = (fourier_op @ csm_op).H\n",
    "(magnitude_pe_pf,) = adjoint_operator(kdata_pe_pf.data)\n",
    "magnitude_pe_pf = magnitude_pe_pf.abs().squeeze()\n",
    "show_images(magnitude_pe_pf, titles=['PF & PE'])"
   ]
  },
  {
   "cell_type": "markdown",
   "id": "40",
   "metadata": {},
   "source": [
    "Although we now have got a nice looking image, it was still a bit cumbersome to create it. We had to define several\n",
    "different operators and chain them together. Wouldn't it be nice if this could be done automatically?\n",
    "\n",
    "That is why we also included some top-level reconstruction algorithms in MRpro. For this whole steps from above,\n",
    "we can simply use a `mrpro.algorithnms.reconstruction.DirectReconstruction`.\n",
    "Reconstruction algorithms can be instantiated from only the information in the `~mrpro.data.KData` object.\n",
    "\n",
    "In contrast to operators, top-level reconstruction algorithms operate on the data objects of MRpro, i.e. the input is\n",
    "a `~mrpro.data.KData` object and the output is an `~mrpro.data.IData` object containing\n",
    "the reconstructed image data. To get its magnitude, we can call the `~mrpro.data.IData.rss` method."
   ]
  },
  {
   "cell_type": "code",
   "execution_count": null,
   "id": "41",
   "metadata": {
    "lines_to_next_cell": 2
   },
   "outputs": [],
   "source": [
    "\n",
    "# Create DirectReconstruction object from KData object\n",
    "direct_recon_pe_pf = mrpro.algorithms.reconstruction.DirectReconstruction(kdata_pe_pf)\n",
    "\n",
    "# Reconstruct image by calling the DirectReconstruction object\n",
    "idat_pe_pf = direct_recon_pe_pf(kdata_pe_pf)"
   ]
  },
  {
   "cell_type": "markdown",
   "id": "42",
   "metadata": {
    "lines_to_next_cell": 2
   },
   "source": [
    "This is much simpler — everything happens in the background, so we don't have to worry about it.\n",
    "Let's finally try it on the undersampled dataset now."
   ]
  },
  {
   "cell_type": "markdown",
   "id": "43",
   "metadata": {},
   "source": [
    "## Reconstruction of undersampled data"
   ]
  },
  {
   "cell_type": "code",
   "execution_count": null,
   "id": "44",
   "metadata": {},
   "outputs": [],
   "source": [
    "kdata_us = mrpro.data.KData.from_file(\n",
    "    data_folder / 'cart_t1_msense_integrated.mrd',\n",
    "    mrpro.data.traj_calculators.KTrajectoryCartesian(),\n",
    ")\n",
    "direct_recon_us = mrpro.algorithms.reconstruction.DirectReconstruction(kdata_us)\n",
    "idat_us = direct_recon_us(kdata_us)\n",
    "\n",
    "show_images(idat_pe_pf.rss().squeeze(), idat_us.rss().squeeze(), titles=['PE & PF', 'Undersampled'])"
   ]
  },
  {
   "cell_type": "markdown",
   "id": "45",
   "metadata": {},
   "source": [
    "As expected, we can see undersampling artifacts in the image. In order to get rid of them,\n",
    "we try can a more sophiisticated reconstruction method, such as the iterative SENSE algorithm.\n",
    "As you might have guessed, these are also included in MRpro:\n",
    "Instead of the `~mrpro.algorithms.reconstruction.DirectReconstruction`,\n",
    "we can use `mrpro.algorithms.reconstruction.IterativeSENSEReconstruction`, which is explained in\n",
    "the example <project:iterative_sense_reconstruction.ipynb>."
   ]
  },
  {
   "cell_type": "code",
   "execution_count": null,
   "id": "46",
   "metadata": {},
   "outputs": [],
   "source": []
  }
 ],
 "metadata": {
  "accelerator": "GPU",
  "colab": {
   "gpuType": "T4",
   "provenance": []
  },
  "jupytext": {
   "cell_metadata_filter": "tags,-all"
  },
  "kernelspec": {
   "display_name": "Python 3 (ipykernel)",
   "language": "python",
   "name": "python3"
  }
 },
 "nbformat": 4,
 "nbformat_minor": 5
}
