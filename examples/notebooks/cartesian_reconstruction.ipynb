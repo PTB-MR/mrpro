{
 "cells": [
  {
   "cell_type": "markdown",
   "id": "7105cbe6",
   "metadata": {
    "lines_to_next_cell": 0
   },
   "source": [
    "[![Open In Colab](https://colab.research.google.com/assets/colab-badge.svg)](https://colab.research.google.com/github/PTB-MR/mrpro/blob/main/examples/notebooks/cartesian_reconstruction.ipynb)"
   ]
  },
  {
   "cell_type": "code",
   "execution_count": null,
   "id": "d2842721",
   "metadata": {
    "tags": [
     "remove-cell"
    ]
   },
   "outputs": [],
   "source": [
    "import importlib\n",
    "\n",
    "if not importlib.util.find_spec('mrpro'):\n",
    "    %pip install mrpro"
   ]
  },
  {
   "cell_type": "markdown",
   "id": "65023252",
   "metadata": {
    "lines_to_next_cell": 0
   },
   "source": [
    "# Basics of MRpro and Cartesian Reconstructions\n",
    "Here, we are going to have a look at a few basics of MRpro and reconstruct data acquired with a Cartesian sampling\n",
    "pattern."
   ]
  },
  {
   "cell_type": "markdown",
   "id": "90e9b0ba",
   "metadata": {
    "lines_to_next_cell": 2
   },
   "source": [
    "## Overview\n",
    "In this notebook, we are going to explore the `mrpro.data.KData` object and the included header parameters.\n",
    "We will then use a FFT-operator in order to reconstruct data acquired with a Cartesian sampling scheme.\n",
    "We will also reconstruct data  acquired on a Cartesian grid but with partial echo and partial Fourier acceleration.\n",
    "Finally, we will reconstruct a Cartesian scan with regular undersampling using iterative SENSE."
   ]
  },
  {
   "cell_type": "code",
   "execution_count": null,
   "id": "041bfd39",
   "metadata": {
    "tags": [
     "hide-cell"
    ]
   },
   "outputs": [],
   "source": [
    "# Get the raw data from zenodo\n",
    "import tempfile\n",
    "from pathlib import Path\n",
    "\n",
    "import zenodo_get\n",
    "\n",
    "data_folder = Path(tempfile.mkdtemp())\n",
    "dataset = '14173489'\n",
    "zenodo_get.zenodo_get([dataset, '-r', 5, '-o', data_folder])  # r: retries"
   ]
  },
  {
   "cell_type": "markdown",
   "id": "4f274d9e",
   "metadata": {
    "lines_to_next_cell": 2
   },
   "source": [
    "We have three different scans obtained from the same object with the same FOV and resolution, saved as ISMRMRD\n",
    "raw data files (``*.mrd`` or ``*.h5``):\n",
    "\n",
    "- ``cart_t1.mrd`` is a fully sampled Cartesian acquisition\n",
    "\n",
    "- ``cart_t1_msense_integrated.mrd`` is accelerated using regular undersampling and self-calibrated SENSE\n",
    "\n",
    "- ``cart_t1_partial_echo_partial_fourier.mrd`` is accelerated using partial echo and partial Fourier"
   ]
  },
  {
   "cell_type": "markdown",
   "id": "dd9efd80",
   "metadata": {},
   "source": [
    "## Read in raw data and explore header\n",
    "\n",
    "To read in an ISMRMRD file, we can simply pass on the file name to a `~mrpro.data.KData` object.\n",
    "Additionally, we need to provide information about the trajectory. In MRpro, this is done using trajectory\n",
    "calculators. These are functions that calculate the trajectory based on the acquisition information and additional\n",
    "parameters provided to the calculators (e.g. the angular step for a radial acquisition).\n",
    "\n",
    "In this case, we have a Cartesian acquisition. This means that we only need to provide a Cartesian trajectory\n",
    "calculator `~mrpro.data.traj_calculators.KTrajectoryCartesian` without any further parameters."
   ]
  },
  {
   "cell_type": "code",
   "execution_count": null,
   "id": "2cd911fb",
   "metadata": {},
   "outputs": [],
   "source": [
    "from mrpro.data import KData\n",
    "from mrpro.data.traj_calculators import KTrajectoryCartesian\n",
    "\n",
    "kdata = KData.from_file(data_folder / 'cart_t1.mrd', KTrajectoryCartesian())"
   ]
  },
  {
   "cell_type": "markdown",
   "id": "1f64f39a",
   "metadata": {},
   "source": [
    "Now we can explore this data object.\n",
    "Simply printing ``kdata`` gives us a basic overview of the `~mrpro.data.KData` object."
   ]
  },
  {
   "cell_type": "code",
   "execution_count": null,
   "id": "a4005a05",
   "metadata": {
    "lines_to_next_cell": 2,
    "tags": [
     "show-output"
    ]
   },
   "outputs": [],
   "source": [
    "print(kdata)"
   ]
  },
  {
   "cell_type": "markdown",
   "id": "f0df09d8",
   "metadata": {},
   "source": [
    "We can also have a look at more specific header information like the 1H Lamor frequency"
   ]
  },
  {
   "cell_type": "code",
   "execution_count": null,
   "id": "2ba7e839",
   "metadata": {},
   "outputs": [],
   "source": [
    "print('Lamor Frequency:', kdata.header.lamor_frequency_proton)"
   ]
  },
  {
   "cell_type": "markdown",
   "id": "cd0160e6",
   "metadata": {},
   "source": [
    "## Reconstruction of fully sampled acquisition\n",
    "\n",
    "For the reconstruction of a fully sampled Cartesian acquisition, we can use a simple Fast Fourier Transform (FFT).\n",
    "\n",
    "Let's create an FFT-operator `mrpro.operator.FastFourierOp` and apply it to our `~mrpro.data.KData` object.\n",
    "Please note that all MRpro operator work on PyTorch tensors and not on the MRpro objects directly. Therefore, we have\n",
    "to call the operator on kdata.data. One other important property of MRpro operators is that they always return a\n",
    "tuple of PyTorch tensors, even if the output is only a single tensor. This is why we use the ``(img,)`` syntax below."
   ]
  },
  {
   "cell_type": "code",
   "execution_count": null,
   "id": "faee3b21",
   "metadata": {},
   "outputs": [],
   "source": [
    "from mrpro.operators import FastFourierOp\n",
    "\n",
    "fft_op = FastFourierOp(dim=(-2, -1))\n",
    "(img,) = fft_op.adjoint(kdata.data)"
   ]
  },
  {
   "cell_type": "markdown",
   "id": "accf44f5",
   "metadata": {},
   "source": [
    "Let's have a look at the shape of the obtained tensor."
   ]
  },
  {
   "cell_type": "code",
   "execution_count": null,
   "id": "eb75d8f9",
   "metadata": {},
   "outputs": [],
   "source": [
    "print('Shape:', img.shape)"
   ]
  },
  {
   "cell_type": "markdown",
   "id": "43552407",
   "metadata": {},
   "source": [
    "We can see that the second dimension, which is the coil dimension, is 16. This means we still have a coil resolved\n",
    "dataset (i.e. one image for each coil element). We can use a simply root-sum-of-squares approach to combine them into\n",
    "one. Later, we will do something a bit more sophisticated. We can also see that the x-dimension is 512. This is\n",
    "because in MRI we commonly oversample the readout direction by a factor 2 leading to a FOV twice as large as we\n",
    "actually need. We can either remove this oversampling along the readout direction or we can simply tell the\n",
    "`~mrpro.operatoers.FastFourierOp` to crop the image by providing the correct output matrix size ``recon_matrix``."
   ]
  },
  {
   "cell_type": "code",
   "execution_count": null,
   "id": "075f239e",
   "metadata": {},
   "outputs": [],
   "source": [
    "# Create FFT-operator with correct output matrix size\n",
    "fft_op = FastFourierOp(\n",
    "    dim=(-2, -1),\n",
    "    recon_matrix=kdata.header.recon_matrix,\n",
    "    encoding_matrix=kdata.header.encoding_matrix,\n",
    ")\n",
    "\n",
    "(img,) = fft_op.adjoint(kdata.data)\n",
    "print('Shape:', img.shape)"
   ]
  },
  {
   "cell_type": "markdown",
   "id": "317bc43d",
   "metadata": {},
   "source": [
    "Now, we have an image which is 256 x 256 voxel as we would expect. Let's combine the data from the different receiver\n",
    "coils using root-sum-of-squares and then display the image. Note that we usually index from behind in MRpro\n",
    "(i.e. -1 for the last, -4 for the fourth last (coil) dimension) to allow for more than one 'other' dimension."
   ]
  },
  {
   "cell_type": "code",
   "execution_count": null,
   "id": "6ba92429",
   "metadata": {
    "tags": [
     "hide-cell"
    ]
   },
   "outputs": [],
   "source": [
    "import matplotlib.pyplot as plt\n",
    "import torch\n",
    "\n",
    "\n",
    "# plot the image\n",
    "def show_images(*images: torch.Tensor, titles: list[str] | None = None) -> None:\n",
    "    \"\"\"Plot images.\"\"\"\n",
    "    n_images = len(images)\n",
    "    _, axes = plt.subplots(1, n_images, squeeze=False, figsize=(n_images * 3, 3))\n",
    "    for i in range(n_images):\n",
    "        axes[0][i].imshow(images[i], cmap='gray')\n",
    "        axes[0][i].axis('off')\n",
    "        if titles:\n",
    "            axes[0][i].set_title(titles[i])\n",
    "    plt.show()"
   ]
  },
  {
   "cell_type": "code",
   "execution_count": null,
   "id": "d6c8d995",
   "metadata": {
    "lines_to_next_cell": 0
   },
   "outputs": [],
   "source": [
    "# Combine data from different coils and show magntiude image\n",
    "magnitude_fully_sampled = img.abs().square().sum(dim=-4).sqrt().squeeze()\n",
    "show_images(magnitude_fully_sampled)"
   ]
  },
  {
   "cell_type": "markdown",
   "id": "c3ebe2c2",
   "metadata": {},
   "source": [
    "Great! That was very easy! Let's try to reconstruct the next dataset."
   ]
  },
  {
   "cell_type": "markdown",
   "id": "47603347",
   "metadata": {},
   "source": [
    "## Reconstruction of acquisition with partial echo and partial Fourier"
   ]
  },
  {
   "cell_type": "code",
   "execution_count": null,
   "id": "41fb6eea",
   "metadata": {
    "inputHidden": true,
    "lines_to_next_cell": 0,
    "outputHidden": true,
    "tags": [
     "remove-output"
    ]
   },
   "outputs": [],
   "source": [
    "# Read in the data\n",
    "kdata_pe_pf = KData.from_file(data_folder / 'cart_t1_partial_echo_partial_fourier.mrd', KTrajectoryCartesian())\n",
    "\n",
    "# Create FFT-operator with correct output matrix size\n",
    "fft_op = FastFourierOp(\n",
    "    dim=(-2, -1),\n",
    "    recon_matrix=kdata.header.recon_matrix,\n",
    "    encoding_matrix=kdata.header.encoding_matrix,\n",
    ")\n",
    "\n",
    "# Reconstruct coil resolved image(s)\n",
    "(img_pe_pf,) = fft_op.adjoint(kdata_pe_pf.data)\n",
    "\n",
    "# Combine data from different coils using root-sum-of-squares\n",
    "magnitude_pe_pf = img_pe_pf.abs().square().sum(dim=-4).sqrt().squeeze()\n",
    "\n",
    "\n",
    "# Plot both images\n",
    "show_images(magnitude_fully_sampled, magnitude_pe_pf, titles=['fully sampled', 'PF & PE'])"
   ]
  },
  {
   "cell_type": "markdown",
   "id": "36c1bca3",
   "metadata": {},
   "source": [
    "Well, we got an image, but when we compare it to the previous result, it seems like the head has shrunk.\n",
    "Since that's extremely unlikely, there's probably a mistake in our reconstruction.\n",
    "\n",
    "Let's step back and check out the trajectories for both scans."
   ]
  },
  {
   "cell_type": "code",
   "execution_count": null,
   "id": "b11a82ba",
   "metadata": {},
   "outputs": [],
   "source": [
    "print(kdata.traj)"
   ]
  },
  {
   "cell_type": "markdown",
   "id": "bdfefb3f",
   "metadata": {},
   "source": [
    "We see that the trajectory has ``kz``, ``ky``, and ``kx`` components. ``kx`` and ``ky`` only vary along one dimension.\n",
    "This is because MRpro saves meta data such as trajectories in an efficient way, where dimensions in which the data\n",
    "does not change are often collapsed. The original shape can be obtained by\n",
    "[broadcasting](https://numpy.org/doc/stable/user/basics.broadcasting.html).\n",
    "Here, to get the full trajectory as a tensor, we can also just call `~mrpro.data.KTrajectory.as_tensor()`:"
   ]
  },
  {
   "cell_type": "code",
   "execution_count": null,
   "id": "dc1dddf0",
   "metadata": {
    "lines_to_next_cell": 0
   },
   "outputs": [],
   "source": [
    "# Plot the fully sampled trajectory (in blue)\n",
    "full_kz, full_ky, full_kx = kdata.traj.as_tensor()\n",
    "plt.plot(full_ky[0, 0].flatten(), full_kx[0, 0].flatten(), 'ob')\n",
    "\n",
    "# Plot the partial echo and partial Fourier trajectory (in red)\n",
    "full_kz, full_ky, full_kx = kdata_pe_pf.traj.as_tensor()\n",
    "plt.plot(full_ky[0, 0].flatten(), full_kx[0, 0].flatten(), '+r')\n",
    "\n",
    "plt.show()"
   ]
  },
  {
   "cell_type": "markdown",
   "id": "e3c2a470",
   "metadata": {},
   "source": [
    "We see that for the fully sampled acquisition, the k-space is covered symmetrically from -256 to 255 along the\n",
    "readout direction and from -128 to 127 along the phase encoding direction. For the acquisition with partial Fourier\n",
    "and partial echo acceleration, this is of course not the case and the k-space is asymmetrical.\n",
    "\n",
    "Our FFT-operator does not know about this and simply assumes that the acquisition is symmetric and any difference\n",
    "between encoding and recon matrix needs to be zero-padded symmetrically.\n",
    "\n",
    "To take the asymmetric acquisition into account and sort the data correctly into a matrix where we can apply the\n",
    "FFT-operator to, we have got the `~mrpro.operators.CartesianSamplingOp` in MRpro. This operator performs\n",
    "sorting based on the k-space trajectory and the dimensions of the encoding k-space.\n",
    "\n",
    "Let's try it out!"
   ]
  },
  {
   "cell_type": "code",
   "execution_count": null,
   "id": "ecec2240",
   "metadata": {},
   "outputs": [],
   "source": [
    "from mrpro.operators import CartesianSamplingOp\n",
    "\n",
    "cart_sampling_op = CartesianSamplingOp(encoding_matrix=kdata_pe_pf.header.encoding_matrix, traj=kdata_pe_pf.traj)"
   ]
  },
  {
   "cell_type": "markdown",
   "id": "f399e737",
   "metadata": {},
   "source": [
    "Now, we first apply the adjoint CartesianSamplingOp and then call the adjoint FFT-operator."
   ]
  },
  {
   "cell_type": "code",
   "execution_count": null,
   "id": "4b8003db",
   "metadata": {},
   "outputs": [],
   "source": [
    "(img_pe_pf,) = fft_op.adjoint(cart_sampling_op.adjoint(kdata_pe_pf.data)[0])\n",
    "magnitude_pe_pf = img_pe_pf.abs().square().sum(dim=-4).sqrt().squeeze()\n",
    "\n",
    "show_images(magnitude_fully_sampled, magnitude_pe_pf, titles=['fully sampled', 'PF & PE'])"
   ]
  },
  {
   "cell_type": "markdown",
   "id": "b4699276",
   "metadata": {},
   "source": [
    "Voila! We've got the same brains, and they're the same size!"
   ]
  },
  {
   "cell_type": "markdown",
   "id": "8c4a0ecc",
   "metadata": {},
   "source": [
    "In MRpro, we have a smart `~mrpro.operators.FourierOp` operator, that automatically does the resorting and can\n",
    "handle non-cartesian data as well. For cartesian data, it internally does exactly the two steps we just did manually.\n",
    "The operator can be also be created from an existing `~mrpro.data.KData` object\n",
    "This is the recommended way to transform k-space data."
   ]
  },
  {
   "cell_type": "code",
   "execution_count": null,
   "id": "bf65a001",
   "metadata": {},
   "outputs": [],
   "source": [
    "from mrpro.operators import FourierOp\n",
    "\n",
    "fourier_op = FourierOp.from_kdata(kdata_pe_pf)\n",
    "(img_pe_pf,) = fourier_op.adjoint(kdata_pe_pf.data)\n",
    "magnitude_pe_pf = img_pe_pf.abs().square().sum(dim=-4).sqrt().squeeze()\n",
    "show_images(magnitude_fully_sampled, magnitude_pe_pf, titles=['fully sampled', 'PF & PE'])"
   ]
  },
  {
   "cell_type": "markdown",
   "id": "653c5391",
   "metadata": {
    "lines_to_next_cell": 2
   },
   "source": [
    "That was easy!\n",
    "But wait a second — something still looks a bit off. In the bottom left corner, it seems like there's a \"hole\"\n",
    "in the brain. That definitely shouldn't be there.\n",
    "\n",
    "The issue is that we combined the data from the different coils using a root-sum-of-squares approach.\n",
    "While it's simple, it's not the ideal method. Typically, coil sensitivity maps are calculated to combine the data\n",
    "from different coils. In MRpro, you can do this by calculating coil sensitivity data and then creating a\n",
    "`mrpro.operators.SensitivityOp` to combine the data after image reconstruction."
   ]
  },
  {
   "cell_type": "markdown",
   "id": "7df205ba",
   "metadata": {},
   "source": [
    "We have different options for calculating coil sensitivity maps from the image data of the various coils.\n",
    "Here, we're going to use the Walsh method."
   ]
  },
  {
   "cell_type": "code",
   "execution_count": null,
   "id": "0fd5cca5",
   "metadata": {
    "lines_to_next_cell": 2
   },
   "outputs": [],
   "source": [
    "from mrpro.algorithms.csm import walsh\n",
    "from mrpro.operators import SensitivityOp\n",
    "\n",
    "# Calculate coil sensitivity maps\n",
    "(magnitude_pe_pf,) = fft_op.adjoint(cart_sampling_op.adjoint(kdata_pe_pf.data)[0])\n",
    "\n",
    "# This algorithms is designed to calculate coil sensitivity maps for each other dimension.\n",
    "csm_data = walsh(magnitude_pe_pf[0, ...], smoothing_width=5)[None, ...]\n",
    "\n",
    "# Create SensitivityOp\n",
    "csm_op = SensitivityOp(csm_data)\n",
    "\n",
    "# Reconstruct coil-combined image\n",
    "(img_pe_pf,) = csm_op.adjoint(*fourier_op.adjoint(img_pe_pf))\n",
    "magnitude_pe_pf = magnitude_pe_pf.abs().squeeze()\n",
    "show_images(magnitude_fully_sampled, magnitude_pe_pf, titles=['fully sampled', 'PF & PE'])"
   ]
  },
  {
   "cell_type": "markdown",
   "id": "1fc4080c",
   "metadata": {},
   "source": [
    "Tada! The \"hole\" is gone, and the image looks much better.\n",
    "\n",
    "When we reconstructed the image, we called the adjoint method of several different operators one after the other. That\n",
    "was a bit cumbersome. To make our life easier, MRpro allows to combine the operators first and then call the adjoint\n",
    "of the composite operator. We have to keep in mind that we have to put them in the order of the forward method of the\n",
    "operators. By calling the adjoint, the order will be automatically reversed."
   ]
  },
  {
   "cell_type": "code",
   "execution_count": null,
   "id": "8e72029c",
   "metadata": {},
   "outputs": [],
   "source": [
    "# Create composite operator\n",
    "adjoint_operator = (fourier_op @ csm_op).H\n",
    "(magnitude_pe_pf,) = adjoint_operator(kdata_pe_pf.data)\n",
    "magnitude_pe_pf = magnitude_pe_pf.abs().squeeze()\n",
    "show_images(magnitude_pe_pf, titles=['PF & PE'])"
   ]
  },
  {
   "cell_type": "markdown",
   "id": "bb70774f",
   "metadata": {},
   "source": [
    "Although we now have got a nice looking image, it was still a bit cumbersome to create it. We had to define several\n",
    "different operators and chain them together. Wouldn't it be nice if this could be done automatically?\n",
    "\n",
    "That is why we also included some top-level reconstruction algorithms in MRpro. For this whole steps from above,\n",
    "we can simply use a `mrpro.algorithnms.reconstruction.DirectReconstruction`.\n",
    "Reconstruction algorithms can be instantiated from only the information in the `~mrpro.data.KData` object.\n",
    "\n",
    "In contrast to operators, top-level reconstruction algorithms operate on the data objects of MRpro, i.e. the input is\n",
    "a `~mrpro.data.KData` object and the output is an `~mrpro.data.IData` object containing\n",
    "the reconstructed image data. To get its magnitude, we can call the `~mrpro.data.IData.rss` method."
   ]
  },
  {
   "cell_type": "code",
   "execution_count": null,
   "id": "25b8fc65",
   "metadata": {
    "lines_to_next_cell": 2
   },
   "outputs": [],
   "source": [
    "from mrpro.algorithms.reconstruction import DirectReconstruction\n",
    "\n",
    "# Create DirectReconstruction object from KData object\n",
    "direct_recon_pe_pf = DirectReconstruction(kdata_pe_pf)\n",
    "\n",
    "# Reconstruct image by calling the DirectReconstruction object\n",
    "idat_pe_pf = direct_recon_pe_pf(kdata_pe_pf)"
   ]
  },
  {
   "cell_type": "markdown",
   "id": "f9c2ee74",
   "metadata": {
    "lines_to_next_cell": 2
   },
   "source": [
    "This is much simpler — everything happens in the background, so we don't have to worry about it.\n",
    "Let's finally try it on the undersampled dataset now."
   ]
  },
  {
   "cell_type": "markdown",
   "id": "3fb87239",
   "metadata": {},
   "source": [
    "## Reconstruction of undersampled data"
   ]
  },
  {
   "cell_type": "code",
   "execution_count": null,
   "id": "f6255c50",
   "metadata": {},
   "outputs": [],
   "source": [
    "kdata_us = KData.from_file(data_folder / 'cart_t1_msense_integrated.mrd', KTrajectoryCartesian())\n",
    "direct_recon_us = DirectReconstruction(kdata_us)\n",
    "idat_us = direct_recon_us(kdata_us)\n",
    "\n",
    "show_images(idat_pe_pf.rss().squeeze(), idat_us.rss().squeeze(), titles=['PE & PF', 'Undersampled'])"
   ]
  },
  {
   "cell_type": "markdown",
   "id": "9a83e2c1",
   "metadata": {},
   "source": [
    "As expected, we can see undersampling artifacts in the image. In order to get rid of them, we can use an iterative\n",
    "SENSE algorithm. As you might have guessed, this is also included in MRpro.\n",
    "\n",
    "Similarly to the `~mrpro.algorithms.reconstruction.DirectReconstruction`, we can create an `~mrpro.algorithms.reconstruction.IterativeSENSEReconstruction`\n",
    "For more information, see <project:iterative_sense_reconstruction>"
   ]
  }
 ],
 "metadata": {
  "accelerator": "GPU",
  "colab": {
   "gpuType": "T4",
   "provenance": []
  },
  "jupytext": {
   "cell_metadata_filter": "tags,-all"
  },
  "kernelspec": {
   "display_name": "Python 3 (ipykernel)",
   "language": "python",
   "name": "python3"
  }
 },
 "nbformat": 4,
 "nbformat_minor": 5
}
