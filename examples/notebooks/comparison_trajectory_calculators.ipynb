{
 "cells": [
  {
   "cell_type": "markdown",
   "id": "0",
   "metadata": {
    "lines_to_next_cell": 0
   },
   "source": [
    "[![Open In Colab](https://colab.research.google.com/assets/colab-badge.svg)](https://colab.research.google.com/github/PTB-MR/mrpro/blob/main/examples/notebooks/comparison_trajectory_calculators.ipynb)"
   ]
  },
  {
   "cell_type": "code",
   "execution_count": null,
   "id": "1",
   "metadata": {
    "tags": [
     "remove-cell"
    ]
   },
   "outputs": [],
   "source": [
    "import importlib\n",
    "\n",
    "if not importlib.util.find_spec('mrpro'):\n",
    "    %pip install mrpro[notebooks]"
   ]
  },
  {
   "cell_type": "markdown",
   "id": "2",
   "metadata": {
    "lines_to_next_cell": 2
   },
   "source": [
    "# Different ways to obtain the trajectory\n",
    "This example builds upon the <project:direct_reconstruction.ipynb> example and demonstrates three ways\n",
    "to obtain the trajectory information required for image reconstruction:\n",
    "- using the trajectory that is stored in the ISMRMRD file\n",
    "- calculating the trajectory using the radial 2D trajectory calculator\n",
    "- calculating the trajectory from the pulseq sequence file using the PyPulseq trajectory calculator"
   ]
  },
  {
   "cell_type": "code",
   "execution_count": null,
   "id": "3",
   "metadata": {
    "mystnb": {
     "code_prompt_show": "Show download details"
    },
    "tags": [
     "hide-cell"
    ]
   },
   "outputs": [],
   "source": [
    "# Download raw data from Zenodo\n",
    "import tempfile\n",
    "from pathlib import Path\n",
    "\n",
    "import mrpro\n",
    "import torch\n",
    "import zenodo_get\n",
    "\n",
    "dataset = '14617082'\n",
    "\n",
    "tmp = tempfile.TemporaryDirectory()  # RAII, automatically cleaned up\n",
    "data_folder = Path(tmp.name)\n",
    "zenodo_get.zenodo_get([dataset, '-r', 5, '-o', data_folder])  # r: retries"
   ]
  },
  {
   "cell_type": "markdown",
   "id": "4",
   "metadata": {},
   "source": [
    "### Using KTrajectoryIsmrmrd - Trajectory saved in ISMRMRD file\n",
    "Passing an instance of `~mrpro.data.traj_calculators.KTrajectoryIsmrmrd` to\n",
    "when loading the data tells the `~mrpro.data.KData` object to use the trajectory\n",
    "that is stored in the ISMRMRD file.\n",
    "```{note}\n",
    "Often the trajectory information has not been stored in the ISMRMRD file,\n",
    "in which case loading the trajectory this way will raise an error.\n",
    "```"
   ]
  },
  {
   "cell_type": "code",
   "execution_count": null,
   "id": "5",
   "metadata": {},
   "outputs": [],
   "source": [
    "# Read the raw data and the trajectory from ISMRMRD file\n",
    "kdata = mrpro.data.KData.from_file(\n",
    "    data_folder / 'radial2D_402spokes_golden_angle_with_traj.h5',\n",
    "    mrpro.data.traj_calculators.KTrajectoryIsmrmrd(),\n",
    ")\n",
    "\n",
    "# Reconstruct image\n",
    "reconstruction = mrpro.algorithms.reconstruction.DirectReconstruction(kdata)\n",
    "img_using_ismrmrd_traj = reconstruction(kdata)"
   ]
  },
  {
   "cell_type": "markdown",
   "id": "6",
   "metadata": {},
   "source": [
    "### Using KTrajectoryRadial2D - Specific trajectory calculator\n",
    "For some common trajectories, we provide specific trajectory calculators.\n",
    "These calculators often require only a few parameters to be specified,\n",
    "such as the angle between spokes in the radial trajectory. Other parameters\n",
    "will be taken from the ISMRMRD file.\n",
    "This will calculate the trajectory using the radial 2D trajectory calculator.\n",
    "```{note}\n",
    "You can also implement your own trajectory calculator by subclassing\n",
    "`~mrpro.data.traj_calculators.KTrajectoryCalculator`.\n",
    "```"
   ]
  },
  {
   "cell_type": "code",
   "execution_count": null,
   "id": "7",
   "metadata": {},
   "outputs": [],
   "source": [
    "# Read raw data and calculate trajectory using KTrajectoryRadial2D\n",
    "golden_angle = torch.pi * 0.618034\n",
    "kdata = mrpro.data.KData.from_file(\n",
    "    data_folder / 'radial2D_402spokes_golden_angle_with_traj.h5',\n",
    "    mrpro.data.traj_calculators.KTrajectoryRadial2D(golden_angle),\n",
    ")\n",
    "\n",
    "# Reconstruct image\n",
    "reconstruction = mrpro.algorithms.reconstruction.DirectReconstruction(kdata)\n",
    "img_using_rad2d_traj = reconstruction(kdata)"
   ]
  },
  {
   "cell_type": "markdown",
   "id": "8",
   "metadata": {},
   "source": [
    "### Using KTrajectoryPulseq - Trajectory from pulseq sequence file\n",
    "This will calculate the trajectory from the pulseq sequence file\n",
    "using the PyPulseq trajectory calculator. This method\n",
    "requires the pulseq sequence file that was used to acquire the data.\n",
    "The path to the sequence file is provided as an argument to KTrajectoryPulseq."
   ]
  },
  {
   "cell_type": "code",
   "execution_count": null,
   "id": "9",
   "metadata": {},
   "outputs": [],
   "source": [
    "# Read raw data and calculate trajectory using KTrajectoryPulseq\n",
    "seq_path = data_folder / 'radial2D_402spokes_golden_angle.seq'\n",
    "kdata = mrpro.data.KData.from_file(\n",
    "    data_folder / 'radial2D_402spokes_golden_angle_with_traj.h5',\n",
    "    mrpro.data.traj_calculators.KTrajectoryPulseq(seq_path),\n",
    ")\n",
    "\n",
    "# Reconstruct image\n",
    "reconstruction = mrpro.algorithms.reconstruction.DirectReconstruction(kdata)\n",
    "img_using_pulseq_traj = reconstruction(kdata)"
   ]
  },
  {
   "cell_type": "markdown",
   "id": "10",
   "metadata": {
    "lines_to_next_cell": 0
   },
   "source": [
    "### Plot the different reconstructed images\n",
    "All three images are reconstructed using the same raw data and should look almost identical."
   ]
  },
  {
   "cell_type": "code",
   "execution_count": null,
   "id": "11",
   "metadata": {
    "mystnb": {
     "code_prompt_show": "Show plotting details"
    },
    "tags": [
     "hide-cell"
    ]
   },
   "outputs": [],
   "source": [
    "import matplotlib.pyplot as plt\n",
    "import torch\n",
    "\n",
    "\n",
    "def show_images(*images: torch.Tensor, titles: list[str] | None = None) -> None:\n",
    "    \"\"\"Plot images.\"\"\"\n",
    "    n_images = len(images)\n",
    "    _, axes = plt.subplots(1, n_images, squeeze=False, figsize=(n_images * 3, 3))\n",
    "    for i in range(n_images):\n",
    "        axes[0][i].imshow(images[i], cmap='gray')\n",
    "        axes[0][i].axis('off')\n",
    "        if titles:\n",
    "            axes[0][i].set_title(titles[i])\n",
    "    plt.show()"
   ]
  },
  {
   "cell_type": "code",
   "execution_count": null,
   "id": "12",
   "metadata": {},
   "outputs": [],
   "source": [
    "show_images(\n",
    "    img_using_ismrmrd_traj.rss()[0, 0],\n",
    "    img_using_rad2d_traj.rss()[0, 0],\n",
    "    img_using_pulseq_traj.rss()[0, 0],\n",
    "    titles=['KTrajectoryIsmrmrd', 'KTrajectoryRadial2D', 'KTrajectoryPulseq'],\n",
    ")"
   ]
  },
  {
   "cell_type": "markdown",
   "id": "13",
   "metadata": {},
   "source": [
    "Tada! We have successfully reconstructed images using three different trajectory calculators.\n",
    "```{note}\n",
    "Which of these three methods is the best depends on the specific use case:\n",
    "If a trajectory is already stored in the ISMRMRD file, it is the most convenient to use.\n",
    "If a pulseq sequence file is available, the trajectory can be calculated using the PyPulseq trajectory calculator.\n",
    "Otherwise, a trajectory calculator needs to be implemented for the specific trajectory used.\n",
    "```"
   ]
  }
 ],
 "metadata": {
  "accelerator": "GPU",
  "colab": {
   "gpuType": "T4",
   "provenance": []
  },
  "jupytext": {
   "cell_metadata_filter": "mystnb,tags,-all"
  },
  "kernelspec": {
   "display_name": "Python 3 (ipykernel)",
   "language": "python",
   "name": "python3"
  }
 },
 "nbformat": 4,
 "nbformat_minor": 5
}
