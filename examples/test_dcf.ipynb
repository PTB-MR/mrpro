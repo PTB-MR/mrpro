{
 "cells": [
  {
   "cell_type": "code",
   "execution_count": null,
   "id": "136603ec",
   "metadata": {},
   "outputs": [],
   "source": [
    "import time"
   ]
  },
  {
   "cell_type": "code",
   "execution_count": null,
   "id": "30f1d4f5",
   "metadata": {},
   "outputs": [],
   "source": [
    "import torch\n",
    "from mrpro.data import DcfData, KTrajectory"
   ]
  },
  {
   "cell_type": "code",
   "execution_count": null,
   "id": "9553ab4b",
   "metadata": {},
   "outputs": [],
   "source": [
    "a = KTrajectory(kz=torch.ones(1, 1, 1, 1), ky=torch.rand(1, 1, 20, 200), kx=torch.rand(1, 1, 20, 200))\n",
    "start = time.time()"
   ]
  },
  {
   "cell_type": "code",
   "execution_count": null,
   "id": "14f153b9",
   "metadata": {},
   "outputs": [],
   "source": [
    "d = DcfData.from_traj_voronoi(a)\n",
    "print(time.time() - start)"
   ]
  },
  {
   "cell_type": "markdown",
   "id": "0c19313b",
   "metadata": {
    "lines_to_next_cell": 2
   },
   "source": [
    "import numpy as np"
   ]
  },
  {
   "cell_type": "markdown",
   "id": "fa88158f",
   "metadata": {},
   "source": [
    "def flip_binary_sort(N):\n",
    "    # Generate array from 0 to N-1\n",
    "    arr = np.arange(N)"
   ]
  },
  {
   "cell_type": "markdown",
   "id": "17f9058d",
   "metadata": {},
   "source": [
    "    # Convert array elements to binary strings, reverse, and convert back to integers\n",
    "    return np.argsort([int(bin(i)[2:].zfill(int(np.ceil(np.log2(N))))[::-1], 2) for i in arr])"
   ]
  },
  {
   "cell_type": "markdown",
   "id": "6aa963da",
   "metadata": {
    "lines_to_next_cell": 2
   },
   "source": [
    "    return sorted_indices"
   ]
  },
  {
   "cell_type": "markdown",
   "id": "64c4600f",
   "metadata": {},
   "source": [
    "# Example usage:\n",
    "N = 7\n",
    "indices = flip_binary_sort(N)\n",
    "print(indices)"
   ]
  }
 ],
 "metadata": {
  "jupytext": {
   "cell_metadata_filter": "-all"
  },
  "kernelspec": {
   "display_name": "Python 3 (ipykernel)",
   "language": "python",
   "name": "python3"
  }
 },
 "nbformat": 4,
 "nbformat_minor": 5
}
