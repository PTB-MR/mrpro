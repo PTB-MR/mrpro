{
 "cells": [
  {
   "cell_type": "markdown",
   "id": "c9ae23b5",
   "metadata": {},
   "source": [
    "# Cardiac Magnetic Resonance Fingerprinting"
   ]
  },
  {
   "cell_type": "code",
   "execution_count": null,
   "id": "e1d3a298",
   "metadata": {
    "lines_to_next_cell": 1
   },
   "outputs": [],
   "source": [
    "# Imports\n",
    "from pathlib import Path\n",
    "\n",
    "import matplotlib.pyplot as plt\n",
    "import scipy as sp\n",
    "import torch\n",
    "from einops import rearrange\n",
    "from mrpro.algorithms.reconstruction import DirectReconstruction, IterativeSENSEReconstruction\n",
    "from mrpro.data import DcfData, KData, KTrajectory\n",
    "from mrpro.data.traj_calculators import KTrajectoryPulseq\n",
    "from mrpro.operators import FourierOp\n",
    "from mrpro.operators.models import EpgMrfFispWithPreparation\n",
    "from mrpro.utils import split_idx\n",
    "\n",
    "recon = 'iterative'  # direct, iterative\n",
    "used_trajectory = 'spiral'  # radial, spiral\n",
    "\n",
    "if used_trajectory == 'spiral':\n",
    "    pname = Path('/Users/kolbit01/Documents/PTB/Data/mrpro/rabbit/meas_MID00031_FID139052_spiral_cMRF_trig_800ms/')\n",
    "    scan_name = Path('meas_MID00031_FID139052_spiral_cMRF_trig_800ms.h5')\n",
    "    fname_seq = Path('spiral_cMRF_trig_800ms.seq')\n",
    "\n",
    "    n_lines_per_img = 5\n",
    "    n_lines_overlap = 4\n",
    "    n_cg_it = 90\n",
    "elif used_trajectory == 'radial':\n",
    "    pname = Path('/Users/kolbit01/Documents/PTB/Data/mrpro/rabbit/meas_MID00032_FID139053_radial_cMRF_trig_800ms/')\n",
    "    scan_name = Path('meas_MID00032_FID139053_radial_cMRF_trig_800ms.h5')\n",
    "    fname_seq = Path('radial_cMRF_trig_800ms.seq')\n",
    "\n",
    "    n_lines_per_img = 20  # 10\n",
    "    n_lines_overlap = 10  # 8\n",
    "    n_cg_it = 30\n",
    "else:\n",
    "    raise ValueError(f'method {used_trajectory} not recognised')\n",
    "\n",
    "rr_duration = 1000\n",
    "fname_angle = Path('/Users/kolbit01/Documents/PTB/Data/mrpro/rabbit/cMRF_fa_705rep.txt')\n",
    "\n",
    "with open(fname_angle) as file:\n",
    "    fa = torch.as_tensor([float(line) for line in file.readlines()]) / 180 * torch.pi"
   ]
  },
  {
   "cell_type": "code",
   "execution_count": null,
   "id": "103b445f",
   "metadata": {
    "lines_to_next_cell": 1
   },
   "outputs": [],
   "source": [
    "# Function to calculate mask\n",
    "def calc_2d_mask(idat, mask_thresh=0.01):\n",
    "    # Calculate mask\n",
    "    idat_abs = torch.abs(torch.squeeze(idat))\n",
    "    idat_norm = idat_abs / idat_abs.max()\n",
    "    mask = torch.zeros(idat_norm.shape)\n",
    "    mask[idat_norm > mask_thresh] = 1\n",
    "\n",
    "    mask = torch.as_tensor(sp.ndimage.binary_opening(mask.to(dtype=torch.int64), torch.ones((3, 3), dtype=torch.int64)))\n",
    "    mask = torch.as_tensor(sp.ndimage.binary_closing(mask.to(dtype=torch.int64), torch.ones((9, 9), dtype=torch.int64)))\n",
    "    mask = torch.as_tensor(sp.ndimage.binary_fill_holes(mask.to(dtype=torch.int64)))\n",
    "\n",
    "    return mask"
   ]
  },
  {
   "cell_type": "code",
   "execution_count": null,
   "id": "5cc458b2",
   "metadata": {
    "lines_to_next_cell": 1
   },
   "outputs": [],
   "source": [
    "# Correct wrong pulseq calculation of trajectory\n",
    "def fix_pulseq_traj_error(kdatapuls):\n",
    "    # Extract k-space trajectory from kdatapuls\n",
    "    ky_pulseq = kdatapuls.traj.ky\n",
    "    kx_pulseq = kdatapuls.traj.kx\n",
    "    kz_pulseq = torch.ones((1, 1, 1, 1))\n",
    "\n",
    "    # Number of indices\n",
    "    num_indices = ky_pulseq.shape[2]\n",
    "\n",
    "    # Initialize lists to store shifted trajectories\n",
    "    shifted_ky = ky_pulseq.clone()\n",
    "    shifted_kx = kx_pulseq.clone()\n",
    "\n",
    "    # Loop to apply the shift to each index\n",
    "    for i in range(num_indices - 1):\n",
    "        # Calculate the shift for the current index\n",
    "        shifted_ky[:, :, i, :] -= ky_pulseq[:, :, i, 0]\n",
    "        shifted_kx[:, :, i, :] -= kx_pulseq[:, :, i, 0]\n",
    "\n",
    "    # Create shifted KTrajectory object\n",
    "    shifted_traj = KTrajectory(kx=shifted_kx, ky=shifted_ky, kz=kz_pulseq)\n",
    "    # Create shifted KData object\n",
    "    shifted_kdatapuls = KData(data=kdatapuls.data, traj=shifted_traj, header=kdatapuls.header)\n",
    "\n",
    "    return shifted_kdatapuls"
   ]
  },
  {
   "cell_type": "code",
   "execution_count": null,
   "id": "e425a36f",
   "metadata": {},
   "outputs": [],
   "source": [
    "# Image reconstruction of average image\n",
    "# trajectory = KTrajectoryIsmrmrd()\n",
    "trajectory = KTrajectoryPulseq(pname / fname_seq)\n",
    "kdata = KData.from_file(pname / scan_name, trajectory)\n",
    "\n",
    "if used_trajectory == 'radial':\n",
    "    kdata.header.recon_matrix.x = 128\n",
    "    kdata.header.recon_matrix.y = 128\n",
    "else:\n",
    "    kdata.header.recon_matrix.x = 84\n",
    "    kdata.header.recon_matrix.y = 84\n",
    "\n",
    "if used_trajectory == 'spiral':\n",
    "    kdata = fix_pulseq_traj_error(kdata)\n",
    "\n",
    "avg_recon = DirectReconstruction.from_kdata(kdata)\n",
    "avg_im = avg_recon(kdata)\n",
    "mask = calc_2d_mask(avg_im.rss(), mask_thresh=0.1)\n",
    "\n",
    "fig, ax = plt.subplots(1, 2)\n",
    "ax[0].imshow(torch.squeeze(avg_im.rss()), cmap='grey')\n",
    "ax[1].imshow(mask, cmap='grey')"
   ]
  },
  {
   "cell_type": "code",
   "execution_count": null,
   "id": "abc4a24b",
   "metadata": {},
   "outputs": [],
   "source": [
    "# Split data into dynamics and reconstruct\n",
    "dyn_idx = split_idx(torch.arange(0, 47), n_lines_per_img, n_lines_overlap)\n",
    "dyn_idx = torch.cat([dyn_idx + ind * 47 for ind in range(15)], dim=0)\n",
    "\n",
    "kdata_dyn = kdata.split_k1_into_other(dyn_idx, other_label='repetition')\n",
    "\n",
    "if recon == 'direct':\n",
    "    dyn_recon = DirectReconstruction.from_kdata(kdata_dyn, coil_combine=False)\n",
    "elif recon == 'iterative':\n",
    "    dyn_recon = IterativeSENSEReconstruction(FourierOp.from_kdata(kdata_dyn), n_iterations=n_cg_it)\n",
    "else:\n",
    "    raise ValueError(f'recon {recon} not recognised.')\n",
    "dyn_recon.csm = avg_recon.csm\n",
    "\n",
    "dcf_data_dyn = rearrange(avg_recon.dcf.data, 'k2 k1 other k0->other k2 k1 k0')\n",
    "dcf_data_dyn = rearrange(\n",
    "    dcf_data_dyn[dyn_idx.flatten(), ...], '(other k1) 1 k2 k0->other k2 k1 k0', k1=dyn_idx.shape[-1]\n",
    ")\n",
    "dyn_recon.dcf = DcfData(dcf_data_dyn)\n",
    "\n",
    "img = dyn_recon(kdata_dyn).rss()[:, 0, :, :]\n",
    "\n",
    "fig, ax = plt.subplots(1, 5, figsize=(12, 4))\n",
    "for ind in range(4):\n",
    "    ax[ind].imshow(img[ind * 8, :, :].abs(), cmap='grey')\n",
    "    ax[ind].set_title(f'Image # {ind*6}')\n",
    "ax[-1].imshow(torch.abs(torch.mean(img[:, :, :], dim=0)))\n",
    "ax[-1].set_title('Average over all images')"
   ]
  },
  {
   "cell_type": "code",
   "execution_count": null,
   "id": "9067d465",
   "metadata": {},
   "outputs": [],
   "source": [
    "# Dictionary settings\n",
    "t1 = torch.linspace(100, 2000, 120)[:, None]\n",
    "t2 = torch.linspace(10, 200, 40)[None, :]\n",
    "t1, t2 = torch.broadcast_tensors(t1, t2)\n",
    "t1 = t1.flatten()\n",
    "t2 = t2.flatten()\n",
    "m0 = torch.ones_like(t1)"
   ]
  },
  {
   "cell_type": "code",
   "execution_count": null,
   "id": "1c697ccd",
   "metadata": {},
   "outputs": [],
   "source": [
    "# Dictionary calculationg\n",
    "flip_angles = fa\n",
    "rf_phases = 0\n",
    "te = kdata.header.te * 1000\n",
    "tr = kdata.header.tr * 1000\n",
    "inv_prep_ti = [21, None, None, None, None] * 3  # 20 ms delay after inversion pulse in block 0\n",
    "t2_prep_te = [None, None, 30, 50, 100] * 3  # T2-preparation pulse with TE = 30, 50, 100\n",
    "n_rf_pulses_per_block = 47  # 47 RF pulses in each block\n",
    "delay_after_block = [0, 30, 50, 100, 21] * 3\n",
    "delay_after_block = [rr_duration - delay - n_rf_pulses_per_block * tr for delay in delay_after_block]\n",
    "epg_mrf_fisp = EpgMrfFispWithPreparation(\n",
    "    flip_angles, rf_phases, te, tr, inv_prep_ti, t2_prep_te, n_rf_pulses_per_block, delay_after_block\n",
    ")\n",
    "(signal_dictionary,) = epg_mrf_fisp.forward(m0, t1, t2)\n",
    "\n",
    "\n",
    "signal_dictionary = rearrange(\n",
    "    signal_dictionary[dyn_idx.flatten(), ...], '(other k1) t->other t k1', k1=dyn_idx.shape[-1]\n",
    ")\n",
    "signal_dictionary = torch.mean(signal_dictionary, dim=-1)\n",
    "signal_dictionary = signal_dictionary.abs()"
   ]
  },
  {
   "cell_type": "code",
   "execution_count": null,
   "id": "f7f2ba4a",
   "metadata": {},
   "outputs": [],
   "source": [
    "# Normalise dictionary entries\n",
    "vector_norm = torch.linalg.vector_norm(signal_dictionary, dim=0)\n",
    "signal_dictionary /= vector_norm"
   ]
  },
  {
   "cell_type": "code",
   "execution_count": null,
   "id": "78b41561",
   "metadata": {
    "lines_to_next_cell": 2
   },
   "outputs": [],
   "source": [
    "# Dictionary matching\n",
    "n_y, n_x = img.shape[-2:]\n",
    "dot_product = torch.mm(rearrange(img.abs(), 'other y x->(y x) other'), signal_dictionary)\n",
    "idx_best_match = torch.argmax(torch.abs(dot_product), dim=1)\n",
    "t1_match = rearrange(t1[idx_best_match], '(y x)->y x', y=n_y, x=n_x)\n",
    "t2_match = rearrange(t2[idx_best_match], '(y x)->y x', y=n_y, x=n_x)"
   ]
  },
  {
   "cell_type": "code",
   "execution_count": null,
   "id": "205ee238",
   "metadata": {
    "lines_to_next_cell": 0
   },
   "outputs": [],
   "source": [
    "fig, ax = plt.subplots(1, 3, figsize=(14, 4))\n",
    "ax[0].imshow(torch.squeeze(avg_im.rss()), cmap='grey')\n",
    "ax[0].set_title('Average image')\n",
    "\n",
    "im = ax[1].imshow(t1_match * mask, vmin=0, vmax=1800)\n",
    "ax[1].set_title('MRF T1 (ms)')\n",
    "fig.colorbar(im, extend='both', shrink=0.9, ax=ax[1])\n",
    "\n",
    "im = ax[2].imshow(t2_match * mask, vmin=0, vmax=100)\n",
    "ax[2].set_title('MRF T2 (ms)')\n",
    "fig.colorbar(im, extend='both', shrink=0.9, ax=ax[2])\n",
    "plt.tight_layout()"
   ]
  },
  {
   "cell_type": "code",
   "execution_count": null,
   "id": "dfad2798",
   "metadata": {},
   "outputs": [],
   "source": []
  }
 ],
 "metadata": {
  "jupytext": {
   "cell_metadata_filter": "-all"
  },
  "kernelspec": {
   "display_name": "Python 3 (ipykernel)",
   "language": "python",
   "name": "python3"
  }
 },
 "nbformat": 4,
 "nbformat_minor": 5
}
