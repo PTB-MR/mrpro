{
 "cells": [
  {
   "cell_type": "markdown",
   "id": "af432293",
   "metadata": {
    "lines_to_next_cell": 0
   },
   "source": [
    "# Regularized Iterative SENSE Reconstruction of 2D golden angle radial data\n",
    "Here we use the RegularizedIterativeSENSEReconstruction class to reconstruct images from ISMRMRD 2D radial data"
   ]
  },
  {
   "cell_type": "code",
   "execution_count": null,
   "id": "2a7a6ce3",
   "metadata": {
    "lines_to_next_cell": 0
   },
   "outputs": [],
   "source": [
    "# define zenodo URL of the example ismrmd data\n",
    "zenodo_url = 'https://zenodo.org/records/10854057/files/'\n",
    "fname = 'pulseq_radial_2D_402spokes_golden_angle_with_traj.h5'"
   ]
  },
  {
   "cell_type": "code",
   "execution_count": null,
   "id": "0cd8486b",
   "metadata": {},
   "outputs": [],
   "source": [
    "# Download raw data\n",
    "import tempfile\n",
    "\n",
    "import requests\n",
    "\n",
    "data_file = tempfile.NamedTemporaryFile(mode='wb', delete=False, suffix='.h5')\n",
    "response = requests.get(zenodo_url + fname, timeout=30)\n",
    "data_file.write(response.content)\n",
    "data_file.flush()"
   ]
  },
  {
   "cell_type": "markdown",
   "id": "6a9defa1",
   "metadata": {},
   "source": [
    "### Image reconstruction\n",
    "We use the RegularizedIterativeSENSEReconstruction class to reconstruct images from 2D radial data.\n",
    "RegularizedIterativeSENSEReconstruction solves the following reconstruction problem:\n",
    "\n",
    "Let's assume we have obtained the k-space data $y$ from an image $x$ with an acquisition model (Fourier transforms,\n",
    "coil sensitivity maps...) $A$ then we can formulate the forward problem as:\n",
    "\n",
    "$ y = Ax + n $\n",
    "\n",
    "where $n$ describes complex Gaussian noise. The image $x$ can be obtained by minimizing the functionl $F$\n",
    "\n",
    "$ F(x) = ||W^{\\frac{1}{2}}(Ax - y)||_2^2 $\n",
    "\n",
    "where $W^\\frac{1}{2}$ is the square root of the density compensation function (which corresponds to a diagonal\n",
    "operator). Because this is an ill-posed problem, we can add a regularization term to stabilize the problem and obtain\n",
    "a solution with certain properties:\n",
    "\n",
    "$ F(x) = ||W^{\\frac{1}{2}}(Ax - y)||_2^2 + l||Bx - x_{reg}||_2^2$\n",
    "\n",
    "where $l$ is the strength of the regularization, $B$ is a linear operator and $x_{reg}$ is a regularization image.\n",
    "With this functional $F$ we obtain a solution which is close to $x_{reg}$ and to the acquired data $y$.\n",
    "\n",
    "Setting the derivative of the functional $F$ to zero and rearranging yields\n",
    "\n",
    "$ (A^H W A + l B) x = A^H W y + l x_{reg}$\n",
    "\n",
    "which is a linear system $Hx = b$ that needs to be solved for $x$.\n",
    "\n",
    "One important question of course is, what to use for $x_{reg}$. For dynamic images (e.g. cine MRI) low-resolution\n",
    "dynamic images or high-quality static images have been proposed. In recent years, also the output of neural-networks\n",
    "has been used as an image regulariser.\n",
    "\n",
    "In this example we are going to use a high-quality image to regularize the reconstruction of an undersampled image.\n",
    "Both images are obtained from the same data acquisition (one using all the acquired data ($x_{reg}$) and one using\n",
    "only parts of it ($x$)). This of course is an unrealistic case but it will allow us to study the effect of the\n",
    "regularization."
   ]
  },
  {
   "cell_type": "code",
   "execution_count": null,
   "id": "c4da15c2",
   "metadata": {},
   "outputs": [],
   "source": [
    "import mrpro"
   ]
  },
  {
   "cell_type": "markdown",
   "id": "de055070",
   "metadata": {
    "lines_to_next_cell": 0
   },
   "source": [
    "##### Read-in the raw data"
   ]
  },
  {
   "cell_type": "code",
   "execution_count": null,
   "id": "3ac1d89f",
   "metadata": {},
   "outputs": [],
   "source": [
    "from mrpro.data import KData\n",
    "from mrpro.data.traj_calculators import KTrajectoryIsmrmrd\n",
    "\n",
    "# Load in the Data and the trajectory from the ISMRMRD file\n",
    "kdata = KData.from_file(data_file.name, KTrajectoryIsmrmrd())\n",
    "kdata.header.recon_matrix.x = 256\n",
    "kdata.header.recon_matrix.y = 256"
   ]
  },
  {
   "cell_type": "markdown",
   "id": "1f389140",
   "metadata": {},
   "source": [
    "##### Image $x_{reg}$ from fully sampled data"
   ]
  },
  {
   "cell_type": "code",
   "execution_count": null,
   "id": "212b915c",
   "metadata": {},
   "outputs": [],
   "source": [
    "from mrpro.algorithms.reconstruction import DirectReconstruction, IterativeSENSEReconstruction\n",
    "from mrpro.data import CsmData\n",
    "\n",
    "# Estimate coil maps\n",
    "direct_reconstruction = DirectReconstruction(kdata, csm=None)\n",
    "img_coilwise = direct_reconstruction(kdata)\n",
    "csm = CsmData.from_idata_walsh(img_coilwise)\n",
    "\n",
    "# Iterative SENSE reconstruction\n",
    "iterative_sense_reconstruction = IterativeSENSEReconstruction(kdata, csm=csm, n_iterations=3)\n",
    "img_iterative_sense = iterative_sense_reconstruction(kdata)"
   ]
  },
  {
   "cell_type": "markdown",
   "id": "bec6b712",
   "metadata": {},
   "source": [
    "##### Image $x$ from undersampled data"
   ]
  },
  {
   "cell_type": "code",
   "execution_count": null,
   "id": "f6740447",
   "metadata": {},
   "outputs": [],
   "source": [
    "import torch\n",
    "\n",
    "# Data undersampling, i.e. take only the first 20 radial lines\n",
    "idx_us = torch.arange(0, 20)[None, :]\n",
    "kdata_us = kdata.split_k1_into_other(idx_us, other_label='repetition')"
   ]
  },
  {
   "cell_type": "code",
   "execution_count": null,
   "id": "5fbfd664",
   "metadata": {},
   "outputs": [],
   "source": [
    "# Iterativ SENSE reconstruction\n",
    "iterative_sense_reconstruction = IterativeSENSEReconstruction(kdata_us, csm=csm, n_iterations=6)\n",
    "img_us_iterative_sense = iterative_sense_reconstruction(kdata_us)"
   ]
  },
  {
   "cell_type": "code",
   "execution_count": null,
   "id": "041ffe72",
   "metadata": {},
   "outputs": [],
   "source": [
    "# Regularized iterativ SENSE reconstruction\n",
    "from mrpro.algorithms.reconstruction import RegularizedIterativeSENSEReconstruction\n",
    "\n",
    "regularization_weight = 1.0\n",
    "n_iterations = 6\n",
    "regularized_iterative_sense_reconstruction = RegularizedIterativeSENSEReconstruction(\n",
    "    kdata_us,\n",
    "    csm=csm,\n",
    "    n_iterations=n_iterations,\n",
    "    regularization_data=img_iterative_sense.data,\n",
    "    regularization_weight=regularization_weight,\n",
    ")\n",
    "img_us_regularized_iterative_sense = regularized_iterative_sense_reconstruction(kdata_us)"
   ]
  },
  {
   "cell_type": "code",
   "execution_count": null,
   "id": "3d5bbec1",
   "metadata": {
    "lines_to_next_cell": 2
   },
   "outputs": [],
   "source": [
    "import matplotlib.pyplot as plt\n",
    "\n",
    "vis_im = [img_iterative_sense.rss(), img_us_iterative_sense.rss(), img_us_regularized_iterative_sense.rss()]\n",
    "vis_title = ['Fully sampled', 'Iterative SENSE R=20', 'Regularized Iterative SENSE R=20']\n",
    "fig, ax = plt.subplots(1, 3, squeeze=False, figsize=(12, 4))\n",
    "for ind in range(3):\n",
    "    ax[0, ind].imshow(vis_im[ind][0, 0, ...])\n",
    "    ax[0, ind].set_title(vis_title[ind])"
   ]
  },
  {
   "cell_type": "markdown",
   "id": "2bd49c87",
   "metadata": {},
   "source": [
    "### Behind the scenes"
   ]
  },
  {
   "cell_type": "markdown",
   "id": "53779251",
   "metadata": {
    "lines_to_next_cell": 0
   },
   "source": [
    "##### Set-up the density compensation operator $W$ and acquisition model $A$\n",
    "\n",
    "This is very similar to the iterative SENSE reconstruction. For more detail please look at the\n",
    "iterative_sense_reconstruction notebook."
   ]
  },
  {
   "cell_type": "code",
   "execution_count": null,
   "id": "e985a4f3",
   "metadata": {},
   "outputs": [],
   "source": [
    "dcf_operator = mrpro.data.DcfData.from_traj_voronoi(kdata_us.traj).as_operator()\n",
    "fourier_operator = mrpro.operators.FourierOp.from_kdata(kdata_us)\n",
    "csm_operator = csm.as_operator()\n",
    "acquisition_operator = fourier_operator @ csm_operator"
   ]
  },
  {
   "cell_type": "markdown",
   "id": "2daa0fee",
   "metadata": {},
   "source": [
    "##### Calculate the right-hand-side of the linear system $b = A^H W y + l x_{reg}$"
   ]
  },
  {
   "cell_type": "code",
   "execution_count": null,
   "id": "ac1d5fb4",
   "metadata": {
    "lines_to_next_cell": 2
   },
   "outputs": [],
   "source": [
    "right_hand_side = (\n",
    "    acquisition_operator.H(dcf_operator(kdata_us.data)[0])[0] + regularization_weight * img_iterative_sense.data\n",
    ")"
   ]
  },
  {
   "cell_type": "markdown",
   "id": "76a0b153",
   "metadata": {},
   "source": [
    "##### Set-up the linear self-adjoint operator $H = A^H W A + l$"
   ]
  },
  {
   "cell_type": "code",
   "execution_count": null,
   "id": "5effb592",
   "metadata": {},
   "outputs": [],
   "source": [
    "from mrpro.operators import IdentityOp\n",
    "\n",
    "operator = acquisition_operator.H @ dcf_operator @ acquisition_operator + IdentityOp() * torch.as_tensor(\n",
    "    regularization_weight\n",
    ")"
   ]
  },
  {
   "cell_type": "markdown",
   "id": "f24a8588",
   "metadata": {},
   "source": [
    "##### Run conjugate gradient"
   ]
  },
  {
   "cell_type": "code",
   "execution_count": null,
   "id": "96827838",
   "metadata": {},
   "outputs": [],
   "source": [
    "img_manual = mrpro.algorithms.optimizers.cg(\n",
    "    operator, right_hand_side, initial_value=right_hand_side, max_iterations=n_iterations, tolerance=0.0\n",
    ")"
   ]
  },
  {
   "cell_type": "code",
   "execution_count": null,
   "id": "18c065a7",
   "metadata": {},
   "outputs": [],
   "source": [
    "# Display the reconstructed image\n",
    "vis_im = [img_us_regularized_iterative_sense.rss(), img_manual.abs()[:, 0, ...]]\n",
    "vis_title = ['Regularized Iterative SENSE R=20', '\"Manual\" Regularized Iterative SENSE R=20']\n",
    "fig, ax = plt.subplots(1, 2, squeeze=False, figsize=(8, 4))\n",
    "for ind in range(2):\n",
    "    ax[0, ind].imshow(vis_im[ind][0, 0, ...])\n",
    "    ax[0, ind].set_title(vis_title[ind])"
   ]
  },
  {
   "cell_type": "markdown",
   "id": "d6d7efdf",
   "metadata": {},
   "source": [
    "### Check for equal results\n",
    "The two versions should result in the same image data."
   ]
  },
  {
   "cell_type": "code",
   "execution_count": null,
   "id": "f59b6015",
   "metadata": {},
   "outputs": [],
   "source": [
    "# If the assert statement did not raise an exception, the results are equal.\n",
    "assert torch.allclose(img_us_regularized_iterative_sense.data, img_manual)"
   ]
  },
  {
   "cell_type": "markdown",
   "id": "6ecd6e70",
   "metadata": {},
   "source": [
    "### Next steps\n",
    "Play around with the regularization_weight to see how it effects the final image quality.\n",
    "\n",
    "Of course we are cheating here because we used the fully sampled image as a regularization. In real world applications\n",
    "we would not have that. One option is to apply a low-pass filter to the undersampled k-space data to try to reduce the\n",
    "streaking artifacts and use that as a regularization image. Try that and see if you can also improve the image quality\n",
    "compared to the unregularised images."
   ]
  }
 ],
 "metadata": {
  "jupytext": {
   "cell_metadata_filter": "-all"
  },
  "kernelspec": {
   "display_name": "Python 3 (ipykernel)",
   "language": "python",
   "name": "python3"
  }
 },
 "nbformat": 4,
 "nbformat_minor": 5
}
