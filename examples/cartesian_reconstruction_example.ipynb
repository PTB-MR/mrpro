{
 "cells": [
  {
   "cell_type": "code",
   "execution_count": null,
   "id": "20b64bde",
   "metadata": {},
   "outputs": [],
   "source": [
    "import subprocess\n",
    "import tempfile\n",
    "from pathlib import Path\n",
    "\n",
    "import matplotlib.pyplot as plt\n",
    "import nibabel as nib\n",
    "import numpy as np\n",
    "import torch\n",
    "\n",
    "from mrpro.data import CsmData\n",
    "from mrpro.data import IData\n",
    "from mrpro.data import SpatialDimension\n",
    "from mrpro.data._KData import KData\n",
    "from mrpro.data.traj_calculators._KTrajectoryCartesian import KTrajectoryCartesian\n",
    "from mrpro.operators import SensitivityOp\n",
    "from mrpro.operators._FourierOp import FourierOp"
   ]
  },
  {
   "cell_type": "code",
   "execution_count": null,
   "id": "5699b27c",
   "metadata": {},
   "outputs": [],
   "source": [
    "\n",
    "# flag for conversion and saving nifty files\n",
    "# If you wish to save the resulting reconstructed image as a nifty fily, set  NIFTI = \"True\"\n",
    "NIFTI = False"
   ]
  },
  {
   "cell_type": "markdown",
   "id": "9bdb0cb5",
   "metadata": {
    "lines_to_next_cell": 0
   },
   "source": [
    "\n",
    "# Download example data\n",
    "The example data is taken from (https://zenodo.org/records/10669837).\n",
    "It entails GRE phantom scans with fully sampled cartesian trajectory.\n",
    "The sequence used was a pypulseq GRE sequence available under\n",
    "(https://github.com/imr-framework/pypulseq/blob/dev/pypulseq/seq_examples/scripts/write_gre.py)"
   ]
  },
  {
   "cell_type": "code",
   "execution_count": null,
   "id": "91400e1a",
   "metadata": {},
   "outputs": [],
   "source": [
    "# Create a temporary directory to save the downloaded files\n",
    "data_folder = Path(tempfile.mkdtemp())\n",
    "print(f'Data will be saved to: {data_folder}')\n",
    "\n",
    "# Initialize attempt counter and set maximum number of attempts\n",
    "attempt = 1\n",
    "max_attempts = 3\n",
    "\n",
    "# Start the download process\n",
    "while attempt <= max_attempts:\n",
    "    # Zenodo command for downloading\n",
    "    zenodo_cmd = f'zenodo_get 10.5281/zenodo.10669837 -o {str(data_folder)}'\n",
    "\n",
    "    # Execute the Zenodo command\n",
    "    out = subprocess.call(zenodo_cmd, shell=True)\n",
    "\n",
    "    # Check if the download was successful\n",
    "    if out == 0:\n",
    "        print('Download successful.')\n",
    "        break\n",
    "    else:\n",
    "        print(f'Download failed! Attempt {attempt} of {max_attempts}')\n",
    "        attempt += 1\n",
    "\n",
    "if attempt > max_attempts:\n",
    "    # Abort after reaching the maximum number of attempts\n",
    "    raise ConnectionError('Zenodo download failed after 3 attempts!')"
   ]
  },
  {
   "cell_type": "code",
   "execution_count": null,
   "id": "bb421a6e",
   "metadata": {},
   "outputs": [],
   "source": [
    "filepath = data_folder\n",
    "seq_filename = 'gre_example.seq'\n",
    "h5_filename = 'meas_MID00021_FID00266_pulseq.h5'"
   ]
  },
  {
   "cell_type": "markdown",
   "id": "463dbb87",
   "metadata": {},
   "source": [
    "# Read in data\n",
    "Data is read in using the downloaded .h5 file and a corresponding\n",
    "trajectory calculator (cartesian in this case). Given the trajectory\n",
    "calculator, mrpro will automatically read, sort and validate the data."
   ]
  },
  {
   "cell_type": "code",
   "execution_count": null,
   "id": "440335b1",
   "metadata": {},
   "outputs": [],
   "source": [
    "data = KData.from_file(\n",
    "    ktrajectory=KTrajectoryCartesian(),\n",
    "    filename=f'{filepath}/{h5_filename}',\n",
    ")"
   ]
  },
  {
   "cell_type": "markdown",
   "id": "5858a573",
   "metadata": {},
   "source": [
    "# Reconstruction\n",
    "Given the loaded data, the Fourier Operator is initialized next,\n",
    "with which the appropriate Fourier Transform is carried out.\n",
    "Furthermore, coil sensitivity maps are created to control for varying\n",
    "coil sensitivities throughout the scan."
   ]
  },
  {
   "cell_type": "code",
   "execution_count": null,
   "id": "2e191b77",
   "metadata": {},
   "outputs": [],
   "source": [
    "# perform FT and CSM\n",
    "ft_op = FourierOp(\n",
    "    recon_shape=SpatialDimension(1, 256, 256),\n",
    "    encoding_shape=SpatialDimension(1, 256, 256),\n",
    "    traj=data.traj,\n",
    "    oversampling=SpatialDimension(1, 1, 1),\n",
    ")\n",
    "(xcoils,) = ft_op.H(data.data)\n",
    "idata = IData.from_tensor_and_kheader(xcoils, data.header)\n",
    "\n",
    "smoothing_width = SpatialDimension(z=1, y=5, x=5)\n",
    "csm = CsmData.from_idata_walsh(idata, smoothing_width)\n",
    "sensitivity_op = SensitivityOp(csm)\n",
    "(x,) = sensitivity_op.H(xcoils)"
   ]
  },
  {
   "cell_type": "markdown",
   "id": "2ef5cb2f",
   "metadata": {
    "lines_to_next_cell": 0
   },
   "source": [
    "# See the results"
   ]
  },
  {
   "cell_type": "code",
   "execution_count": null,
   "id": "67a8b4b1",
   "metadata": {
    "lines_to_next_cell": 0
   },
   "outputs": [],
   "source": [
    "image = x.squeeze(0)\n",
    "for i in image:\n",
    "    print(i.shape)\n",
    "    plt.matshow(torch.abs(i[0]))\n",
    "    break"
   ]
  },
  {
   "cell_type": "markdown",
   "id": "8eaa2fa8",
   "metadata": {
    "lines_to_next_cell": 0
   },
   "source": [
    "# Save reconstructed images\n",
    "In case you would like to save the reconstructed images,\n",
    "set the NIFTI flag at the top to True"
   ]
  },
  {
   "cell_type": "code",
   "execution_count": null,
   "id": "fddd134c",
   "metadata": {},
   "outputs": [],
   "source": [
    "if NIFTI:\n",
    "    image = image.swapaxes(0, 2)\n",
    "    rotated = np.rot90(image.numpy(), 3)\n",
    "    ni_img = nib.Nifti1Image(np.abs(image.numpy()), affine=np.eye(4))\n",
    "    nib.save(\n",
    "        ni_img,\n",
    "        f'{filepath}/{h5_filename.split(\".\")[0]}/.nii',\n",
    "    )"
   ]
  }
 ],
 "metadata": {
  "jupytext": {
   "cell_metadata_filter": "-all",
   "main_language": "python",
   "notebook_metadata_filter": "-all"
  }
 },
 "nbformat": 4,
 "nbformat_minor": 5
}
