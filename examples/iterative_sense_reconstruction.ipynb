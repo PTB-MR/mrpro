{
 "cells": [
  {
   "cell_type": "markdown",
   "id": "97b14e1c",
   "metadata": {
    "lines_to_next_cell": 0
   },
   "source": [
    "# Iterative SENSE Reconstruction of 2D golden angle radial data\n",
    "Here we use the IterativeSENSEReconstruction class to reconstruct images from ISMRMRD 2D radial data"
   ]
  },
  {
   "cell_type": "code",
   "execution_count": null,
   "id": "a554df82",
   "metadata": {
    "lines_to_next_cell": 0
   },
   "outputs": [],
   "source": [
    "# define zenodo URL of the example ismrmd data\n",
    "zenodo_url = 'https://zenodo.org/records/10854057/files/'\n",
    "fname = 'pulseq_radial_2D_402spokes_golden_angle_with_traj.h5'"
   ]
  },
  {
   "cell_type": "code",
   "execution_count": null,
   "id": "7f969a53",
   "metadata": {},
   "outputs": [],
   "source": [
    "# Download raw data\n",
    "import tempfile\n",
    "\n",
    "import requests\n",
    "\n",
    "data_file = tempfile.NamedTemporaryFile(mode='wb', delete=False, suffix='.h5')\n",
    "response = requests.get(zenodo_url + fname, timeout=30)\n",
    "data_file.write(response.content)\n",
    "data_file.flush()"
   ]
  },
  {
   "cell_type": "markdown",
   "id": "b48681af",
   "metadata": {
    "lines_to_next_cell": 0
   },
   "source": [
    "### Image reconstruction\n",
    "We use the IterativeSENSEReconstruction class to reconstruct images from 2D radial data.\n",
    "IterativeSENSEReconstruction solves the following reconstruction problem:\n",
    "\n",
    "Let's assume we have obtained the k-space data $y$ from an image $x$ with an acquisition model (Fourier transforms,\n",
    "coil sensitivity maps...) $A$ then we can formulate the forward problem as:\n",
    "\n",
    "$ y = Ax + n $\n",
    "\n",
    "where $n$ describes complex Gaussian noise. The image $x$ can be obtained by minimizing the functional $F$\n",
    "\n",
    "$ F(x) = ||W^{\\frac{1}{2}}(Ax - y)||_2^2 $\n",
    "\n",
    "where $W^\\frac{1}{2}$ is the square root of the density compensation function (which corresponds to a diagonal\n",
    "operator).\n",
    "\n",
    "Setting the derivative of the functional $F$ to zero and rearranging yields\n",
    "\n",
    "$ A^H W A x = A^H W y$\n",
    "\n",
    "which is a linear system $Hx = b$ that needs to be solved for $x$."
   ]
  },
  {
   "cell_type": "code",
   "execution_count": null,
   "id": "ca3e27d2",
   "metadata": {},
   "outputs": [],
   "source": [
    "import mrpro"
   ]
  },
  {
   "cell_type": "markdown",
   "id": "c3e84bc8",
   "metadata": {},
   "source": [
    "##### Read-in the raw data"
   ]
  },
  {
   "cell_type": "code",
   "execution_count": null,
   "id": "38fe6ce8",
   "metadata": {},
   "outputs": [],
   "source": [
    "# Use the trajectory that is stored in the ISMRMRD file\n",
    "trajectory = mrpro.data.traj_calculators.KTrajectoryIsmrmrd()\n",
    "# Load in the Data from the ISMRMRD file\n",
    "kdata = mrpro.data.KData.from_file(data_file.name, trajectory)\n",
    "kdata.header.recon_matrix.x = 256\n",
    "kdata.header.recon_matrix.y = 256"
   ]
  },
  {
   "cell_type": "markdown",
   "id": "c6c1975b",
   "metadata": {},
   "source": [
    "##### Direct reconstruction for comparison"
   ]
  },
  {
   "cell_type": "code",
   "execution_count": null,
   "id": "5dafe6fd",
   "metadata": {},
   "outputs": [],
   "source": [
    "# For comparison we can carry out a direct reconstruction\n",
    "direct_reconstruction = mrpro.algorithms.reconstruction.DirectReconstruction(kdata)\n",
    "img_direct = direct_reconstruction(kdata)"
   ]
  },
  {
   "cell_type": "markdown",
   "id": "15833b4b",
   "metadata": {},
   "source": [
    "##### Iterative SENSE reconstruction"
   ]
  },
  {
   "cell_type": "code",
   "execution_count": null,
   "id": "6aee812a",
   "metadata": {},
   "outputs": [],
   "source": [
    "# We can use the direct reconstruction to obtain the coil maps.\n",
    "iterative_sense_reconstruction = mrpro.algorithms.reconstruction.IterativeSENSEReconstruction(\n",
    "    kdata, csm=direct_reconstruction.csm, n_iterations=4\n",
    ")\n",
    "img = iterative_sense_reconstruction(kdata)"
   ]
  },
  {
   "cell_type": "markdown",
   "id": "48f03f8c",
   "metadata": {},
   "source": [
    "### Behind the scenes"
   ]
  },
  {
   "cell_type": "markdown",
   "id": "78a39ad8",
   "metadata": {},
   "source": [
    "##### Set-up the density compensation operator $W$"
   ]
  },
  {
   "cell_type": "code",
   "execution_count": null,
   "id": "2b25396e",
   "metadata": {
    "lines_to_next_cell": 2
   },
   "outputs": [],
   "source": [
    "# The density compensation operator is calculated based on the k-space locations of the acquired data.\n",
    "dcf_operator = mrpro.data.DcfData.from_traj_voronoi(kdata.traj).as_operator()"
   ]
  },
  {
   "cell_type": "markdown",
   "id": "fd634152",
   "metadata": {},
   "source": [
    "##### Set-up the acquisition model $A$"
   ]
  },
  {
   "cell_type": "code",
   "execution_count": null,
   "id": "adfcbd02",
   "metadata": {},
   "outputs": [],
   "source": [
    "# Define Fourier operator using the trajectory and header information in kdata\n",
    "fourier_operator = mrpro.operators.FourierOp.from_kdata(kdata)\n",
    "\n",
    "# Calculate coil maps\n",
    "# Note that operators return a tuple of tensors, so we need to unpack it,\n",
    "# even though there is only one tensor returned from adjoint operator.\n",
    "img_coilwise = mrpro.data.IData.from_tensor_and_kheader(*fourier_operator.H(*dcf_operator(kdata.data)), kdata.header)\n",
    "csm_operator = mrpro.data.CsmData.from_idata_walsh(img_coilwise).as_operator()\n",
    "\n",
    "# Create the acquisition operator A\n",
    "acquisition_operator = fourier_operator @ csm_operator"
   ]
  },
  {
   "cell_type": "markdown",
   "id": "7a9dd464",
   "metadata": {},
   "source": [
    "##### Calculate the right-hand-side of the linear system $b = A^H W y$"
   ]
  },
  {
   "cell_type": "code",
   "execution_count": null,
   "id": "330c39dc",
   "metadata": {
    "lines_to_next_cell": 2
   },
   "outputs": [],
   "source": [
    "(right_hand_side,) = acquisition_operator.H(dcf_operator(kdata.data)[0])"
   ]
  },
  {
   "cell_type": "markdown",
   "id": "6c9aaa40",
   "metadata": {},
   "source": [
    "##### Set-up the linear self-adjoint operator $H = A^H W A$"
   ]
  },
  {
   "cell_type": "code",
   "execution_count": null,
   "id": "c65f82b1",
   "metadata": {},
   "outputs": [],
   "source": [
    "operator = acquisition_operator.H @ dcf_operator @ acquisition_operator"
   ]
  },
  {
   "cell_type": "markdown",
   "id": "41d178f6",
   "metadata": {},
   "source": [
    "##### Run conjugate gradient"
   ]
  },
  {
   "cell_type": "code",
   "execution_count": null,
   "id": "7f262a76",
   "metadata": {},
   "outputs": [],
   "source": [
    "img_manual = mrpro.algorithms.optimizers.cg(\n",
    "    operator, right_hand_side, initial_value=right_hand_side, max_iterations=4, tolerance=0.0\n",
    ")"
   ]
  },
  {
   "cell_type": "code",
   "execution_count": null,
   "id": "cbc7849c",
   "metadata": {},
   "outputs": [],
   "source": [
    "# Display the reconstructed image\n",
    "import matplotlib.pyplot as plt\n",
    "import torch\n",
    "\n",
    "fig, ax = plt.subplots(1, 3, squeeze=False)\n",
    "ax[0, 0].imshow(img_direct.rss()[0, 0, :, :])\n",
    "ax[0, 0].set_title('Direct Reconstruction', fontsize=10)\n",
    "ax[0, 1].imshow(img.rss()[0, 0, :, :])\n",
    "ax[0, 1].set_title('Iterative SENSE', fontsize=10)\n",
    "ax[0, 2].imshow(img_manual.abs()[0, 0, 0, :, :])\n",
    "ax[0, 2].set_title('\"Manual\" Iterative SENSE', fontsize=10)"
   ]
  },
  {
   "cell_type": "markdown",
   "id": "fcc1810b",
   "metadata": {},
   "source": [
    "### Check for equal results\n",
    "The two versions result should in the same image data."
   ]
  },
  {
   "cell_type": "code",
   "execution_count": null,
   "id": "9f5f825f",
   "metadata": {},
   "outputs": [],
   "source": [
    "# If the assert statement did not raise an exception, the results are equal.\n",
    "assert torch.allclose(img.data, img_manual)"
   ]
  }
 ],
 "metadata": {
  "jupytext": {
   "cell_metadata_filter": "-all"
  },
  "kernelspec": {
   "display_name": "Python 3 (ipykernel)",
   "language": "python",
   "name": "python3"
  }
 },
 "nbformat": 4,
 "nbformat_minor": 5
}
