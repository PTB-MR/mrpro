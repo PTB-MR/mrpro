{
 "cells": [
  {
   "cell_type": "markdown",
   "id": "97b14e1c",
   "metadata": {
    "lines_to_next_cell": 0
   },
   "source": [
    "# Iterative SENSE Reconstruction of 2D golden angle radial data\n",
    "Here we use the IterativeSenseReconstruction class to reconstruct images from ISMRMRD 2D radial data"
   ]
  },
  {
   "cell_type": "code",
   "execution_count": null,
   "id": "a554df82",
   "metadata": {
    "lines_to_next_cell": 0
   },
   "outputs": [],
   "source": [
    "# define zenodo URL of the example ismrmd data\n",
    "zenodo_url = 'https://zenodo.org/records/10854057/files/'\n",
    "fname = 'pulseq_radial_2D_402spokes_golden_angle_with_traj.h5'"
   ]
  },
  {
   "cell_type": "code",
   "execution_count": null,
   "id": "7f969a53",
   "metadata": {},
   "outputs": [],
   "source": [
    "# Download raw data\n",
    "import tempfile\n",
    "from pathlib import Path\n",
    "\n",
    "import requests\n",
    "\n",
    "data_folder = Path(tempfile.mkdtemp())\n",
    "data_file = tempfile.NamedTemporaryFile(dir=data_folder, mode='wb', delete=False, suffix='.h5')\n",
    "response = requests.get(zenodo_url + fname, timeout=30)\n",
    "data_file.write(response.content)"
   ]
  },
  {
   "cell_type": "markdown",
   "id": "b48681af",
   "metadata": {
    "lines_to_next_cell": 0
   },
   "source": [
    "### Image reconstruction\n",
    "We use the IterativeSenseReconstruction class to reconstruct images from 2D radial data.\n",
    "IterativeSenseReconstruction solves the following reconstruction problem:\n",
    "\n",
    "Let's assume we have obtained the k-space data $y$ from an image $x$ with an acquisition model (Fourier transforms,\n",
    "coil sensitivity maps...) $A$ then we can formulate the forward problem as:\n",
    "\n",
    "$ y = Ax + n $\n",
    "\n",
    "where $n$ describes complex Gaussian noise. Now we want to solve the inverse problem by minimizing\n",
    "\n",
    "$ \\min_x \\frac{1}{2}||W^{\\frac{1}{2}}(Ax - y)||_2^2 $\n",
    "\n",
    "where $W^\\frac{1}{2}$ is the square root of the density compensation function. We can rewrite this problem as:\n",
    "\n",
    "$ W^\\frac{1}{2}Ax = W^\\frac{1}{2}y$\n",
    "\n",
    "$ A^H W A x = A^H W y$\n",
    "\n",
    "$ H x = b $ $\\quad$ Eq (1)\n",
    "\n",
    "with $H = A^H W A$ and $b = A^H W y$ which can be solved with a conjugate gradient approach."
   ]
  },
  {
   "cell_type": "code",
   "execution_count": null,
   "id": "38fe6ce8",
   "metadata": {},
   "outputs": [],
   "source": [
    "import mrpro\n",
    "\n",
    "# Use the trajectory that is stored in the ISMRMRD file\n",
    "trajectory = mrpro.data.traj_calculators.KTrajectoryIsmrmrd()\n",
    "# Load in the Data from the ISMRMRD file\n",
    "kdata = mrpro.data.KData.from_file(data_file.name, trajectory)\n",
    "kdata.header.recon_matrix.x = 100\n",
    "kdata.header.recon_matrix.y = 100"
   ]
  },
  {
   "cell_type": "code",
   "execution_count": null,
   "id": "5dafe6fd",
   "metadata": {
    "lines_to_next_cell": 2
   },
   "outputs": [],
   "source": [
    "iterative_sense_reconstruction = mrpro.algorithms.reconstruction.IterativeSenseReconstruction.from_kdata(\n",
    "    kdata, n_max_iter=4\n",
    ")\n",
    "img = iterative_sense_reconstruction(kdata)"
   ]
  },
  {
   "cell_type": "markdown",
   "id": "48f03f8c",
   "metadata": {},
   "source": [
    "### Behind the scenes"
   ]
  },
  {
   "cell_type": "markdown",
   "id": "78a39ad8",
   "metadata": {},
   "source": [
    "##### $W$"
   ]
  },
  {
   "cell_type": "code",
   "execution_count": null,
   "id": "2b25396e",
   "metadata": {
    "lines_to_next_cell": 2
   },
   "outputs": [],
   "source": [
    "# Calculate dcf using the trajectory\n",
    "dcf_operator = mrpro.data.DcfData.from_traj_voronoi(kdata.traj).as_operator()"
   ]
  },
  {
   "cell_type": "markdown",
   "id": "fd634152",
   "metadata": {},
   "source": [
    "##### $A$"
   ]
  },
  {
   "cell_type": "code",
   "execution_count": null,
   "id": "adfcbd02",
   "metadata": {},
   "outputs": [],
   "source": [
    "# Define Fourier operator using the trajectory and header information in kdata\n",
    "fourier_operator = mrpro.operators.FourierOp.from_kdata(kdata)\n",
    "\n",
    "# Calculate coil maps\n",
    "# Note that operators return a tuple of tensors, so we need to unpack it,\n",
    "# even though there is only one tensor returned from adjoint operator.\n",
    "img_coilwise = mrpro.data.IData.from_tensor_and_kheader(*fourier_operator.H(*dcf_operator(kdata.data)), kdata.header)\n",
    "csm_operator = mrpro.data.CsmData.from_idata_walsh(img_coilwise).as_operator()\n",
    "\n",
    "# Create the acquisition operator A\n",
    "acquisition_operator = fourier_operator @ csm_operator"
   ]
  },
  {
   "cell_type": "markdown",
   "id": "7a9dd464",
   "metadata": {},
   "source": [
    "##### $b = A^H W y$"
   ]
  },
  {
   "cell_type": "code",
   "execution_count": null,
   "id": "330c39dc",
   "metadata": {
    "lines_to_next_cell": 2
   },
   "outputs": [],
   "source": [
    "(right_hand_side,) = acquisition_operator.H(dcf_operator(kdata.data)[0])"
   ]
  },
  {
   "cell_type": "markdown",
   "id": "6c9aaa40",
   "metadata": {},
   "source": [
    "##### $H = A^H W A$"
   ]
  },
  {
   "cell_type": "code",
   "execution_count": null,
   "id": "c65f82b1",
   "metadata": {},
   "outputs": [],
   "source": [
    "cg_operator = acquisition_operator.H @ dcf_operator @ acquisition_operator"
   ]
  },
  {
   "cell_type": "markdown",
   "id": "41d178f6",
   "metadata": {},
   "source": [
    "##### Conjugate gradient minimisation"
   ]
  },
  {
   "cell_type": "code",
   "execution_count": null,
   "id": "7f262a76",
   "metadata": {
    "lines_to_next_cell": 2
   },
   "outputs": [],
   "source": [
    "import torch\n",
    "\n",
    "img_manual = mrpro.algorithms.optimizers.cg(\n",
    "    cg_operator, right_hand_side, initial_value=right_hand_side, max_iterations=4\n",
    ")"
   ]
  },
  {
   "cell_type": "code",
   "execution_count": null,
   "id": "64976733",
   "metadata": {},
   "outputs": [],
   "source": [
    "# For comparison we can also carry out a direct reconstruction\n",
    "direct_reconstruction = mrpro.algorithms.reconstruction.DirectReconstruction.from_kdata(kdata)\n",
    "img_direct = direct_reconstruction(kdata).rss().cpu()\n",
    "img_direct = img_direct"
   ]
  },
  {
   "cell_type": "code",
   "execution_count": null,
   "id": "cbc7849c",
   "metadata": {},
   "outputs": [],
   "source": [
    "# Display the reconstructed image\n",
    "import matplotlib.pyplot as plt\n",
    "\n",
    "fig, ax = plt.subplots(1, 3)\n",
    "ax[0].imshow(img_direct.data[0, 0, :, :])\n",
    "ax[0].set_title('Direct Reconstruction', fontsize=10)\n",
    "ax[1].imshow(torch.abs(img.data[0, 0, 0, :, :]))\n",
    "ax[1].set_title('Iterative SENSE', fontsize=10)\n",
    "ax[2].imshow(torch.abs(img_manual[0, 0, 0, :, :]))\n",
    "ax[2].set_title('\"Manual\" Iterative SENSE', fontsize=10)"
   ]
  },
  {
   "cell_type": "markdown",
   "id": "fcc1810b",
   "metadata": {},
   "source": [
    "### Check for equal results\n",
    "The two versions result should in the same image data."
   ]
  },
  {
   "cell_type": "code",
   "execution_count": null,
   "id": "9f5f825f",
   "metadata": {},
   "outputs": [],
   "source": [
    "# If the assert statement did not raise an exception, the results are equal.\n",
    "assert torch.allclose(img.data, img_manual)"
   ]
  },
  {
   "cell_type": "markdown",
   "id": "11441f13",
   "metadata": {},
   "source": [
    "Copyright 2024 Physikalisch-Technische Bundesanstalt\n",
    "Apache License 2.0. See LICENSE file for details."
   ]
  }
 ],
 "metadata": {
  "jupytext": {
   "cell_metadata_filter": "-all"
  },
  "kernelspec": {
   "display_name": "Python 3 (ipykernel)",
   "language": "python",
   "name": "python3"
  }
 },
 "nbformat": 4,
 "nbformat_minor": 5
}
