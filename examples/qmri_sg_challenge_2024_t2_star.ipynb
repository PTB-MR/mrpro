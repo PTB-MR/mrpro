{
 "cells": [
  {
   "cell_type": "markdown",
   "id": "5efa18e9",
   "metadata": {},
   "source": [
    "# QMRI Challenge ISMRM 2024 - $T_2^*$ mapping"
   ]
  },
  {
   "cell_type": "code",
   "execution_count": null,
   "id": "0ff5b166",
   "metadata": {},
   "outputs": [],
   "source": [
    "# Imports\n",
    "import shutil\n",
    "import tempfile\n",
    "import time\n",
    "import zipfile\n",
    "from pathlib import Path\n",
    "\n",
    "import matplotlib.pyplot as plt\n",
    "import torch\n",
    "import zenodo_get\n",
    "from mpl_toolkits.axes_grid1 import make_axes_locatable  # type: ignore [import-untyped]\n",
    "from mrpro.algorithms.optimizers import adam\n",
    "from mrpro.data import IData\n",
    "from mrpro.operators.functionals import MSE\n",
    "from mrpro.operators.models import MonoExponentialDecay"
   ]
  },
  {
   "cell_type": "markdown",
   "id": "0141573c",
   "metadata": {},
   "source": [
    "### Overview\n",
    "The dataset consists of gradient echo images obtained at 11 different echo times, each saved in a separate DICOM file.\n",
    "In order to obtain a $T_2^*$ map, we are going to:\n",
    "- download the data from Zenodo\n",
    "- read in the DICOM files (one for each echo time) and combine them in an IData object\n",
    "- define a signal model (mono-exponential decay) and data loss (mean-squared error) function\n",
    "- carry out a fit using ADAM from PyTorch\n",
    "\n",
    "Everything is based on PyTorch, and therefore we can run the code either on the CPU or GPU. Simply set the flag below\n",
    "to True to run the parameter estimation on the GPU."
   ]
  },
  {
   "cell_type": "code",
   "execution_count": null,
   "id": "0d96cff3",
   "metadata": {},
   "outputs": [],
   "source": [
    "flag_use_cuda = False"
   ]
  },
  {
   "cell_type": "markdown",
   "id": "88f3c8c4",
   "metadata": {},
   "source": [
    "### Get data from Zenodo"
   ]
  },
  {
   "cell_type": "code",
   "execution_count": null,
   "id": "ee6894e1",
   "metadata": {},
   "outputs": [],
   "source": [
    "data_folder = Path(tempfile.mkdtemp())\n",
    "dataset = '10868361'\n",
    "zenodo_get.zenodo_get([dataset, '-r', 5, '-o', data_folder])  # r: retries\n",
    "with zipfile.ZipFile(data_folder / Path('T2star.zip'), 'r') as zip_ref:\n",
    "    zip_ref.extractall(data_folder)"
   ]
  },
  {
   "cell_type": "markdown",
   "id": "09005fc6",
   "metadata": {
    "lines_to_next_cell": 0
   },
   "source": [
    "### Create image data (IData) object with different echo times"
   ]
  },
  {
   "cell_type": "code",
   "execution_count": null,
   "id": "5b43a84c",
   "metadata": {},
   "outputs": [],
   "source": [
    "te_dicom_files = data_folder.glob('**/*.dcm')\n",
    "idata_multi_te = IData.from_dicom_files(te_dicom_files)\n",
    "# scaling the signal down to make the optimization easier\n",
    "idata_multi_te.data[...] = idata_multi_te.data / 1500\n",
    "\n",
    "# Move the data to the GPU\n",
    "if flag_use_cuda:\n",
    "    idata_multi_te = idata_multi_te.cuda()\n",
    "\n",
    "if idata_multi_te.header.te is None:\n",
    "    raise ValueError('Echo times need to be defined in the DICOM files.')"
   ]
  },
  {
   "cell_type": "code",
   "execution_count": null,
   "id": "1b567ec5",
   "metadata": {},
   "outputs": [],
   "source": [
    "# Let's have a look at some of the images\n",
    "fig, axes = plt.subplots(1, 3, squeeze=False)\n",
    "for idx, ax in enumerate(axes.flatten()):\n",
    "    ax.imshow(torch.abs(idata_multi_te.data[idx, 0, 0, :, :]).cpu())\n",
    "    ax.set_title(f'TE = {idata_multi_te.header.te[idx]:.3f}s')"
   ]
  },
  {
   "cell_type": "markdown",
   "id": "e8ce841d",
   "metadata": {},
   "source": [
    "### Signal model and loss function\n",
    "We use the model $q$\n",
    "\n",
    "$q(TE) = M_0 e^{-TE/T_2^*}$\n",
    "\n",
    "with the equilibrium magnetization $M_0$, the echo time $TE$, and $T_2^*$"
   ]
  },
  {
   "cell_type": "code",
   "execution_count": null,
   "id": "ad47d48a",
   "metadata": {},
   "outputs": [],
   "source": [
    "model = MonoExponentialDecay(decay_time=idata_multi_te.header.te)"
   ]
  },
  {
   "cell_type": "markdown",
   "id": "aec6a1e0",
   "metadata": {
    "lines_to_next_cell": 0
   },
   "source": [
    "As a loss function for the optimizer, we calculate the mean-squared error between the image data $x$ and our signal\n",
    "model $q$."
   ]
  },
  {
   "cell_type": "code",
   "execution_count": null,
   "id": "36520147",
   "metadata": {},
   "outputs": [],
   "source": [
    "mse = MSE(idata_multi_te.data)"
   ]
  },
  {
   "cell_type": "markdown",
   "id": "ce7b901a",
   "metadata": {
    "lines_to_next_cell": 0
   },
   "source": [
    "Now we can simply combine the two into a functional which will then solve\n",
    "\n",
    "$ \\min_{M_0, T_2^*} ||q(M_0, T_2^*, TE) - x||_2^2$"
   ]
  },
  {
   "cell_type": "code",
   "execution_count": null,
   "id": "ee5863a7",
   "metadata": {},
   "outputs": [],
   "source": [
    "functional = mse @ model"
   ]
  },
  {
   "cell_type": "markdown",
   "id": "c928a357",
   "metadata": {},
   "source": [
    "### Carry out fit"
   ]
  },
  {
   "cell_type": "code",
   "execution_count": null,
   "id": "d3a4e2f8",
   "metadata": {},
   "outputs": [],
   "source": [
    "# The shortest echo time is a good approximation of the equilibrium magnetization\n",
    "m0_start = torch.abs(idata_multi_te.data[torch.argmin(idata_multi_te.header.te), ...])\n",
    "# 20 ms as a starting value for T2*\n",
    "t2star_start = torch.ones(m0_start.shape, dtype=torch.float32, device=m0_start.device) * 20e-3\n",
    "\n",
    "# Hyperparameters for optimizer\n",
    "max_iter = 20000\n",
    "lr = 1e-3\n",
    "\n",
    "if flag_use_cuda:\n",
    "    functional.cuda()\n",
    "\n",
    "# Run optimization\n",
    "start_time = time.time()\n",
    "params_result = adam(functional, [m0_start, t2star_start], max_iter=max_iter, lr=lr)\n",
    "print(f'Optimization took {time.time() - start_time}s')\n",
    "m0, t2star = (p.detach() for p in params_result)\n",
    "m0[torch.isnan(t2star)] = 0\n",
    "t2star[torch.isnan(t2star)] = 0"
   ]
  },
  {
   "cell_type": "markdown",
   "id": "848dbf87",
   "metadata": {
    "lines_to_next_cell": 0
   },
   "source": [
    "### Visualize the final results\n",
    "To get an impression of how well the fit has worked, we are going to calculate the relative error between\n",
    "\n",
    "$E_{relative} = \\sum_{TE}\\frac{|(q(M_0, T_2^*, TE) - x)|}{|x|}$\n",
    "\n",
    "on a voxel-by-voxel basis."
   ]
  },
  {
   "cell_type": "code",
   "execution_count": null,
   "id": "077b3bc3",
   "metadata": {
    "lines_to_next_cell": 2
   },
   "outputs": [],
   "source": [
    "img_mult_te_abs_sum = torch.sum(torch.abs(idata_multi_te.data), dim=0)\n",
    "relative_absolute_error = torch.sum(torch.abs(model(m0, t2star)[0] - idata_multi_te.data), dim=0) / (\n",
    "    img_mult_te_abs_sum + 1e-9\n",
    ")\n",
    "fig, axes = plt.subplots(1, 3, figsize=(10, 2), squeeze=False)\n",
    "colorbar_ax = [make_axes_locatable(ax).append_axes('right', size='5%', pad=0.05) for ax in axes[0, :]]\n",
    "\n",
    "im = axes[0, 0].imshow(m0[0, 0, ...].cpu())\n",
    "axes[0, 0].set_title('$M_0$')\n",
    "fig.colorbar(im, cax=colorbar_ax[0])\n",
    "\n",
    "im = axes[0, 1].imshow(t2star[0, 0, ...].cpu(), vmin=0, vmax=5)\n",
    "axes[0, 1].set_title('$T_2^*$')\n",
    "fig.colorbar(im, cax=colorbar_ax[1], label='s')\n",
    "\n",
    "im = axes[0, 2].imshow(relative_absolute_error[0, 0, ...].cpu(), vmin=0, vmax=0.1)\n",
    "axes[0, 2].set_title('Relative error')\n",
    "fig.colorbar(im, cax=colorbar_ax[2])"
   ]
  },
  {
   "cell_type": "code",
   "execution_count": null,
   "id": "ac804997",
   "metadata": {},
   "outputs": [],
   "source": [
    "# Clean-up by removing temporary directory\n",
    "shutil.rmtree(data_folder)"
   ]
  }
 ],
 "metadata": {
  "jupytext": {
   "cell_metadata_filter": "-all"
  },
  "kernelspec": {
   "display_name": "Python 3 (ipykernel)",
   "language": "python",
   "name": "python3"
  }
 },
 "nbformat": 4,
 "nbformat_minor": 5
}
