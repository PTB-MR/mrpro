{
 "cells": [
  {
   "cell_type": "code",
   "execution_count": null,
   "id": "adc09a63",
   "metadata": {},
   "outputs": [],
   "source": [
    "import subprocess\n",
    "import tempfile\n",
    "from pathlib import Path\n",
    "\n",
    "import matplotlib.pyplot as plt\n",
    "import torch\n",
    "\n",
    "from mrpro.data import SpatialDimension\n",
    "from mrpro.data._CsmData._CsmData import CsmData\n",
    "from mrpro.data._IData import IData\n",
    "from mrpro.data._KData import KData\n",
    "from mrpro.data.traj_calculators._KTrajectoryCartesian import KTrajectoryCartesian\n",
    "from mrpro.operators import SensitivityOp\n",
    "from mrpro.operators._FourierOp import FourierOp"
   ]
  },
  {
   "cell_type": "code",
   "execution_count": null,
   "id": "e856f3ec",
   "metadata": {},
   "outputs": [],
   "source": [
    "data_folder = Path(tempfile.mkdtemp())\n",
    "print(f'Data will be saved to: {data_folder}')\n",
    "\n",
    "# Initialize attempt counter and set maximum number of attempts\n",
    "attempt = 1\n",
    "max_attempts = 3\n",
    "\n",
    "# Start the download process\n",
    "while attempt <= max_attempts:\n",
    "    # Zenodo command for downloading\n",
    "    zenodo_cmd = f'zenodo_get 10.5281/zenodo.10669837 -o {str(data_folder)}'\n",
    "\n",
    "    # Execute the Zenodo command\n",
    "    out = subprocess.call(zenodo_cmd, shell=True)\n",
    "\n",
    "    # Check if the download was successful\n",
    "    if out == 0:\n",
    "        print('Download successful.')\n",
    "        break\n",
    "    else:\n",
    "        print(f'Download failed! Attempt {attempt} of {max_attempts}')\n",
    "        attempt += 1\n",
    "\n",
    "if attempt > max_attempts:\n",
    "    # Abort after reaching the maximum number of attempts\n",
    "    raise ConnectionError('Zenodo download failed after 3 attempts!')"
   ]
  },
  {
   "cell_type": "code",
   "execution_count": null,
   "id": "94cd9cf9",
   "metadata": {},
   "outputs": [],
   "source": [
    "filepath = data_folder\n",
    "seq_filename = 'gre_example.seq'\n",
    "h5_filename = 'meas_MID00021_FID00266_pulseq.h5'"
   ]
  },
  {
   "cell_type": "code",
   "execution_count": null,
   "id": "c88e60f9",
   "metadata": {
    "lines_to_next_cell": 0
   },
   "outputs": [],
   "source": [
    "data = KData.from_file(\n",
    "    ktrajectory=KTrajectoryCartesian(),\n",
    "    filename=f'{filepath}/{h5_filename}',\n",
    ")"
   ]
  },
  {
   "cell_type": "code",
   "execution_count": null,
   "id": "159f2379",
   "metadata": {},
   "outputs": [],
   "source": [
    "# create operator\n",
    "op = FourierOp(\n",
    "    recon_shape=SpatialDimension(1, 256, 256),\n",
    "    encoding_shape=SpatialDimension(1, 256, 256),\n",
    "    traj=data.traj,\n",
    "    oversampling=SpatialDimension(1, 1, 1),\n",
    ")"
   ]
  },
  {
   "cell_type": "code",
   "execution_count": null,
   "id": "9516bda6",
   "metadata": {
    "lines_to_next_cell": 0
   },
   "outputs": [],
   "source": [
    "(xcoils,) = op.H(data.data)\n",
    "idata = IData.from_tensor_and_kheader(xcoils, data.header)\n",
    "\n",
    "smoothing_width = SpatialDimension(z=1, y=5, x=5)\n",
    "csm = CsmData.from_idata_inati(idata=idata, ks=1, power=1)\n",
    "sensitivity_op = SensitivityOp(csm)\n",
    "(x,) = sensitivity_op.H(xcoils)"
   ]
  },
  {
   "cell_type": "code",
   "execution_count": null,
   "id": "ea17d890",
   "metadata": {
    "lines_to_next_cell": 0
   },
   "outputs": [],
   "source": [
    "image = x.abs().square().sum(1).sqrt()\n",
    "image = image.squeeze()\n",
    "for i in image:\n",
    "    print(i.shape)\n",
    "    plt.matshow(torch.abs(i))\n",
    "    break"
   ]
  },
  {
   "cell_type": "code",
   "execution_count": null,
   "id": "bb80b581",
   "metadata": {},
   "outputs": [],
   "source": []
  }
 ],
 "metadata": {
  "jupytext": {
   "cell_metadata_filter": "-all"
  },
  "kernelspec": {
   "display_name": "Python 3 (ipykernel)",
   "language": "python",
   "name": "python3"
  }
 },
 "nbformat": 4,
 "nbformat_minor": 5
}
