{
 "cells": [
  {
   "cell_type": "markdown",
   "id": "1606223d",
   "metadata": {},
   "source": [
    "# Basics and Cartesian Reconstructions\n",
    "Here we are going to have a look at a few basics of MRpro and reconstruct data acquired with a Cartesian sampling\n",
    "pattern."
   ]
  },
  {
   "cell_type": "markdown",
   "id": "6442c71d",
   "metadata": {},
   "source": [
    "## Overview\n",
    "\n",
    "In this notebook we are going to explore the MRpro KData object and the included header parameters. We will then use\n",
    "a FFT-operator in order to reconstruct data acquired with a Cartesian sampling scheme. We will also reconstruct data\n",
    "acquired on a Cartesian grid but with partial echo and partial Fourier acceleration. Finally we will reconstruct a\n",
    "Cartesian scan with regular undersampling using iterative SENSE."
   ]
  },
  {
   "cell_type": "markdown",
   "id": "c8e96446",
   "metadata": {},
   "source": [
    "## Import MRpro and download data"
   ]
  },
  {
   "cell_type": "code",
   "execution_count": null,
   "id": "ac2a1011",
   "metadata": {
    "lines_to_next_cell": 0
   },
   "outputs": [],
   "source": []
  },
  {
   "cell_type": "code",
   "execution_count": null,
   "id": "e5089e32",
   "metadata": {},
   "outputs": [],
   "source": [
    "# Get the raw data from zenodo\n",
    "import tempfile\n",
    "from pathlib import Path\n",
    "\n",
    "import mrpro\n",
    "import zenodo_get\n",
    "\n",
    "data_folder = Path(tempfile.mkdtemp())\n",
    "dataset = '14173489'\n",
    "zenodo_get.zenodo_get([dataset, '-r', 5, '-o', data_folder])  # r: retries"
   ]
  },
  {
   "cell_type": "code",
   "execution_count": null,
   "id": "24b9f069",
   "metadata": {},
   "outputs": [],
   "source": [
    "# List the downloaded files\n",
    "from os import listdir\n",
    "\n",
    "for f in listdir(data_folder):\n",
    "    print(f)"
   ]
  },
  {
   "cell_type": "markdown",
   "id": "ad3b1259",
   "metadata": {},
   "source": [
    "So we have three different scans obtained from the same object with the same FOV and resolution:\n",
    "\n",
    "- cart_t1.mrd is a fully sampled Cartesian acquisition\n",
    "\n",
    "- cart_t1_partial_echo_partial_fourier.mrd is accelerated using partial echo and partial Fourier\n",
    "\n",
    "- cart_t1_msense_integrated.mrd is accelerated using regular undersampling and self-calibrated SENSE"
   ]
  },
  {
   "cell_type": "markdown",
   "id": "ab5985de",
   "metadata": {},
   "source": [
    "## Read in raw data and explore header\n",
    "\n",
    "To read in a ISMRMRD raw data file we can simply pass on the file name to a KData object. In addition we also have to\n",
    "provide information about the trajectory. In MRpro this is done using trajectory calculators, which are functions that\n",
    "calculate the trajectory based on the acquisition information and additional parameters provided to the calculators\n",
    "(e.g. the angular step for a radial acquisition).\n",
    "\n",
    "In this case we have a Cartesian acquisition so we only need to provide a Cartesian trajectory calculator without any\n",
    "further parameters."
   ]
  },
  {
   "cell_type": "code",
   "execution_count": null,
   "id": "9e8cc6c7",
   "metadata": {},
   "outputs": [],
   "source": [
    "kdata = mrpro.data.KData.from_file(\n",
    "    data_folder / Path('cart_t1.mrd'), mrpro.data.traj_calculators.KTrajectoryCartesian()\n",
    ")"
   ]
  },
  {
   "cell_type": "markdown",
   "id": "adda70f1",
   "metadata": {},
   "source": [
    "Now we can explore this data object."
   ]
  },
  {
   "cell_type": "code",
   "execution_count": null,
   "id": "703daa5a",
   "metadata": {},
   "outputs": [],
   "source": [
    "# Start with simply calling print(kdata)\n",
    "print(kdata)"
   ]
  },
  {
   "cell_type": "code",
   "execution_count": null,
   "id": "960a2c8a",
   "metadata": {},
   "outputs": [],
   "source": [
    "# We can also have a look at the content of the header\n",
    "print(kdata.header.acq_info.position[0, 0, 0, 0])"
   ]
  },
  {
   "cell_type": "markdown",
   "id": "b083edfc",
   "metadata": {},
   "source": [
    "## Reconstruction of fully sampled acquisition\n",
    "\n",
    "We have got a fully sampled Cartesian acquisition so we know we can use a Fast Fourier Transform (FFT) to\n",
    "reconstruction the data.\n",
    "\n",
    "Let's create an FFT-operator and apply it to kdata. Here it is important to note that all MRpro operators work on\n",
    "PyTorch tensors and not on the MRpro objects directly. Therefore we have to call the operator on kdata.data. One other\n",
    "important feature of MRpro operators is that the always return a tuple of length 1 of PyTorch tensors."
   ]
  },
  {
   "cell_type": "code",
   "execution_count": null,
   "id": "24e79e3a",
   "metadata": {},
   "outputs": [],
   "source": [
    "fft_op = mrpro.operators.FastFourierOp(dim=(-2, -1))\n",
    "img = fft_op.adjoint(kdata.data)[0]"
   ]
  },
  {
   "cell_type": "markdown",
   "id": "9eebf952",
   "metadata": {},
   "source": [
    "Let's have a look at the shape of the obtained tensor."
   ]
  },
  {
   "cell_type": "code",
   "execution_count": null,
   "id": "51158c3a",
   "metadata": {},
   "outputs": [],
   "source": [
    "print(img.shape)"
   ]
  },
  {
   "cell_type": "markdown",
   "id": "2ea1ce99",
   "metadata": {},
   "source": [
    "We can see that the second dimension which is the coil dimension is 16, so we still have a coil resolved dataset. We\n",
    "can use a simply root-sum-of-squares approach to combine them into one. Later we will do something a bit more\n",
    "sophisticated. We can also see that the x-dimension is 512. This is because in MRI we commonly oversample the readout\n",
    "direction by a factor 2 leading to a FOV twice as large as we actually need. We can either remove this oversampling\n",
    "along the readout direction or we can simply tell the FFT-operator to remove it by providing the correct output matrix\n",
    "size (recon_matrix)."
   ]
  },
  {
   "cell_type": "code",
   "execution_count": null,
   "id": "59686881",
   "metadata": {},
   "outputs": [],
   "source": [
    "fft_op = mrpro.operators.FastFourierOp(\n",
    "    dim=(-2, -1), recon_matrix=kdata.header.recon_matrix, encoding_matrix=kdata.header.encoding_matrix\n",
    ")\n",
    "img = fft_op.adjoint(kdata.data)[0]\n",
    "print(img.shape)"
   ]
  },
  {
   "cell_type": "markdown",
   "id": "9aebc2d1",
   "metadata": {},
   "source": [
    "Now we have an image which is 256 x 256 voxel as we would expect. Let's combine the data from the different receiver\n",
    "coils using root-sum-of-squares and then display the image."
   ]
  },
  {
   "cell_type": "code",
   "execution_count": null,
   "id": "367e3ea7",
   "metadata": {
    "lines_to_next_cell": 2
   },
   "outputs": [],
   "source": [
    "import torch\n",
    "\n",
    "img = torch.sqrt(torch.sum(img**2, dim=1)).abs()\n",
    "\n",
    "import matplotlib.pyplot as plt\n",
    "\n",
    "plt.figure()\n",
    "plt.imshow(img[0, 0])"
   ]
  },
  {
   "cell_type": "markdown",
   "id": "93f1bc4f",
   "metadata": {},
   "source": [
    "## Reconstruction of acquisition with partial echo and partial Fourier\n",
    "\n",
    "Great! That was very easy so let's try to reconstruct the next dataset."
   ]
  },
  {
   "cell_type": "code",
   "execution_count": null,
   "id": "8d8f961d",
   "metadata": {
    "lines_to_next_cell": 2
   },
   "outputs": [],
   "source": [
    "kdata_pe_pf = mrpro.data.KData.from_file(\n",
    "    data_folder / Path('cart_t1_partial_echo_partial_fourier.mrd'), mrpro.data.traj_calculators.KTrajectoryCartesian()\n",
    ")\n",
    "fft_op = mrpro.operators.FastFourierOp(\n",
    "    dim=(-2, -1), recon_matrix=kdata.header.recon_matrix, encoding_matrix=kdata.header.encoding_matrix\n",
    ")\n",
    "img_pe_pf = fft_op.adjoint(kdata_pe_pf.data)[0]\n",
    "img_pe_pf = torch.sqrt(torch.sum(img_pe_pf**2, dim=1)).abs()\n",
    "\n",
    "fig, ax = plt.subplots(1, 2, squeeze=False)\n",
    "ax[0, 0].imshow(img[0, 0])\n",
    "ax[0, 1].imshow(img_pe_pf[0, 0])"
   ]
  },
  {
   "cell_type": "markdown",
   "id": "9f2eaaec",
   "metadata": {},
   "source": [
    "Well we get an image out but when we compare it to the previous result it seems the head as shrunk. As this is not\n",
    "very likely there is probably a mistake in our reconstruction.\n",
    "\n",
    "Alright let's take a step back and have a look at the trajectory of both scans."
   ]
  },
  {
   "cell_type": "code",
   "execution_count": null,
   "id": "90a6a2bb",
   "metadata": {},
   "outputs": [],
   "source": [
    "print(kdata.traj)"
   ]
  },
  {
   "cell_type": "markdown",
   "id": "bfd8a051",
   "metadata": {},
   "source": [
    "We can see that the trajectory consists of a kz, ky and kx part. Kx and ky only vary along a single dimension. The\n",
    "reason for this is that we try to save the trajectory in the most efficient way in MRpro. If we want to get the full\n",
    "trajectory as a tensor we can call as_tensor()."
   ]
  },
  {
   "cell_type": "code",
   "execution_count": null,
   "id": "9fd011dd",
   "metadata": {},
   "outputs": [],
   "source": [
    "plt.figure()\n",
    "plt.plot(kdata.traj.as_tensor()[2, 0, 0, :, :].flatten(), kdata.traj.as_tensor()[1, 0, 0, :, :].flatten(), 'ob')\n",
    "plt.plot(\n",
    "    kdata_pe_pf.traj.as_tensor()[2, 0, 0, :, :].flatten(), kdata_pe_pf.traj.as_tensor()[1, 0, 0, :, :].flatten(), '+r'\n",
    ")"
   ]
  },
  {
   "cell_type": "markdown",
   "id": "721db0d8",
   "metadata": {},
   "source": [
    "We can see that for the fully sampled acquisition the k-space is covered symmetrically from -256 to 255 along the\n",
    "readout direction and from -128 to 127 along the phase encoding direction. For the acquisition with partial Fourier\n",
    "and partial echo acceleration this is of course not the case and the k-space is asymmetrical.\n",
    "\n",
    "Our FFT-operator does not know about this and simply assumes that the acquisition is symmetric and any difference\n",
    "between encoding and recon matrix need to be zero-padded symmetrically.\n",
    "\n",
    "To take the asymmetric acquisition into account and sort the data correctly into a matrix where we can apply the\n",
    "FFT-operator to, we have got the CartesianSamplingOp in MRpro. This operator calculates a sorting index based on the\n",
    "k-space trajectory and the dimensions of the encoding k-space."
   ]
  },
  {
   "cell_type": "code",
   "execution_count": null,
   "id": "2746809f",
   "metadata": {},
   "outputs": [],
   "source": [
    "cart_sampling_op = mrpro.operators.CartesianSamplingOp(kdata_pe_pf.header.encoding_matrix, kdata_pe_pf.traj)"
   ]
  },
  {
   "cell_type": "markdown",
   "id": "f0994a1a",
   "metadata": {},
   "source": [
    "Now we can first apply the CartesianSamplingOp and then call the FFT-operator."
   ]
  },
  {
   "cell_type": "code",
   "execution_count": null,
   "id": "7ab5132e",
   "metadata": {},
   "outputs": [],
   "source": [
    "img_pe_pf = fft_op.adjoint(cart_sampling_op.adjoint(kdata_pe_pf.data)[0])[0]\n",
    "img_pe_pf = torch.sqrt(torch.sum(img_pe_pf**2, dim=1)).abs()\n",
    "\n",
    "fig, ax = plt.subplots(1, 2, squeeze=False)\n",
    "ax[0, 0].imshow(img[0, 0])\n",
    "ax[0, 1].imshow(img_pe_pf[0, 0])"
   ]
  },
  {
   "cell_type": "markdown",
   "id": "0effea6e",
   "metadata": {},
   "source": [
    "Voila! Now we get the same brains with the same size. But hang on a second - there is still something which looks a\n",
    "bit funny. In the bottom left hand corner it seems that there is a \"hole\" in the brain. This should probably not be\n",
    "there.\n",
    "\n",
    "The reason for this is, that we simply combined the data from the different coils using a root-sum-of-squares\n",
    "approach. This was easy but not what we should do. Commonly coil sensitivity maps are calculated and they are then\n",
    "used to combine the data from the different coils. In MRpro this is done by calculating coil sensitivity data and\n",
    "then creating a SensitivityOp to combine the data after image reconstruction."
   ]
  },
  {
   "cell_type": "markdown",
   "id": "7dd4d555",
   "metadata": {},
   "source": [
    "We have different option of how to calculate coil sensitivity maps from image data of the different coils. Here we\n",
    "are going to use the Walsh-method."
   ]
  },
  {
   "cell_type": "code",
   "execution_count": null,
   "id": "860fd313",
   "metadata": {},
   "outputs": [],
   "source": [
    "# Calculate coil sensitivity maps\n",
    "img_pe_pf = fft_op.adjoint(cart_sampling_op.adjoint(kdata_pe_pf.data)[0])[0]\n",
    "# This algorithms is designed to calculate coil sensitivity maps for each other dimension.\n",
    "csm_data = mrpro.algorithms.csm.walsh(img_pe_pf[0, ...], smoothing_width=5)[None, ...]\n",
    "\n",
    "# Create SensitivityOp\n",
    "csm_op = mrpro.operators.SensitivityOp(csm_data)\n",
    "\n",
    "# Reconstruct coil-combined image\n",
    "img_pe_pf = csm_op.adjoint(fft_op.adjoint(cart_sampling_op.adjoint(kdata_pe_pf.data)[0])[0])[0].abs()\n",
    "\n",
    "fig, ax = plt.subplots(1, 2, squeeze=False)\n",
    "ax[0, 0].imshow(img[0, 0])\n",
    "ax[0, 1].imshow(img_pe_pf[0, 0, 0])"
   ]
  },
  {
   "cell_type": "markdown",
   "id": "772c3843",
   "metadata": {},
   "source": [
    "Now we got an image without any \"holes\"!\n",
    "\n",
    "When we reconstructed the image we called the adjoint method of several different operators one after the other. That\n",
    "was a bit cumbersome. To make our life easier we can combine the operators directly and then call the adjoint of the\n",
    "composite operator. We have to keep in mind that we have to put them in the order of the forward method of the\n",
    "operators. By calling the adjoint, the order will be automatically reversed."
   ]
  },
  {
   "cell_type": "code",
   "execution_count": null,
   "id": "4653f66a",
   "metadata": {},
   "outputs": [],
   "source": [
    "# Create composite operator\n",
    "acq_op = cart_sampling_op @ fft_op @ csm_op\n",
    "img_pe_pf = acq_op.adjoint(kdata_pe_pf.data)[0].abs()\n",
    "\n",
    "fig, ax = plt.subplots(1, 2, squeeze=False)\n",
    "ax[0, 0].imshow(img[0, 0])\n",
    "ax[0, 1].imshow(img_pe_pf[0, 0, 0])"
   ]
  },
  {
   "cell_type": "markdown",
   "id": "76892ff3",
   "metadata": {},
   "source": [
    "Although we have got now a nice looking image, it was a bit cumbersome to create it. We had to define several\n",
    "different operators and chain them together. Would we nice if this could be done automatically....\n",
    "\n",
    "That is why we also included some top-level reconstruction algorithms. The reconstruction above we simply call\n",
    "DirectReconstruction. A DirectReconstruction object can be directly created from the information in the KData object.\n",
    "\n",
    "Reconstruction algorithms operator on the data objects of MRpro, i.e. the input is a KData object and the output is a\n",
    "IData object. To visualize this we need the tensor content of the IData object which can be obtained by calling\n",
    ".rss()."
   ]
  },
  {
   "cell_type": "code",
   "execution_count": null,
   "id": "64550e58",
   "metadata": {},
   "outputs": [],
   "source": [
    "direct_recon_pe_pf = mrpro.algorithms.reconstruction.DirectReconstruction(kdata_pe_pf)\n",
    "idat_pe_pf = direct_recon_pe_pf(kdata_pe_pf)\n",
    "\n",
    "fig, ax = plt.subplots(1, 2, squeeze=False)\n",
    "ax[0, 0].imshow(img[0, 0])\n",
    "ax[0, 1].imshow(idat_pe_pf.rss()[0, 0])"
   ]
  },
  {
   "cell_type": "markdown",
   "id": "95ec919c",
   "metadata": {},
   "source": [
    "This is much simpler and all of the magic is done in the background and we don't have to worry about it. Let's try it\n",
    "on the undersampled dataset."
   ]
  },
  {
   "cell_type": "markdown",
   "id": "4944ac9d",
   "metadata": {},
   "source": [
    "## Reconstruction of undersampled data"
   ]
  },
  {
   "cell_type": "code",
   "execution_count": null,
   "id": "bac530d3",
   "metadata": {},
   "outputs": [],
   "source": [
    "kdata_us = mrpro.data.KData.from_file(\n",
    "    data_folder / Path('cart_t1_msense_integrated.mrd'), mrpro.data.traj_calculators.KTrajectoryCartesian()\n",
    ")\n",
    "direct_recon_us = mrpro.algorithms.reconstruction.DirectReconstruction(kdata_us)\n",
    "idat_us = direct_recon_us(kdata_us)\n",
    "\n",
    "fig, ax = plt.subplots(1, 2, squeeze=False)\n",
    "ax[0, 0].imshow(img[0, 0])\n",
    "ax[0, 1].imshow(idat_us.rss()[0, 0])"
   ]
  },
  {
   "cell_type": "markdown",
   "id": "7e4ec563",
   "metadata": {},
   "source": [
    "As expected we can see undersampling artifacts in the image. In order to get rid of them we can use an iterative\n",
    "SENSE algorithm. Of course for this regularly undersampled we could also use Cartesian SENSE unfolding but in MRpro\n",
    "we don't have that.\n",
    "\n",
    "Similarly to the DirectReconstruction we can create an IterativeSENSEReconstruction and apply it to the undersampled\n",
    "KData. Give it a try and see if you can remove the undersampling artifacts.\n",
    "\n",
    "One important thing to keep in mind is, that this only works if the coil maps which we use, do not have any\n",
    "undersampling artifacts. Commonly we would get them from a fully sampled self-calibration reference lines in the\n",
    "center of k-space or a separate coil sensitivity scan.\n",
    "\n",
    "As a first step we are going to assume that we have got a nice fully sampled reference scan like our partial echo and\n",
    "partial Fourier acquisition. You can get the CsmData which is needed for the IterativeSENSEReconstruction by calling\n",
    "e.g. direct_recon_pe_pf.csm."
   ]
  },
  {
   "cell_type": "code",
   "execution_count": null,
   "id": "aad1a1bf",
   "metadata": {},
   "outputs": [],
   "source": [
    "kdata_us = mrpro.data.KData.from_file(\n",
    "    data_folder / Path('cart_t1_msense_integrated.mrd'), mrpro.data.traj_calculators.KTrajectoryCartesian()\n",
    ")\n",
    "it_sense_recon = mrpro.algorithms.reconstruction.IterativeSENSEReconstruction(kdata_us, csm=direct_recon_pe_pf.csm)\n",
    "idat_us = it_sense_recon(kdata_us)\n",
    "\n",
    "fig, ax = plt.subplots(1, 2, squeeze=False)\n",
    "ax[0, 0].imshow(img[0, 0])\n",
    "ax[0, 1].imshow(idat_us.rss()[0, 0])"
   ]
  },
  {
   "cell_type": "markdown",
   "id": "21237288",
   "metadata": {},
   "source": [
    "That worked nicely but of course in practice we don't want to have to acquire a fully sampled version of our scan in\n",
    "order to be able to reconstruct our scan. A more efficient option is to obtain a few self-calibration lines in the\n",
    "center of k-space to make up a fully sampled low-resolution image.\n",
    "\n",
    "In our scan these lines are part of the dataset but they are not used for image reconstruction because they are\n",
    "labeled solely for calibration (i.e. calculation of coil sensitivity maps). Because they are not labeled for imaging,\n",
    "they are by default ignored by MRpro when we read in the data. We can set a flag when we call from_file in order to\n",
    "read in only those lines to reconstruct our coil sensitivity maps."
   ]
  },
  {
   "cell_type": "code",
   "execution_count": null,
   "id": "a4d39855",
   "metadata": {},
   "outputs": [],
   "source": [
    "from mrpro.data.acq_filters import is_coil_calibration_acquisition\n",
    "\n",
    "kdata_calib_lines = mrpro.data.KData.from_file(\n",
    "    data_folder / Path('cart_t1_msense_integrated.mrd'),\n",
    "    mrpro.data.traj_calculators.KTrajectoryCartesian(),\n",
    "    acquisition_filter_criterion=lambda acq: is_coil_calibration_acquisition(acq),\n",
    ")\n",
    "\n",
    "direct_recon_calib_lines = mrpro.algorithms.reconstruction.DirectReconstruction(kdata_calib_lines)\n",
    "im_calib_lines = direct_recon_calib_lines(kdata_calib_lines)\n",
    "\n",
    "plt.imshow(im_calib_lines.rss()[0, 0, ...])"
   ]
  },
  {
   "cell_type": "markdown",
   "id": "ea089177",
   "metadata": {},
   "source": [
    "Although this only leads a low-resolution image, it is good enough to calculate coil sensitivity maps."
   ]
  },
  {
   "cell_type": "code",
   "execution_count": null,
   "id": "90da630f",
   "metadata": {},
   "outputs": [],
   "source": [
    "# Visualize coil sensitivity maps of all 16 coils\n",
    "assert direct_recon_calib_lines.csm is not None\n",
    "fig, ax = plt.subplots(4, 4, squeeze=False)\n",
    "for idx, cax in enumerate(ax.flatten()):\n",
    "    cax.imshow(direct_recon_calib_lines.csm.data[0, idx, 0, ...].abs())"
   ]
  },
  {
   "cell_type": "markdown",
   "id": "7377ad90",
   "metadata": {},
   "source": [
    "Now we can use these coil sensitivity maps to reconstruct our SENSE scan."
   ]
  },
  {
   "cell_type": "code",
   "execution_count": null,
   "id": "f6ded207",
   "metadata": {},
   "outputs": [],
   "source": [
    "kdata_us = mrpro.data.KData.from_file(\n",
    "    data_folder / Path('cart_t1_msense_integrated.mrd'), mrpro.data.traj_calculators.KTrajectoryCartesian()\n",
    ")\n",
    "it_sense_recon = mrpro.algorithms.reconstruction.IterativeSENSEReconstruction(\n",
    "    kdata_us, csm=direct_recon_calib_lines.csm\n",
    ")\n",
    "idat_us = it_sense_recon(kdata_us)\n",
    "\n",
    "fig, ax = plt.subplots(1, 2, squeeze=False)\n",
    "ax[0, 0].imshow(img[0, 0])\n",
    "ax[0, 1].imshow(idat_us.rss()[0, 0])"
   ]
  },
  {
   "cell_type": "markdown",
   "id": "f17eab4e",
   "metadata": {},
   "source": [
    "The final image is a little bit worse (nothing beats fully sampled high-resolution scans for coil map calculation)\n",
    "but we are able to get rid of the undersampling artifacts inside the brain. If you want to further improve the coil\n",
    "sensitivity map quality try:\n",
    "- use different methods to calculate them, e.g. mrpro.algorithms.csm.inati\n",
    "- play around with the parameters of these methods\n",
    "- apply a smoothing filter on the images (or ideally directly in k-space) used to calculate the coil sensitivity maps"
   ]
  }
 ],
 "metadata": {
  "jupytext": {
   "cell_metadata_filter": "-all"
  },
  "kernelspec": {
   "display_name": "Python 3 (ipykernel)",
   "language": "python",
   "name": "python3"
  }
 },
 "nbformat": 4,
 "nbformat_minor": 5
}
