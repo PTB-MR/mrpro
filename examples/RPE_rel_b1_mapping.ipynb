{
 "cells": [
  {
   "cell_type": "code",
   "execution_count": null,
   "id": "3f12fc7c",
   "metadata": {},
   "outputs": [],
   "source": [
    "\"\"\"Script for B1+ mapping from H5 file.\"\"\"\n",
    "# Copyright 2023 Physikalisch-Technische Bundesanstalt\n",
    "#\n",
    "# Licensed under the Apache License, Version 2.0 (the \"License\");\n",
    "#   you may not use this file except in compliance with the License.\n",
    "#   You may obtain a copy of the License at\n",
    "#       http://www.apache.org/licenses/LICENSE-2.0\n",
    "#   Unless required by applicable law or agreed to in writing, software\n",
    "#   distributed under the License is distributed on an \"AS IS\" BASIS,\n",
    "#   WITHOUT WARRANTIES OR CONDITIONS OF ANY KIND, either express or implied.\n",
    "#   See the License for the specific language governing permissions and\n",
    "#   limitations under the License.\n",
    "#\n",
    "#   Christoph Aigner, 2024.03.22\n",
    "#\n",
    "# RPE example with 3D volume works\n",
    "# example data can be downloaded from:\n",
    "# https://figshare.com/articles/dataset/High-Resolution_3D_Radial_Phase_Encoded_GRE_of_8_Transmit_Channels_with_a_Siemens_7T_pTx_System_Phantom_VB17_RAW_Data_/24316519"
   ]
  },
  {
   "cell_type": "code",
   "execution_count": null,
   "id": "388b80e8",
   "metadata": {
    "title": "import functionality"
   },
   "outputs": [],
   "source": [
    "import urllib.request\n",
    "\n",
    "import matplotlib.pyplot as plt\n",
    "import numpy as np\n",
    "from mrpro.data import DcfData\n",
    "from mrpro.data import IData\n",
    "from mrpro.data import KData\n",
    "from mrpro.data.traj_calculators._KTrajectorySunflowerGoldenRpe import KTrajectorySunflowerGoldenRpe\n",
    "from mrpro.operators import FourierOp\n",
    "\n",
    "# Download the file from `url` and save it locally under `file_name`:\n",
    "with (\n",
    "    urllib.request.urlopen('https://figshare.com/ndownloader/files/43259838') as response,\n",
    "    open('meas_MID335_B1R_FA_20_cv_pTX_sun_B1R_v1p1_FID39870_ismrmrd.h5', 'wb') as out_file,  # noqa PTH123\n",
    "):\n",
    "    data = response.read()  # a `bytes` object\n",
    "    out_file.write(data)\n",
    "\n",
    "\n",
    "from B1reco import b1reco"
   ]
  },
  {
   "cell_type": "code",
   "execution_count": null,
   "id": "1f67550b",
   "metadata": {
    "title": "B1+ mapping - RPE 3D"
   },
   "outputs": [],
   "source": [
    "#\n",
    "# define the file name of the 3D RPE raw data\n",
    "h5_filename = R'meas_MID335_B1R_FA_20_cv_pTX_sun_B1R_v1p1_FID39870_ismrmrd.h5'\n",
    "\n",
    "# Load the channelwise GRE data for relative B1+ mapping\n",
    "data = KData.from_file(\n",
    "    ktrajectory=KTrajectorySunflowerGoldenRpe(),\n",
    "    filename=h5_filename,\n",
    ")\n",
    "\n",
    "# manually set up the recon and encoding matrix\n",
    "data.header.recon_matrix.x = 128\n",
    "data.header.recon_matrix.y = 80\n",
    "data.header.recon_matrix.z = 80\n",
    "\n",
    "data.header.encoding_matrix.x = 128\n",
    "data.header.encoding_matrix.y = 16\n",
    "data.header.encoding_matrix.z = 16\n",
    "\n",
    "# perform FT, shift the k-space center and create IData object\n",
    "op = FourierOp(recon_matrix=data.header.recon_matrix, encoding_matrix=data.header.encoding_matrix, traj=data.traj)\n",
    "\n",
    "# set up the density compensation\n",
    "dc = DcfData.from_traj_voronoi(data.traj)\n",
    "\n",
    "# reconstruct the density compensated data\n",
    "(images,) = op.H(data.data * dc.data)\n",
    "\n",
    "# create IData object from image tensor and kheader\n",
    "idata = IData.from_tensor_and_kheader(images, data.header)\n",
    "\n",
    "# run B1reco\n",
    "b1m_mag, b1m_pha, b1p_mag, b1p_pha, noise_mean = b1reco(idata.data, relphasechannel=0)\n",
    "\n",
    "# plot results\n",
    "fig, axis = plt.subplots(2, 4, figsize=(16, 8))\n",
    "for i, axs in enumerate(axis.flatten()):\n",
    "    axs.imshow(b1p_mag[0, i, :, :, 64])\n",
    "\n",
    "fig, axis = plt.subplots(2, 4, figsize=(16, 8))\n",
    "for i, axs in enumerate(axis.flatten()):\n",
    "    axs.imshow(np.angle(b1p_pha[0, i, :, :, 64]), vmin=-3.15, vmax=3.15)"
   ]
  },
  {
   "cell_type": "code",
   "execution_count": null,
   "id": "fbd4745c",
   "metadata": {},
   "outputs": [],
   "source": []
  }
 ],
 "metadata": {
  "jupytext": {
   "cell_metadata_filter": "title,-all"
  },
  "kernelspec": {
   "display_name": "Python 3 (ipykernel)",
   "language": "python",
   "name": "python3"
  }
 },
 "nbformat": 4,
 "nbformat_minor": 5
}
