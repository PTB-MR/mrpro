{
 "cells": [
  {
   "cell_type": "markdown",
   "id": "5ef4aa5a",
   "metadata": {},
   "source": [
    "# TV-regularized reconstruction"
   ]
  },
  {
   "cell_type": "code",
   "execution_count": null,
   "id": "6623a484",
   "metadata": {},
   "outputs": [],
   "source": [
    "# Imports\n",
    "import shutil\n",
    "import tempfile\n",
    "from pathlib import Path\n",
    "\n",
    "import matplotlib.pyplot as plt\n",
    "import torch\n",
    "import zenodo_get\n",
    "from mrpro.algorithms.reconstruction import (\n",
    "    DirectReconstruction,\n",
    "    RegularizedIterativeSENSEReconstruction,\n",
    "    TotalVariationDenoising,\n",
    "    TotalVariationRegularizedReconstruction,\n",
    ")\n",
    "from mrpro.data import CsmData, IData, KData\n",
    "from mrpro.data.traj_calculators import KTrajectoryIsmrmrd\n",
    "from mrpro.utils import split_idx"
   ]
  },
  {
   "cell_type": "markdown",
   "id": "21219c6a",
   "metadata": {
    "lines_to_next_cell": 2
   },
   "source": [
    "We define a plotting function to look at some of the dynamic frames and also a plot along the time dimension."
   ]
  },
  {
   "cell_type": "code",
   "execution_count": null,
   "id": "45657ea8",
   "metadata": {},
   "outputs": [],
   "source": [
    "def show_dynamic_images(img: torch.Tensor, vmin: float = 0, vmax: float = 0.8) -> None:\n",
    "    \"\"\"Show dynamic images.\n",
    "\n",
    "    Parameters\n",
    "    ----------\n",
    "    img\n",
    "        image tensor to be displayed\n",
    "    vmin\n",
    "        vmin for display\n",
    "    vmax\n",
    "        vmax for display\n",
    "    \"\"\"\n",
    "    fig, ax = plt.subplots(1, 4, squeeze=False, figsize=(16, 4))\n",
    "    img = img / img.max()\n",
    "    for jnd in range(4):\n",
    "        if jnd == 3:\n",
    "            ax[0, jnd].imshow(\n",
    "                torch.squeeze(img[..., img.shape[-1] // 2]), vmin=vmin, vmax=vmax, cmap='gray', aspect='auto'\n",
    "            )\n",
    "        else:\n",
    "            ax[0, jnd].imshow(torch.squeeze(img[jnd, ...]), vmin=vmin, vmax=vmax, cmap='gray')"
   ]
  },
  {
   "cell_type": "markdown",
   "id": "c91ff82f",
   "metadata": {},
   "source": [
    "#### Prepare data\n",
    "First, download and read-in the raw data. Then reconstruct coil-resolved images which are used to estimate the coil\n",
    "sensitivity maps. Finally, split the data into different dynamics."
   ]
  },
  {
   "cell_type": "code",
   "execution_count": null,
   "id": "d0cde5e9",
   "metadata": {
    "lines_to_next_cell": 2
   },
   "outputs": [],
   "source": [
    "# Download raw data in ISMRMRD format from zenodo into a temporary directory\n",
    "data_folder = Path(tempfile.mkdtemp())\n",
    "dataset = '13207352'\n",
    "zenodo_get.zenodo_get([dataset, '-r', 5, '-o', data_folder])  # r: retries"
   ]
  },
  {
   "cell_type": "code",
   "execution_count": null,
   "id": "b94ea50e",
   "metadata": {},
   "outputs": [],
   "source": [
    "# Read raw data and trajectory\n",
    "kdata = KData.from_file(data_folder / '2D_GRad_map_t1.h5', KTrajectoryIsmrmrd())\n",
    "\n",
    "\n",
    "# Calculate coil maps\n",
    "reconstruction = DirectReconstruction(kdata, csm=None)\n",
    "csm = CsmData.from_idata_walsh(reconstruction(kdata))\n",
    "\n",
    "# Split data into dynamics\n",
    "idx_dynamic = split_idx(torch.argsort(kdata.header.acq_info.acquisition_time_stamp[0, 0, :, 0]), 30, 0)\n",
    "kdata_dynamic = kdata.split_k1_into_other(idx_dynamic, other_label='repetition')"
   ]
  },
  {
   "cell_type": "markdown",
   "id": "898d1452",
   "metadata": {},
   "source": [
    "#### Direct Reconstruction\n",
    "Reconstruct dynamic images using the adjoint of the acquisition operator and sampling density compensation."
   ]
  },
  {
   "cell_type": "code",
   "execution_count": null,
   "id": "848eb375",
   "metadata": {},
   "outputs": [],
   "source": [
    "direct_reconstruction = DirectReconstruction(kdata_dynamic, csm=csm)\n",
    "img_direct = direct_reconstruction(kdata_dynamic)\n",
    "show_dynamic_images(img_direct.rss())"
   ]
  },
  {
   "cell_type": "markdown",
   "id": "d988cf42",
   "metadata": {},
   "source": [
    "#### TV-Regularized Reconstruction using PDHG\n",
    "Reconstruct images by solving\n",
    "\n",
    "$ \\mathcal{F}(x) = \\frac{1}{2}||Ax - y||_2^2 + \\lambda \\| \\nabla x \\|_1 $\n",
    "\n",
    "using PDHG.\n",
    "\n",
    "Because we have 2D dynamic images we can apply the TV-regularization along x,y and time.\n",
    "For this we set the regularization weight along dimensions -1 (x), -2 (y) and -5 (time).\n",
    "\n",
    "For more information on this reconstruction method have a look at the tv_minimization_reconstruction_pdhg example."
   ]
  },
  {
   "cell_type": "code",
   "execution_count": null,
   "id": "83387896",
   "metadata": {},
   "outputs": [],
   "source": [
    "tv_reconstruction = TotalVariationRegularizedReconstruction(\n",
    "    kdata_dynamic, csm=csm, n_iterations=100, regularization_weight=(0.1, 0, 0, 0.1, 0.1)\n",
    ")\n",
    "img_tv = tv_reconstruction(kdata_dynamic)\n",
    "show_dynamic_images(img_tv.rss())"
   ]
  },
  {
   "cell_type": "markdown",
   "id": "5b69bc79",
   "metadata": {
    "lines_to_next_cell": 2
   },
   "source": [
    "#### TV-Regularized Reconstruction using ADMM\n",
    "In the above example we need to apply the acquisition operator during the PDHG iterations which is computationally\n",
    "demanding and hence takes a long time. Another option is to use the Alternating Direction Method of Multipliers (ADMM)\n",
    "which solves the general problem\n",
    "\n",
    "$ \\min_x f(x) + g(z) \\quad \\text{subject to} \\quad  Ax + Bz = c $\n",
    "\n",
    "If we use $f(x) = \\lambda \\| \\nabla x \\|_1$, $g(z)= \\frac{1}{2}||Az - y||_2^2$, $A = I$, $B= -I$ and $c = 0$\n",
    "\n",
    "then we can define a scaled form of the ADMM algorithm which solves\n",
    "\n",
    "$ \\mathcal{F}(x) = \\frac{1}{2}||Ax - y||_2^2 + \\lambda \\| \\nabla x \\|_1 $\n",
    "\n",
    "by doing\n",
    "\n",
    "$x_{k+1} = argmin_x \\lambda \\| \\nabla x \\|_1 + \\frac{\\rho}{2}||x - z_k + u_k||_2^2$\n",
    "\n",
    "$z_{k+1} = argmin_z \\frac{1}{2}||Az - y||_2^2 + \\frac{\\rho}{2}||x_{k+1} - z + u_k||_2^2$\n",
    "\n",
    "$u_{k+1} = u_k + x_{k+1} - z_{k+1}$\n",
    "\n",
    "The first step is TV-based denoising of $x$, the second step is a regularized iterative SENSE update of $z$ and the\n",
    "final step updates the helper variable $u$."
   ]
  },
  {
   "cell_type": "code",
   "execution_count": null,
   "id": "fcfb4804",
   "metadata": {
    "lines_to_next_cell": 2
   },
   "outputs": [],
   "source": [
    "data_weight = 0.5\n",
    "n_adam_iterations = 4\n",
    "regularization_weight = 0.1 / (data_weight * n_adam_iterations)\n",
    "tv_denoising = TotalVariationDenoising(\n",
    "    regularization_weight=(regularization_weight, 0, 0, regularization_weight, regularization_weight), n_iterations=100\n",
    ")\n",
    "regularized_iterative_sense = RegularizedIterativeSENSEReconstruction(\n",
    "    kdata_dynamic, csm=csm, n_iterations=10, regularization_weight=data_weight\n",
    ")\n",
    "img_z = img_direct.clone()\n",
    "img_x = img_direct.clone()\n",
    "img_u = torch.zeros_like(img_direct.data)\n",
    "for _ in range(n_adam_iterations):\n",
    "    # Denoising\n",
    "    tv_denoising.initial_image = img_x.data\n",
    "    img_x = tv_denoising(IData(img_z.data - img_u, img_direct.header))\n",
    "\n",
    "    # Regularized iterative SENSE\n",
    "    regularized_iterative_sense.regularization_data = img_x.data + img_u\n",
    "    img_z = regularized_iterative_sense(kdata_dynamic)\n",
    "\n",
    "    # Update u\n",
    "    img_u = img_u + img_x.data - img_z.data"
   ]
  },
  {
   "cell_type": "code",
   "execution_count": null,
   "id": "32dbda46",
   "metadata": {},
   "outputs": [],
   "source": [
    "show_dynamic_images(img_x.rss())\n",
    "show_dynamic_images(img_z.rss())\n",
    "show_dynamic_images(img_u[:, 0, ...].abs())"
   ]
  },
  {
   "cell_type": "code",
   "execution_count": null,
   "id": "62872da5",
   "metadata": {},
   "outputs": [],
   "source": [
    "# Clean-up by removing temporary directory\n",
    "shutil.rmtree(data_folder)"
   ]
  }
 ],
 "metadata": {
  "jupytext": {
   "cell_metadata_filter": "-all"
  },
  "kernelspec": {
   "display_name": "Python 3 (ipykernel)",
   "language": "python",
   "name": "python3"
  }
 },
 "nbformat": 4,
 "nbformat_minor": 5
}
