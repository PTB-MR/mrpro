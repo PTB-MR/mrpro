{
 "cells": [
  {
   "cell_type": "code",
   "execution_count": null,
   "id": "270e6d53",
   "metadata": {},
   "outputs": [],
   "source": [
    "import matplotlib.pyplot as plt\n",
    "import torch\n",
    "\n",
    "from mrpro.data import SpatialDimension\n",
    "from mrpro.data._KData import KData\n",
    "from mrpro.data.traj_calculators._KTrajectoryPulseq import KTrajectoryPulseq\n",
    "from mrpro.operators._FourierOp import FourierOp\n",
    "from mrpro.operators.models._WASABI import WASABI\n",
    "from mrpro.operators.models._WASABITI import WASABITI"
   ]
  },
  {
   "cell_type": "code",
   "execution_count": null,
   "id": "2b54fe2a",
   "metadata": {
    "lines_to_next_cell": 0
   },
   "outputs": [],
   "source": [
    "filepath = R'/home/hammac01/CEST_Data/'\n",
    "seq_filename = '20231127_WASABITI_adjusted_fov192.seq'\n",
    "h5_filename = 'meas_MID00021_FID05730_20231127_WASABITI_adjusted_fov192.h5'\n",
    "\n",
    "data = KData.from_file(\n",
    "    ktrajectory=KTrajectoryPulseq(seq_path=filepath + seq_filename),\n",
    "    filename=filepath + h5_filename,\n",
    ")"
   ]
  },
  {
   "cell_type": "code",
   "execution_count": null,
   "id": "61e793c0",
   "metadata": {},
   "outputs": [],
   "source": [
    "# manually set kz\n",
    "data.traj.kz = torch.zeros(data.traj.kz.shape[0], 1, 1, 1)\n",
    "data.traj.ky = data.traj.ky.to(torch.float32)\n",
    "data.traj.kx = data.traj.kx.to(torch.float32)"
   ]
  },
  {
   "cell_type": "code",
   "execution_count": null,
   "id": "c8eec6f3",
   "metadata": {},
   "outputs": [],
   "source": [
    "# create operator\n",
    "op = FourierOp(\n",
    "    recon_shape=data.header.recon_matrix,  # SpatialDimension(1, 192, 192),\n",
    "    encoding_shape=data.header.encoding_matrix,\n",
    "    traj=data.traj,\n",
    "    oversampling=SpatialDimension(1, 1, 1),\n",
    ")\n",
    "\n",
    "# apply adjoint operator\n",
    "reco = torch.fft.fftshift(op.H(data.data))"
   ]
  },
  {
   "cell_type": "code",
   "execution_count": null,
   "id": "f37b27aa",
   "metadata": {},
   "outputs": [],
   "source": [
    "offsets = torch.linspace(-250, 250, 101)\n",
    "wasabi_model = WASABI(offsets=offsets)\n",
    "\n",
    "b0_shift = torch.zeros([1, 1, 1, 1, 1])  # b0_shift\n",
    "rb1 = torch.Tensor([1.0])\n",
    "c = torch.Tensor([1.0])\n",
    "d = torch.Tensor([2.0])\n",
    "\n",
    "sig = wasabi_model.forward(b0_shift, rb1, c, d)"
   ]
  },
  {
   "cell_type": "code",
   "execution_count": null,
   "id": "18ccca4f",
   "metadata": {},
   "outputs": [],
   "source": [
    "offsets = torch.linspace(-250, 250, 101)\n",
    "trec = torch.ones_like(offsets)\n",
    "\n",
    "wasabiti_model = WASABITI(offsets=offsets, trec=trec)\n",
    "\n",
    "qdata = torch.ones(4, 1, 1, 1, 1, 1)\n",
    "b0_shift = torch.zeros([1, 1, 1, 1, 1])  # b0_shift\n",
    "rb1 = torch.Tensor([1.0])\n",
    "t1 = torch.Tensor([10.0])\n",
    "\n",
    "sig2 = wasabiti_model.forward(b0_shift, rb1, t1)[0]"
   ]
  },
  {
   "cell_type": "code",
   "execution_count": null,
   "id": "61bdbe9d",
   "metadata": {},
   "outputs": [],
   "source": [
    "# fig, ax = plt.subplots()\n",
    "# ax.plot(offsets, torch.abs(sig[0:101].squeeze()))\n",
    "# plt.show()\n",
    "\n",
    "fig, ax = plt.subplots()\n",
    "ax.plot(torch.abs(sig2.squeeze()))\n",
    "plt.show()"
   ]
  },
  {
   "cell_type": "code",
   "execution_count": null,
   "id": "53b3f408",
   "metadata": {},
   "outputs": [],
   "source": []
  }
 ],
 "metadata": {
  "jupytext": {
   "cell_metadata_filter": "-all"
  },
  "kernelspec": {
   "display_name": "Python 3 (ipykernel)",
   "language": "python",
   "name": "python3"
  }
 },
 "nbformat": 4,
 "nbformat_minor": 5
}
