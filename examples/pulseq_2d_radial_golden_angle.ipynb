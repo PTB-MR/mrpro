{
 "cells": [
  {
   "cell_type": "markdown",
   "id": "e0d2a142",
   "metadata": {},
   "source": [
    "# Reconstruction of 2D cartesian data from siemens sequence\n",
    "\n",
    "Copyright 2023 Physikalisch-Technische Bundesanstalt\n",
    "\n",
    "Licensed under the Apache License, Version 2.0 (the \"License\");\n",
    "  you may not use this file except in compliance with the License.\n",
    "  You may obtain a copy of the License at\n",
    "      http://www.apache.org/licenses/LICENSE-2.0\n",
    "  Unless required by applicable law or agreed to in writing, software\n",
    "  distributed under the License is distributed on an \"AS IS\" BASIS,\n",
    "  WITHOUT WARRANTIES OR CONDITIONS OF ANY KIND, either express or implied.\n",
    "  See the License for the specific language governing permissions and\n",
    "  limitations under the License."
   ]
  },
  {
   "cell_type": "markdown",
   "id": "652e01cd",
   "metadata": {},
   "source": [
    "If you want to run this notebook in binder you need to still install the MRpro package.\n",
    "This only needs to be done once in a binder session. Open a terminal (File -> New -> Terminal) and run:\n",
    "```\n",
    "pip install -e \".[notebook]\"\n",
    "```\n",
    "This will install the MRpro package. Any other required python packages should already be present in this\n",
    "docker image."
   ]
  },
  {
   "cell_type": "code",
   "execution_count": null,
   "id": "6946769e",
   "metadata": {},
   "outputs": [],
   "source": [
    "# Imports\n",
    "import tempfile\n",
    "from pathlib import Path\n",
    "\n",
    "import matplotlib.pyplot as plt\n",
    "import requests\n",
    "import torch\n",
    "from mrpro.data import CsmData\n",
    "from mrpro.data import DcfData\n",
    "from mrpro.data import IData\n",
    "from mrpro.data import KData\n",
    "from mrpro.data.traj_calculators import KTrajectoryIsmrmrd\n",
    "from mrpro.data.traj_calculators import KTrajectoryRadial2D\n",
    "from mrpro.operators import FourierOp\n",
    "from mrpro.operators import SensitivityOp"
   ]
  },
  {
   "cell_type": "code",
   "execution_count": null,
   "id": "d16f41f1",
   "metadata": {},
   "outputs": [],
   "source": [
    "# define zenodo records URL and create temporary directory\n",
    "zenodo_url = 'https://zenodo.org/records/10854057/files/'\n",
    "fname = 'pulseq_radial_2D_402spokes_golden_angle_with_traj.h5'\n",
    "data_folder = Path(tempfile.mkdtemp())\n",
    "data_file = tempfile.NamedTemporaryFile(dir=data_folder, mode='wb', delete=False, suffix='.h5')"
   ]
  },
  {
   "cell_type": "code",
   "execution_count": null,
   "id": "9d614298",
   "metadata": {},
   "outputs": [],
   "source": [
    "# Download raw data using requests\n",
    "response = requests.get(zenodo_url + fname, timeout=10)\n",
    "data_file.write(response.content)"
   ]
  },
  {
   "cell_type": "code",
   "execution_count": null,
   "id": "e3c53094",
   "metadata": {},
   "outputs": [],
   "source": [
    "# Read raw data trajectory from ISMRMRD file\n",
    "kdata = KData.from_file(data_file.name, KTrajectoryIsmrmrd())\n",
    "\n",
    "# Calculate dcf\n",
    "dcf = DcfData.from_traj_voronoi(kdata.traj)\n",
    "\n",
    "# Reconstruct average image for coil map estimation\n",
    "fourier_op = FourierOp(\n",
    "    recon_matrix=kdata.header.recon_matrix,\n",
    "    encoding_matrix=kdata.header.encoding_matrix,\n",
    "    traj=kdata.traj,\n",
    ")\n",
    "(img,) = fourier_op.adjoint(kdata.data * dcf.data[:, None, ...])"
   ]
  },
  {
   "cell_type": "code",
   "execution_count": null,
   "id": "0f8426ea",
   "metadata": {},
   "outputs": [],
   "source": [
    "# Calculate coilmaps\n",
    "idata = IData.from_tensor_and_kheader(img, kdata.header)\n",
    "csm = CsmData.from_idata_walsh(idata)\n",
    "csm_op = SensitivityOp(csm)"
   ]
  },
  {
   "cell_type": "code",
   "execution_count": null,
   "id": "fec370a5",
   "metadata": {},
   "outputs": [],
   "source": [
    "# Coil combination\n",
    "(img_from_ismrmrd_traj,) = csm_op.adjoint(img)"
   ]
  },
  {
   "cell_type": "markdown",
   "id": "f4b1fb43",
   "metadata": {},
   "source": [
    "### Image reconstruction using KTrajectoryRadial2D"
   ]
  },
  {
   "cell_type": "code",
   "execution_count": null,
   "id": "4d208689",
   "metadata": {},
   "outputs": [],
   "source": [
    "# Read raw data and calculate trajectory using KTrajectoryRadial2D\n",
    "kdata = KData.from_file(data_file.name, KTrajectoryRadial2D())\n",
    "\n",
    "# Calculate dcf\n",
    "dcf = DcfData.from_traj_voronoi(kdata.traj)\n",
    "\n",
    "# Reconstruct average image for coil map estimation\n",
    "fourier_op = FourierOp(\n",
    "    recon_matrix=kdata.header.recon_matrix,\n",
    "    encoding_matrix=kdata.header.encoding_matrix,\n",
    "    traj=kdata.traj,\n",
    ")\n",
    "(img,) = fourier_op.adjoint(kdata.data * dcf.data[:, None, ...])"
   ]
  },
  {
   "cell_type": "code",
   "execution_count": null,
   "id": "5cef41af",
   "metadata": {},
   "outputs": [],
   "source": [
    "# Calculate coilmaps\n",
    "idata = IData.from_tensor_and_kheader(img, kdata.header)\n",
    "csm = CsmData.from_idata_walsh(idata)\n",
    "csm_op = SensitivityOp(csm)"
   ]
  },
  {
   "cell_type": "code",
   "execution_count": null,
   "id": "d7172ca4",
   "metadata": {},
   "outputs": [],
   "source": [
    "# Coil combination\n",
    "(img_from_rad2d_traj_calc,) = csm_op.adjoint(img)"
   ]
  },
  {
   "cell_type": "markdown",
   "id": "29a25b55",
   "metadata": {},
   "source": [
    "### Image reconstruction using KTrajectoryPulseq\n",
    "This is not implemented yet because the seq-file is not available in the zenodo record."
   ]
  },
  {
   "cell_type": "code",
   "execution_count": null,
   "id": "4f7212b5",
   "metadata": {},
   "outputs": [],
   "source": [
    "titles = ['KTrajectoryIsmrmrd', 'KTrajectoryRadial2D']\n",
    "plt.subplots(1, 2)\n",
    "for i, img in enumerate([img_from_ismrmrd_traj, img_from_rad2d_traj_calc]):\n",
    "    plt.subplot(1, len(titles), i + 1)\n",
    "    plt.imshow(torch.abs(img[0, 0, 0, :, :]))\n",
    "    plt.title(titles[i])\n",
    "    plt.axis('off')"
   ]
  },
  {
   "cell_type": "code",
   "execution_count": null,
   "id": "87535c59",
   "metadata": {},
   "outputs": [],
   "source": [
    "print('here')"
   ]
  }
 ],
 "metadata": {
  "jupytext": {
   "cell_metadata_filter": "-all"
  },
  "kernelspec": {
   "display_name": "Python 3 (ipykernel)",
   "language": "python",
   "name": "python3"
  }
 },
 "nbformat": 4,
 "nbformat_minor": 5
}
