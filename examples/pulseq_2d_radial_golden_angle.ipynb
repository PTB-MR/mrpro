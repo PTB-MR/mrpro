{
 "cells": [
  {
   "cell_type": "markdown",
   "id": "e0d2a142",
   "metadata": {},
   "source": [
    "# Reconstruction of 2D golden angle radial data from pulseq sequence\n",
    "Here we manually do all steps of a direction reconstruction, i.e.\n",
    "CSM estimation, density compensation, adjoint fourier transform, and coil combination.\n",
    "See also the example `pulseq_2d_radial_golden_angle_direct_reconstruction.py`\n",
    "for a more high-level example using the `DirectReconstruction` class."
   ]
  },
  {
   "cell_type": "code",
   "execution_count": null,
   "id": "6946769e",
   "metadata": {},
   "outputs": [],
   "source": [
    "# Imports\n",
    "import shutil\n",
    "import tempfile\n",
    "from pathlib import Path\n",
    "\n",
    "import matplotlib.pyplot as plt\n",
    "import requests\n",
    "import torch\n",
    "from mrpro.data import CsmData\n",
    "from mrpro.data import DcfData\n",
    "from mrpro.data import IData\n",
    "from mrpro.data import KData\n",
    "from mrpro.data.traj_calculators import KTrajectoryIsmrmrd\n",
    "from mrpro.data.traj_calculators import KTrajectoryPulseq\n",
    "from mrpro.data.traj_calculators import KTrajectoryRadial2D\n",
    "from mrpro.operators import FourierOp\n",
    "from mrpro.operators import SensitivityOp"
   ]
  },
  {
   "cell_type": "code",
   "execution_count": null,
   "id": "d16f41f1",
   "metadata": {},
   "outputs": [],
   "source": [
    "# define zenodo records URL and create a temporary directory and h5-file\n",
    "zenodo_url = 'https://zenodo.org/records/10854057/files/'\n",
    "fname = 'pulseq_radial_2D_402spokes_golden_angle_with_traj.h5'\n",
    "data_folder = Path(tempfile.mkdtemp())\n",
    "data_file = tempfile.NamedTemporaryFile(dir=data_folder, mode='wb', delete=False, suffix='.h5')"
   ]
  },
  {
   "cell_type": "code",
   "execution_count": null,
   "id": "9d614298",
   "metadata": {},
   "outputs": [],
   "source": [
    "# Download raw data using requests\n",
    "response = requests.get(zenodo_url + fname, timeout=30)\n",
    "data_file.write(response.content)"
   ]
  },
  {
   "cell_type": "markdown",
   "id": "240859bb",
   "metadata": {},
   "source": [
    "### Image reconstruction using KTrajectoryIsmrmrd\n",
    "This will use the trajectory that is stored in the ISMRMRD file."
   ]
  },
  {
   "cell_type": "code",
   "execution_count": null,
   "id": "e3c53094",
   "metadata": {},
   "outputs": [],
   "source": [
    "# Read the raw data and the trajectory from ISMRMRD file\n",
    "kdata = KData.from_file(data_file.name, KTrajectoryIsmrmrd())\n",
    "\n",
    "# Calculate dcf using the trajectory\n",
    "dcf = DcfData.from_traj_voronoi(kdata.traj)\n",
    "\n",
    "# Define Fourier operator and reconstruct coil images\n",
    "fourier_op = FourierOp(\n",
    "    recon_matrix=kdata.header.recon_matrix,\n",
    "    encoding_matrix=kdata.header.encoding_matrix,\n",
    "    traj=kdata.traj,\n",
    ")\n",
    "(img,) = fourier_op.adjoint(kdata.data * dcf.data[:, None, ...])\n",
    "\n",
    "# Calculate and apply coil maps\n",
    "idata = IData.from_tensor_and_kheader(img, kdata.header)\n",
    "csm = CsmData.from_idata_walsh(idata)\n",
    "csm_op = SensitivityOp(csm)\n",
    "(img_using_ismrmrd_traj,) = csm_op.adjoint(img)"
   ]
  },
  {
   "cell_type": "markdown",
   "id": "f8c6eb31",
   "metadata": {},
   "source": [
    "### Image reconstruction using KTrajectoryRadial2D\n",
    "This will calculate the trajectory using the radial 2D trajectory calculator."
   ]
  },
  {
   "cell_type": "code",
   "execution_count": null,
   "id": "0f8426ea",
   "metadata": {},
   "outputs": [],
   "source": [
    "# Read raw data and calculate trajectory using KTrajectoryRadial2D\n",
    "kdata = KData.from_file(data_file.name, KTrajectoryRadial2D())\n",
    "\n",
    "# Calculate dcf using the calculated trajectory\n",
    "dcf = DcfData.from_traj_voronoi(kdata.traj)\n",
    "\n",
    "# Define Fourier operator and reconstruct coil images\n",
    "fourier_op = FourierOp(\n",
    "    recon_matrix=kdata.header.recon_matrix,\n",
    "    encoding_matrix=kdata.header.encoding_matrix,\n",
    "    traj=kdata.traj,\n",
    ")\n",
    "(img,) = fourier_op.adjoint(kdata.data * dcf.data[:, None, ...])\n",
    "\n",
    "# Calculate and apply coil maps\n",
    "idata = IData.from_tensor_and_kheader(img, kdata.header)\n",
    "csm = CsmData.from_idata_walsh(idata)\n",
    "csm_op = SensitivityOp(csm)\n",
    "(img_using_rad2d_traj,) = csm_op.adjoint(img)"
   ]
  },
  {
   "cell_type": "markdown",
   "id": "facf122a",
   "metadata": {},
   "source": [
    "### Image reconstruction using KTrajectoryPulseq\n",
    "This will calculate the trajectory from the pulseq sequence file\n",
    "using the PyPulseq trajectory calculator. Please note that this method\n",
    "requires the pulseq sequence file that was used to acquire the data.\n",
    "The path to the sequence file is provided as an argument to KTrajectoryPulseq."
   ]
  },
  {
   "cell_type": "code",
   "execution_count": null,
   "id": "fec370a5",
   "metadata": {
    "lines_to_next_cell": 2
   },
   "outputs": [],
   "source": [
    "# download the sequence file from zenodo\n",
    "zenodo_url = 'https://zenodo.org/records/10868061/files/'\n",
    "seq_fname = 'pulseq_radial_2D_402spokes_golden_angle.seq'\n",
    "seq_file = tempfile.NamedTemporaryFile(dir=data_folder, mode='wb', delete=False, suffix='.seq')\n",
    "response = requests.get(zenodo_url + seq_fname, timeout=30)\n",
    "seq_file.write(response.content)"
   ]
  },
  {
   "cell_type": "code",
   "execution_count": null,
   "id": "49dee7ad",
   "metadata": {
    "lines_to_next_cell": 2
   },
   "outputs": [],
   "source": [
    "# Read raw data and calculate trajectory using KTrajectoryPulseq\n",
    "kdata = KData.from_file(data_file.name, KTrajectoryPulseq(seq_path=seq_file.name))\n",
    "\n",
    "# Calculate dcf using the calculated trajectory\n",
    "dcf = DcfData.from_traj_voronoi(kdata.traj)\n",
    "\n",
    "# Define Fourier operator and reconstruct coil images\n",
    "fourier_op = FourierOp(\n",
    "    recon_matrix=kdata.header.recon_matrix,\n",
    "    encoding_matrix=kdata.header.encoding_matrix,\n",
    "    traj=kdata.traj,\n",
    ")\n",
    "(img,) = fourier_op.adjoint(kdata.data * dcf.data[:, None, ...])\n",
    "\n",
    "# Calculate and apply coil maps\n",
    "idata = IData.from_tensor_and_kheader(img, kdata.header)\n",
    "csm = CsmData.from_idata_walsh(idata)\n",
    "csm_op = SensitivityOp(csm)\n",
    "(img_using_pulseq_traj,) = csm_op.adjoint(img)"
   ]
  },
  {
   "cell_type": "markdown",
   "id": "a39ce534",
   "metadata": {
    "lines_to_next_cell": 0
   },
   "source": [
    "### Plot the different reconstructed images\n",
    "Please note: there is currently a mismatch between the actual trajectory\n",
    "that was used to acquire the data and the trajectory calculated with KTrajectoryRadial2D.\n",
    "This leads to a deviation between the image reconstructed with KTrajectoryRadial2D\n",
    "and the other two methods. In the future, we will upload new measurement data with\n",
    "an updated trajectory and adjust this example accordingly."
   ]
  },
  {
   "cell_type": "code",
   "execution_count": null,
   "id": "11beee85",
   "metadata": {},
   "outputs": [],
   "source": [
    "titles = ['KTrajectoryIsmrmrd', 'KTrajectoryRadial2D', 'KTrajectoryPulseq']\n",
    "plt.subplots(1, len(titles))\n",
    "for i, img in enumerate([img_using_ismrmrd_traj, img_using_rad2d_traj, img_using_pulseq_traj]):\n",
    "    plt.subplot(1, len(titles), i + 1)\n",
    "    plt.imshow(torch.abs(img[0, 0, 0, :, :]))\n",
    "    plt.title(titles[i])\n",
    "    plt.axis('off')"
   ]
  },
  {
   "cell_type": "code",
   "execution_count": null,
   "id": "b56871ec",
   "metadata": {},
   "outputs": [],
   "source": [
    "# Clean-up by removing temporary directory\n",
    "shutil.rmtree(data_folder)"
   ]
  },
  {
   "cell_type": "markdown",
   "id": "5b31339a",
   "metadata": {},
   "source": [
    "Copyright 2024 Physikalisch-Technische Bundesanstalt\n",
    "Apache License 2.0. See LICENSE file for details."
   ]
  }
 ],
 "metadata": {
  "jupytext": {
   "cell_metadata_filter": "-all"
  },
  "kernelspec": {
   "display_name": "Python 3 (ipykernel)",
   "language": "python",
   "name": "python3"
  }
 },
 "nbformat": 4,
 "nbformat_minor": 5
}
