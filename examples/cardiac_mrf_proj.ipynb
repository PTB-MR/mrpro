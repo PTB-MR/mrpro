{
 "cells": [
  {
   "cell_type": "code",
   "execution_count": null,
   "id": "65f4f56e",
   "metadata": {},
   "outputs": [],
   "source": [
    "from pathlib import Path\n",
    "\n",
    "import matplotlib.pyplot as plt\n",
    "import torch\n",
    "from einops import rearrange\n",
    "from mrpro.data import KData\n",
    "from mrpro.data.traj_calculators import KTrajectoryCartesian\n",
    "from mrpro.operators import FastFourierOp\n",
    "from mrpro.operators.models import EpgMrfFispWithPreparation"
   ]
  },
  {
   "cell_type": "code",
   "execution_count": null,
   "id": "c6dad388",
   "metadata": {},
   "outputs": [],
   "source": [
    "pname = Path(\n",
    "    '/echo/_allgemein/projects/pulseq/measurements/2024-10-16_T1MES_cMRF/meas_MID00043_FID06421_20240716_cMRF_1D_705rep_trig_delay800ms/'\n",
    ")\n",
    "scan_name = Path('meas_MID00043_FID06421_20240716_cMRF_1D_705rep_trig_delay800ms.h5')\n",
    "rr_duration = 1200\n",
    "\n",
    "fname_angle = Path('/echo/_allgemein/projects/pulseq/mrf/cMRF_fa_705rep.txt')\n",
    "with open(fname_angle) as file:\n",
    "    fa = torch.as_tensor([float(line) for line in file.readlines()]) / 180 * torch.pi\n",
    "\n",
    "\n",
    "trajectory = KTrajectoryCartesian()\n",
    "kdata = KData.from_file(pname / scan_name, trajectory)\n",
    "\n",
    "fft_1d_op = FastFourierOp(dim=(-1,))\n",
    "(idat,) = fft_1d_op(kdata.data)\n",
    "idat = torch.abs(torch.squeeze(idat[:, 0, ...]))"
   ]
  },
  {
   "cell_type": "code",
   "execution_count": null,
   "id": "6666d952",
   "metadata": {},
   "outputs": [],
   "source": [
    "plt.figure(figsize=(12, 16))\n",
    "plt.imshow(idat)"
   ]
  },
  {
   "cell_type": "code",
   "execution_count": null,
   "id": "319461b9",
   "metadata": {
    "lines_to_next_cell": 2
   },
   "outputs": [],
   "source": [
    "t1_ref = [850, 1718, 1100, 500]\n",
    "t2_ref = [155, 270, 240, 80]\n",
    "\n",
    "# Select tubes\n",
    "tube1 = torch.mean(idat[:, 70:75], dim=1)\n",
    "tube2 = torch.mean(idat[:, 85:90], dim=1)\n",
    "tube3 = torch.mean(idat[:, 105:110], dim=1)\n",
    "tube4 = torch.mean(idat[:, 120:125], dim=1)\n",
    "signal_curves = torch.stack((tube1, tube2, tube3, tube4), dim=0)\n",
    "signal_curves = rearrange(signal_curves, 'x t->t x')\n",
    "\n",
    "plt.figure()\n",
    "plt.plot(signal_curves)"
   ]
  },
  {
   "cell_type": "code",
   "execution_count": null,
   "id": "5133f214",
   "metadata": {},
   "outputs": [],
   "source": [
    "# Dictionary settings\n",
    "t1 = torch.linspace(100, 3000, 100)[:, None]\n",
    "t2 = torch.linspace(10, 400, 100)[None, :]\n",
    "t1, t2 = torch.broadcast_tensors(t1, t2)\n",
    "t1 = t1.flatten()\n",
    "t2 = t2.flatten()\n",
    "m0 = torch.ones_like(t1)"
   ]
  },
  {
   "cell_type": "code",
   "execution_count": null,
   "id": "fd33b6f8",
   "metadata": {},
   "outputs": [],
   "source": [
    "flip_angles = fa\n",
    "rf_phases = 0\n",
    "te = 2.2\n",
    "tr = 5.4  # kdata.header.tr * 1000\n",
    "inv_prep_ti = [21, None, None, None, None] * 3  # 20 ms delay after inversion pulse in block 0\n",
    "t2_prep_te = [None, None, 30, 50, 100] * 3  # T2-preparation pulse with TE = 30, 50, 100\n",
    "n_rf_pulses_per_block = 47  # 47 RF pulses in each block\n",
    "delay_after_block = [0, 30, 50, 100, 21] * 3\n",
    "delay_after_block = [rr_duration - delay for delay in delay_after_block]\n",
    "epg_mrf_fisp = EpgMrfFispWithPreparation(\n",
    "    flip_angles, rf_phases, te, tr, inv_prep_ti, t2_prep_te, n_rf_pulses_per_block, delay_after_block\n",
    ")\n",
    "(signal_dictionary,) = epg_mrf_fisp.forward(m0, t1, t2)\n",
    "\n",
    "signal_dictionary = signal_dictionary.abs()\n",
    "\n",
    "# Normalise dictionary entries\n",
    "vector_norm = torch.linalg.vector_norm(signal_dictionary, dim=0)\n",
    "signal_dictionary /= vector_norm"
   ]
  },
  {
   "cell_type": "code",
   "execution_count": null,
   "id": "291d5643",
   "metadata": {},
   "outputs": [],
   "source": [
    "t1_eval = torch.as_tensor([100, 500, 1000, 100, 500, 1000])\n",
    "t2_eval = torch.as_tensor([40, 40, 40, 100, 100, 100])\n",
    "m0_eval = torch.ones_like(t1_eval)\n",
    "(signal_eval,) = epg_mrf_fisp.forward(m0_eval, t1_eval, t2_eval)\n",
    "\n",
    "fig, ax = plt.subplots(2, 1, figsize=(12, 6))\n",
    "ax[0].plot(fa / torch.pi * 180)\n",
    "ax[1].plot(signal_eval.abs(), label=['100|40', '500|40', '1000|40', '100|100', '500|100', '1000|100'])\n",
    "ax[1].legend()"
   ]
  },
  {
   "cell_type": "code",
   "execution_count": null,
   "id": "4988f82f",
   "metadata": {},
   "outputs": [],
   "source": [
    "# Dictionary matching\n",
    "dot_product = torch.mm(rearrange(signal_curves.abs(), 'other x->x other'), signal_dictionary)\n",
    "idx_best_match = torch.argmax(torch.abs(dot_product), dim=1)\n",
    "t1_match = t1[idx_best_match]\n",
    "t2_match = t2[idx_best_match]\n",
    "signal_best_match = signal_dictionary[:, idx_best_match]"
   ]
  },
  {
   "cell_type": "code",
   "execution_count": null,
   "id": "24dd87da",
   "metadata": {
    "lines_to_next_cell": 2
   },
   "outputs": [],
   "source": [
    "# Calc ref signals\n",
    "if t1_ref is not None and t2_ref is not None:\n",
    "    m0_ref = [1] * len(t1_ref)\n",
    "    (signal_ref,) = epg_mrf_fisp.forward(torch.as_tensor(m0_ref), torch.as_tensor(t1_ref), torch.as_tensor(t2_ref))\n",
    "    signal_ref = torch.abs(signal_ref)"
   ]
  },
  {
   "cell_type": "code",
   "execution_count": null,
   "id": "f82d9d21",
   "metadata": {
    "lines_to_next_cell": 0
   },
   "outputs": [],
   "source": [
    "sig_max = signal_curves.max() * 1.2\n",
    "import matplotlib.pyplot as plt\n",
    "\n",
    "fig, ax = plt.subplots(len(t2_match), 1, figsize=(12, 12))\n",
    "for ind in range(len(t2_match)):\n",
    "    ax[ind].set_title(\n",
    "        f'T2: {int(t2_match[ind])} | T1: {int(t1_match[ind])} (GT: T2: {int(t2_ref[ind])} | T1: {int(t1_ref[ind])})'\n",
    "    )\n",
    "    p = ax[ind].plot(signal_curves[:, ind] / signal_curves[:, ind].max(), '-o')\n",
    "    ax[ind].plot(signal_best_match[:, ind] / signal_best_match[:, ind].max(), '--', color=p[0].get_color())\n",
    "    ax[ind].plot(signal_ref[:, ind] / signal_ref[:, ind].max(), '--k')\n",
    "    ax[ind].set_ylabel('Signal')"
   ]
  },
  {
   "cell_type": "code",
   "execution_count": null,
   "id": "c18fdff5",
   "metadata": {},
   "outputs": [],
   "source": []
  }
 ],
 "metadata": {
  "jupytext": {
   "cell_metadata_filter": "-all"
  },
  "kernelspec": {
   "display_name": "Python 3 (ipykernel)",
   "language": "python",
   "name": "python3"
  }
 },
 "nbformat": 4,
 "nbformat_minor": 5
}
