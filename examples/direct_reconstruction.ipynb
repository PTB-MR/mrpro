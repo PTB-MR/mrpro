{
 "cells": [
  {
   "cell_type": "markdown",
   "id": "0d3fe06f",
   "metadata": {
    "lines_to_next_cell": 0
   },
   "source": [
    "# Direct Reconstruction of 2D golden angle radial data\n",
    "Here we use the DirectReconstruction class to reconstruct images from ISMRMRD 2D radial data"
   ]
  },
  {
   "cell_type": "code",
   "execution_count": null,
   "id": "2c2fd2c1",
   "metadata": {
    "lines_to_next_cell": 0
   },
   "outputs": [],
   "source": [
    "# define zenodo URL of the example ismrmd data\n",
    "zenodo_url = 'https://zenodo.org/records/10854057/files/'\n",
    "fname = 'pulseq_radial_2D_402spokes_golden_angle_with_traj.h5'"
   ]
  },
  {
   "cell_type": "code",
   "execution_count": null,
   "id": "639aab53",
   "metadata": {
    "lines_to_next_cell": 0
   },
   "outputs": [],
   "source": [
    "# Download raw data\n",
    "import shutil\n",
    "import tempfile\n",
    "from pathlib import Path\n",
    "\n",
    "import requests\n",
    "\n",
    "data_folder = Path(tempfile.mkdtemp())\n",
    "data_file = tempfile.NamedTemporaryFile(dir=data_folder, mode='wb', delete=False, suffix='.h5')\n",
    "response = requests.get(zenodo_url + fname, timeout=30)\n",
    "data_file.write(response.content)"
   ]
  },
  {
   "cell_type": "markdown",
   "id": "bfc899be",
   "metadata": {
    "lines_to_next_cell": 0
   },
   "source": [
    "### Image reconstruction\n",
    "We use the DirectReconstruction class to reconstruct images from 2D radial data.\n",
    "DirectReconstruction estimates CSMs, DCFs and performs an adjoint Fourier transform.\n",
    "This is a high-level interface to the reconstruction pipeline."
   ]
  },
  {
   "cell_type": "code",
   "execution_count": null,
   "id": "fca461c9",
   "metadata": {
    "lines_to_next_cell": 0
   },
   "outputs": [],
   "source": [
    "import mrpro\n",
    "\n",
    "# Use the trajectory that is stored in the ISMRMRD file\n",
    "trajectory = mrpro.data.traj_calculators.KTrajectoryIsmrmrd()\n",
    "# Load in the Data from the ISMRMRD file\n",
    "kdata = mrpro.data.KData.from_file(data_file.name, trajectory)\n",
    "# Perform the reconstruction\n",
    "reconstruction = mrpro.algorithms.reconstruction.DirectReconstruction.from_kdata(kdata)\n",
    "# Use this to run on gpu: kdata = kdata.cuda()\n",
    "img = reconstruction(kdata)"
   ]
  },
  {
   "cell_type": "code",
   "execution_count": null,
   "id": "d45bca4d",
   "metadata": {
    "lines_to_next_cell": 0
   },
   "outputs": [],
   "source": [
    "import matplotlib.pyplot as plt\n",
    "\n",
    "# Display the reconstructed image\n",
    "# If there are multiple slices, ..., only the first one is selected\n",
    "first_img = img.rss().cpu()[0, 0, :, :]  #  images, z, y, x\n",
    "plt.matshow(first_img, cmap='gray')"
   ]
  },
  {
   "cell_type": "markdown",
   "id": "32de1966",
   "metadata": {
    "lines_to_next_cell": 0
   },
   "source": [
    "### Behind the scenes\n",
    "These steps are done in a direct reconstruction:"
   ]
  },
  {
   "cell_type": "code",
   "execution_count": null,
   "id": "33ee1c1a",
   "metadata": {
    "lines_to_next_cell": 0
   },
   "outputs": [],
   "source": [
    "# Calculate dcf using the trajectory\n",
    "dcf_operator = mrpro.data.DcfData.from_traj_voronoi(kdata.traj).as_operator()\n",
    "\n",
    "# Define Fourier operator using the trajectory\n",
    "# and header information in kdata\n",
    "fourier_operator = dcf_operator @ mrpro.operators.FourierOp.from_kdata(kdata)\n",
    "adjoint_operator = fourier_operator.H\n",
    "\n",
    "# Calculate coil maps\n",
    "# Note that operators return a tuple of tensors, so we need to unpack it,\n",
    "# even though there is only one tensor returned from adjoint operator.\n",
    "img_coilwise = mrpro.data.IData.from_tensor_and_kheader(*adjoint_operator(kdata.data), kdata.header)\n",
    "csm_operator = mrpro.data.CsmData.from_idata_walsh(img_coilwise).as_operator()\n",
    "\n",
    "# Perform Direct Reconstruction\n",
    "forward_operator = fourier_operator @ csm_operator\n",
    "adjoint_operator = forward_operator.H\n",
    "img_manual = mrpro.data.IData.from_tensor_and_kheader(*adjoint_operator(kdata.data), kdata.header)"
   ]
  },
  {
   "cell_type": "markdown",
   "id": "edb2b238",
   "metadata": {
    "lines_to_next_cell": 0
   },
   "source": [
    "### Further behind the scenes\n",
    "... these steps are equivalent to:"
   ]
  },
  {
   "cell_type": "code",
   "execution_count": null,
   "id": "3a10eeaa",
   "metadata": {
    "lines_to_next_cell": 0
   },
   "outputs": [],
   "source": [
    "# Define Fourier operator\n",
    "fourier_operator = mrpro.operators.FourierOp(\n",
    "    recon_matrix=kdata.header.recon_matrix,\n",
    "    encoding_matrix=kdata.header.encoding_matrix,\n",
    "    traj=kdata.traj,\n",
    ")\n",
    "\n",
    "# Calculate dcf using the trajectory\n",
    "dcf_data = mrpro.data.DcfData.from_traj_voronoi(kdata.traj)\n",
    "\n",
    "# Perform adjoint Fourier transform\n",
    "# Note that operators return a tuple of tensors, so we need to unpack it.\n",
    "(img_tensor_coilwise,) = fourier_operator.adjoint(kdata.data * dcf_data.data.unsqueeze(-4))\n",
    "img_coilwise = mrpro.data.IData.from_tensor_and_kheader(img_tensor_coilwise, kdata.header)\n",
    "\n",
    "\n",
    "# Calculate and apply coil maps\n",
    "csm_data = mrpro.data.CsmData.from_idata_walsh(img_coilwise)\n",
    "csm_operator = mrpro.operators.SensitivityOp(csm_data)\n",
    "(img_tensor_coilcombined,) = csm_operator.adjoint(img_tensor_coilwise)\n",
    "\n",
    "img_more_manual = mrpro.data.IData.from_tensor_and_kheader(img_tensor_coilcombined, kdata.header)"
   ]
  },
  {
   "cell_type": "markdown",
   "id": "64457f39",
   "metadata": {
    "lines_to_next_cell": 0
   },
   "source": [
    "### Check for equal results\n",
    "The 3 versions result should in the same image data."
   ]
  },
  {
   "cell_type": "code",
   "execution_count": null,
   "id": "adeb035e",
   "metadata": {
    "lines_to_next_cell": 0
   },
   "outputs": [],
   "source": [
    "import torch\n",
    "\n",
    "# If the assert statement did not raise an exception, the results are equal.\n",
    "assert torch.allclose(img.data, img_manual.data)\n",
    "assert torch.allclose(img.data, img_more_manual.data)"
   ]
  },
  {
   "cell_type": "code",
   "execution_count": null,
   "id": "65d21f01",
   "metadata": {
    "lines_to_next_cell": 0
   },
   "outputs": [],
   "source": [
    "# Clean-up by removing temporary directory\n",
    "shutil.rmtree(data_folder)"
   ]
  },
  {
   "cell_type": "markdown",
   "id": "f3f60778",
   "metadata": {},
   "source": [
    "Copyright 2024 Physikalisch-Technische Bundesanstalt\n",
    "Apache License 2.0. See LICENSE file for details."
   ]
  }
 ],
 "metadata": {
  "jupytext": {
   "cell_metadata_filter": "-all"
  },
  "kernelspec": {
   "display_name": "Python 3 (ipykernel)",
   "language": "python",
   "name": "python3"
  }
 },
 "nbformat": 4,
 "nbformat_minor": 5
}
