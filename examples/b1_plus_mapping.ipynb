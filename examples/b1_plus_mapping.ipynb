{
 "cells": [
  {
   "attachments": {},
   "cell_type": "markdown",
   "metadata": {},
   "source": [
    "## B1+ Mapping\n",
    "\n",
    "This notebook shows how to carry out 3D B1+ mapping using a Golden Radial Phase Encoding (GRPE) data acquisition scheme. Multiple scans are acquired, each with a different set of transmit channels. \n",
    "\n",
    "First version: 6th of July 2023\n",
    "Authors: Christoph Kolbitsch\n",
    "\n",
    "Copyright 2023 Physikalisch-Technische Bundesanstalt."
   ]
  },
  {
   "attachments": {},
   "cell_type": "markdown",
   "metadata": {},
   "source": [
    "### Overview\n",
    "\n",
    "In this notebook we will:\n",
    "- (A) Read in the data and calculate the trajectory\n",
    "- (B) Define an acquisition model\n",
    "- (C) Reconstruct images using the adjoint of the acquisition model\n",
    "- (D) Calculate the B1+ maps by"
   ]
  }
 ],
 "metadata": {
  "language_info": {
   "name": "python"
  },
  "orig_nbformat": 4
 },
 "nbformat": 4,
 "nbformat_minor": 2
}
