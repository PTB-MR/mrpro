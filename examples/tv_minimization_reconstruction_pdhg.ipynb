{
 "cells": [
  {
   "cell_type": "markdown",
   "id": "29a4beee",
   "metadata": {},
   "source": [
    "# Total-variation (TV)-minimization reconstruction of 2D golden angle radial data"
   ]
  },
  {
   "cell_type": "markdown",
   "id": "63a202fb",
   "metadata": {},
   "source": [
    "##### Download and read-in the raw data"
   ]
  },
  {
   "cell_type": "code",
   "execution_count": null,
   "id": "5bcf3d7a",
   "metadata": {
    "lines_to_next_cell": 2
   },
   "outputs": [],
   "source": [
    "import tempfile\n",
    "\n",
    "import mrpro\n",
    "import requests\n",
    "\n",
    "# define zenodo URL of the example ismrmd data\n",
    "# choose number of spokes; either 24, 96402\n",
    "n_spokes = 24\n",
    "zenodo_url = 'https://zenodo.org/records/14617082/files/'\n",
    "fname = f'radial2D_{n_spokes}spokes_golden_angle_with_traj.h5'\n",
    "\n",
    "# Download the data from zenodo\n",
    "data_file = tempfile.NamedTemporaryFile(mode='wb', delete=False, suffix='.h5')\n",
    "response = requests.get(zenodo_url + fname, timeout=30)\n",
    "data_file.write(response.content)\n",
    "data_file.flush()\n",
    "\n",
    "# Load in the data from the ISMRMRD file\n",
    "kdata = mrpro.data.KData.from_file(data_file.name, mrpro.data.traj_calculators.KTrajectoryIsmrmrd())\n",
    "kdata.header.recon_matrix.x = 256\n",
    "kdata.header.recon_matrix.y = 256"
   ]
  },
  {
   "cell_type": "markdown",
   "id": "0d441d09",
   "metadata": {},
   "source": [
    "### Image reconstruction\n",
    "Here, we use the Primal Dual Hybrid Gradient (PDHG) algorithm to reconstruct an image from 2D radial k-space data\n",
    "data.\n",
    "\n",
    "Let $y$ denote the k-space data of the image $x_{\\mathrm{true}}$ sampled with an acquisition model $A$\n",
    "(Fourier transform, coil sensitivity maps, ...), i.e the forward problem is given as\n",
    "\n",
    "$ y = Ax_{\\mathrm{true}} + n, $\n",
    "\n",
    "where $n$ describes complex Gaussian noise. When using TV-minimization as regularization method, an approximation of\n",
    "$x_{\\mathrm{true}}$ is obtained by minimizing the following functional $\\mathcal{F}$:\n",
    "\n",
    "$ \\mathcal{F}(x) = \\frac{1}{2}||Ax - y||_2^2 + \\lambda \\| \\nabla x \\|_1, \\quad \\quad \\quad (1)$\n",
    "\n",
    "where $\\nabla$ is the discretized gradient operator.\n",
    "\n",
    "The minimization of the functional $\\mathcal{F}$ is a non-trivial task due to the presence of the operator\n",
    "$\\nabla$ in the non-differentiable $\\ell_1$-norm. A suitable algorithm to solve the problem is the\n",
    "PDHG-algorithm [Chambolle \\& Pock, JMIV 2011].\n",
    "\n",
    "PDHG is a method for solving problems of the form\n",
    "\n",
    "$ \\min_x f(K(x)) + g(x)  \\quad \\quad \\quad (2)$\n",
    "\n",
    "where $f$ and $g$ denote proper, convex, lower-semicontinous functionals and $K$ denotes a linear operator.\n",
    "\n",
    "PDHG essentially consists of three steps, which read as\n",
    "\n",
    "$z_{k+1} = \\mathrm{prox}_{\\sigma f^{\\ast}}(z_k + \\sigma K \\bar{x}_k)$\n",
    "\n",
    "$x_{k+1} = \\mathrm{prox}_{\\tau g}(x_k - \\tau K^H z_{k+1})$\n",
    "\n",
    "$\\bar{x}_{k+1} = x_{k+1} + \\theta(x_{k+1} - x_k)$,\n",
    "\n",
    "where $\\mathrm{prox}$ denotes the proximal operator and $f^{\\ast}$ denotes the convex conjugate of the\n",
    "functional $f$, $\\theta\\in [0,1]$ and step sizes $\\sigma, \\tau$ such that $\\sigma \\tau < 1/L^2$, where\n",
    "$L=\\|K\\|_2$ is the operator norm of the operator $K$.\n",
    "\n",
    "The first step is to recast problem (1) into the general form of (2) and then to apply the steps above\n",
    "in an iterative fashion.\n",
    "\n",
    "A possible and intuitive (but unfortunately not efficient) identification is the following\n",
    "\n",
    "$f(x) = \\lambda \\| x\\|_1,$\n",
    "\n",
    "$g(x) = \\frac{1}{2}\\|Ax  - y\\|_2^2,$\n",
    "\n",
    "$K(x) = \\nabla x.$\n",
    "\n",
    "However, although $\\mathrm{prox}_{\\sigma f^\\ast}$ has a simple form, calculations show that\n",
    "to be able to compute $\\mathrm{prox}_{\\tau g}$, one would need to solve a linear system at each\n",
    "iteration. We will therefore use a way more efficient identification.\n",
    "\n",
    "In the following, we load 2D radial MR data and set up problem (2) to use PDHG to reconstruct the data."
   ]
  },
  {
   "cell_type": "markdown",
   "id": "ca2769b7",
   "metadata": {},
   "source": [
    "### Set up the operator $A$\n",
    "Estimate coil sensitivity maps and density compensation function. Also run a direct (adjoint)\n",
    "reconstruction and iterative SENSE as methods of comparison."
   ]
  },
  {
   "cell_type": "code",
   "execution_count": null,
   "id": "10110f9d",
   "metadata": {},
   "outputs": [],
   "source": [
    "# Set up direct reconstruction class. The estimate coil sensitivity maps and density\n",
    "# compensation values can be reused later to save time.\n",
    "direct_reconstruction = mrpro.algorithms.reconstruction.DirectReconstruction(kdata)\n",
    "img_direct = direct_reconstruction(kdata)\n",
    "\n",
    "# run iterative SENSE to get an initial guess of the solution\n",
    "iterative_sense_reconstruction = mrpro.algorithms.reconstruction.IterativeSENSEReconstruction(\n",
    "    kdata,\n",
    "    n_iterations=8,\n",
    "    csm=direct_reconstruction.csm,\n",
    "    dcf=direct_reconstruction.dcf,\n",
    ")\n",
    "img_iterative_sense = iterative_sense_reconstruction(kdata)\n",
    "\n",
    "# Define Fourier operator and CSM operator re-using the ones already constructed in the\n",
    "# direct reconstruction class\n",
    "fourier_operator = direct_reconstruction.fourier_op\n",
    "assert direct_reconstruction.csm is not None\n",
    "csm_operator = direct_reconstruction.csm.as_operator()\n",
    "\n",
    "# Create the entire acquisition operator A\n",
    "acquisition_operator = fourier_operator @ csm_operator"
   ]
  },
  {
   "cell_type": "markdown",
   "id": "75efb3fe",
   "metadata": {},
   "source": [
    "### Recast the problem to be able to apply PDHG\n",
    "As mentioned, the previously described identification is not efficient.\n",
    "Another (less intuitive, but way more efficient) identification is the following:\n",
    "\n",
    "$f(z) = f(p,q) = f_1(p) + f_2(q) =  \\frac{1}{2}\\|p  - y\\|_2^2 + \\lambda \\| q \\|_1,$\n",
    "\n",
    "$K(x) = [A, \\nabla]^T,$\n",
    "\n",
    "$g(x) = 0,$\n",
    "\n",
    "for which one can show that both $\\mathrm{prox}_{\\sigma f^{\\ast}}$ and $\\mathrm{prox}_{\\tau g}$ are\n",
    "given by simple and easy-to-compute operations, see for example [Sidky et al, PMB 2012].\n",
    "\n",
    "In the following, we first identify the functionals $f$, $g$ and the operator $K$ and then run PDHG."
   ]
  },
  {
   "cell_type": "code",
   "execution_count": null,
   "id": "bb278ff8",
   "metadata": {},
   "outputs": [],
   "source": [
    "# Define the gradient operator \\nabla to be used in the operator K=[A, \\nabla]^T for PDHG\n",
    "from mrpro.operators import FiniteDifferenceOp\n",
    "\n",
    "# The operator computes the directional derivatives along the the last two dimensions (x,y)\n",
    "nabla_operator = FiniteDifferenceOp(dim=(-2, -1), mode='forward')\n",
    "\n",
    "from mrpro.algorithms.optimizers import pdhg\n",
    "from mrpro.algorithms.optimizers.pdhg import PDHGStatus\n",
    "from mrpro.operators import LinearOperatorMatrix, ProximableFunctionalSeparableSum\n",
    "from mrpro.operators.functionals import L1NormViewAsReal, L2NormSquared, ZeroFunctional\n",
    "\n",
    "# Regularization parameter for the $\\ell_1$-norm\n",
    "regularization_parameter = 1.0\n",
    "\n",
    "# Set up the problem by using the previously described identification\n",
    "l2 = 0.5 * L2NormSquared(target=kdata.data, divide_by_n=True)\n",
    "l1 = regularization_parameter * L1NormViewAsReal(divide_by_n=True)\n",
    "\n",
    "f = ProximableFunctionalSeparableSum(l2, l1)\n",
    "g = ZeroFunctional()\n",
    "K = LinearOperatorMatrix(((acquisition_operator,), (nabla_operator,)))\n",
    "\n",
    "# initialize PDHG with iterative SENSE solution for warm start\n",
    "initial_values = (img_iterative_sense.data,)"
   ]
  },
  {
   "cell_type": "markdown",
   "id": "bdbbc852",
   "metadata": {},
   "source": [
    "### Run PDHG for a certain number of iterations"
   ]
  },
  {
   "cell_type": "code",
   "execution_count": null,
   "id": "d4eed3be",
   "metadata": {},
   "outputs": [],
   "source": [
    "max_iterations = 128\n",
    "\n",
    "\n",
    "# call backfunction to track the value of the objective functional f(K(x)) + g(x)\n",
    "def callback(optimizer_status: PDHGStatus) -> None:\n",
    "    \"\"\"Print the value of the objective functional every 8th iteration.\"\"\"\n",
    "    iteration = optimizer_status['iteration_number']\n",
    "    solution = optimizer_status['solution']\n",
    "    if iteration % 16 == 0:\n",
    "        print(optimizer_status['objective'](*solution).item())\n",
    "\n",
    "\n",
    "(img_pdhg,) = pdhg(\n",
    "    f=f, g=g, operator=K, initial_values=initial_values, max_iterations=max_iterations, callback=callback\n",
    ")"
   ]
  },
  {
   "cell_type": "code",
   "execution_count": null,
   "id": "86e1214a",
   "metadata": {},
   "outputs": [],
   "source": [
    "# ### Compare the results\n",
    "# Display the reconstructed images\n",
    "import matplotlib.pyplot as plt\n",
    "\n",
    "fig, ax = plt.subplots(1, 3, squeeze=False)\n",
    "clim = [0, 6e-4]\n",
    "ax[0, 0].set_title('Adjoint (direct) Recon', fontsize=10)\n",
    "ax[0, 0].imshow(img_direct.data.abs()[0, 0, 0, :, :], clim=clim)\n",
    "ax[0, 1].set_title('Iterative SENSE', fontsize=10)\n",
    "ax[0, 1].imshow(img_iterative_sense.data.abs()[0, 0, 0, :, :], clim=clim)\n",
    "ax[0, 2].set_title('PDHG', fontsize=10)\n",
    "ax[0, 2].imshow(img_pdhg.abs()[0, 0, 0, :, :], clim=clim)\n",
    "plt.setp(ax, xticks=[], yticks=[])"
   ]
  },
  {
   "cell_type": "markdown",
   "id": "4a871932",
   "metadata": {},
   "source": [
    "### Next steps\n",
    "Play around with the regularization weight and the number of iterations to see how they effect the final image."
   ]
  }
 ],
 "metadata": {
  "jupytext": {
   "cell_metadata_filter": "-all"
  },
  "kernelspec": {
   "display_name": "Python 3 (ipykernel)",
   "language": "python",
   "name": "python3"
  }
 },
 "nbformat": 4,
 "nbformat_minor": 5
}
