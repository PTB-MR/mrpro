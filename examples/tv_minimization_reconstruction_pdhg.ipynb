{
 "cells": [
  {
   "cell_type": "markdown",
   "id": "11291d56",
   "metadata": {},
   "source": [
    "# Total-variation (TV)-minimization reconstruction of 2D golden angle radial data"
   ]
  },
  {
   "cell_type": "code",
   "execution_count": null,
   "id": "b867e504",
   "metadata": {
    "lines_to_next_cell": 0
   },
   "outputs": [],
   "source": [
    "# define zenodo URL of the example ismrmd data\n",
    "zenodo_url = 'https://zenodo.org/records/10854057/files/'\n",
    "fname = 'pulseq_radial_2D_402spokes_golden_angle_with_traj.h5'"
   ]
  },
  {
   "cell_type": "code",
   "execution_count": null,
   "id": "887bffb6",
   "metadata": {},
   "outputs": [],
   "source": [
    "# Download raw data\n",
    "import tempfile\n",
    "\n",
    "import requests\n",
    "\n",
    "data_file = tempfile.NamedTemporaryFile(mode='wb', delete=False, suffix='.h5')\n",
    "response = requests.get(zenodo_url + fname, timeout=30)\n",
    "data_file.write(response.content)\n",
    "data_file.flush()"
   ]
  },
  {
   "cell_type": "markdown",
   "id": "fd51693f",
   "metadata": {},
   "source": [
    "### Image reconstruction\n",
    "Here, we use the Primal Dual Hybrid Gradient (PDHG) algorithm to reconstruct an image from 2D radial k-space data\n",
    "data.\n",
    "\n",
    "Let $y$ denote the k-space data of the image $x_{\\mathrm{true}}$ sampled with an acquisition model $A$\n",
    "(Fourier transform, coil sensitivity maps, ...), i.e the forward problem is given as\n",
    "\n",
    "$ y = Ax_{\\mathrm{true}} + n, $\n",
    "\n",
    "where $n$ describes complex Gaussian noise. When using TV-minimization as regularization method, an approximation of\n",
    "$x_{\\mathrm{true}}$ is obtained by minimizing the following functional $\\mathcal{F}$:\n",
    "\n",
    "$ \\mathcal{F}(x) = \\frac{1}{2}||Ax - y||_2^2 + \\lambda \\| \\nabla x \\|_1, \\quad \\quad \\quad (1)$\n",
    "\n",
    "where $\\nabla$ is the discretized gradient operator.\n",
    "\n",
    "The minimization of the functional $\\mathcal{F}$ is a non-trivial task due to the presence of the operator\n",
    "$\\nabla$ in the non-differentiable $\\ell_1$-norm. A suitable algorithm to solve the problem is the\n",
    "PDHG-algorithm [Chambolle \\& Pock, JMIV 2011].\n",
    "\n",
    "PDHG is a method for solving problems of the form\n",
    "\n",
    "$ \\min_x f(K(x)) + g(x)  \\quad \\quad \\quad (2)$\n",
    "\n",
    "where $f$ and $g$ denote proper, convex, lower-semicontinous functionals and $K$ denotes a linear operator.\n",
    "\n",
    "PDHG essentially consists of three steps, which read as\n",
    "\n",
    "$z_{k+1} = \\mathrm{prox}_{\\sigma f^{\\ast}}(z_k + \\sigma K \\bar{x}_k)$\n",
    "\n",
    "$x_{k+1} = \\mathrm{prox}_{\\tau g}(x_k - \\tau K^H z_{k+1})$\n",
    "\n",
    "$\\bar{x}_{k+1} = x_{k+1} + \\theta(x_{k+1} - x_k)$,\n",
    "\n",
    "where $\\mathrm{prox}$ denotes the proximal operator and $f^{\\ast}$ denotes the convex conjugate of the\n",
    "functional $f$, $\\theta\\in [0,1]$ and step sizes $\\sigma, \\tau$ such that $\\sigma \\tau < 1/L^2$, where\n",
    "$L=\\|K\\|_2$ is the operator norm of the operator $K$.\n",
    "\n",
    "The first step is to recast problem (1) into the general form of (2) and then to apply the steps above\n",
    "in an iterative fashion.\n",
    "\n",
    "A possible and intuitive (but unfortunately not efficient) identification is the following\n",
    "\n",
    "$f(x) = \\lambda \\| x\\|_1,$\n",
    "\n",
    "$g(x) = \\frac{1}{2}\\|Ax  - y\\|_2^2,$\n",
    "\n",
    "$K(x) = \\nabla x.$\n",
    "\n",
    "However, although $\\mathrm{prox}_{\\sigma f^\\ast}$ has a simple form, calculations show that\n",
    "to be able to compute $\\mathrm{prox}_{\\tau g}$, one would need to solve a linear system at each\n",
    "iteration. We will therefore use a way more efficient identification.\n",
    "\n",
    "In the following, we load some 2D radial MR data and PDHG to reconstruct it."
   ]
  },
  {
   "cell_type": "code",
   "execution_count": null,
   "id": "e557605f",
   "metadata": {},
   "outputs": [],
   "source": [
    "import mrpro"
   ]
  },
  {
   "cell_type": "markdown",
   "id": "20cdfe60",
   "metadata": {},
   "source": [
    "##### Read-in the raw data"
   ]
  },
  {
   "cell_type": "code",
   "execution_count": null,
   "id": "618c7ffe",
   "metadata": {},
   "outputs": [],
   "source": [
    "# Load in the Data from the ISMRMRD file\n",
    "kdata = mrpro.data.KData.from_file(data_file.name, mrpro.data.traj_calculators.KTrajectoryIsmrmrd())\n",
    "kdata.header.recon_matrix.x = 256\n",
    "kdata.header.recon_matrix.y = 256"
   ]
  },
  {
   "cell_type": "markdown",
   "id": "7b1a7050",
   "metadata": {},
   "source": [
    "### Set up the operator $A$\n",
    "Estimate coil sensitivity maps and density compensation function. Also run a direct (adjoint)\n",
    "reconstruction and iterative SENSE as methods of comparison."
   ]
  },
  {
   "cell_type": "code",
   "execution_count": null,
   "id": "0257b274",
   "metadata": {
    "lines_to_next_cell": 2
   },
   "outputs": [],
   "source": [
    "# Set up direct reconstruction class to estimate coil sensitivity maps, density compensation etc\n",
    "direct_reconstruction = mrpro.algorithms.reconstruction.DirectReconstruction(kdata)\n",
    "img_direct = direct_reconstruction(kdata)\n",
    "\n",
    "# run tierative SENSE to get an initiual guess of the solution\n",
    "iterative_sense_reconstruction = mrpro.algorithms.reconstruction.IterativeSENSEReconstruction(\n",
    "    kdata,\n",
    "    n_iterations=8,\n",
    "    csm=direct_reconstruction.csm,\n",
    "    dcf=direct_reconstruction.dcf,\n",
    ")\n",
    "img_iterative_sense = iterative_sense_reconstruction(kdata)\n",
    "\n",
    "# Define Fourier operator and csm-operator re-using the ones already constructed in the\n",
    "# direct reconstruction class\n",
    "from mrpro.operators import SensitivityOp\n",
    "\n",
    "fourier_operator = direct_reconstruction.fourier_op\n",
    "csm_operator = SensitivityOp(direct_reconstruction.csm)\n",
    "\n",
    "# Create the entire acquisition operator A to be used in the operator K=[A, \\nabla]^T for PDHG\n",
    "acquisition_operator = fourier_operator @ csm_operator\n",
    "\n",
    "# adjoint reconstruction as additional method of comparison\n",
    "(img_adjoint,) = acquisition_operator.H(kdata.data)"
   ]
  },
  {
   "cell_type": "markdown",
   "id": "a980f6f7",
   "metadata": {},
   "source": [
    "### Recast the problem to be able to apply PDHG\n",
    "As mentioned, the previously described identification is not efficient.\n",
    "Another (less intuitive, but way more efficient) identification is the following:\n",
    "\n",
    "$f(z) = f(p,q) = f_1(p) + f_2(q) =  \\frac{1}{2}\\|p  - y\\|_2^2 + \\lambda \\| q \\|_1,$\n",
    "\n",
    "$K(x) = [A, \\nabla]^T,$\n",
    "\n",
    "$g(x) = 0,$\n",
    "\n",
    "for which one can show that both $\\mathrm{prox}_{\\sigma f^{\\ast}}$ and $\\mathrm{prox}_{\\tau g}$ are\n",
    "given by simple and easy-to-compute operations, see for example [Sidky et al, PMB 2012].\n",
    "\n",
    "In the following, we first identify the functionals $f$, $g$ and the operator $K$ and then run PDHG."
   ]
  },
  {
   "cell_type": "code",
   "execution_count": null,
   "id": "62b58540",
   "metadata": {},
   "outputs": [],
   "source": [
    "# Define the gradient operator \\nabla to be used in the operator K=[A, \\nabla]^T for PDHG\n",
    "from mrpro.operators import FiniteDifferenceOp\n",
    "\n",
    "# The operator computes the directional derivatives along the penultimate and last dimensions (x,y)\n",
    "nabla_operator = FiniteDifferenceOp(dim=(-2, -1), mode='forward')\n",
    "\n",
    "from mrpro.algorithms.optimizers import pdhg\n",
    "from mrpro.operators import LinearOperatorMatrix, ProximableFunctionalSeparableSum\n",
    "from mrpro.operators.functionals import L1NormViewAsReal, L2NormSquared, ZeroFunctional\n",
    "\n",
    "# Regularization parameter for the $\\ell_1$-norm\n",
    "regularization_parameter = 2\n",
    "\n",
    "# Set up the problem by using the previously described identification\n",
    "l2 = 0.5 * L2NormSquared(target=kdata.data, divide_by_n=True)\n",
    "l1 = regularization_parameter * L1NormViewAsReal(divide_by_n=True)\n",
    "\n",
    "f = ProximableFunctionalSeparableSum(l2, l1)\n",
    "g = ZeroFunctional()\n",
    "K = LinearOperatorMatrix(((acquisition_operator,), (nabla_operator,)))\n",
    "\n",
    "# initialize PDHG with iterative SENSE solution for warm start\n",
    "initial_values = (img_iterative_sense.data,)"
   ]
  },
  {
   "cell_type": "markdown",
   "id": "d94344c3",
   "metadata": {},
   "source": [
    "### Run PDHG for a certain number of iterations"
   ]
  },
  {
   "cell_type": "code",
   "execution_count": null,
   "id": "c115a12c",
   "metadata": {},
   "outputs": [],
   "source": [
    "max_iterations = 64\n",
    "(img_pdhg,) = pdhg(f=f, g=g, operator=K, initial_values=initial_values, max_iterations=max_iterations)"
   ]
  },
  {
   "cell_type": "code",
   "execution_count": null,
   "id": "63487d83",
   "metadata": {},
   "outputs": [],
   "source": [
    "# ### Compare the results\n",
    "# Display the reconstructed images\n",
    "import matplotlib.pyplot as plt\n",
    "\n",
    "fig, ax = plt.subplots(1, 3, squeeze=False)\n",
    "clim = [0, 1e-3]\n",
    "ax[0, 0].set_title('Adjoint Recon', fontsize=10)\n",
    "ax[0, 0].imshow(img_direct.data.abs()[0, 0, 0, :, :], clim=clim)\n",
    "ax[0, 1].set_title('Iterative SENSE', fontsize=10)\n",
    "ax[0, 1].imshow(img_iterative_sense.data.abs()[0, 0, 0, :, :], clim=clim)\n",
    "ax[0, 2].set_title('PDHG', fontsize=10)\n",
    "ax[0, 2].imshow(img_pdhg.abs()[0, 0, 0, :, :], clim=clim)\n",
    "plt.setp(ax, xticks=[], yticks=[])"
   ]
  },
  {
   "cell_type": "markdown",
   "id": "f22bcbd8",
   "metadata": {},
   "source": [
    "### Next steps\n",
    "Play around with the regularization weight and the number of iterations to see how they effect the final image."
   ]
  }
 ],
 "metadata": {
  "jupytext": {
   "cell_metadata_filter": "-all"
  },
  "kernelspec": {
   "display_name": "Python 3 (ipykernel)",
   "language": "python",
   "name": "python3"
  }
 },
 "nbformat": 4,
 "nbformat_minor": 5
}
